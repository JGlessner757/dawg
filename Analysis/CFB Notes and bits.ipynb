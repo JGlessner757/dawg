{
 "cells": [
  {
   "cell_type": "code",
   "execution_count": null,
   "metadata": {},
   "outputs": [],
   "source": [
    "#Not every team is represented equally in this data set.  Some teams joined or left D-1 FBS during the 2013-2020 time period. \n",
    "print(df.pivot_table(index=['Team'], aggfunc='size'))"
   ]
  },
  {
   "cell_type": "code",
   "execution_count": null,
   "metadata": {},
   "outputs": [],
   "source": [
    "# This script breaks the master dataset into season by season dataframes for analysis and updating.\n",
    "\n",
    "is_2013 = df['Season'] == 2013\n",
    "df13 = df[is_2013]\n",
    "\n",
    "is_2014 = df['Season'] == 2014\n",
    "df14 = df[is_2014]\n",
    "\n",
    "is_2015 = df['Season'] == 2015\n",
    "df15 = df[is_2015]\n",
    "\n",
    "is_2016 = df['Season'] == 2016\n",
    "df16 = df[is_2016]\n",
    "\n",
    "is_2017 = df['Season'] == 2017\n",
    "df17 = df[is_2017]\n",
    "\n",
    "is_2018 = df['Season'] == 2018\n",
    "df18 = df[is_2018]\n",
    "\n",
    "is_2019 = df['Season'] == 2019\n",
    "df19 = df[is_2019]\n",
    "\n",
    "is_2020 = df['Season'] == 2020\n",
    "df20 = df[is_2020]\n",
    "\n",
    "df17.head()"
   ]
  }
 ],
 "metadata": {
  "kernelspec": {
   "display_name": "Python 3",
   "language": "python",
   "name": "python3"
  },
  "language_info": {
   "codemirror_mode": {
    "name": "ipython",
    "version": 3
   },
   "file_extension": ".py",
   "mimetype": "text/x-python",
   "name": "python",
   "nbconvert_exporter": "python",
   "pygments_lexer": "ipython3",
   "version": "3.7.9"
  }
 },
 "nbformat": 4,
 "nbformat_minor": 4
}
