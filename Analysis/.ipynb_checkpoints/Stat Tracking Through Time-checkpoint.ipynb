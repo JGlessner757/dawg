{
 "cells": [
  {
   "cell_type": "code",
   "execution_count": 1,
   "metadata": {},
   "outputs": [],
   "source": [
    "import numpy as np # linear algebra - is for nerds.\n",
    "import pandas as pd # data processing, CSV file I/O (e.g. pd.read_csv)\n",
    "from pandas import DataFrame, Series\n",
    "import matplotlib as mpl\n",
    "import matplotlib.pyplot as plt\n",
    "import seaborn as sns\n",
    "import scipy.stats as stats\n",
    "from bokeh.plotting import figure, show\n",
    "# Command so that plots appear in the iPython Notebook\n",
    "%matplotlib inline"
   ]
  },
  {
   "cell_type": "code",
   "execution_count": 2,
   "metadata": {
    "scrolled": true
   },
   "outputs": [],
   "source": [
    "#read in master dataset\n",
    "df = pd.read_csv('C:/Users/jgles/dawg/Analysis/CFB_Dataset_PROD.csv')\n",
    "#df"
   ]
  },
  {
   "cell_type": "markdown",
   "metadata": {},
   "source": [
    "## Avg Rank and Yard Diff Per Play\n",
    "\n",
    "There are two statistics that we want to derive and track throughout time.\n",
    "\n",
    "Through the original analysis, the <Average Rank> and **Net Yards Per Play** appeared to be powerful predictive metrics.  We will investigate here whether or not they hold predictive power throughout time.\n",
    "    \n",
    "We calculate those stats here."
   ]
  },
  {
   "cell_type": "code",
   "execution_count": 3,
   "metadata": {
    "scrolled": true
   },
   "outputs": [],
   "source": [
    "#Here we can change which year we are looking at.\n",
    "\n",
    "#df = df20\n",
    "df['Avg Rank']=(df['Off.Rank']+df['Def.Rank'])/2\n",
    "df['Net Yards Per Play']=df['Off.Yards.Play'] - df['Yards.Play.Allowed']\n",
    "df['winpct']=df['Win'] / df['Games']\n",
    "#df.head()"
   ]
  },
  {
   "cell_type": "code",
   "execution_count": 4,
   "metadata": {},
   "outputs": [],
   "source": [
    "# If there are some extra columns, we drop them here that we drop here.\n",
    "\n",
    "#df = df.drop(['Unnamed: 147',\n",
    "# 'Unnamed: 148',\n",
    "# 'Unnamed: 149',\n",
    "# 'Unnamed: 150',\n",
    "# 'Unnamed: 151',\n",
    "# 'Unnamed: 152'],\n",
    "#       axis = 1)\n",
    "\n",
    "# Since we are exploring tracking certain statistics through time, we will create dataframes for each season within the dataset.\n",
    "\n",
    "is_2013 = df['Season'] == 2013\n",
    "df13 = df[is_2013]\n",
    "\n",
    "is_2014 = df['Season'] == 2014\n",
    "df14 = df[is_2014]\n",
    "\n",
    "is_2015 = df['Season'] == 2015\n",
    "df15 = df[is_2015]\n",
    "\n",
    "is_2016 = df['Season'] == 2016\n",
    "df16 = df[is_2016]\n",
    "\n",
    "is_2017 = df['Season'] == 2017\n",
    "df17 = df[is_2017]\n",
    "\n",
    "is_2018 = df['Season'] == 2018\n",
    "df18 = df[is_2018]\n",
    "\n",
    "is_2019 = df['Season'] == 2019\n",
    "df19 = df[is_2019]\n",
    "\n",
    "is_2020 = df['Season'] == 2020\n",
    "df20 = df[is_2020]\n",
    "\n",
    "#df17.head()\n"
   ]
  },
  {
   "cell_type": "code",
   "execution_count": 5,
   "metadata": {},
   "outputs": [],
   "source": [
    "#list(df)"
   ]
  },
  {
   "cell_type": "code",
   "execution_count": 6,
   "metadata": {
    "scrolled": true
   },
   "outputs": [
    {
     "data": {
      "text/html": [
       "<div>\n",
       "<style scoped>\n",
       "    .dataframe tbody tr th:only-of-type {\n",
       "        vertical-align: middle;\n",
       "    }\n",
       "\n",
       "    .dataframe tbody tr th {\n",
       "        vertical-align: top;\n",
       "    }\n",
       "\n",
       "    .dataframe thead th {\n",
       "        text-align: right;\n",
       "    }\n",
       "</style>\n",
       "<table border=\"1\" class=\"dataframe\">\n",
       "  <thead>\n",
       "    <tr style=\"text-align: right;\">\n",
       "      <th></th>\n",
       "      <th>TS_ID</th>\n",
       "      <th>Season</th>\n",
       "      <th>NatChamp</th>\n",
       "      <th>Playoff</th>\n",
       "      <th>ConfChamp</th>\n",
       "      <th>Heisman</th>\n",
       "      <th>Games</th>\n",
       "      <th>Win</th>\n",
       "      <th>Loss</th>\n",
       "      <th>Off.Rank</th>\n",
       "      <th>...</th>\n",
       "      <th>Opponents.Intercepted</th>\n",
       "      <th>Turnovers.Gain</th>\n",
       "      <th>Fumbles.Lost</th>\n",
       "      <th>Interceptions.Thrown.y</th>\n",
       "      <th>Turnovers.Lost</th>\n",
       "      <th>Turnover.Margin</th>\n",
       "      <th>Avg.Turnover.Margin.per.Game</th>\n",
       "      <th>Avg Rank</th>\n",
       "      <th>Net Yards Per Play</th>\n",
       "      <th>winpct</th>\n",
       "    </tr>\n",
       "  </thead>\n",
       "  <tbody>\n",
       "    <tr>\n",
       "      <th>TS_ID</th>\n",
       "      <td>1.000000</td>\n",
       "      <td>0.991600</td>\n",
       "      <td>-0.017057</td>\n",
       "      <td>-0.023437</td>\n",
       "      <td>-0.020009</td>\n",
       "      <td>-0.010503</td>\n",
       "      <td>-0.464044</td>\n",
       "      <td>-0.158352</td>\n",
       "      <td>-0.134079</td>\n",
       "      <td>0.015608</td>\n",
       "      <td>...</td>\n",
       "      <td>-0.315651</td>\n",
       "      <td>-0.390300</td>\n",
       "      <td>-0.291197</td>\n",
       "      <td>-0.304723</td>\n",
       "      <td>-0.392516</td>\n",
       "      <td>-0.023212</td>\n",
       "      <td>-0.015099</td>\n",
       "      <td>0.041523</td>\n",
       "      <td>-0.024047</td>\n",
       "      <td>-0.024795</td>\n",
       "    </tr>\n",
       "    <tr>\n",
       "      <th>Season</th>\n",
       "      <td>0.991600</td>\n",
       "      <td>1.000000</td>\n",
       "      <td>-0.005203</td>\n",
       "      <td>-0.010538</td>\n",
       "      <td>-0.008875</td>\n",
       "      <td>-0.005203</td>\n",
       "      <td>-0.454284</td>\n",
       "      <td>-0.150414</td>\n",
       "      <td>-0.136881</td>\n",
       "      <td>0.012947</td>\n",
       "      <td>...</td>\n",
       "      <td>-0.310156</td>\n",
       "      <td>-0.388467</td>\n",
       "      <td>-0.288115</td>\n",
       "      <td>-0.314774</td>\n",
       "      <td>-0.398119</td>\n",
       "      <td>-0.017482</td>\n",
       "      <td>-0.009825</td>\n",
       "      <td>0.038239</td>\n",
       "      <td>-0.018545</td>\n",
       "      <td>-0.019901</td>\n",
       "    </tr>\n",
       "    <tr>\n",
       "      <th>NatChamp</th>\n",
       "      <td>-0.017057</td>\n",
       "      <td>-0.005203</td>\n",
       "      <td>1.000000</td>\n",
       "      <td>0.493724</td>\n",
       "      <td>0.304164</td>\n",
       "      <td>0.495842</td>\n",
       "      <td>0.104140</td>\n",
       "      <td>0.210984</td>\n",
       "      <td>-0.183978</td>\n",
       "      <td>-0.124368</td>\n",
       "      <td>...</td>\n",
       "      <td>0.153424</td>\n",
       "      <td>0.109076</td>\n",
       "      <td>-0.004518</td>\n",
       "      <td>-0.027502</td>\n",
       "      <td>-0.022829</td>\n",
       "      <td>0.106513</td>\n",
       "      <td>0.093902</td>\n",
       "      <td>-0.177092</td>\n",
       "      <td>0.201465</td>\n",
       "      <td>0.180891</td>\n",
       "    </tr>\n",
       "    <tr>\n",
       "      <th>Playoff</th>\n",
       "      <td>-0.023437</td>\n",
       "      <td>-0.010538</td>\n",
       "      <td>0.493724</td>\n",
       "      <td>1.000000</td>\n",
       "      <td>0.511149</td>\n",
       "      <td>0.429903</td>\n",
       "      <td>0.154024</td>\n",
       "      <td>0.350582</td>\n",
       "      <td>-0.319122</td>\n",
       "      <td>-0.221211</td>\n",
       "      <td>...</td>\n",
       "      <td>0.149326</td>\n",
       "      <td>0.134591</td>\n",
       "      <td>-0.012667</td>\n",
       "      <td>-0.087550</td>\n",
       "      <td>-0.071681</td>\n",
       "      <td>0.164269</td>\n",
       "      <td>0.153823</td>\n",
       "      <td>-0.294740</td>\n",
       "      <td>0.324750</td>\n",
       "      <td>0.320393</td>\n",
       "    </tr>\n",
       "    <tr>\n",
       "      <th>ConfChamp</th>\n",
       "      <td>-0.020009</td>\n",
       "      <td>-0.008875</td>\n",
       "      <td>0.304164</td>\n",
       "      <td>0.511149</td>\n",
       "      <td>1.000000</td>\n",
       "      <td>0.221288</td>\n",
       "      <td>0.176121</td>\n",
       "      <td>0.448046</td>\n",
       "      <td>-0.422457</td>\n",
       "      <td>-0.280642</td>\n",
       "      <td>...</td>\n",
       "      <td>0.221099</td>\n",
       "      <td>0.203238</td>\n",
       "      <td>-0.049102</td>\n",
       "      <td>-0.124582</td>\n",
       "      <td>-0.119989</td>\n",
       "      <td>0.256919</td>\n",
       "      <td>0.240405</td>\n",
       "      <td>-0.359544</td>\n",
       "      <td>0.383655</td>\n",
       "      <td>0.431563</td>\n",
       "    </tr>\n",
       "    <tr>\n",
       "      <th>...</th>\n",
       "      <td>...</td>\n",
       "      <td>...</td>\n",
       "      <td>...</td>\n",
       "      <td>...</td>\n",
       "      <td>...</td>\n",
       "      <td>...</td>\n",
       "      <td>...</td>\n",
       "      <td>...</td>\n",
       "      <td>...</td>\n",
       "      <td>...</td>\n",
       "      <td>...</td>\n",
       "      <td>...</td>\n",
       "      <td>...</td>\n",
       "      <td>...</td>\n",
       "      <td>...</td>\n",
       "      <td>...</td>\n",
       "      <td>...</td>\n",
       "      <td>...</td>\n",
       "      <td>...</td>\n",
       "      <td>...</td>\n",
       "      <td>...</td>\n",
       "    </tr>\n",
       "    <tr>\n",
       "      <th>Turnover.Margin</th>\n",
       "      <td>-0.023212</td>\n",
       "      <td>-0.017482</td>\n",
       "      <td>0.106513</td>\n",
       "      <td>0.164269</td>\n",
       "      <td>0.256919</td>\n",
       "      <td>0.094377</td>\n",
       "      <td>0.177655</td>\n",
       "      <td>0.578778</td>\n",
       "      <td>-0.580885</td>\n",
       "      <td>-0.246905</td>\n",
       "      <td>...</td>\n",
       "      <td>0.611334</td>\n",
       "      <td>0.672128</td>\n",
       "      <td>-0.352611</td>\n",
       "      <td>-0.533215</td>\n",
       "      <td>-0.596004</td>\n",
       "      <td>1.000000</td>\n",
       "      <td>0.981580</td>\n",
       "      <td>-0.418238</td>\n",
       "      <td>0.457194</td>\n",
       "      <td>0.599935</td>\n",
       "    </tr>\n",
       "    <tr>\n",
       "      <th>Avg.Turnover.Margin.per.Game</th>\n",
       "      <td>-0.015099</td>\n",
       "      <td>-0.009825</td>\n",
       "      <td>0.093902</td>\n",
       "      <td>0.153823</td>\n",
       "      <td>0.240405</td>\n",
       "      <td>0.081840</td>\n",
       "      <td>0.159837</td>\n",
       "      <td>0.562373</td>\n",
       "      <td>-0.573436</td>\n",
       "      <td>-0.250965</td>\n",
       "      <td>...</td>\n",
       "      <td>0.596490</td>\n",
       "      <td>0.655834</td>\n",
       "      <td>-0.346890</td>\n",
       "      <td>-0.528556</td>\n",
       "      <td>-0.589269</td>\n",
       "      <td>0.981580</td>\n",
       "      <td>1.000000</td>\n",
       "      <td>-0.420972</td>\n",
       "      <td>0.461004</td>\n",
       "      <td>0.606174</td>\n",
       "    </tr>\n",
       "    <tr>\n",
       "      <th>Avg Rank</th>\n",
       "      <td>0.041523</td>\n",
       "      <td>0.038239</td>\n",
       "      <td>-0.177092</td>\n",
       "      <td>-0.294740</td>\n",
       "      <td>-0.359544</td>\n",
       "      <td>-0.132520</td>\n",
       "      <td>-0.241881</td>\n",
       "      <td>-0.785139</td>\n",
       "      <td>0.787373</td>\n",
       "      <td>0.709498</td>\n",
       "      <td>...</td>\n",
       "      <td>-0.411262</td>\n",
       "      <td>-0.344005</td>\n",
       "      <td>-0.001418</td>\n",
       "      <td>0.247460</td>\n",
       "      <td>0.181064</td>\n",
       "      <td>-0.418238</td>\n",
       "      <td>-0.420972</td>\n",
       "      <td>1.000000</td>\n",
       "      <td>-0.886595</td>\n",
       "      <td>-0.829892</td>\n",
       "    </tr>\n",
       "    <tr>\n",
       "      <th>Net Yards Per Play</th>\n",
       "      <td>-0.024047</td>\n",
       "      <td>-0.018545</td>\n",
       "      <td>0.201465</td>\n",
       "      <td>0.324750</td>\n",
       "      <td>0.383655</td>\n",
       "      <td>0.200834</td>\n",
       "      <td>0.278957</td>\n",
       "      <td>0.799135</td>\n",
       "      <td>-0.778300</td>\n",
       "      <td>-0.643628</td>\n",
       "      <td>...</td>\n",
       "      <td>0.433803</td>\n",
       "      <td>0.377147</td>\n",
       "      <td>-0.016291</td>\n",
       "      <td>-0.254834</td>\n",
       "      <td>-0.196734</td>\n",
       "      <td>0.457194</td>\n",
       "      <td>0.461004</td>\n",
       "      <td>-0.886595</td>\n",
       "      <td>1.000000</td>\n",
       "      <td>0.835205</td>\n",
       "    </tr>\n",
       "    <tr>\n",
       "      <th>winpct</th>\n",
       "      <td>-0.024795</td>\n",
       "      <td>-0.019901</td>\n",
       "      <td>0.180891</td>\n",
       "      <td>0.320393</td>\n",
       "      <td>0.431563</td>\n",
       "      <td>0.154502</td>\n",
       "      <td>0.317788</td>\n",
       "      <td>0.945728</td>\n",
       "      <td>-0.929776</td>\n",
       "      <td>-0.582792</td>\n",
       "      <td>...</td>\n",
       "      <td>0.500378</td>\n",
       "      <td>0.467419</td>\n",
       "      <td>-0.094616</td>\n",
       "      <td>-0.317267</td>\n",
       "      <td>-0.287956</td>\n",
       "      <td>0.599935</td>\n",
       "      <td>0.606174</td>\n",
       "      <td>-0.829892</td>\n",
       "      <td>0.835205</td>\n",
       "      <td>1.000000</td>\n",
       "    </tr>\n",
       "  </tbody>\n",
       "</table>\n",
       "<p>151 rows × 151 columns</p>\n",
       "</div>"
      ],
      "text/plain": [
       "                                 TS_ID    Season  NatChamp   Playoff  \\\n",
       "TS_ID                         1.000000  0.991600 -0.017057 -0.023437   \n",
       "Season                        0.991600  1.000000 -0.005203 -0.010538   \n",
       "NatChamp                     -0.017057 -0.005203  1.000000  0.493724   \n",
       "Playoff                      -0.023437 -0.010538  0.493724  1.000000   \n",
       "ConfChamp                    -0.020009 -0.008875  0.304164  0.511149   \n",
       "...                                ...       ...       ...       ...   \n",
       "Turnover.Margin              -0.023212 -0.017482  0.106513  0.164269   \n",
       "Avg.Turnover.Margin.per.Game -0.015099 -0.009825  0.093902  0.153823   \n",
       "Avg Rank                      0.041523  0.038239 -0.177092 -0.294740   \n",
       "Net Yards Per Play           -0.024047 -0.018545  0.201465  0.324750   \n",
       "winpct                       -0.024795 -0.019901  0.180891  0.320393   \n",
       "\n",
       "                              ConfChamp   Heisman     Games       Win  \\\n",
       "TS_ID                         -0.020009 -0.010503 -0.464044 -0.158352   \n",
       "Season                        -0.008875 -0.005203 -0.454284 -0.150414   \n",
       "NatChamp                       0.304164  0.495842  0.104140  0.210984   \n",
       "Playoff                        0.511149  0.429903  0.154024  0.350582   \n",
       "ConfChamp                      1.000000  0.221288  0.176121  0.448046   \n",
       "...                                 ...       ...       ...       ...   \n",
       "Turnover.Margin                0.256919  0.094377  0.177655  0.578778   \n",
       "Avg.Turnover.Margin.per.Game   0.240405  0.081840  0.159837  0.562373   \n",
       "Avg Rank                      -0.359544 -0.132520 -0.241881 -0.785139   \n",
       "Net Yards Per Play             0.383655  0.200834  0.278957  0.799135   \n",
       "winpct                         0.431563  0.154502  0.317788  0.945728   \n",
       "\n",
       "                                  Loss  Off.Rank  ...  Opponents.Intercepted  \\\n",
       "TS_ID                        -0.134079  0.015608  ...              -0.315651   \n",
       "Season                       -0.136881  0.012947  ...              -0.310156   \n",
       "NatChamp                     -0.183978 -0.124368  ...               0.153424   \n",
       "Playoff                      -0.319122 -0.221211  ...               0.149326   \n",
       "ConfChamp                    -0.422457 -0.280642  ...               0.221099   \n",
       "...                                ...       ...  ...                    ...   \n",
       "Turnover.Margin              -0.580885 -0.246905  ...               0.611334   \n",
       "Avg.Turnover.Margin.per.Game -0.573436 -0.250965  ...               0.596490   \n",
       "Avg Rank                      0.787373  0.709498  ...              -0.411262   \n",
       "Net Yards Per Play           -0.778300 -0.643628  ...               0.433803   \n",
       "winpct                       -0.929776 -0.582792  ...               0.500378   \n",
       "\n",
       "                              Turnovers.Gain  Fumbles.Lost  \\\n",
       "TS_ID                              -0.390300     -0.291197   \n",
       "Season                             -0.388467     -0.288115   \n",
       "NatChamp                            0.109076     -0.004518   \n",
       "Playoff                             0.134591     -0.012667   \n",
       "ConfChamp                           0.203238     -0.049102   \n",
       "...                                      ...           ...   \n",
       "Turnover.Margin                     0.672128     -0.352611   \n",
       "Avg.Turnover.Margin.per.Game        0.655834     -0.346890   \n",
       "Avg Rank                           -0.344005     -0.001418   \n",
       "Net Yards Per Play                  0.377147     -0.016291   \n",
       "winpct                              0.467419     -0.094616   \n",
       "\n",
       "                              Interceptions.Thrown.y  Turnovers.Lost  \\\n",
       "TS_ID                                      -0.304723       -0.392516   \n",
       "Season                                     -0.314774       -0.398119   \n",
       "NatChamp                                   -0.027502       -0.022829   \n",
       "Playoff                                    -0.087550       -0.071681   \n",
       "ConfChamp                                  -0.124582       -0.119989   \n",
       "...                                              ...             ...   \n",
       "Turnover.Margin                            -0.533215       -0.596004   \n",
       "Avg.Turnover.Margin.per.Game               -0.528556       -0.589269   \n",
       "Avg Rank                                    0.247460        0.181064   \n",
       "Net Yards Per Play                         -0.254834       -0.196734   \n",
       "winpct                                     -0.317267       -0.287956   \n",
       "\n",
       "                              Turnover.Margin  Avg.Turnover.Margin.per.Game  \\\n",
       "TS_ID                               -0.023212                     -0.015099   \n",
       "Season                              -0.017482                     -0.009825   \n",
       "NatChamp                             0.106513                      0.093902   \n",
       "Playoff                              0.164269                      0.153823   \n",
       "ConfChamp                            0.256919                      0.240405   \n",
       "...                                       ...                           ...   \n",
       "Turnover.Margin                      1.000000                      0.981580   \n",
       "Avg.Turnover.Margin.per.Game         0.981580                      1.000000   \n",
       "Avg Rank                            -0.418238                     -0.420972   \n",
       "Net Yards Per Play                   0.457194                      0.461004   \n",
       "winpct                               0.599935                      0.606174   \n",
       "\n",
       "                              Avg Rank  Net Yards Per Play    winpct  \n",
       "TS_ID                         0.041523           -0.024047 -0.024795  \n",
       "Season                        0.038239           -0.018545 -0.019901  \n",
       "NatChamp                     -0.177092            0.201465  0.180891  \n",
       "Playoff                      -0.294740            0.324750  0.320393  \n",
       "ConfChamp                    -0.359544            0.383655  0.431563  \n",
       "...                                ...                 ...       ...  \n",
       "Turnover.Margin              -0.418238            0.457194  0.599935  \n",
       "Avg.Turnover.Margin.per.Game -0.420972            0.461004  0.606174  \n",
       "Avg Rank                      1.000000           -0.886595 -0.829892  \n",
       "Net Yards Per Play           -0.886595            1.000000  0.835205  \n",
       "winpct                       -0.829892            0.835205  1.000000  \n",
       "\n",
       "[151 rows x 151 columns]"
      ]
     },
     "execution_count": 6,
     "metadata": {},
     "output_type": "execute_result"
    }
   ],
   "source": [
    "data = df[['TS_ID',\n",
    " 'Team',\n",
    " 'Season',\n",
    " 'Conference',\n",
    " 'NatChamp',\n",
    " 'Playoff',\n",
    " 'ConfChamp',\n",
    " 'Heisman',\n",
    " 'Games',\n",
    " 'Win',\n",
    " 'Loss',\n",
    " 'Off.Rank',\n",
    " 'Off.Plays',\n",
    " 'Off.Yards',\n",
    " 'Off.Yards.Play',\n",
    " 'Off.TDs',\n",
    " 'Off.Yards.per.Game',\n",
    " 'Def.Rank',\n",
    " 'Def.Plays',\n",
    " 'Yards.Allowed',\n",
    " 'Yards.Play.Allowed',\n",
    " 'Off.TDs.Allowed',\n",
    " 'Total.TDs.Allowed',\n",
    " 'Yards.Per.Game.Allowed',\n",
    " 'First.Down.Rank',\n",
    " 'First.Down.Runs',\n",
    " 'First.Down.Passes',\n",
    " 'First.Down.Penalties',\n",
    " 'First.Downs',\n",
    " 'First.Down.Def.Rank',\n",
    " 'Opp.First.Down.Runs',\n",
    " 'Opp.First.Down.Passes',\n",
    " 'Opp.First.Down.Penalties',\n",
    " 'Opp.First.Downs',\n",
    " 'X4th.Down.Rank',\n",
    " 'X4th.Attempts',\n",
    " 'X4th.Conversions',\n",
    " 'X4th.Percent',\n",
    " 'X4rd.Down.Def.Rank',\n",
    " 'Opp.4th.Conversion',\n",
    " 'Opp.4th.Attempt',\n",
    " 'Opponent.4th.Percent',\n",
    " 'Kickoff.Return.Rank',\n",
    " 'Kickoffs.Returned',\n",
    " 'Kickoff.Return.Yards',\n",
    " 'Kickoff.Return.Touchdowns',\n",
    " 'Avg.Yard.per.Kickoff.Return',\n",
    " 'Passing.Off.Rank',\n",
    " 'Pass.Attempts',\n",
    " 'Pass.Completions',\n",
    " 'Interceptions.Thrown.x',\n",
    " 'Pass.Yards',\n",
    " 'Pass.Yards.Attempt',\n",
    " 'Yards.Completion',\n",
    " 'Pass.Touchdowns',\n",
    " 'Pass.Yards.Per.Game',\n",
    " 'Pass.Def.Rank',\n",
    " 'Opp.Completions.Allowed',\n",
    " 'Opp.Pass.Attempts',\n",
    " 'Opp.Pass.Yds.Allowed',\n",
    " 'Opp.Pass.TDs.Allowed',\n",
    " 'Yards.Attempt.Allowed',\n",
    " 'Yards.Completion.Allowed',\n",
    " 'Pass.Yards.Per.Game.Allowed',\n",
    " 'Penalty.Rank',\n",
    " 'Penalties',\n",
    " 'Penalty.Yards',\n",
    " 'Penalty.Yards.Per.Game',\n",
    " 'Punt.Return.Rank',\n",
    " 'Punt.Returns',\n",
    " 'Net.Punt.Return.Yards',\n",
    " 'Punt.Return.Touchdowns',\n",
    " 'Avg.Yards.Per.Punt.Return',\n",
    " 'Punt.Return.Def.Rank',\n",
    " 'Opp.Punt.Returns',\n",
    " 'Opp.Net.Punt.Return.Yards',\n",
    " 'Opp.Punt.Return.Touchdowns.Allowed',\n",
    " 'Avg.Yards.Allowed.per.Punt.Return',\n",
    " 'Redzone.Off.Rank',\n",
    " 'Redzone.Attempts',\n",
    " 'Redzone.Rush.TD',\n",
    " 'Redzone.Pass.TD',\n",
    " 'Redzone.Field.Goals.Made',\n",
    " 'Redzone.Scores',\n",
    " 'Redzone.Points',\n",
    " 'Redzone.Def.Rank',\n",
    " 'Opp.Redzone.Attempts',\n",
    " 'Opp.Redzone.Rush.TD.Allowed',\n",
    " 'Opp.Redzone.Pass.Touchdowns.Allowed',\n",
    " 'Opp.Redzone.Field.Goals.Made',\n",
    " 'Opp.Redzone.Scores',\n",
    " 'Redzone.Points.Allowed',\n",
    " 'Rushing.Off.Rank',\n",
    " 'Rush.Attempts',\n",
    " 'Rush.Yds',\n",
    " 'Yards.Rush',\n",
    " 'Rushing.TD',\n",
    " 'Rushing.Yards.per.Game',\n",
    " 'Rushing.Def.Rank',\n",
    " 'Opp.Rush.Attempts',\n",
    " 'Opp.Rush.Yards.Alloweed',\n",
    " 'Yds.Rush.Allowed',\n",
    " 'Opp.Rush.Touchdowns.Allowed',\n",
    " 'Rush.Yards.Per.Game.Allowed',\n",
    " 'Sack.Rank',\n",
    " 'Sacks',\n",
    " 'Sack.Yards',\n",
    " 'Average.Sacks.per.Game',\n",
    " 'Scoring.Def.Rank',\n",
    " 'Touchdowns.Allowed',\n",
    " 'Opponent.Extra.Points',\n",
    " 'X2.Point.Conversions.Allowed',\n",
    " 'Opp.Deflected.Extra.Points',\n",
    " 'Opp.Feild.Goals.Made',\n",
    " 'Opp.Safety',\n",
    " 'Points.Allowed',\n",
    " 'Avg.Points.per.Game.Allowed',\n",
    " 'Scoring.Off.Rank',\n",
    " 'Touchdowns',\n",
    " 'PAT',\n",
    " 'X2.Point.Conversions',\n",
    " 'Defensive.Points',\n",
    " 'Feild.Goals',\n",
    " 'Safety',\n",
    " 'Total.Points',\n",
    " 'Points.Per.Game',\n",
    " 'Tackle.for.Loss.Rank',\n",
    " 'Solo.Tackle.For.Loss',\n",
    " 'Assist.Tackle.For.Loss',\n",
    " 'Tackle.for.Loss.Yards',\n",
    " 'Total.Tackle.For.Loss',\n",
    " 'Tackle.For.Loss.Per.Game',\n",
    " 'X3rd.Down.Rank',\n",
    " 'X3rd.Attempts',\n",
    " 'X3rd.Conversions',\n",
    " 'X3rd.Percent',\n",
    " 'X3rd.Down.Def.Rank',\n",
    " 'Opp.3rd.Conversion',\n",
    " 'Opp.3rd.Attempt',\n",
    " 'Opponent.3rd.Percent',\n",
    " 'Time.of.Possession.Rank',\n",
    " 'Average.T.O.P',\n",
    " 'Turnover.Rank',\n",
    " 'Fumbles.Recovered',\n",
    " 'Opponents.Intercepted',\n",
    " 'Turnovers.Gain',\n",
    " 'Fumbles.Lost',\n",
    " 'Interceptions.Thrown.y',\n",
    " 'Turnovers.Lost',\n",
    " 'Turnover.Margin',\n",
    " 'Avg.Turnover.Margin.per.Game',\n",
    " 'Avg Rank',\n",
    " 'Net Yards Per Play',\n",
    " 'winpct']\n",
    "]\n",
    "correlation=data.corr(method='pearson')\n",
    "correlation"
   ]
  },
  {
   "cell_type": "code",
   "execution_count": 7,
   "metadata": {},
   "outputs": [],
   "source": [
    "# Lets get a better view of the list\n",
    "#pd.set_option('display.max_rows', 200)"
   ]
  },
  {
   "cell_type": "code",
   "execution_count": 8,
   "metadata": {},
   "outputs": [
    {
     "data": {
      "text/html": [
       "<div>\n",
       "<style scoped>\n",
       "    .dataframe tbody tr th:only-of-type {\n",
       "        vertical-align: middle;\n",
       "    }\n",
       "\n",
       "    .dataframe tbody tr th {\n",
       "        vertical-align: top;\n",
       "    }\n",
       "\n",
       "    .dataframe thead th {\n",
       "        text-align: right;\n",
       "    }\n",
       "</style>\n",
       "<table border=\"1\" class=\"dataframe\">\n",
       "  <thead>\n",
       "    <tr style=\"text-align: right;\">\n",
       "      <th></th>\n",
       "      <th>winpct</th>\n",
       "    </tr>\n",
       "  </thead>\n",
       "  <tbody>\n",
       "    <tr>\n",
       "      <th>winpct</th>\n",
       "      <td>1.000000</td>\n",
       "    </tr>\n",
       "    <tr>\n",
       "      <th>Win</th>\n",
       "      <td>0.945728</td>\n",
       "    </tr>\n",
       "    <tr>\n",
       "      <th>Net Yards Per Play</th>\n",
       "      <td>0.835205</td>\n",
       "    </tr>\n",
       "    <tr>\n",
       "      <th>Points.Per.Game</th>\n",
       "      <td>0.750031</td>\n",
       "    </tr>\n",
       "    <tr>\n",
       "      <th>Total.Points</th>\n",
       "      <td>0.722688</td>\n",
       "    </tr>\n",
       "    <tr>\n",
       "      <th>...</th>\n",
       "      <td>...</td>\n",
       "    </tr>\n",
       "    <tr>\n",
       "      <th>Scoring.Def.Rank</th>\n",
       "      <td>-0.722897</td>\n",
       "    </tr>\n",
       "    <tr>\n",
       "      <th>Avg.Points.per.Game.Allowed</th>\n",
       "      <td>-0.729185</td>\n",
       "    </tr>\n",
       "    <tr>\n",
       "      <th>Scoring.Off.Rank</th>\n",
       "      <td>-0.743946</td>\n",
       "    </tr>\n",
       "    <tr>\n",
       "      <th>Avg Rank</th>\n",
       "      <td>-0.829892</td>\n",
       "    </tr>\n",
       "    <tr>\n",
       "      <th>Loss</th>\n",
       "      <td>-0.929776</td>\n",
       "    </tr>\n",
       "  </tbody>\n",
       "</table>\n",
       "<p>151 rows × 1 columns</p>\n",
       "</div>"
      ],
      "text/plain": [
       "                               winpct\n",
       "winpct                       1.000000\n",
       "Win                          0.945728\n",
       "Net Yards Per Play           0.835205\n",
       "Points.Per.Game              0.750031\n",
       "Total.Points                 0.722688\n",
       "...                               ...\n",
       "Scoring.Def.Rank            -0.722897\n",
       "Avg.Points.per.Game.Allowed -0.729185\n",
       "Scoring.Off.Rank            -0.743946\n",
       "Avg Rank                    -0.829892\n",
       "Loss                        -0.929776\n",
       "\n",
       "[151 rows x 1 columns]"
      ]
     },
     "execution_count": 8,
     "metadata": {},
     "output_type": "execute_result"
    }
   ],
   "source": [
    "correlation.drop(correlation.columns.difference(['winpct']),1, inplace=True)\n",
    "correlation.sort_values(by=['winpct'], ascending=False)"
   ]
  },
  {
   "cell_type": "code",
   "execution_count": 9,
   "metadata": {
    "scrolled": true
   },
   "outputs": [
    {
     "name": "stderr",
     "output_type": "stream",
     "text": [
      "C:\\Users\\jgles\\miniconda3\\envs\\myenv\\lib\\site-packages\\seaborn\\axisgrid.py:1840: UserWarning: JointGrid annotation is deprecated and will be removed in a future release.\n",
      "  warnings.warn(UserWarning(msg))\n"
     ]
    },
    {
     "data": {
      "image/png": "[encoded data removed]",
      "text/plain": [
       "<Figure size 432x432 with 3 Axes>"
      ]
     },
     "metadata": {
      "needs_background": "light"
     },
     "output_type": "display_data"
    }
   ],
   "source": [
    "g=sns.jointplot('winpct','Def.Rank',df,kind='reg')\n",
    "g.annotate(stats.pearsonr)\n",
    "g.fig.suptitle('DEF TEAM RANK vs WIN %')\n",
    "plt.show()"
   ]
  },
  {
   "cell_type": "code",
   "execution_count": 10,
   "metadata": {
    "scrolled": true
   },
   "outputs": [
    {
     "name": "stderr",
     "output_type": "stream",
     "text": [
      "C:\\Users\\jgles\\miniconda3\\envs\\myenv\\lib\\site-packages\\seaborn\\axisgrid.py:1840: UserWarning: JointGrid annotation is deprecated and will be removed in a future release.\n",
      "  warnings.warn(UserWarning(msg))\n"
     ]
    },
    {
     "data": {
      "image/png": "[encoded data removed]",
      "text/plain": [
       "<Figure size 432x432 with 3 Axes>"
      ]
     },
     "metadata": {
      "needs_background": "light"
     },
     "output_type": "display_data"
    }
   ],
   "source": [
    "#Regression graph for Offensive Rank and Defensive Rank Vs Win Pct with correlation\n",
    "\n",
    "#Results show a stronger correlation between Defensive Rank and Win Pct\n",
    "\n",
    "g=sns.jointplot('winpct','Off.Rank',df, kind='reg')\n",
    "g.annotate(stats.pearsonr)\n",
    "g.fig.suptitle('OFF TEAM RANK vs WIN %')\n",
    "plt.show()"
   ]
  },
  {
   "cell_type": "code",
   "execution_count": 11,
   "metadata": {},
   "outputs": [
    {
     "name": "stderr",
     "output_type": "stream",
     "text": [
      "C:\\Users\\jgles\\miniconda3\\envs\\myenv\\lib\\site-packages\\seaborn\\axisgrid.py:1840: UserWarning: JointGrid annotation is deprecated and will be removed in a future release.\n",
      "  warnings.warn(UserWarning(msg))\n"
     ]
    },
    {
     "data": {
      "image/png": "[encoded data removed]",
      "text/plain": [
       "<Figure size 432x432 with 3 Axes>"
      ]
     },
     "metadata": {
      "needs_background": "light"
     },
     "output_type": "display_data"
    }
   ],
   "source": [
    "#Regression graph for NYPP Vs Win Pct with correlation\n",
    "\n",
    "#Results show a stronger correlation between NYPP and Winpct\n",
    "\n",
    "g=sns.jointplot('winpct','Net Yards Per Play',df, kind='reg')\n",
    "g.annotate(stats.pearsonr)\n",
    "g.fig.suptitle('Net Yards Per Play vs WIN %')\n",
    "plt.show()"
   ]
  },
  {
   "cell_type": "code",
   "execution_count": 12,
   "metadata": {
    "scrolled": true
   },
   "outputs": [
    {
     "data": {
      "image/png": "[encoded data removed]",
      "text/plain": [
       "<Figure size 432x288 with 1 Axes>"
      ]
     },
     "metadata": {
      "needs_background": "light"
     },
     "output_type": "display_data"
    }
   ],
   "source": [
    "filter=df['Conference']== 'ACC'\n",
    "filter2=df['Conference']== 'SEC'\n",
    "filter3=df['Conference']== 'Big 12'\n",
    "filter4=df['Conference']== 'Big Ten' \n",
    "filter5=df['Conference']== 'Pac-12'\n",
    "dfn=df.where(filter | filter2 | filter3 | filter4 | filter5)\n",
    "sns.boxplot(dfn['Net Yards Per Play'], dfn['Conference'], whis=np.inf)\n",
    "plt.title('Net Yards Per Play(Off & Def) for Power 5 Conferences')\n",
    "plt.show()\n",
    "#df[['TS_ID' , 'Team', 'Season', 'winpct', 'Net Yards Per Play', 'NatChamp', 'Playoff', 'ConfChamp']].sort_values('Net Yards Per Play', ascending = False)[0:25]"
   ]
  },
  {
   "cell_type": "code",
   "execution_count": 13,
   "metadata": {},
   "outputs": [
    {
     "data": {
      "image/png": "[encoded data removed]",
      "text/plain": [
       "<Figure size 432x288 with 1 Axes>"
      ]
     },
     "metadata": {
      "needs_background": "light"
     },
     "output_type": "display_data"
    }
   ],
   "source": [
    "dfn=df.where(filter | filter2 | filter3 | filter4 | filter5)\n",
    "sns.boxplot(dfn['Avg Rank'], dfn['Conference'], whis=np.inf)\n",
    "plt.title('Avg Rank(Off & Def) for Power 5 Conferences')\n",
    "plt.show()\n",
    "#df[['Team', 'Season', 'winpct', 'Off.Rank', 'Def.Rank','Avg Rank', 'NatChamp', 'Playoff', 'ConfChamp']].sort_values('Avg Rank', ascending = True)[0:25]"
   ]
  },
  {
   "cell_type": "code",
   "execution_count": 14,
   "metadata": {},
   "outputs": [
    {
     "data": {
      "text/html": [
       "<div>\n",
       "<style scoped>\n",
       "    .dataframe tbody tr th:only-of-type {\n",
       "        vertical-align: middle;\n",
       "    }\n",
       "\n",
       "    .dataframe tbody tr th {\n",
       "        vertical-align: top;\n",
       "    }\n",
       "\n",
       "    .dataframe thead th {\n",
       "        text-align: right;\n",
       "    }\n",
       "</style>\n",
       "<table border=\"1\" class=\"dataframe\">\n",
       "  <thead>\n",
       "    <tr style=\"text-align: right;\">\n",
       "      <th></th>\n",
       "      <th>Team</th>\n",
       "      <th>Season</th>\n",
       "      <th>Off.Rank</th>\n",
       "      <th>Def.Rank</th>\n",
       "      <th>Avg Rank</th>\n",
       "    </tr>\n",
       "  </thead>\n",
       "  <tbody>\n",
       "    <tr>\n",
       "      <th>555</th>\n",
       "      <td>Eastern Mich.</td>\n",
       "      <td>2014</td>\n",
       "      <td>121</td>\n",
       "      <td>118</td>\n",
       "      <td>119.5</td>\n",
       "    </tr>\n",
       "    <tr>\n",
       "      <th>31</th>\n",
       "      <td>UCF</td>\n",
       "      <td>2015</td>\n",
       "      <td>127</td>\n",
       "      <td>113</td>\n",
       "      <td>120.0</td>\n",
       "    </tr>\n",
       "    <tr>\n",
       "      <th>227</th>\n",
       "      <td>Kansas</td>\n",
       "      <td>2015</td>\n",
       "      <td>114</td>\n",
       "      <td>127</td>\n",
       "      <td>120.5</td>\n",
       "    </tr>\n",
       "    <tr>\n",
       "      <th>928</th>\n",
       "      <td>Texas St.</td>\n",
       "      <td>2016</td>\n",
       "      <td>126</td>\n",
       "      <td>117</td>\n",
       "      <td>121.5</td>\n",
       "    </tr>\n",
       "    <tr>\n",
       "      <th>658</th>\n",
       "      <td>Utah St.</td>\n",
       "      <td>2020</td>\n",
       "      <td>123</td>\n",
       "      <td>120</td>\n",
       "      <td>121.5</td>\n",
       "    </tr>\n",
       "    <tr>\n",
       "      <th>14</th>\n",
       "      <td>SMU</td>\n",
       "      <td>2014</td>\n",
       "      <td>124</td>\n",
       "      <td>119</td>\n",
       "      <td>121.5</td>\n",
       "    </tr>\n",
       "    <tr>\n",
       "      <th>668</th>\n",
       "      <td>San Jose St.</td>\n",
       "      <td>2017</td>\n",
       "      <td>120</td>\n",
       "      <td>124</td>\n",
       "      <td>122.0</td>\n",
       "    </tr>\n",
       "    <tr>\n",
       "      <th>536</th>\n",
       "      <td>Massachusetts</td>\n",
       "      <td>2020</td>\n",
       "      <td>127</td>\n",
       "      <td>118</td>\n",
       "      <td>122.5</td>\n",
       "    </tr>\n",
       "    <tr>\n",
       "      <th>680</th>\n",
       "      <td>San Jose St.</td>\n",
       "      <td>2018</td>\n",
       "      <td>122</td>\n",
       "      <td>125</td>\n",
       "      <td>123.5</td>\n",
       "    </tr>\n",
       "    <tr>\n",
       "      <th>530</th>\n",
       "      <td>Massachusetts</td>\n",
       "      <td>2019</td>\n",
       "      <td>126</td>\n",
       "      <td>130</td>\n",
       "      <td>128.0</td>\n",
       "    </tr>\n",
       "  </tbody>\n",
       "</table>\n",
       "</div>"
      ],
      "text/plain": [
       "              Team  Season  Off.Rank  Def.Rank  Avg Rank\n",
       "555  Eastern Mich.    2014       121       118     119.5\n",
       "31             UCF    2015       127       113     120.0\n",
       "227         Kansas    2015       114       127     120.5\n",
       "928      Texas St.    2016       126       117     121.5\n",
       "658       Utah St.    2020       123       120     121.5\n",
       "14             SMU    2014       124       119     121.5\n",
       "668   San Jose St.    2017       120       124     122.0\n",
       "536  Massachusetts    2020       127       118     122.5\n",
       "680   San Jose St.    2018       122       125     123.5\n",
       "530  Massachusetts    2019       126       130     128.0"
      ]
     },
     "execution_count": 14,
     "metadata": {},
     "output_type": "execute_result"
    }
   ],
   "source": [
    "# Bottom 10 in Avg Rank\n",
    "df[['Team', 'Season','Off.Rank','Def.Rank','Avg Rank']].sort_values('Avg Rank')[-10:]"
   ]
  },
  {
   "cell_type": "code",
   "execution_count": 15,
   "metadata": {
    "scrolled": true
   },
   "outputs": [],
   "source": [
    "# Bottom 10 in NYPP. THEY STINK COACH!\n",
    "\n",
    "# Bottom 10 in Avg Rank\n",
    "#df[['Team', 'Season', 'Win', 'Loss','Net Yards Per Play']].sort_values('Net Yards Per Play', ascending=False)[-10:]"
   ]
  },
  {
   "cell_type": "code",
   "execution_count": 16,
   "metadata": {},
   "outputs": [],
   "source": [
    "#df19[['TS_ID' , 'Team', 'Season', 'winpct', 'Net Yards Per Play', 'NatChamp', 'Playoff', 'ConfChamp']].sort_values('Net Yards Per Play', ascending = False)[0:25]\n",
    "#df[['TS_ID' , 'Team', 'Season', 'winpct', 'Net Yards Per Play', 'NatChamp', 'Playoff', 'ConfChamp', 'Heisman']].sort_values('Heisman', ascending = False)[0:25]"
   ]
  },
  {
   "cell_type": "code",
   "execution_count": 17,
   "metadata": {},
   "outputs": [],
   "source": [
    "#Kick out the Df for visualization in Tableau\n",
    "#df.to_csv(\"All_TimeTableauCFB.csv\")"
   ]
  },
  {
   "cell_type": "code",
   "execution_count": 18,
   "metadata": {},
   "outputs": [],
   "source": [
    "df_backup = df"
   ]
  },
  {
   "cell_type": "code",
   "execution_count": 75,
   "metadata": {},
   "outputs": [],
   "source": [
    "from bokeh.plotting import figure, output_file, show\n",
    "from bokeh.models import Span\n",
    "import bokeh.plotting as bk\n",
    "#from bokeh.models import HoverTool\n",
    "from bokeh.plotting import ColumnDataSource\n",
    "\n",
    "\n",
    "colormap = {'ACC': 'red', 'SEC': 'green', 'Pac-12': 'blue', 'Big Ten': 'orange', 'Big 12':'brown', 'AAC':'black', 'C-USA':'black', 'FBS Independent':'black', 'MAC':'black', 'Mountain West':'black', 'MWC':'black', 'Sun Belt':'black'}\n",
    "colors = [colormap[x] for x in df['Conference']]\n",
    "\n",
    "win = .500\n",
    "even = 0\n",
    "\n",
    "data = df\n",
    "source = ColumnDataSource(df)\n",
    "\n",
    "p = figure(title = \"Conference NYPP\", plot_width=1600, plot_height=800 )\n",
    "\n",
    "five_hundred = Span(location = win, dimension = \"width\", line_color = 'black', line_dash = 'solid', line_width = 3)\n",
    "NYPP = Span(location = even, dimension = \"height\", line_color = 'black', line_dash = 'solid', line_width = 3)\n",
    "\n",
    "p.add_layout(five_hundred)\n",
    "p.add_layout(NYPP)\n",
    "#p.add_tools(HoverTool(tooltips=TOOLTIPS))\n",
    "\n",
    "p.xaxis.axis_label = 'NYPP'\n",
    "p.yaxis.axis_label = 'WinPct'\n",
    "\n",
    "p.circle(df[\"Net Yards Per Play\"], df[\"winpct\"],\n",
    "         color=colors, fill_alpha=0.2, size=10)\n",
    "\n",
    "#output_file(\"iris.html\", title=\"iris.py example\")\n",
    "\n",
    "show(p)"
   ]
  },
  {
   "cell_type": "code",
   "execution_count": 64,
   "metadata": {},
   "outputs": [],
   "source": [
    "#Conference Colors for Analysis\n",
    "\n",
    "conf_colors = color_discrete_map={\n",
    "                \"AAC\": \"red\",\n",
    "                \"ACC\": \"green\",\n",
    "                \"Big 12\": \"blue\",\n",
    "                \"Big Ten\": \"goldenrod\",\n",
    "                \"C-USA\": \"magenta\",\n",
    "                \"FBS Independent\": \"goldenrod\",\n",
    "                \"MAC\": \"goldenrod\",\n",
    "                \"Mountain West\": \"goldenrod\",\n",
    "                \"MWC\": \"goldenrod\",\n",
    "                \"Pac-12\": \"goldenrod\",\n",
    "                \"SEC\": \"goldenrod\",\n",
    "                \"Sun Belt\": \"goldenrod\"},"
   ]
  },
  {
   "cell_type": "code",
   "execution_count": 81,
   "metadata": {},
   "outputs": [
    {
     "data": {
      "application/vnd.plotly.v1+json": {
       "config": {
        "plotlyServerURL": "https://plot.ly"
       },
       "data": [
        {
         "customdata": [
          [
           "Cincinnati",
           2019,
           "AAC"
          ],
          [
           "East Carolina",
           2019,
           "AAC"
          ],
          [
           "Houston",
           2019,
           "AAC"
          ],
          [
           "Memphis",
           2019,
           "AAC"
          ],
          [
           "Navy",
           2019,
           "AAC"
          ],
          [
           "SMU",
           2019,
           "AAC"
          ],
          [
           "South Fla.",
           2019,
           "AAC"
          ],
          [
           "Temple",
           2019,
           "AAC"
          ],
          [
           "Tulane",
           2019,
           "AAC"
          ],
          [
           "Tulsa",
           2019,
           "AAC"
          ],
          [
           "UCF",
           2019,
           "AAC"
          ],
          [
           "UConn",
           2019,
           "AAC"
          ]
         ],
         "hovertemplate": "Net Yards Per Play=%{y:.1f}<br>Team=%{customdata[0]}<br>Season=%{customdata[1]}<extra></extra>",
         "legendgroup": "AAC",
         "marker": {
          "color": "red",
          "symbol": "circle"
         },
         "mode": "markers",
         "name": "AAC",
         "orientation": "v",
         "showlegend": true,
         "type": "scatter",
         "x": [
          0.7857142857142857,
          0.3333333333333333,
          0.3333333333333333,
          0.8571428571428571,
          0.8461538461538461,
          0.7692307692307693,
          0.3333333333333333,
          0.6153846153846154,
          0.5384615384615384,
          0.3333333333333333,
          0.7692307692307693,
          0.16666666666666666
         ],
         "xaxis": "x",
         "y": [
          0.3700000000000001,
          -0.7799999999999994,
          -0.79,
          1.4799999999999995,
          1.5,
          0.3799999999999999,
          -0.25,
          0.4300000000000006,
          0.6699999999999999,
          -0.34999999999999964,
          2.3499999999999996,
          -1.8899999999999997
         ],
         "yaxis": "y"
        },
        {
         "customdata": [
          [
           "Boston College",
           2019,
           "ACC"
          ],
          [
           "Clemson",
           2019,
           "ACC"
          ],
          [
           "Duke",
           2019,
           "ACC"
          ],
          [
           "Florida St.",
           2019,
           "ACC"
          ],
          [
           "Georgia Tech",
           2019,
           "ACC"
          ],
          [
           "Louisville",
           2019,
           "ACC"
          ],
          [
           "Miami (FL)",
           2019,
           "ACC"
          ],
          [
           "NC State",
           2019,
           "ACC"
          ],
          [
           "North Carolina",
           2019,
           "ACC"
          ],
          [
           "Pittsburgh",
           2019,
           "ACC"
          ],
          [
           "Syracuse",
           2019,
           "ACC"
          ],
          [
           "Virginia",
           2019,
           "ACC"
          ],
          [
           "Virginia Tech",
           2019,
           "ACC"
          ],
          [
           "Wake Forest",
           2019,
           "ACC"
          ]
         ],
         "hovertemplate": "Net Yards Per Play=%{y:.1f}<br>Team=%{customdata[0]}<br>Season=%{customdata[1]}<extra></extra>",
         "legendgroup": "ACC",
         "marker": {
          "color": "green",
          "symbol": "circle"
         },
         "mode": "markers",
         "name": "ACC",
         "orientation": "v",
         "showlegend": true,
         "type": "scatter",
         "x": [
          0.46153846153846156,
          0.9333333333333333,
          0.4166666666666667,
          0.46153846153846156,
          0.25,
          0.6153846153846154,
          0.46153846153846156,
          0.3333333333333333,
          0.5384615384615384,
          0.6153846153846154,
          0.4166666666666667,
          0.6428571428571429,
          0.6153846153846154,
          0.6153846153846154
         ],
         "xaxis": "x",
         "y": [
          -0.54,
          2.92,
          -0.8199999999999994,
          0.5300000000000002,
          -1.04,
          0.34999999999999964,
          0.9199999999999999,
          -0.41000000000000014,
          1,
          0.6799999999999997,
          -0.8600000000000003,
          -0.08999999999999986,
          0.41000000000000014,
          -0.0600000000000005
         ],
         "yaxis": "y"
        },
        {
         "customdata": [
          [
           "Baylor",
           2019,
           "Big 12"
          ],
          [
           "Iowa St.",
           2019,
           "Big 12"
          ],
          [
           "Kansas",
           2019,
           "Big 12"
          ],
          [
           "Kansas St.",
           2019,
           "Big 12"
          ],
          [
           "Oklahoma",
           2019,
           "Big 12"
          ],
          [
           "Oklahoma St.",
           2019,
           "Big 12"
          ],
          [
           "TCU",
           2019,
           "Big 12"
          ],
          [
           "Texas",
           2019,
           "Big 12"
          ],
          [
           "Texas Tech",
           2019,
           "Big 12"
          ],
          [
           "West Virginia",
           2019,
           "Big 12"
          ]
         ],
         "hovertemplate": "Net Yards Per Play=%{y:.1f}<br>Team=%{customdata[0]}<br>Season=%{customdata[1]}<extra></extra>",
         "legendgroup": "Big 12",
         "marker": {
          "color": "blue",
          "symbol": "circle"
         },
         "mode": "markers",
         "name": "Big 12",
         "orientation": "v",
         "showlegend": true,
         "type": "scatter",
         "x": [
          0.7857142857142857,
          0.5384615384615384,
          0.25,
          0.6153846153846154,
          0.8571428571428571,
          0.6153846153846154,
          0.4166666666666667,
          0.6153846153846154,
          0.3333333333333333,
          0.4166666666666667
         ],
         "xaxis": "x",
         "y": [
          1.33,
          1.0899999999999999,
          -0.29000000000000004,
          -0.6200000000000001,
          2.33,
          0.5999999999999996,
          0.15000000000000036,
          0.2599999999999998,
          -0.5,
          -0.5800000000000001
         ],
         "yaxis": "y"
        },
        {
         "customdata": [
          [
           "Illinois",
           2019,
           "Big Ten"
          ],
          [
           "Indiana",
           2019,
           "Big Ten"
          ],
          [
           "Iowa",
           2019,
           "Big Ten"
          ],
          [
           "Maryland",
           2019,
           "Big Ten"
          ],
          [
           "Michigan",
           2019,
           "Big Ten"
          ],
          [
           "Michigan St.",
           2019,
           "Big Ten"
          ],
          [
           "Minnesota",
           2019,
           "Big Ten"
          ],
          [
           "Nebraska",
           2019,
           "Big Ten"
          ],
          [
           "Northwestern",
           2019,
           "Big Ten"
          ],
          [
           "Ohio St.",
           2019,
           "Big Ten"
          ],
          [
           "Penn St.",
           2019,
           "Big Ten"
          ],
          [
           "Purdue",
           2019,
           "Big Ten"
          ],
          [
           "Rutgers",
           2019,
           "Big Ten"
          ],
          [
           "Wisconsin",
           2019,
           "Big Ten"
          ]
         ],
         "hovertemplate": "Net Yards Per Play=%{y:.1f}<br>Team=%{customdata[0]}<br>Season=%{customdata[1]}<extra></extra>",
         "legendgroup": "Big Ten",
         "marker": {
          "color": "goldenrod",
          "symbol": "circle"
         },
         "mode": "markers",
         "name": "Big Ten",
         "orientation": "v",
         "showlegend": true,
         "type": "scatter",
         "x": [
          0.46153846153846156,
          0.6153846153846154,
          0.7692307692307693,
          0.25,
          0.6923076923076923,
          0.5384615384615384,
          0.8461538461538461,
          0.4166666666666667,
          0.25,
          0.9285714285714286,
          0.8461538461538461,
          0.3333333333333333,
          0.16666666666666666,
          0.7142857142857143
         ],
         "xaxis": "x",
         "y": [
          -0.5999999999999996,
          0.6200000000000001,
          0.7199999999999998,
          -0.5800000000000001,
          1.0499999999999998,
          0.23000000000000043,
          1.3000000000000007,
          0.14999999999999947,
          -0.8299999999999992,
          2.8100000000000005,
          1.2299999999999995,
          -0.5499999999999998,
          -1.7599999999999998,
          1.5099999999999998
         ],
         "yaxis": "y"
        },
        {
         "customdata": [
          [
           "Charlotte",
           2019,
           "C-USA"
          ],
          [
           "FIU",
           2019,
           "C-USA"
          ],
          [
           "Fla. Atlantic",
           2019,
           "C-USA"
          ],
          [
           "Louisiana Tech",
           2019,
           "C-USA"
          ],
          [
           "Marshall",
           2019,
           "C-USA"
          ],
          [
           "Middle Tenn.",
           2019,
           "C-USA"
          ],
          [
           "North Texas",
           2019,
           "C-USA"
          ],
          [
           "Old Dominion",
           2019,
           "C-USA"
          ],
          [
           "Rice",
           2019,
           "C-USA"
          ],
          [
           "Southern Miss.",
           2019,
           "C-USA"
          ],
          [
           "UAB",
           2019,
           "C-USA"
          ],
          [
           "UTEP",
           2019,
           "C-USA"
          ],
          [
           "UTSA",
           2019,
           "C-USA"
          ],
          [
           "Western Ky.",
           2019,
           "C-USA"
          ]
         ],
         "hovertemplate": "Net Yards Per Play=%{y:.1f}<br>Team=%{customdata[0]}<br>Season=%{customdata[1]}<extra></extra>",
         "legendgroup": "C-USA",
         "marker": {
          "color": "magenta",
          "symbol": "circle"
         },
         "mode": "markers",
         "name": "C-USA",
         "orientation": "v",
         "showlegend": true,
         "type": "scatter",
         "x": [
          0.5384615384615384,
          0.46153846153846156,
          0.7857142857142857,
          0.7692307692307693,
          0.6153846153846154,
          0.3333333333333333,
          0.3333333333333333,
          0.08333333333333333,
          0.25,
          0.5384615384615384,
          0.6428571428571429,
          0.08333333333333333,
          0.3333333333333333,
          0.6923076923076923
         ],
         "xaxis": "x",
         "y": [
          0.33999999999999986,
          -0.11000000000000032,
          0.6100000000000003,
          0.8700000000000001,
          0.22999999999999954,
          0.15000000000000036,
          0.17999999999999972,
          -1.6000000000000005,
          -1.2799999999999994,
          0.3600000000000003,
          0.79,
          -1.62,
          -1.4699999999999998,
          0.3799999999999999
         ],
         "yaxis": "y"
        },
        {
         "customdata": [
          [
           "Army West Point",
           2019,
           "FBS Independent"
          ],
          [
           "BYU",
           2019,
           "FBS Independent"
          ],
          [
           "Liberty",
           2019,
           "FBS Independent"
          ],
          [
           "Massachusetts",
           2019,
           "FBS Independent"
          ],
          [
           "New Mexico St.",
           2019,
           "FBS Independent"
          ],
          [
           "Notre Dame",
           2019,
           "FBS Independent"
          ]
         ],
         "hovertemplate": "Net Yards Per Play=%{y:.1f}<br>Team=%{customdata[0]}<br>Season=%{customdata[1]}<extra></extra>",
         "legendgroup": "FBS Independent",
         "marker": {
          "color": "red",
          "symbol": "circle"
         },
         "mode": "markers",
         "name": "FBS Independent",
         "orientation": "v",
         "showlegend": true,
         "type": "scatter",
         "x": [
          0.38461538461538464,
          0.5384615384615384,
          0.6153846153846154,
          0.08333333333333333,
          0.16666666666666666,
          0.8461538461538461
         ],
         "xaxis": "x",
         "y": [
          0.03000000000000025,
          0.5800000000000001,
          0.7000000000000002,
          -3.4899999999999993,
          -1.37,
          1.6500000000000004
         ],
         "yaxis": "y"
        },
        {
         "customdata": [
          [
           "Akron",
           2019,
           "MAC"
          ],
          [
           "Ball St.",
           2019,
           "MAC"
          ],
          [
           "Bowling Green",
           2019,
           "MAC"
          ],
          [
           "Buffalo",
           2019,
           "MAC"
          ],
          [
           "Central Mich.",
           2019,
           "MAC"
          ],
          [
           "Eastern Mich.",
           2019,
           "MAC"
          ],
          [
           "Kent St.",
           2019,
           "MAC"
          ],
          [
           "Miami (OH)",
           2019,
           "MAC"
          ],
          [
           "Northern Ill.",
           2019,
           "MAC"
          ],
          [
           "Ohio",
           2019,
           "MAC"
          ],
          [
           "Toledo",
           2019,
           "MAC"
          ],
          [
           "Western Mich.",
           2019,
           "MAC"
          ]
         ],
         "hovertemplate": "Net Yards Per Play=%{y:.1f}<br>Team=%{customdata[0]}<br>Season=%{customdata[1]}<extra></extra>",
         "legendgroup": "MAC",
         "marker": {
          "color": "green",
          "symbol": "circle"
         },
         "mode": "markers",
         "name": "MAC",
         "orientation": "v",
         "showlegend": true,
         "type": "scatter",
         "x": [
          0,
          0.4166666666666667,
          0.25,
          0.6153846153846154,
          0.5714285714285714,
          0.46153846153846156,
          0.5384615384615384,
          0.5714285714285714,
          0.4166666666666667,
          0.5384615384615384,
          0.5,
          0.5384615384615384
         ],
         "xaxis": "x",
         "y": [
          -1.6800000000000006,
          0.29000000000000004,
          -2.4700000000000006,
          0.5199999999999996,
          0.6600000000000001,
          -0.10000000000000053,
          -0.4900000000000002,
          -0.2999999999999998,
          -0.8600000000000003,
          0.7299999999999995,
          -0.5300000000000002,
          0.4800000000000004
         ],
         "yaxis": "y"
        },
        {
         "customdata": [
          [
           "Air Force",
           2019,
           "Mountain West"
          ],
          [
           "Boise St.",
           2019,
           "Mountain West"
          ],
          [
           "Colorado St.",
           2019,
           "Mountain West"
          ],
          [
           "Fresno St.",
           2019,
           "Mountain West"
          ],
          [
           "Hawaii",
           2019,
           "Mountain West"
          ],
          [
           "Nevada",
           2019,
           "Mountain West"
          ],
          [
           "New Mexico",
           2019,
           "Mountain West"
          ],
          [
           "San Diego St.",
           2019,
           "Mountain West"
          ],
          [
           "San Jose St.",
           2019,
           "Mountain West"
          ],
          [
           "UNLV",
           2019,
           "Mountain West"
          ],
          [
           "Utah St.",
           2019,
           "Mountain West"
          ],
          [
           "Wyoming",
           2019,
           "Mountain West"
          ]
         ],
         "hovertemplate": "Net Yards Per Play=%{y:.1f}<br>Team=%{customdata[0]}<br>Season=%{customdata[1]}<extra></extra>",
         "legendgroup": "Mountain West",
         "marker": {
          "color": "blue",
          "symbol": "circle"
         },
         "mode": "markers",
         "name": "Mountain West",
         "orientation": "v",
         "showlegend": true,
         "type": "scatter",
         "x": [
          0.8461538461538461,
          0.8571428571428571,
          0.3333333333333333,
          0.3333333333333333,
          0.6666666666666666,
          0.5384615384615384,
          0.16666666666666666,
          0.7692307692307693,
          0.4166666666666667,
          0.3333333333333333,
          0.5384615384615384,
          0.6153846153846154
         ],
         "xaxis": "x",
         "y": [
          0.6899999999999995,
          0.8300000000000001,
          0.6600000000000001,
          0.3099999999999996,
          0.40000000000000036,
          -1.0500000000000007,
          -0.9400000000000004,
          0.1299999999999999,
          0.5700000000000003,
          -0.8499999999999996,
          0.16999999999999993,
          0.45999999999999996
         ],
         "yaxis": "y"
        },
        {
         "customdata": [
          [
           "Arizona",
           2019,
           "Pac-12"
          ],
          [
           "Arizona St.",
           2019,
           "Pac-12"
          ],
          [
           "California",
           2019,
           "Pac-12"
          ],
          [
           "Colorado",
           2019,
           "Pac-12"
          ],
          [
           "Oregon",
           2019,
           "Pac-12"
          ],
          [
           "Oregon St.",
           2019,
           "Pac-12"
          ],
          [
           "Southern California",
           2019,
           "Pac-12"
          ],
          [
           "Stanford",
           2019,
           "Pac-12"
          ],
          [
           "UCLA",
           2019,
           "Pac-12"
          ],
          [
           "Utah",
           2019,
           "Pac-12"
          ],
          [
           "Washington",
           2019,
           "Pac-12"
          ],
          [
           "Washington St.",
           2019,
           "Pac-12"
          ]
         ],
         "hovertemplate": "Net Yards Per Play=%{y:.1f}<br>Team=%{customdata[0]}<br>Season=%{customdata[1]}<extra></extra>",
         "legendgroup": "Pac-12",
         "marker": {
          "color": "goldenrod",
          "symbol": "circle"
         },
         "mode": "markers",
         "name": "Pac-12",
         "orientation": "v",
         "showlegend": true,
         "type": "scatter",
         "x": [
          0.3333333333333333,
          0.6153846153846154,
          0.6153846153846154,
          0.4166666666666667,
          0.8571428571428571,
          0.4166666666666667,
          0.6153846153846154,
          0.3333333333333333,
          0.3333333333333333,
          0.7857142857142857,
          0.6153846153846154,
          0.46153846153846156
         ],
         "xaxis": "x",
         "y": [
          -0.3100000000000005,
          0.23000000000000043,
          -0.29000000000000004,
          -1.0099999999999998,
          1.6099999999999994,
          -0.09999999999999964,
          0.7899999999999991,
          -0.71,
          -1.4000000000000004,
          1.9500000000000002,
          0.7199999999999998,
          0.5
         ],
         "yaxis": "y"
        },
        {
         "customdata": [
          [
           "Alabama",
           2019,
           "SEC"
          ],
          [
           "Arkansas",
           2019,
           "SEC"
          ],
          [
           "Auburn",
           2019,
           "SEC"
          ],
          [
           "Florida",
           2019,
           "SEC"
          ],
          [
           "Georgia",
           2019,
           "SEC"
          ],
          [
           "Kentucky",
           2019,
           "SEC"
          ],
          [
           "LSU",
           2019,
           "SEC"
          ],
          [
           "Mississippi St.",
           2019,
           "SEC"
          ],
          [
           "Missouri",
           2019,
           "SEC"
          ],
          [
           "Ole Miss",
           2019,
           "SEC"
          ],
          [
           "South Carolina",
           2019,
           "SEC"
          ],
          [
           "Tennessee",
           2019,
           "SEC"
          ],
          [
           "Texas A&M",
           2019,
           "SEC"
          ],
          [
           "Vanderbilt",
           2019,
           "SEC"
          ]
         ],
         "hovertemplate": "Net Yards Per Play=%{y:.1f}<br>Team=%{customdata[0]}<br>Season=%{customdata[1]}<extra></extra>",
         "legendgroup": "SEC",
         "marker": {
          "color": "magenta",
          "symbol": "circle"
         },
         "mode": "markers",
         "name": "SEC",
         "orientation": "v",
         "showlegend": true,
         "type": "scatter",
         "x": [
          0.8461538461538461,
          0.16666666666666666,
          0.6923076923076923,
          0.8461538461538461,
          0.8571428571428571,
          0.6153846153846154,
          1,
          0.46153846153846156,
          0.5,
          0.3333333333333333,
          0.3333333333333333,
          0.6153846153846154,
          0.6153846153846154,
          0.25
         ],
         "xaxis": "x",
         "y": [
          3.08,
          -1.33,
          0.7400000000000002,
          1.5699999999999994,
          1.79,
          0.8500000000000005,
          2.7799999999999994,
          -0.13999999999999968,
          0.40999999999999925,
          0.17999999999999972,
          -0.35000000000000053,
          0.7800000000000002,
          0.5700000000000003,
          -1.7400000000000002
         ],
         "yaxis": "y"
        },
        {
         "customdata": [
          [
           "Appalachian St.",
           2019,
           "Sun Belt"
          ],
          [
           "Arkansas St.",
           2019,
           "Sun Belt"
          ],
          [
           "Coastal Carolina",
           2019,
           "Sun Belt"
          ],
          [
           "Ga. Southern",
           2019,
           "Sun Belt"
          ],
          [
           "Georgia St.",
           2019,
           "Sun Belt"
          ],
          [
           "La.-Monroe",
           2019,
           "Sun Belt"
          ],
          [
           "Louisiana",
           2019,
           "Sun Belt"
          ],
          [
           "South Alabama",
           2019,
           "Sun Belt"
          ],
          [
           "Texas St.",
           2019,
           "Sun Belt"
          ],
          [
           "Troy",
           2019,
           "Sun Belt"
          ]
         ],
         "hovertemplate": "Net Yards Per Play=%{y:.1f}<br>Team=%{customdata[0]}<br>Season=%{customdata[1]}<extra></extra>",
         "legendgroup": "Sun Belt",
         "marker": {
          "color": "red",
          "symbol": "circle"
         },
         "mode": "markers",
         "name": "Sun Belt",
         "orientation": "v",
         "showlegend": true,
         "type": "scatter",
         "x": [
          0.9285714285714286,
          0.6153846153846154,
          0.4166666666666667,
          0.5384615384615384,
          0.5384615384615384,
          0.4166666666666667,
          0.7857142857142857,
          0.16666666666666666,
          0.25,
          0.4166666666666667
         ],
         "xaxis": "x",
         "y": [
          1.25,
          0.05999999999999961,
          -0.5199999999999996,
          -0.46999999999999975,
          -0.8499999999999996,
          -0.33999999999999986,
          1.5599999999999996,
          -0.7599999999999998,
          -0.75,
          -0.07000000000000028
         ],
         "yaxis": "y"
        }
       ],
       "layout": {
        "hoverlabel": {
         "bgcolor": "white",
         "font": {
          "family": "Arial",
          "size": 14
         }
        },
        "legend": {
         "title": {
          "text": "Conference"
         },
         "tracegroupgap": 0
        },
        "margin": {
         "t": 60
        },
        "shapes": [
         {
          "line": {
           "color": "black",
           "width": 2
          },
          "type": "line",
          "x0": 0.5,
          "x1": 0.5,
          "y0": -4,
          "y1": 4
         },
         {
          "line": {
           "color": "black",
           "width": 2
          },
          "type": "line",
          "x0": 0,
          "x1": 1,
          "y0": 0,
          "y1": 0
         }
        ],
        "template": {
         "data": {
          "bar": [
           {
            "error_x": {
             "color": "#2a3f5f"
            },
            "error_y": {
             "color": "#2a3f5f"
            },
            "marker": {
             "line": {
              "color": "#E5ECF6",
              "width": 0.5
             }
            },
            "type": "bar"
           }
          ],
          "barpolar": [
           {
            "marker": {
             "line": {
              "color": "#E5ECF6",
              "width": 0.5
             }
            },
            "type": "barpolar"
           }
          ],
          "carpet": [
           {
            "aaxis": {
             "endlinecolor": "#2a3f5f",
             "gridcolor": "white",
             "linecolor": "white",
             "minorgridcolor": "white",
             "startlinecolor": "#2a3f5f"
            },
            "baxis": {
             "endlinecolor": "#2a3f5f",
             "gridcolor": "white",
             "linecolor": "white",
             "minorgridcolor": "white",
             "startlinecolor": "#2a3f5f"
            },
            "type": "carpet"
           }
          ],
          "choropleth": [
           {
            "colorbar": {
             "outlinewidth": 0,
             "ticks": ""
            },
            "type": "choropleth"
           }
          ],
          "contour": [
           {
            "colorbar": {
             "outlinewidth": 0,
             "ticks": ""
            },
            "colorscale": [
             [
              0,
              "#0d0887"
             ],
             [
              0.1111111111111111,
              "#46039f"
             ],
             [
              0.2222222222222222,
              "#7201a8"
             ],
             [
              0.3333333333333333,
              "#9c179e"
             ],
             [
              0.4444444444444444,
              "#bd3786"
             ],
             [
              0.5555555555555556,
              "#d8576b"
             ],
             [
              0.6666666666666666,
              "#ed7953"
             ],
             [
              0.7777777777777778,
              "#fb9f3a"
             ],
             [
              0.8888888888888888,
              "#fdca26"
             ],
             [
              1,
              "#f0f921"
             ]
            ],
            "type": "contour"
           }
          ],
          "contourcarpet": [
           {
            "colorbar": {
             "outlinewidth": 0,
             "ticks": ""
            },
            "type": "contourcarpet"
           }
          ],
          "heatmap": [
           {
            "colorbar": {
             "outlinewidth": 0,
             "ticks": ""
            },
            "colorscale": [
             [
              0,
              "#0d0887"
             ],
             [
              0.1111111111111111,
              "#46039f"
             ],
             [
              0.2222222222222222,
              "#7201a8"
             ],
             [
              0.3333333333333333,
              "#9c179e"
             ],
             [
              0.4444444444444444,
              "#bd3786"
             ],
             [
              0.5555555555555556,
              "#d8576b"
             ],
             [
              0.6666666666666666,
              "#ed7953"
             ],
             [
              0.7777777777777778,
              "#fb9f3a"
             ],
             [
              0.8888888888888888,
              "#fdca26"
             ],
             [
              1,
              "#f0f921"
             ]
            ],
            "type": "heatmap"
           }
          ],
          "heatmapgl": [
           {
            "colorbar": {
             "outlinewidth": 0,
             "ticks": ""
            },
            "colorscale": [
             [
              0,
              "#0d0887"
             ],
             [
              0.1111111111111111,
              "#46039f"
             ],
             [
              0.2222222222222222,
              "#7201a8"
             ],
             [
              0.3333333333333333,
              "#9c179e"
             ],
             [
              0.4444444444444444,
              "#bd3786"
             ],
             [
              0.5555555555555556,
              "#d8576b"
             ],
             [
              0.6666666666666666,
              "#ed7953"
             ],
             [
              0.7777777777777778,
              "#fb9f3a"
             ],
             [
              0.8888888888888888,
              "#fdca26"
             ],
             [
              1,
              "#f0f921"
             ]
            ],
            "type": "heatmapgl"
           }
          ],
          "histogram": [
           {
            "marker": {
             "colorbar": {
              "outlinewidth": 0,
              "ticks": ""
             }
            },
            "type": "histogram"
           }
          ],
          "histogram2d": [
           {
            "colorbar": {
             "outlinewidth": 0,
             "ticks": ""
            },
            "colorscale": [
             [
              0,
              "#0d0887"
             ],
             [
              0.1111111111111111,
              "#46039f"
             ],
             [
              0.2222222222222222,
              "#7201a8"
             ],
             [
              0.3333333333333333,
              "#9c179e"
             ],
             [
              0.4444444444444444,
              "#bd3786"
             ],
             [
              0.5555555555555556,
              "#d8576b"
             ],
             [
              0.6666666666666666,
              "#ed7953"
             ],
             [
              0.7777777777777778,
              "#fb9f3a"
             ],
             [
              0.8888888888888888,
              "#fdca26"
             ],
             [
              1,
              "#f0f921"
             ]
            ],
            "type": "histogram2d"
           }
          ],
          "histogram2dcontour": [
           {
            "colorbar": {
             "outlinewidth": 0,
             "ticks": ""
            },
            "colorscale": [
             [
              0,
              "#0d0887"
             ],
             [
              0.1111111111111111,
              "#46039f"
             ],
             [
              0.2222222222222222,
              "#7201a8"
             ],
             [
              0.3333333333333333,
              "#9c179e"
             ],
             [
              0.4444444444444444,
              "#bd3786"
             ],
             [
              0.5555555555555556,
              "#d8576b"
             ],
             [
              0.6666666666666666,
              "#ed7953"
             ],
             [
              0.7777777777777778,
              "#fb9f3a"
             ],
             [
              0.8888888888888888,
              "#fdca26"
             ],
             [
              1,
              "#f0f921"
             ]
            ],
            "type": "histogram2dcontour"
           }
          ],
          "mesh3d": [
           {
            "colorbar": {
             "outlinewidth": 0,
             "ticks": ""
            },
            "type": "mesh3d"
           }
          ],
          "parcoords": [
           {
            "line": {
             "colorbar": {
              "outlinewidth": 0,
              "ticks": ""
             }
            },
            "type": "parcoords"
           }
          ],
          "pie": [
           {
            "automargin": true,
            "type": "pie"
           }
          ],
          "scatter": [
           {
            "marker": {
             "colorbar": {
              "outlinewidth": 0,
              "ticks": ""
             }
            },
            "type": "scatter"
           }
          ],
          "scatter3d": [
           {
            "line": {
             "colorbar": {
              "outlinewidth": 0,
              "ticks": ""
             }
            },
            "marker": {
             "colorbar": {
              "outlinewidth": 0,
              "ticks": ""
             }
            },
            "type": "scatter3d"
           }
          ],
          "scattercarpet": [
           {
            "marker": {
             "colorbar": {
              "outlinewidth": 0,
              "ticks": ""
             }
            },
            "type": "scattercarpet"
           }
          ],
          "scattergeo": [
           {
            "marker": {
             "colorbar": {
              "outlinewidth": 0,
              "ticks": ""
             }
            },
            "type": "scattergeo"
           }
          ],
          "scattergl": [
           {
            "marker": {
             "colorbar": {
              "outlinewidth": 0,
              "ticks": ""
             }
            },
            "type": "scattergl"
           }
          ],
          "scattermapbox": [
           {
            "marker": {
             "colorbar": {
              "outlinewidth": 0,
              "ticks": ""
             }
            },
            "type": "scattermapbox"
           }
          ],
          "scatterpolar": [
           {
            "marker": {
             "colorbar": {
              "outlinewidth": 0,
              "ticks": ""
             }
            },
            "type": "scatterpolar"
           }
          ],
          "scatterpolargl": [
           {
            "marker": {
             "colorbar": {
              "outlinewidth": 0,
              "ticks": ""
             }
            },
            "type": "scatterpolargl"
           }
          ],
          "scatterternary": [
           {
            "marker": {
             "colorbar": {
              "outlinewidth": 0,
              "ticks": ""
             }
            },
            "type": "scatterternary"
           }
          ],
          "surface": [
           {
            "colorbar": {
             "outlinewidth": 0,
             "ticks": ""
            },
            "colorscale": [
             [
              0,
              "#0d0887"
             ],
             [
              0.1111111111111111,
              "#46039f"
             ],
             [
              0.2222222222222222,
              "#7201a8"
             ],
             [
              0.3333333333333333,
              "#9c179e"
             ],
             [
              0.4444444444444444,
              "#bd3786"
             ],
             [
              0.5555555555555556,
              "#d8576b"
             ],
             [
              0.6666666666666666,
              "#ed7953"
             ],
             [
              0.7777777777777778,
              "#fb9f3a"
             ],
             [
              0.8888888888888888,
              "#fdca26"
             ],
             [
              1,
              "#f0f921"
             ]
            ],
            "type": "surface"
           }
          ],
          "table": [
           {
            "cells": {
             "fill": {
              "color": "#EBF0F8"
             },
             "line": {
              "color": "white"
             }
            },
            "header": {
             "fill": {
              "color": "#C8D4E3"
             },
             "line": {
              "color": "white"
             }
            },
            "type": "table"
           }
          ]
         },
         "layout": {
          "annotationdefaults": {
           "arrowcolor": "#2a3f5f",
           "arrowhead": 0,
           "arrowwidth": 1
          },
          "autotypenumbers": "strict",
          "coloraxis": {
           "colorbar": {
            "outlinewidth": 0,
            "ticks": ""
           }
          },
          "colorscale": {
           "diverging": [
            [
             0,
             "#8e0152"
            ],
            [
             0.1,
             "#c51b7d"
            ],
            [
             0.2,
             "#de77ae"
            ],
            [
             0.3,
             "#f1b6da"
            ],
            [
             0.4,
             "#fde0ef"
            ],
            [
             0.5,
             "#f7f7f7"
            ],
            [
             0.6,
             "#e6f5d0"
            ],
            [
             0.7,
             "#b8e186"
            ],
            [
             0.8,
             "#7fbc41"
            ],
            [
             0.9,
             "#4d9221"
            ],
            [
             1,
             "#276419"
            ]
           ],
           "sequential": [
            [
             0,
             "#0d0887"
            ],
            [
             0.1111111111111111,
             "#46039f"
            ],
            [
             0.2222222222222222,
             "#7201a8"
            ],
            [
             0.3333333333333333,
             "#9c179e"
            ],
            [
             0.4444444444444444,
             "#bd3786"
            ],
            [
             0.5555555555555556,
             "#d8576b"
            ],
            [
             0.6666666666666666,
             "#ed7953"
            ],
            [
             0.7777777777777778,
             "#fb9f3a"
            ],
            [
             0.8888888888888888,
             "#fdca26"
            ],
            [
             1,
             "#f0f921"
            ]
           ],
           "sequentialminus": [
            [
             0,
             "#0d0887"
            ],
            [
             0.1111111111111111,
             "#46039f"
            ],
            [
             0.2222222222222222,
             "#7201a8"
            ],
            [
             0.3333333333333333,
             "#9c179e"
            ],
            [
             0.4444444444444444,
             "#bd3786"
            ],
            [
             0.5555555555555556,
             "#d8576b"
            ],
            [
             0.6666666666666666,
             "#ed7953"
            ],
            [
             0.7777777777777778,
             "#fb9f3a"
            ],
            [
             0.8888888888888888,
             "#fdca26"
            ],
            [
             1,
             "#f0f921"
            ]
           ]
          },
          "colorway": [
           "#636efa",
           "#EF553B",
           "#00cc96",
           "#ab63fa",
           "#FFA15A",
           "#19d3f3",
           "#FF6692",
           "#B6E880",
           "#FF97FF",
           "#FECB52"
          ],
          "font": {
           "color": "#2a3f5f"
          },
          "geo": {
           "bgcolor": "white",
           "lakecolor": "white",
           "landcolor": "#E5ECF6",
           "showlakes": true,
           "showland": true,
           "subunitcolor": "white"
          },
          "hoverlabel": {
           "align": "left"
          },
          "hovermode": "closest",
          "mapbox": {
           "style": "light"
          },
          "paper_bgcolor": "white",
          "plot_bgcolor": "#E5ECF6",
          "polar": {
           "angularaxis": {
            "gridcolor": "white",
            "linecolor": "white",
            "ticks": ""
           },
           "bgcolor": "#E5ECF6",
           "radialaxis": {
            "gridcolor": "white",
            "linecolor": "white",
            "ticks": ""
           }
          },
          "scene": {
           "xaxis": {
            "backgroundcolor": "#E5ECF6",
            "gridcolor": "white",
            "gridwidth": 2,
            "linecolor": "white",
            "showbackground": true,
            "ticks": "",
            "zerolinecolor": "white"
           },
           "yaxis": {
            "backgroundcolor": "#E5ECF6",
            "gridcolor": "white",
            "gridwidth": 2,
            "linecolor": "white",
            "showbackground": true,
            "ticks": "",
            "zerolinecolor": "white"
           },
           "zaxis": {
            "backgroundcolor": "#E5ECF6",
            "gridcolor": "white",
            "gridwidth": 2,
            "linecolor": "white",
            "showbackground": true,
            "ticks": "",
            "zerolinecolor": "white"
           }
          },
          "shapedefaults": {
           "line": {
            "color": "#2a3f5f"
           }
          },
          "ternary": {
           "aaxis": {
            "gridcolor": "white",
            "linecolor": "white",
            "ticks": ""
           },
           "baxis": {
            "gridcolor": "white",
            "linecolor": "white",
            "ticks": ""
           },
           "bgcolor": "#E5ECF6",
           "caxis": {
            "gridcolor": "white",
            "linecolor": "white",
            "ticks": ""
           }
          },
          "title": {
           "x": 0.05
          },
          "xaxis": {
           "automargin": true,
           "gridcolor": "white",
           "linecolor": "white",
           "ticks": "",
           "title": {
            "standoff": 15
           },
           "zerolinecolor": "white",
           "zerolinewidth": 2
          },
          "yaxis": {
           "automargin": true,
           "gridcolor": "white",
           "linecolor": "white",
           "ticks": "",
           "title": {
            "standoff": 15
           },
           "zerolinecolor": "white",
           "zerolinewidth": 2
          }
         }
        },
        "xaxis": {
         "anchor": "y",
         "domain": [
          0,
          1
         ],
         "title": {
          "text": "winpct"
         }
        },
        "yaxis": {
         "anchor": "x",
         "domain": [
          0,
          1
         ],
         "title": {
          "text": "Net Yards Per Play"
         }
        }
       }
      },
      "text/html": [
       "<div>                            <div id=\"51d22861-45ae-451e-9f22-debe91031f32\" class=\"plotly-graph-div\" style=\"height:525px; width:100%;\"></div>            <script type=\"text/javascript\">                require([\"plotly\"], function(Plotly) {                    window.PLOTLYENV=window.PLOTLYENV || {};                                    if (document.getElementById(\"51d22861-45ae-451e-9f22-debe91031f32\")) {                    Plotly.newPlot(                        \"51d22861-45ae-451e-9f22-debe91031f32\",                        [{\"customdata\": [[\"Cincinnati\", 2019, \"AAC\"], [\"East Carolina\", 2019, \"AAC\"], [\"Houston\", 2019, \"AAC\"], [\"Memphis\", 2019, \"AAC\"], [\"Navy\", 2019, \"AAC\"], [\"SMU\", 2019, \"AAC\"], [\"South Fla.\", 2019, \"AAC\"], [\"Temple\", 2019, \"AAC\"], [\"Tulane\", 2019, \"AAC\"], [\"Tulsa\", 2019, \"AAC\"], [\"UCF\", 2019, \"AAC\"], [\"UConn\", 2019, \"AAC\"]], \"hovertemplate\": \"Net Yards Per Play=%{y:.1f}<br>Team=%{customdata[0]}<br>Season=%{customdata[1]}<extra></extra>\", \"legendgroup\": \"AAC\", \"marker\": {\"color\": \"red\", \"symbol\": \"circle\"}, \"mode\": \"markers\", \"name\": \"AAC\", \"orientation\": \"v\", \"showlegend\": true, \"type\": \"scatter\", \"x\": [0.7857142857142857, 0.3333333333333333, 0.3333333333333333, 0.8571428571428571, 0.8461538461538461, 0.7692307692307693, 0.3333333333333333, 0.6153846153846154, 0.5384615384615384, 0.3333333333333333, 0.7692307692307693, 0.16666666666666666], \"xaxis\": \"x\", \"y\": [0.3700000000000001, -0.7799999999999994, -0.79, 1.4799999999999995, 1.5, 0.3799999999999999, -0.25, 0.4300000000000006, 0.6699999999999999, -0.34999999999999964, 2.3499999999999996, -1.8899999999999997], \"yaxis\": \"y\"}, {\"customdata\": [[\"Boston College\", 2019, \"ACC\"], [\"Clemson\", 2019, \"ACC\"], [\"Duke\", 2019, \"ACC\"], [\"Florida St.\", 2019, \"ACC\"], [\"Georgia Tech\", 2019, \"ACC\"], [\"Louisville\", 2019, \"ACC\"], [\"Miami (FL)\", 2019, \"ACC\"], [\"NC State\", 2019, \"ACC\"], [\"North Carolina\", 2019, \"ACC\"], [\"Pittsburgh\", 2019, \"ACC\"], [\"Syracuse\", 2019, \"ACC\"], [\"Virginia\", 2019, \"ACC\"], [\"Virginia Tech\", 2019, \"ACC\"], [\"Wake Forest\", 2019, \"ACC\"]], \"hovertemplate\": \"Net Yards Per Play=%{y:.1f}<br>Team=%{customdata[0]}<br>Season=%{customdata[1]}<extra></extra>\", \"legendgroup\": \"ACC\", \"marker\": {\"color\": \"green\", \"symbol\": \"circle\"}, \"mode\": \"markers\", \"name\": \"ACC\", \"orientation\": \"v\", \"showlegend\": true, \"type\": \"scatter\", \"x\": [0.46153846153846156, 0.9333333333333333, 0.4166666666666667, 0.46153846153846156, 0.25, 0.6153846153846154, 0.46153846153846156, 0.3333333333333333, 0.5384615384615384, 0.6153846153846154, 0.4166666666666667, 0.6428571428571429, 0.6153846153846154, 0.6153846153846154], \"xaxis\": \"x\", \"y\": [-0.54, 2.92, -0.8199999999999994, 0.5300000000000002, -1.04, 0.34999999999999964, 0.9199999999999999, -0.41000000000000014, 1.0, 0.6799999999999997, -0.8600000000000003, -0.08999999999999986, 0.41000000000000014, -0.0600000000000005], \"yaxis\": \"y\"}, {\"customdata\": [[\"Baylor\", 2019, \"Big 12\"], [\"Iowa St.\", 2019, \"Big 12\"], [\"Kansas\", 2019, \"Big 12\"], [\"Kansas St.\", 2019, \"Big 12\"], [\"Oklahoma\", 2019, \"Big 12\"], [\"Oklahoma St.\", 2019, \"Big 12\"], [\"TCU\", 2019, \"Big 12\"], [\"Texas\", 2019, \"Big 12\"], [\"Texas Tech\", 2019, \"Big 12\"], [\"West Virginia\", 2019, \"Big 12\"]], \"hovertemplate\": \"Net Yards Per Play=%{y:.1f}<br>Team=%{customdata[0]}<br>Season=%{customdata[1]}<extra></extra>\", \"legendgroup\": \"Big 12\", \"marker\": {\"color\": \"blue\", \"symbol\": \"circle\"}, \"mode\": \"markers\", \"name\": \"Big 12\", \"orientation\": \"v\", \"showlegend\": true, \"type\": \"scatter\", \"x\": [0.7857142857142857, 0.5384615384615384, 0.25, 0.6153846153846154, 0.8571428571428571, 0.6153846153846154, 0.4166666666666667, 0.6153846153846154, 0.3333333333333333, 0.4166666666666667], \"xaxis\": \"x\", \"y\": [1.33, 1.0899999999999999, -0.29000000000000004, -0.6200000000000001, 2.33, 0.5999999999999996, 0.15000000000000036, 0.2599999999999998, -0.5, -0.5800000000000001], \"yaxis\": \"y\"}, {\"customdata\": [[\"Illinois\", 2019, \"Big Ten\"], [\"Indiana\", 2019, \"Big Ten\"], [\"Iowa\", 2019, \"Big Ten\"], [\"Maryland\", 2019, \"Big Ten\"], [\"Michigan\", 2019, \"Big Ten\"], [\"Michigan St.\", 2019, \"Big Ten\"], [\"Minnesota\", 2019, \"Big Ten\"], [\"Nebraska\", 2019, \"Big Ten\"], [\"Northwestern\", 2019, \"Big Ten\"], [\"Ohio St.\", 2019, \"Big Ten\"], [\"Penn St.\", 2019, \"Big Ten\"], [\"Purdue\", 2019, \"Big Ten\"], [\"Rutgers\", 2019, \"Big Ten\"], [\"Wisconsin\", 2019, \"Big Ten\"]], \"hovertemplate\": \"Net Yards Per Play=%{y:.1f}<br>Team=%{customdata[0]}<br>Season=%{customdata[1]}<extra></extra>\", \"legendgroup\": \"Big Ten\", \"marker\": {\"color\": \"goldenrod\", \"symbol\": \"circle\"}, \"mode\": \"markers\", \"name\": \"Big Ten\", \"orientation\": \"v\", \"showlegend\": true, \"type\": \"scatter\", \"x\": [0.46153846153846156, 0.6153846153846154, 0.7692307692307693, 0.25, 0.6923076923076923, 0.5384615384615384, 0.8461538461538461, 0.4166666666666667, 0.25, 0.9285714285714286, 0.8461538461538461, 0.3333333333333333, 0.16666666666666666, 0.7142857142857143], \"xaxis\": \"x\", \"y\": [-0.5999999999999996, 0.6200000000000001, 0.7199999999999998, -0.5800000000000001, 1.0499999999999998, 0.23000000000000043, 1.3000000000000007, 0.14999999999999947, -0.8299999999999992, 2.8100000000000005, 1.2299999999999995, -0.5499999999999998, -1.7599999999999998, 1.5099999999999998], \"yaxis\": \"y\"}, {\"customdata\": [[\"Charlotte\", 2019, \"C-USA\"], [\"FIU\", 2019, \"C-USA\"], [\"Fla. Atlantic\", 2019, \"C-USA\"], [\"Louisiana Tech\", 2019, \"C-USA\"], [\"Marshall\", 2019, \"C-USA\"], [\"Middle Tenn.\", 2019, \"C-USA\"], [\"North Texas\", 2019, \"C-USA\"], [\"Old Dominion\", 2019, \"C-USA\"], [\"Rice\", 2019, \"C-USA\"], [\"Southern Miss.\", 2019, \"C-USA\"], [\"UAB\", 2019, \"C-USA\"], [\"UTEP\", 2019, \"C-USA\"], [\"UTSA\", 2019, \"C-USA\"], [\"Western Ky.\", 2019, \"C-USA\"]], \"hovertemplate\": \"Net Yards Per Play=%{y:.1f}<br>Team=%{customdata[0]}<br>Season=%{customdata[1]}<extra></extra>\", \"legendgroup\": \"C-USA\", \"marker\": {\"color\": \"magenta\", \"symbol\": \"circle\"}, \"mode\": \"markers\", \"name\": \"C-USA\", \"orientation\": \"v\", \"showlegend\": true, \"type\": \"scatter\", \"x\": [0.5384615384615384, 0.46153846153846156, 0.7857142857142857, 0.7692307692307693, 0.6153846153846154, 0.3333333333333333, 0.3333333333333333, 0.08333333333333333, 0.25, 0.5384615384615384, 0.6428571428571429, 0.08333333333333333, 0.3333333333333333, 0.6923076923076923], \"xaxis\": \"x\", \"y\": [0.33999999999999986, -0.11000000000000032, 0.6100000000000003, 0.8700000000000001, 0.22999999999999954, 0.15000000000000036, 0.17999999999999972, -1.6000000000000005, -1.2799999999999994, 0.3600000000000003, 0.79, -1.62, -1.4699999999999998, 0.3799999999999999], \"yaxis\": \"y\"}, {\"customdata\": [[\"Army West Point\", 2019, \"FBS Independent\"], [\"BYU\", 2019, \"FBS Independent\"], [\"Liberty\", 2019, \"FBS Independent\"], [\"Massachusetts\", 2019, \"FBS Independent\"], [\"New Mexico St.\", 2019, \"FBS Independent\"], [\"Notre Dame\", 2019, \"FBS Independent\"]], \"hovertemplate\": \"Net Yards Per Play=%{y:.1f}<br>Team=%{customdata[0]}<br>Season=%{customdata[1]}<extra></extra>\", \"legendgroup\": \"FBS Independent\", \"marker\": {\"color\": \"red\", \"symbol\": \"circle\"}, \"mode\": \"markers\", \"name\": \"FBS Independent\", \"orientation\": \"v\", \"showlegend\": true, \"type\": \"scatter\", \"x\": [0.38461538461538464, 0.5384615384615384, 0.6153846153846154, 0.08333333333333333, 0.16666666666666666, 0.8461538461538461], \"xaxis\": \"x\", \"y\": [0.03000000000000025, 0.5800000000000001, 0.7000000000000002, -3.4899999999999993, -1.37, 1.6500000000000004], \"yaxis\": \"y\"}, {\"customdata\": [[\"Akron\", 2019, \"MAC\"], [\"Ball St.\", 2019, \"MAC\"], [\"Bowling Green\", 2019, \"MAC\"], [\"Buffalo\", 2019, \"MAC\"], [\"Central Mich.\", 2019, \"MAC\"], [\"Eastern Mich.\", 2019, \"MAC\"], [\"Kent St.\", 2019, \"MAC\"], [\"Miami (OH)\", 2019, \"MAC\"], [\"Northern Ill.\", 2019, \"MAC\"], [\"Ohio\", 2019, \"MAC\"], [\"Toledo\", 2019, \"MAC\"], [\"Western Mich.\", 2019, \"MAC\"]], \"hovertemplate\": \"Net Yards Per Play=%{y:.1f}<br>Team=%{customdata[0]}<br>Season=%{customdata[1]}<extra></extra>\", \"legendgroup\": \"MAC\", \"marker\": {\"color\": \"green\", \"symbol\": \"circle\"}, \"mode\": \"markers\", \"name\": \"MAC\", \"orientation\": \"v\", \"showlegend\": true, \"type\": \"scatter\", \"x\": [0.0, 0.4166666666666667, 0.25, 0.6153846153846154, 0.5714285714285714, 0.46153846153846156, 0.5384615384615384, 0.5714285714285714, 0.4166666666666667, 0.5384615384615384, 0.5, 0.5384615384615384], \"xaxis\": \"x\", \"y\": [-1.6800000000000006, 0.29000000000000004, -2.4700000000000006, 0.5199999999999996, 0.6600000000000001, -0.10000000000000053, -0.4900000000000002, -0.2999999999999998, -0.8600000000000003, 0.7299999999999995, -0.5300000000000002, 0.4800000000000004], \"yaxis\": \"y\"}, {\"customdata\": [[\"Air Force\", 2019, \"Mountain West\"], [\"Boise St.\", 2019, \"Mountain West\"], [\"Colorado St.\", 2019, \"Mountain West\"], [\"Fresno St.\", 2019, \"Mountain West\"], [\"Hawaii\", 2019, \"Mountain West\"], [\"Nevada\", 2019, \"Mountain West\"], [\"New Mexico\", 2019, \"Mountain West\"], [\"San Diego St.\", 2019, \"Mountain West\"], [\"San Jose St.\", 2019, \"Mountain West\"], [\"UNLV\", 2019, \"Mountain West\"], [\"Utah St.\", 2019, \"Mountain West\"], [\"Wyoming\", 2019, \"Mountain West\"]], \"hovertemplate\": \"Net Yards Per Play=%{y:.1f}<br>Team=%{customdata[0]}<br>Season=%{customdata[1]}<extra></extra>\", \"legendgroup\": \"Mountain West\", \"marker\": {\"color\": \"blue\", \"symbol\": \"circle\"}, \"mode\": \"markers\", \"name\": \"Mountain West\", \"orientation\": \"v\", \"showlegend\": true, \"type\": \"scatter\", \"x\": [0.8461538461538461, 0.8571428571428571, 0.3333333333333333, 0.3333333333333333, 0.6666666666666666, 0.5384615384615384, 0.16666666666666666, 0.7692307692307693, 0.4166666666666667, 0.3333333333333333, 0.5384615384615384, 0.6153846153846154], \"xaxis\": \"x\", \"y\": [0.6899999999999995, 0.8300000000000001, 0.6600000000000001, 0.3099999999999996, 0.40000000000000036, -1.0500000000000007, -0.9400000000000004, 0.1299999999999999, 0.5700000000000003, -0.8499999999999996, 0.16999999999999993, 0.45999999999999996], \"yaxis\": \"y\"}, {\"customdata\": [[\"Arizona\", 2019, \"Pac-12\"], [\"Arizona St.\", 2019, \"Pac-12\"], [\"California\", 2019, \"Pac-12\"], [\"Colorado\", 2019, \"Pac-12\"], [\"Oregon\", 2019, \"Pac-12\"], [\"Oregon St.\", 2019, \"Pac-12\"], [\"Southern California\", 2019, \"Pac-12\"], [\"Stanford\", 2019, \"Pac-12\"], [\"UCLA\", 2019, \"Pac-12\"], [\"Utah\", 2019, \"Pac-12\"], [\"Washington\", 2019, \"Pac-12\"], [\"Washington St.\", 2019, \"Pac-12\"]], \"hovertemplate\": \"Net Yards Per Play=%{y:.1f}<br>Team=%{customdata[0]}<br>Season=%{customdata[1]}<extra></extra>\", \"legendgroup\": \"Pac-12\", \"marker\": {\"color\": \"goldenrod\", \"symbol\": \"circle\"}, \"mode\": \"markers\", \"name\": \"Pac-12\", \"orientation\": \"v\", \"showlegend\": true, \"type\": \"scatter\", \"x\": [0.3333333333333333, 0.6153846153846154, 0.6153846153846154, 0.4166666666666667, 0.8571428571428571, 0.4166666666666667, 0.6153846153846154, 0.3333333333333333, 0.3333333333333333, 0.7857142857142857, 0.6153846153846154, 0.46153846153846156], \"xaxis\": \"x\", \"y\": [-0.3100000000000005, 0.23000000000000043, -0.29000000000000004, -1.0099999999999998, 1.6099999999999994, -0.09999999999999964, 0.7899999999999991, -0.71, -1.4000000000000004, 1.9500000000000002, 0.7199999999999998, 0.5], \"yaxis\": \"y\"}, {\"customdata\": [[\"Alabama\", 2019, \"SEC\"], [\"Arkansas\", 2019, \"SEC\"], [\"Auburn\", 2019, \"SEC\"], [\"Florida\", 2019, \"SEC\"], [\"Georgia\", 2019, \"SEC\"], [\"Kentucky\", 2019, \"SEC\"], [\"LSU\", 2019, \"SEC\"], [\"Mississippi St.\", 2019, \"SEC\"], [\"Missouri\", 2019, \"SEC\"], [\"Ole Miss\", 2019, \"SEC\"], [\"South Carolina\", 2019, \"SEC\"], [\"Tennessee\", 2019, \"SEC\"], [\"Texas A&M\", 2019, \"SEC\"], [\"Vanderbilt\", 2019, \"SEC\"]], \"hovertemplate\": \"Net Yards Per Play=%{y:.1f}<br>Team=%{customdata[0]}<br>Season=%{customdata[1]}<extra></extra>\", \"legendgroup\": \"SEC\", \"marker\": {\"color\": \"magenta\", \"symbol\": \"circle\"}, \"mode\": \"markers\", \"name\": \"SEC\", \"orientation\": \"v\", \"showlegend\": true, \"type\": \"scatter\", \"x\": [0.8461538461538461, 0.16666666666666666, 0.6923076923076923, 0.8461538461538461, 0.8571428571428571, 0.6153846153846154, 1.0, 0.46153846153846156, 0.5, 0.3333333333333333, 0.3333333333333333, 0.6153846153846154, 0.6153846153846154, 0.25], \"xaxis\": \"x\", \"y\": [3.08, -1.33, 0.7400000000000002, 1.5699999999999994, 1.79, 0.8500000000000005, 2.7799999999999994, -0.13999999999999968, 0.40999999999999925, 0.17999999999999972, -0.35000000000000053, 0.7800000000000002, 0.5700000000000003, -1.7400000000000002], \"yaxis\": \"y\"}, {\"customdata\": [[\"Appalachian St.\", 2019, \"Sun Belt\"], [\"Arkansas St.\", 2019, \"Sun Belt\"], [\"Coastal Carolina\", 2019, \"Sun Belt\"], [\"Ga. Southern\", 2019, \"Sun Belt\"], [\"Georgia St.\", 2019, \"Sun Belt\"], [\"La.-Monroe\", 2019, \"Sun Belt\"], [\"Louisiana\", 2019, \"Sun Belt\"], [\"South Alabama\", 2019, \"Sun Belt\"], [\"Texas St.\", 2019, \"Sun Belt\"], [\"Troy\", 2019, \"Sun Belt\"]], \"hovertemplate\": \"Net Yards Per Play=%{y:.1f}<br>Team=%{customdata[0]}<br>Season=%{customdata[1]}<extra></extra>\", \"legendgroup\": \"Sun Belt\", \"marker\": {\"color\": \"red\", \"symbol\": \"circle\"}, \"mode\": \"markers\", \"name\": \"Sun Belt\", \"orientation\": \"v\", \"showlegend\": true, \"type\": \"scatter\", \"x\": [0.9285714285714286, 0.6153846153846154, 0.4166666666666667, 0.5384615384615384, 0.5384615384615384, 0.4166666666666667, 0.7857142857142857, 0.16666666666666666, 0.25, 0.4166666666666667], \"xaxis\": \"x\", \"y\": [1.25, 0.05999999999999961, -0.5199999999999996, -0.46999999999999975, -0.8499999999999996, -0.33999999999999986, 1.5599999999999996, -0.7599999999999998, -0.75, -0.07000000000000028], \"yaxis\": \"y\"}],                        {\"hoverlabel\": {\"bgcolor\": \"white\", \"font\": {\"family\": \"Arial\", \"size\": 14}}, \"legend\": {\"title\": {\"text\": \"Conference\"}, \"tracegroupgap\": 0}, \"margin\": {\"t\": 60}, \"shapes\": [{\"line\": {\"color\": \"black\", \"width\": 2}, \"type\": \"line\", \"x0\": 0.5, \"x1\": 0.5, \"y0\": -4, \"y1\": 4}, {\"line\": {\"color\": \"black\", \"width\": 2}, \"type\": \"line\", \"x0\": 0, \"x1\": 1, \"y0\": 0, \"y1\": 0}], \"template\": {\"data\": {\"bar\": [{\"error_x\": {\"color\": \"#2a3f5f\"}, \"error_y\": {\"color\": \"#2a3f5f\"}, \"marker\": {\"line\": {\"color\": \"#E5ECF6\", \"width\": 0.5}}, \"type\": \"bar\"}], \"barpolar\": [{\"marker\": {\"line\": {\"color\": \"#E5ECF6\", \"width\": 0.5}}, \"type\": \"barpolar\"}], \"carpet\": [{\"aaxis\": {\"endlinecolor\": \"#2a3f5f\", \"gridcolor\": \"white\", \"linecolor\": \"white\", \"minorgridcolor\": \"white\", \"startlinecolor\": \"#2a3f5f\"}, \"baxis\": {\"endlinecolor\": \"#2a3f5f\", \"gridcolor\": \"white\", \"linecolor\": \"white\", \"minorgridcolor\": \"white\", \"startlinecolor\": \"#2a3f5f\"}, \"type\": \"carpet\"}], \"choropleth\": [{\"colorbar\": {\"outlinewidth\": 0, \"ticks\": \"\"}, \"type\": \"choropleth\"}], \"contour\": [{\"colorbar\": {\"outlinewidth\": 0, \"ticks\": \"\"}, \"colorscale\": [[0.0, \"#0d0887\"], [0.1111111111111111, \"#46039f\"], [0.2222222222222222, \"#7201a8\"], [0.3333333333333333, \"#9c179e\"], [0.4444444444444444, \"#bd3786\"], [0.5555555555555556, \"#d8576b\"], [0.6666666666666666, \"#ed7953\"], [0.7777777777777778, \"#fb9f3a\"], [0.8888888888888888, \"#fdca26\"], [1.0, \"#f0f921\"]], \"type\": \"contour\"}], \"contourcarpet\": [{\"colorbar\": {\"outlinewidth\": 0, \"ticks\": \"\"}, \"type\": \"contourcarpet\"}], \"heatmap\": [{\"colorbar\": {\"outlinewidth\": 0, \"ticks\": \"\"}, \"colorscale\": [[0.0, \"#0d0887\"], [0.1111111111111111, \"#46039f\"], [0.2222222222222222, \"#7201a8\"], [0.3333333333333333, \"#9c179e\"], [0.4444444444444444, \"#bd3786\"], [0.5555555555555556, \"#d8576b\"], [0.6666666666666666, \"#ed7953\"], [0.7777777777777778, \"#fb9f3a\"], [0.8888888888888888, \"#fdca26\"], [1.0, \"#f0f921\"]], \"type\": \"heatmap\"}], \"heatmapgl\": [{\"colorbar\": {\"outlinewidth\": 0, \"ticks\": \"\"}, \"colorscale\": [[0.0, \"#0d0887\"], [0.1111111111111111, \"#46039f\"], [0.2222222222222222, \"#7201a8\"], [0.3333333333333333, \"#9c179e\"], [0.4444444444444444, \"#bd3786\"], [0.5555555555555556, \"#d8576b\"], [0.6666666666666666, \"#ed7953\"], [0.7777777777777778, \"#fb9f3a\"], [0.8888888888888888, \"#fdca26\"], [1.0, \"#f0f921\"]], \"type\": \"heatmapgl\"}], \"histogram\": [{\"marker\": {\"colorbar\": {\"outlinewidth\": 0, \"ticks\": \"\"}}, \"type\": \"histogram\"}], \"histogram2d\": [{\"colorbar\": {\"outlinewidth\": 0, \"ticks\": \"\"}, \"colorscale\": [[0.0, \"#0d0887\"], [0.1111111111111111, \"#46039f\"], [0.2222222222222222, \"#7201a8\"], [0.3333333333333333, \"#9c179e\"], [0.4444444444444444, \"#bd3786\"], [0.5555555555555556, \"#d8576b\"], [0.6666666666666666, \"#ed7953\"], [0.7777777777777778, \"#fb9f3a\"], [0.8888888888888888, \"#fdca26\"], [1.0, \"#f0f921\"]], \"type\": \"histogram2d\"}], \"histogram2dcontour\": [{\"colorbar\": {\"outlinewidth\": 0, \"ticks\": \"\"}, \"colorscale\": [[0.0, \"#0d0887\"], [0.1111111111111111, \"#46039f\"], [0.2222222222222222, \"#7201a8\"], [0.3333333333333333, \"#9c179e\"], [0.4444444444444444, \"#bd3786\"], [0.5555555555555556, \"#d8576b\"], [0.6666666666666666, \"#ed7953\"], [0.7777777777777778, \"#fb9f3a\"], [0.8888888888888888, \"#fdca26\"], [1.0, \"#f0f921\"]], \"type\": \"histogram2dcontour\"}], \"mesh3d\": [{\"colorbar\": {\"outlinewidth\": 0, \"ticks\": \"\"}, \"type\": \"mesh3d\"}], \"parcoords\": [{\"line\": {\"colorbar\": {\"outlinewidth\": 0, \"ticks\": \"\"}}, \"type\": \"parcoords\"}], \"pie\": [{\"automargin\": true, \"type\": \"pie\"}], \"scatter\": [{\"marker\": {\"colorbar\": {\"outlinewidth\": 0, \"ticks\": \"\"}}, \"type\": \"scatter\"}], \"scatter3d\": [{\"line\": {\"colorbar\": {\"outlinewidth\": 0, \"ticks\": \"\"}}, \"marker\": {\"colorbar\": {\"outlinewidth\": 0, \"ticks\": \"\"}}, \"type\": \"scatter3d\"}], \"scattercarpet\": [{\"marker\": {\"colorbar\": {\"outlinewidth\": 0, \"ticks\": \"\"}}, \"type\": \"scattercarpet\"}], \"scattergeo\": [{\"marker\": {\"colorbar\": {\"outlinewidth\": 0, \"ticks\": \"\"}}, \"type\": \"scattergeo\"}], \"scattergl\": [{\"marker\": {\"colorbar\": {\"outlinewidth\": 0, \"ticks\": \"\"}}, \"type\": \"scattergl\"}], \"scattermapbox\": [{\"marker\": {\"colorbar\": {\"outlinewidth\": 0, \"ticks\": \"\"}}, \"type\": \"scattermapbox\"}], \"scatterpolar\": [{\"marker\": {\"colorbar\": {\"outlinewidth\": 0, \"ticks\": \"\"}}, \"type\": \"scatterpolar\"}], \"scatterpolargl\": [{\"marker\": {\"colorbar\": {\"outlinewidth\": 0, \"ticks\": \"\"}}, \"type\": \"scatterpolargl\"}], \"scatterternary\": [{\"marker\": {\"colorbar\": {\"outlinewidth\": 0, \"ticks\": \"\"}}, \"type\": \"scatterternary\"}], \"surface\": [{\"colorbar\": {\"outlinewidth\": 0, \"ticks\": \"\"}, \"colorscale\": [[0.0, \"#0d0887\"], [0.1111111111111111, \"#46039f\"], [0.2222222222222222, \"#7201a8\"], [0.3333333333333333, \"#9c179e\"], [0.4444444444444444, \"#bd3786\"], [0.5555555555555556, \"#d8576b\"], [0.6666666666666666, \"#ed7953\"], [0.7777777777777778, \"#fb9f3a\"], [0.8888888888888888, \"#fdca26\"], [1.0, \"#f0f921\"]], \"type\": \"surface\"}], \"table\": [{\"cells\": {\"fill\": {\"color\": \"#EBF0F8\"}, \"line\": {\"color\": \"white\"}}, \"header\": {\"fill\": {\"color\": \"#C8D4E3\"}, \"line\": {\"color\": \"white\"}}, \"type\": \"table\"}]}, \"layout\": {\"annotationdefaults\": {\"arrowcolor\": \"#2a3f5f\", \"arrowhead\": 0, \"arrowwidth\": 1}, \"autotypenumbers\": \"strict\", \"coloraxis\": {\"colorbar\": {\"outlinewidth\": 0, \"ticks\": \"\"}}, \"colorscale\": {\"diverging\": [[0, \"#8e0152\"], [0.1, \"#c51b7d\"], [0.2, \"#de77ae\"], [0.3, \"#f1b6da\"], [0.4, \"#fde0ef\"], [0.5, \"#f7f7f7\"], [0.6, \"#e6f5d0\"], [0.7, \"#b8e186\"], [0.8, \"#7fbc41\"], [0.9, \"#4d9221\"], [1, \"#276419\"]], \"sequential\": [[0.0, \"#0d0887\"], [0.1111111111111111, \"#46039f\"], [0.2222222222222222, \"#7201a8\"], [0.3333333333333333, \"#9c179e\"], [0.4444444444444444, \"#bd3786\"], [0.5555555555555556, \"#d8576b\"], [0.6666666666666666, \"#ed7953\"], [0.7777777777777778, \"#fb9f3a\"], [0.8888888888888888, \"#fdca26\"], [1.0, \"#f0f921\"]], \"sequentialminus\": [[0.0, \"#0d0887\"], [0.1111111111111111, \"#46039f\"], [0.2222222222222222, \"#7201a8\"], [0.3333333333333333, \"#9c179e\"], [0.4444444444444444, \"#bd3786\"], [0.5555555555555556, \"#d8576b\"], [0.6666666666666666, \"#ed7953\"], [0.7777777777777778, \"#fb9f3a\"], [0.8888888888888888, \"#fdca26\"], [1.0, \"#f0f921\"]]}, \"colorway\": [\"#636efa\", \"#EF553B\", \"#00cc96\", \"#ab63fa\", \"#FFA15A\", \"#19d3f3\", \"#FF6692\", \"#B6E880\", \"#FF97FF\", \"#FECB52\"], \"font\": {\"color\": \"#2a3f5f\"}, \"geo\": {\"bgcolor\": \"white\", \"lakecolor\": \"white\", \"landcolor\": \"#E5ECF6\", \"showlakes\": true, \"showland\": true, \"subunitcolor\": \"white\"}, \"hoverlabel\": {\"align\": \"left\"}, \"hovermode\": \"closest\", \"mapbox\": {\"style\": \"light\"}, \"paper_bgcolor\": \"white\", \"plot_bgcolor\": \"#E5ECF6\", \"polar\": {\"angularaxis\": {\"gridcolor\": \"white\", \"linecolor\": \"white\", \"ticks\": \"\"}, \"bgcolor\": \"#E5ECF6\", \"radialaxis\": {\"gridcolor\": \"white\", \"linecolor\": \"white\", \"ticks\": \"\"}}, \"scene\": {\"xaxis\": {\"backgroundcolor\": \"#E5ECF6\", \"gridcolor\": \"white\", \"gridwidth\": 2, \"linecolor\": \"white\", \"showbackground\": true, \"ticks\": \"\", \"zerolinecolor\": \"white\"}, \"yaxis\": {\"backgroundcolor\": \"#E5ECF6\", \"gridcolor\": \"white\", \"gridwidth\": 2, \"linecolor\": \"white\", \"showbackground\": true, \"ticks\": \"\", \"zerolinecolor\": \"white\"}, \"zaxis\": {\"backgroundcolor\": \"#E5ECF6\", \"gridcolor\": \"white\", \"gridwidth\": 2, \"linecolor\": \"white\", \"showbackground\": true, \"ticks\": \"\", \"zerolinecolor\": \"white\"}}, \"shapedefaults\": {\"line\": {\"color\": \"#2a3f5f\"}}, \"ternary\": {\"aaxis\": {\"gridcolor\": \"white\", \"linecolor\": \"white\", \"ticks\": \"\"}, \"baxis\": {\"gridcolor\": \"white\", \"linecolor\": \"white\", \"ticks\": \"\"}, \"bgcolor\": \"#E5ECF6\", \"caxis\": {\"gridcolor\": \"white\", \"linecolor\": \"white\", \"ticks\": \"\"}}, \"title\": {\"x\": 0.05}, \"xaxis\": {\"automargin\": true, \"gridcolor\": \"white\", \"linecolor\": \"white\", \"ticks\": \"\", \"title\": {\"standoff\": 15}, \"zerolinecolor\": \"white\", \"zerolinewidth\": 2}, \"yaxis\": {\"automargin\": true, \"gridcolor\": \"white\", \"linecolor\": \"white\", \"ticks\": \"\", \"title\": {\"standoff\": 15}, \"zerolinecolor\": \"white\", \"zerolinewidth\": 2}}}, \"xaxis\": {\"anchor\": \"y\", \"domain\": [0.0, 1.0], \"title\": {\"text\": \"winpct\"}}, \"yaxis\": {\"anchor\": \"x\", \"domain\": [0.0, 1.0], \"title\": {\"text\": \"Net Yards Per Play\"}}},                        {\"responsive\": true}                    ).then(function(){\n",
       "                            \n",
       "var gd = document.getElementById('51d22861-45ae-451e-9f22-debe91031f32');\n",
       "var x = new MutationObserver(function (mutations, observer) {{\n",
       "        var display = window.getComputedStyle(gd).display;\n",
       "        if (!display || display === 'none') {{\n",
       "            console.log([gd, 'removed!']);\n",
       "            Plotly.purge(gd);\n",
       "            observer.disconnect();\n",
       "        }}\n",
       "}});\n",
       "\n",
       "// Listen for the removal of the full notebook cells\n",
       "var notebookContainer = gd.closest('#notebook-container');\n",
       "if (notebookContainer) {{\n",
       "    x.observe(notebookContainer, {childList: true});\n",
       "}}\n",
       "\n",
       "// Listen for the clearing of the current output cell\n",
       "var outputEl = gd.closest('.output');\n",
       "if (outputEl) {{\n",
       "    x.observe(outputEl, {childList: true});\n",
       "}}\n",
       "\n",
       "                        })                };                });            </script>        </div>"
      ]
     },
     "metadata": {},
     "output_type": "display_data"
    }
   ],
   "source": [
    "#!pip install plotly \n",
    "import plotly.express as px\n",
    "\n",
    "fig = px.scatter(df19, x =\"winpct\", y = \"Net Yards Per Play\", color = \"Conference\",   \n",
    "                #category_orders={\"AAC\", \"ACC\", \"Big 12\", \"Big Ten\", \"C-USA\", \"FBS Independent\", \"MAC\", \"Mountain West\", \"MWC\", \"Pac-12\", \"SEC\", \"Sun Belt\"},  \n",
    "                hover_data = {'Team':True,\n",
    "                               'Season': True,\n",
    "                               'winpct':False, #Removes WinPct from Tooltip\n",
    "                               'Conference':False,\n",
    "                               'Net Yards Per Play':':.1f'\n",
    "                                \n",
    "                              },\n",
    "                 color_discrete_sequence=[\"red\", \"green\", \"blue\", \"goldenrod\", \"magenta\"]\n",
    "                )\n",
    "#Vertical Line to show .500 Winning Percentage\n",
    "fig.add_shape(type=\"line\", x0=.5, y0=-4, x1=.5, y1=4,\n",
    "    line=dict(color=\"black\",width=2))\n",
    "#Horizontal Line to Show +,- NYPP\n",
    "fig.add_shape(type=\"line\", x0=0, y0=0, x1=1, y1=0,\n",
    "    line=dict(color=\"black\",width=2))\n",
    "\n",
    "#Formats the Tooltip\n",
    "fig.update_layout(\n",
    "    hoverlabel=dict(\n",
    "        bgcolor=\"white\",\n",
    "        font_size=14,\n",
    "        font_family=\"Arial\"\n",
    "    )\n",
    ")\n",
    "\n",
    "fig.show()"
   ]
  },
  {
   "cell_type": "code",
   "execution_count": 63,
   "metadata": {},
   "outputs": [
    {
     "data": {
      "application/vnd.plotly.v1+json": {
       "config": {
        "plotlyServerURL": "https://plot.ly"
       },
       "data": [
        {
         "customdata": [
          [
           "Cincinnati",
           2019,
           "AAC"
          ],
          [
           "East Carolina",
           2019,
           "AAC"
          ],
          [
           "Houston",
           2019,
           "AAC"
          ],
          [
           "Memphis",
           2019,
           "AAC"
          ],
          [
           "Navy",
           2019,
           "AAC"
          ],
          [
           "SMU",
           2019,
           "AAC"
          ],
          [
           "South Fla.",
           2019,
           "AAC"
          ],
          [
           "Temple",
           2019,
           "AAC"
          ],
          [
           "Tulane",
           2019,
           "AAC"
          ],
          [
           "Tulsa",
           2019,
           "AAC"
          ],
          [
           "UCF",
           2019,
           "AAC"
          ],
          [
           "UConn",
           2019,
           "AAC"
          ]
         ],
         "hovertemplate": "Net Yards Per Play=%{y:.1f}<br>Team=%{customdata[0]}<br>Season=%{customdata[1]}<extra></extra>",
         "legendgroup": "AAC",
         "marker": {
          "color": "#636efa",
          "symbol": "circle"
         },
         "mode": "markers",
         "name": "AAC",
         "orientation": "v",
         "showlegend": true,
         "type": "scatter",
         "x": [
          0.7857142857142857,
          0.3333333333333333,
          0.3333333333333333,
          0.8571428571428571,
          0.8461538461538461,
          0.7692307692307693,
          0.3333333333333333,
          0.6153846153846154,
          0.5384615384615384,
          0.3333333333333333,
          0.7692307692307693,
          0.16666666666666666
         ],
         "xaxis": "x",
         "y": [
          0.3700000000000001,
          -0.7799999999999994,
          -0.79,
          1.4799999999999995,
          1.5,
          0.3799999999999999,
          -0.25,
          0.4300000000000006,
          0.6699999999999999,
          -0.34999999999999964,
          2.3499999999999996,
          -1.8899999999999997
         ],
         "yaxis": "y"
        },
        {
         "customdata": [
          [
           "Boston College",
           2019,
           "ACC"
          ],
          [
           "Clemson",
           2019,
           "ACC"
          ],
          [
           "Duke",
           2019,
           "ACC"
          ],
          [
           "Florida St.",
           2019,
           "ACC"
          ],
          [
           "Georgia Tech",
           2019,
           "ACC"
          ],
          [
           "Louisville",
           2019,
           "ACC"
          ],
          [
           "Miami (FL)",
           2019,
           "ACC"
          ],
          [
           "NC State",
           2019,
           "ACC"
          ],
          [
           "North Carolina",
           2019,
           "ACC"
          ],
          [
           "Pittsburgh",
           2019,
           "ACC"
          ],
          [
           "Syracuse",
           2019,
           "ACC"
          ],
          [
           "Virginia",
           2019,
           "ACC"
          ],
          [
           "Virginia Tech",
           2019,
           "ACC"
          ],
          [
           "Wake Forest",
           2019,
           "ACC"
          ]
         ],
         "hovertemplate": "Net Yards Per Play=%{y:.1f}<br>Team=%{customdata[0]}<br>Season=%{customdata[1]}<extra></extra>",
         "legendgroup": "ACC",
         "marker": {
          "color": "#EF553B",
          "symbol": "circle"
         },
         "mode": "markers",
         "name": "ACC",
         "orientation": "v",
         "showlegend": true,
         "type": "scatter",
         "x": [
          0.46153846153846156,
          0.9333333333333333,
          0.4166666666666667,
          0.46153846153846156,
          0.25,
          0.6153846153846154,
          0.46153846153846156,
          0.3333333333333333,
          0.5384615384615384,
          0.6153846153846154,
          0.4166666666666667,
          0.6428571428571429,
          0.6153846153846154,
          0.6153846153846154
         ],
         "xaxis": "x",
         "y": [
          -0.54,
          2.92,
          -0.8199999999999994,
          0.5300000000000002,
          -1.04,
          0.34999999999999964,
          0.9199999999999999,
          -0.41000000000000014,
          1,
          0.6799999999999997,
          -0.8600000000000003,
          -0.08999999999999986,
          0.41000000000000014,
          -0.0600000000000005
         ],
         "yaxis": "y"
        },
        {
         "customdata": [
          [
           "Baylor",
           2019,
           "Big 12"
          ],
          [
           "Iowa St.",
           2019,
           "Big 12"
          ],
          [
           "Kansas",
           2019,
           "Big 12"
          ],
          [
           "Kansas St.",
           2019,
           "Big 12"
          ],
          [
           "Oklahoma",
           2019,
           "Big 12"
          ],
          [
           "Oklahoma St.",
           2019,
           "Big 12"
          ],
          [
           "TCU",
           2019,
           "Big 12"
          ],
          [
           "Texas",
           2019,
           "Big 12"
          ],
          [
           "Texas Tech",
           2019,
           "Big 12"
          ],
          [
           "West Virginia",
           2019,
           "Big 12"
          ]
         ],
         "hovertemplate": "Net Yards Per Play=%{y:.1f}<br>Team=%{customdata[0]}<br>Season=%{customdata[1]}<extra></extra>",
         "legendgroup": "Big 12",
         "marker": {
          "color": "#00cc96",
          "symbol": "circle"
         },
         "mode": "markers",
         "name": "Big 12",
         "orientation": "v",
         "showlegend": true,
         "type": "scatter",
         "x": [
          0.7857142857142857,
          0.5384615384615384,
          0.25,
          0.6153846153846154,
          0.8571428571428571,
          0.6153846153846154,
          0.4166666666666667,
          0.6153846153846154,
          0.3333333333333333,
          0.4166666666666667
         ],
         "xaxis": "x",
         "y": [
          1.33,
          1.0899999999999999,
          -0.29000000000000004,
          -0.6200000000000001,
          2.33,
          0.5999999999999996,
          0.15000000000000036,
          0.2599999999999998,
          -0.5,
          -0.5800000000000001
         ],
         "yaxis": "y"
        },
        {
         "customdata": [
          [
           "Illinois",
           2019,
           "Big Ten"
          ],
          [
           "Indiana",
           2019,
           "Big Ten"
          ],
          [
           "Iowa",
           2019,
           "Big Ten"
          ],
          [
           "Maryland",
           2019,
           "Big Ten"
          ],
          [
           "Michigan",
           2019,
           "Big Ten"
          ],
          [
           "Michigan St.",
           2019,
           "Big Ten"
          ],
          [
           "Minnesota",
           2019,
           "Big Ten"
          ],
          [
           "Nebraska",
           2019,
           "Big Ten"
          ],
          [
           "Northwestern",
           2019,
           "Big Ten"
          ],
          [
           "Ohio St.",
           2019,
           "Big Ten"
          ],
          [
           "Penn St.",
           2019,
           "Big Ten"
          ],
          [
           "Purdue",
           2019,
           "Big Ten"
          ],
          [
           "Rutgers",
           2019,
           "Big Ten"
          ],
          [
           "Wisconsin",
           2019,
           "Big Ten"
          ]
         ],
         "hovertemplate": "Net Yards Per Play=%{y:.1f}<br>Team=%{customdata[0]}<br>Season=%{customdata[1]}<extra></extra>",
         "legendgroup": "Big Ten",
         "marker": {
          "color": "#ab63fa",
          "symbol": "circle"
         },
         "mode": "markers",
         "name": "Big Ten",
         "orientation": "v",
         "showlegend": true,
         "type": "scatter",
         "x": [
          0.46153846153846156,
          0.6153846153846154,
          0.7692307692307693,
          0.25,
          0.6923076923076923,
          0.5384615384615384,
          0.8461538461538461,
          0.4166666666666667,
          0.25,
          0.9285714285714286,
          0.8461538461538461,
          0.3333333333333333,
          0.16666666666666666,
          0.7142857142857143
         ],
         "xaxis": "x",
         "y": [
          -0.5999999999999996,
          0.6200000000000001,
          0.7199999999999998,
          -0.5800000000000001,
          1.0499999999999998,
          0.23000000000000043,
          1.3000000000000007,
          0.14999999999999947,
          -0.8299999999999992,
          2.8100000000000005,
          1.2299999999999995,
          -0.5499999999999998,
          -1.7599999999999998,
          1.5099999999999998
         ],
         "yaxis": "y"
        },
        {
         "customdata": [
          [
           "Charlotte",
           2019,
           "C-USA"
          ],
          [
           "FIU",
           2019,
           "C-USA"
          ],
          [
           "Fla. Atlantic",
           2019,
           "C-USA"
          ],
          [
           "Louisiana Tech",
           2019,
           "C-USA"
          ],
          [
           "Marshall",
           2019,
           "C-USA"
          ],
          [
           "Middle Tenn.",
           2019,
           "C-USA"
          ],
          [
           "North Texas",
           2019,
           "C-USA"
          ],
          [
           "Old Dominion",
           2019,
           "C-USA"
          ],
          [
           "Rice",
           2019,
           "C-USA"
          ],
          [
           "Southern Miss.",
           2019,
           "C-USA"
          ],
          [
           "UAB",
           2019,
           "C-USA"
          ],
          [
           "UTEP",
           2019,
           "C-USA"
          ],
          [
           "UTSA",
           2019,
           "C-USA"
          ],
          [
           "Western Ky.",
           2019,
           "C-USA"
          ]
         ],
         "hovertemplate": "Net Yards Per Play=%{y:.1f}<br>Team=%{customdata[0]}<br>Season=%{customdata[1]}<extra></extra>",
         "legendgroup": "C-USA",
         "marker": {
          "color": "#FFA15A",
          "symbol": "circle"
         },
         "mode": "markers",
         "name": "C-USA",
         "orientation": "v",
         "showlegend": true,
         "type": "scatter",
         "x": [
          0.5384615384615384,
          0.46153846153846156,
          0.7857142857142857,
          0.7692307692307693,
          0.6153846153846154,
          0.3333333333333333,
          0.3333333333333333,
          0.08333333333333333,
          0.25,
          0.5384615384615384,
          0.6428571428571429,
          0.08333333333333333,
          0.3333333333333333,
          0.6923076923076923
         ],
         "xaxis": "x",
         "y": [
          0.33999999999999986,
          -0.11000000000000032,
          0.6100000000000003,
          0.8700000000000001,
          0.22999999999999954,
          0.15000000000000036,
          0.17999999999999972,
          -1.6000000000000005,
          -1.2799999999999994,
          0.3600000000000003,
          0.79,
          -1.62,
          -1.4699999999999998,
          0.3799999999999999
         ],
         "yaxis": "y"
        },
        {
         "customdata": [
          [
           "Army West Point",
           2019,
           "FBS Independent"
          ],
          [
           "BYU",
           2019,
           "FBS Independent"
          ],
          [
           "Liberty",
           2019,
           "FBS Independent"
          ],
          [
           "Massachusetts",
           2019,
           "FBS Independent"
          ],
          [
           "New Mexico St.",
           2019,
           "FBS Independent"
          ],
          [
           "Notre Dame",
           2019,
           "FBS Independent"
          ]
         ],
         "hovertemplate": "Net Yards Per Play=%{y:.1f}<br>Team=%{customdata[0]}<br>Season=%{customdata[1]}<extra></extra>",
         "legendgroup": "FBS Independent",
         "marker": {
          "color": "#19d3f3",
          "symbol": "circle"
         },
         "mode": "markers",
         "name": "FBS Independent",
         "orientation": "v",
         "showlegend": true,
         "type": "scatter",
         "x": [
          0.38461538461538464,
          0.5384615384615384,
          0.6153846153846154,
          0.08333333333333333,
          0.16666666666666666,
          0.8461538461538461
         ],
         "xaxis": "x",
         "y": [
          0.03000000000000025,
          0.5800000000000001,
          0.7000000000000002,
          -3.4899999999999993,
          -1.37,
          1.6500000000000004
         ],
         "yaxis": "y"
        },
        {
         "customdata": [
          [
           "Akron",
           2019,
           "MAC"
          ],
          [
           "Ball St.",
           2019,
           "MAC"
          ],
          [
           "Bowling Green",
           2019,
           "MAC"
          ],
          [
           "Buffalo",
           2019,
           "MAC"
          ],
          [
           "Central Mich.",
           2019,
           "MAC"
          ],
          [
           "Eastern Mich.",
           2019,
           "MAC"
          ],
          [
           "Kent St.",
           2019,
           "MAC"
          ],
          [
           "Miami (OH)",
           2019,
           "MAC"
          ],
          [
           "Northern Ill.",
           2019,
           "MAC"
          ],
          [
           "Ohio",
           2019,
           "MAC"
          ],
          [
           "Toledo",
           2019,
           "MAC"
          ],
          [
           "Western Mich.",
           2019,
           "MAC"
          ]
         ],
         "hovertemplate": "Net Yards Per Play=%{y:.1f}<br>Team=%{customdata[0]}<br>Season=%{customdata[1]}<extra></extra>",
         "legendgroup": "MAC",
         "marker": {
          "color": "#FF6692",
          "symbol": "circle"
         },
         "mode": "markers",
         "name": "MAC",
         "orientation": "v",
         "showlegend": true,
         "type": "scatter",
         "x": [
          0,
          0.4166666666666667,
          0.25,
          0.6153846153846154,
          0.5714285714285714,
          0.46153846153846156,
          0.5384615384615384,
          0.5714285714285714,
          0.4166666666666667,
          0.5384615384615384,
          0.5,
          0.5384615384615384
         ],
         "xaxis": "x",
         "y": [
          -1.6800000000000006,
          0.29000000000000004,
          -2.4700000000000006,
          0.5199999999999996,
          0.6600000000000001,
          -0.10000000000000053,
          -0.4900000000000002,
          -0.2999999999999998,
          -0.8600000000000003,
          0.7299999999999995,
          -0.5300000000000002,
          0.4800000000000004
         ],
         "yaxis": "y"
        },
        {
         "customdata": [
          [
           "Air Force",
           2019,
           "Mountain West"
          ],
          [
           "Boise St.",
           2019,
           "Mountain West"
          ],
          [
           "Colorado St.",
           2019,
           "Mountain West"
          ],
          [
           "Fresno St.",
           2019,
           "Mountain West"
          ],
          [
           "Hawaii",
           2019,
           "Mountain West"
          ],
          [
           "Nevada",
           2019,
           "Mountain West"
          ],
          [
           "New Mexico",
           2019,
           "Mountain West"
          ],
          [
           "San Diego St.",
           2019,
           "Mountain West"
          ],
          [
           "San Jose St.",
           2019,
           "Mountain West"
          ],
          [
           "UNLV",
           2019,
           "Mountain West"
          ],
          [
           "Utah St.",
           2019,
           "Mountain West"
          ],
          [
           "Wyoming",
           2019,
           "Mountain West"
          ]
         ],
         "hovertemplate": "Net Yards Per Play=%{y:.1f}<br>Team=%{customdata[0]}<br>Season=%{customdata[1]}<extra></extra>",
         "legendgroup": "Mountain West",
         "marker": {
          "color": "#B6E880",
          "symbol": "circle"
         },
         "mode": "markers",
         "name": "Mountain West",
         "orientation": "v",
         "showlegend": true,
         "type": "scatter",
         "x": [
          0.8461538461538461,
          0.8571428571428571,
          0.3333333333333333,
          0.3333333333333333,
          0.6666666666666666,
          0.5384615384615384,
          0.16666666666666666,
          0.7692307692307693,
          0.4166666666666667,
          0.3333333333333333,
          0.5384615384615384,
          0.6153846153846154
         ],
         "xaxis": "x",
         "y": [
          0.6899999999999995,
          0.8300000000000001,
          0.6600000000000001,
          0.3099999999999996,
          0.40000000000000036,
          -1.0500000000000007,
          -0.9400000000000004,
          0.1299999999999999,
          0.5700000000000003,
          -0.8499999999999996,
          0.16999999999999993,
          0.45999999999999996
         ],
         "yaxis": "y"
        },
        {
         "customdata": [
          [
           "Arizona",
           2019,
           "Pac-12"
          ],
          [
           "Arizona St.",
           2019,
           "Pac-12"
          ],
          [
           "California",
           2019,
           "Pac-12"
          ],
          [
           "Colorado",
           2019,
           "Pac-12"
          ],
          [
           "Oregon",
           2019,
           "Pac-12"
          ],
          [
           "Oregon St.",
           2019,
           "Pac-12"
          ],
          [
           "Southern California",
           2019,
           "Pac-12"
          ],
          [
           "Stanford",
           2019,
           "Pac-12"
          ],
          [
           "UCLA",
           2019,
           "Pac-12"
          ],
          [
           "Utah",
           2019,
           "Pac-12"
          ],
          [
           "Washington",
           2019,
           "Pac-12"
          ],
          [
           "Washington St.",
           2019,
           "Pac-12"
          ]
         ],
         "hovertemplate": "Net Yards Per Play=%{y:.1f}<br>Team=%{customdata[0]}<br>Season=%{customdata[1]}<extra></extra>",
         "legendgroup": "Pac-12",
         "marker": {
          "color": "#FF97FF",
          "symbol": "circle"
         },
         "mode": "markers",
         "name": "Pac-12",
         "orientation": "v",
         "showlegend": true,
         "type": "scatter",
         "x": [
          0.3333333333333333,
          0.6153846153846154,
          0.6153846153846154,
          0.4166666666666667,
          0.8571428571428571,
          0.4166666666666667,
          0.6153846153846154,
          0.3333333333333333,
          0.3333333333333333,
          0.7857142857142857,
          0.6153846153846154,
          0.46153846153846156
         ],
         "xaxis": "x",
         "y": [
          -0.3100000000000005,
          0.23000000000000043,
          -0.29000000000000004,
          -1.0099999999999998,
          1.6099999999999994,
          -0.09999999999999964,
          0.7899999999999991,
          -0.71,
          -1.4000000000000004,
          1.9500000000000002,
          0.7199999999999998,
          0.5
         ],
         "yaxis": "y"
        },
        {
         "customdata": [
          [
           "Alabama",
           2019,
           "SEC"
          ],
          [
           "Arkansas",
           2019,
           "SEC"
          ],
          [
           "Auburn",
           2019,
           "SEC"
          ],
          [
           "Florida",
           2019,
           "SEC"
          ],
          [
           "Georgia",
           2019,
           "SEC"
          ],
          [
           "Kentucky",
           2019,
           "SEC"
          ],
          [
           "LSU",
           2019,
           "SEC"
          ],
          [
           "Mississippi St.",
           2019,
           "SEC"
          ],
          [
           "Missouri",
           2019,
           "SEC"
          ],
          [
           "Ole Miss",
           2019,
           "SEC"
          ],
          [
           "South Carolina",
           2019,
           "SEC"
          ],
          [
           "Tennessee",
           2019,
           "SEC"
          ],
          [
           "Texas A&M",
           2019,
           "SEC"
          ],
          [
           "Vanderbilt",
           2019,
           "SEC"
          ]
         ],
         "hovertemplate": "Net Yards Per Play=%{y:.1f}<br>Team=%{customdata[0]}<br>Season=%{customdata[1]}<extra></extra>",
         "legendgroup": "SEC",
         "marker": {
          "color": "#FECB52",
          "symbol": "circle"
         },
         "mode": "markers",
         "name": "SEC",
         "orientation": "v",
         "showlegend": true,
         "type": "scatter",
         "x": [
          0.8461538461538461,
          0.16666666666666666,
          0.6923076923076923,
          0.8461538461538461,
          0.8571428571428571,
          0.6153846153846154,
          1,
          0.46153846153846156,
          0.5,
          0.3333333333333333,
          0.3333333333333333,
          0.6153846153846154,
          0.6153846153846154,
          0.25
         ],
         "xaxis": "x",
         "y": [
          3.08,
          -1.33,
          0.7400000000000002,
          1.5699999999999994,
          1.79,
          0.8500000000000005,
          2.7799999999999994,
          -0.13999999999999968,
          0.40999999999999925,
          0.17999999999999972,
          -0.35000000000000053,
          0.7800000000000002,
          0.5700000000000003,
          -1.7400000000000002
         ],
         "yaxis": "y"
        },
        {
         "customdata": [
          [
           "Appalachian St.",
           2019,
           "Sun Belt"
          ],
          [
           "Arkansas St.",
           2019,
           "Sun Belt"
          ],
          [
           "Coastal Carolina",
           2019,
           "Sun Belt"
          ],
          [
           "Ga. Southern",
           2019,
           "Sun Belt"
          ],
          [
           "Georgia St.",
           2019,
           "Sun Belt"
          ],
          [
           "La.-Monroe",
           2019,
           "Sun Belt"
          ],
          [
           "Louisiana",
           2019,
           "Sun Belt"
          ],
          [
           "South Alabama",
           2019,
           "Sun Belt"
          ],
          [
           "Texas St.",
           2019,
           "Sun Belt"
          ],
          [
           "Troy",
           2019,
           "Sun Belt"
          ]
         ],
         "hovertemplate": "Net Yards Per Play=%{y:.1f}<br>Team=%{customdata[0]}<br>Season=%{customdata[1]}<extra></extra>",
         "legendgroup": "Sun Belt",
         "marker": {
          "color": "#636efa",
          "symbol": "circle"
         },
         "mode": "markers",
         "name": "Sun Belt",
         "orientation": "v",
         "showlegend": true,
         "type": "scatter",
         "x": [
          0.9285714285714286,
          0.6153846153846154,
          0.4166666666666667,
          0.5384615384615384,
          0.5384615384615384,
          0.4166666666666667,
          0.7857142857142857,
          0.16666666666666666,
          0.25,
          0.4166666666666667
         ],
         "xaxis": "x",
         "y": [
          1.25,
          0.05999999999999961,
          -0.5199999999999996,
          -0.46999999999999975,
          -0.8499999999999996,
          -0.33999999999999986,
          1.5599999999999996,
          -0.7599999999999998,
          -0.75,
          -0.07000000000000028
         ],
         "yaxis": "y"
        }
       ],
       "layout": {
        "hoverlabel": {
         "bgcolor": "white",
         "font": {
          "family": "Arial",
          "size": 14
         }
        },
        "legend": {
         "title": {
          "text": "Conference"
         },
         "tracegroupgap": 0
        },
        "margin": {
         "t": 60
        },
        "shapes": [
         {
          "line": {
           "color": "black",
           "width": 2
          },
          "type": "line",
          "x0": 0.5,
          "x1": 0.5,
          "y0": -4,
          "y1": 4
         },
         {
          "line": {
           "color": "black",
           "width": 2
          },
          "type": "line",
          "x0": 0,
          "x1": 1,
          "y0": 0,
          "y1": 0
         }
        ],
        "template": {
         "data": {
          "bar": [
           {
            "error_x": {
             "color": "#2a3f5f"
            },
            "error_y": {
             "color": "#2a3f5f"
            },
            "marker": {
             "line": {
              "color": "#E5ECF6",
              "width": 0.5
             }
            },
            "type": "bar"
           }
          ],
          "barpolar": [
           {
            "marker": {
             "line": {
              "color": "#E5ECF6",
              "width": 0.5
             }
            },
            "type": "barpolar"
           }
          ],
          "carpet": [
           {
            "aaxis": {
             "endlinecolor": "#2a3f5f",
             "gridcolor": "white",
             "linecolor": "white",
             "minorgridcolor": "white",
             "startlinecolor": "#2a3f5f"
            },
            "baxis": {
             "endlinecolor": "#2a3f5f",
             "gridcolor": "white",
             "linecolor": "white",
             "minorgridcolor": "white",
             "startlinecolor": "#2a3f5f"
            },
            "type": "carpet"
           }
          ],
          "choropleth": [
           {
            "colorbar": {
             "outlinewidth": 0,
             "ticks": ""
            },
            "type": "choropleth"
           }
          ],
          "contour": [
           {
            "colorbar": {
             "outlinewidth": 0,
             "ticks": ""
            },
            "colorscale": [
             [
              0,
              "#0d0887"
             ],
             [
              0.1111111111111111,
              "#46039f"
             ],
             [
              0.2222222222222222,
              "#7201a8"
             ],
             [
              0.3333333333333333,
              "#9c179e"
             ],
             [
              0.4444444444444444,
              "#bd3786"
             ],
             [
              0.5555555555555556,
              "#d8576b"
             ],
             [
              0.6666666666666666,
              "#ed7953"
             ],
             [
              0.7777777777777778,
              "#fb9f3a"
             ],
             [
              0.8888888888888888,
              "#fdca26"
             ],
             [
              1,
              "#f0f921"
             ]
            ],
            "type": "contour"
           }
          ],
          "contourcarpet": [
           {
            "colorbar": {
             "outlinewidth": 0,
             "ticks": ""
            },
            "type": "contourcarpet"
           }
          ],
          "heatmap": [
           {
            "colorbar": {
             "outlinewidth": 0,
             "ticks": ""
            },
            "colorscale": [
             [
              0,
              "#0d0887"
             ],
             [
              0.1111111111111111,
              "#46039f"
             ],
             [
              0.2222222222222222,
              "#7201a8"
             ],
             [
              0.3333333333333333,
              "#9c179e"
             ],
             [
              0.4444444444444444,
              "#bd3786"
             ],
             [
              0.5555555555555556,
              "#d8576b"
             ],
             [
              0.6666666666666666,
              "#ed7953"
             ],
             [
              0.7777777777777778,
              "#fb9f3a"
             ],
             [
              0.8888888888888888,
              "#fdca26"
             ],
             [
              1,
              "#f0f921"
             ]
            ],
            "type": "heatmap"
           }
          ],
          "heatmapgl": [
           {
            "colorbar": {
             "outlinewidth": 0,
             "ticks": ""
            },
            "colorscale": [
             [
              0,
              "#0d0887"
             ],
             [
              0.1111111111111111,
              "#46039f"
             ],
             [
              0.2222222222222222,
              "#7201a8"
             ],
             [
              0.3333333333333333,
              "#9c179e"
             ],
             [
              0.4444444444444444,
              "#bd3786"
             ],
             [
              0.5555555555555556,
              "#d8576b"
             ],
             [
              0.6666666666666666,
              "#ed7953"
             ],
             [
              0.7777777777777778,
              "#fb9f3a"
             ],
             [
              0.8888888888888888,
              "#fdca26"
             ],
             [
              1,
              "#f0f921"
             ]
            ],
            "type": "heatmapgl"
           }
          ],
          "histogram": [
           {
            "marker": {
             "colorbar": {
              "outlinewidth": 0,
              "ticks": ""
             }
            },
            "type": "histogram"
           }
          ],
          "histogram2d": [
           {
            "colorbar": {
             "outlinewidth": 0,
             "ticks": ""
            },
            "colorscale": [
             [
              0,
              "#0d0887"
             ],
             [
              0.1111111111111111,
              "#46039f"
             ],
             [
              0.2222222222222222,
              "#7201a8"
             ],
             [
              0.3333333333333333,
              "#9c179e"
             ],
             [
              0.4444444444444444,
              "#bd3786"
             ],
             [
              0.5555555555555556,
              "#d8576b"
             ],
             [
              0.6666666666666666,
              "#ed7953"
             ],
             [
              0.7777777777777778,
              "#fb9f3a"
             ],
             [
              0.8888888888888888,
              "#fdca26"
             ],
             [
              1,
              "#f0f921"
             ]
            ],
            "type": "histogram2d"
           }
          ],
          "histogram2dcontour": [
           {
            "colorbar": {
             "outlinewidth": 0,
             "ticks": ""
            },
            "colorscale": [
             [
              0,
              "#0d0887"
             ],
             [
              0.1111111111111111,
              "#46039f"
             ],
             [
              0.2222222222222222,
              "#7201a8"
             ],
             [
              0.3333333333333333,
              "#9c179e"
             ],
             [
              0.4444444444444444,
              "#bd3786"
             ],
             [
              0.5555555555555556,
              "#d8576b"
             ],
             [
              0.6666666666666666,
              "#ed7953"
             ],
             [
              0.7777777777777778,
              "#fb9f3a"
             ],
             [
              0.8888888888888888,
              "#fdca26"
             ],
             [
              1,
              "#f0f921"
             ]
            ],
            "type": "histogram2dcontour"
           }
          ],
          "mesh3d": [
           {
            "colorbar": {
             "outlinewidth": 0,
             "ticks": ""
            },
            "type": "mesh3d"
           }
          ],
          "parcoords": [
           {
            "line": {
             "colorbar": {
              "outlinewidth": 0,
              "ticks": ""
             }
            },
            "type": "parcoords"
           }
          ],
          "pie": [
           {
            "automargin": true,
            "type": "pie"
           }
          ],
          "scatter": [
           {
            "marker": {
             "colorbar": {
              "outlinewidth": 0,
              "ticks": ""
             }
            },
            "type": "scatter"
           }
          ],
          "scatter3d": [
           {
            "line": {
             "colorbar": {
              "outlinewidth": 0,
              "ticks": ""
             }
            },
            "marker": {
             "colorbar": {
              "outlinewidth": 0,
              "ticks": ""
             }
            },
            "type": "scatter3d"
           }
          ],
          "scattercarpet": [
           {
            "marker": {
             "colorbar": {
              "outlinewidth": 0,
              "ticks": ""
             }
            },
            "type": "scattercarpet"
           }
          ],
          "scattergeo": [
           {
            "marker": {
             "colorbar": {
              "outlinewidth": 0,
              "ticks": ""
             }
            },
            "type": "scattergeo"
           }
          ],
          "scattergl": [
           {
            "marker": {
             "colorbar": {
              "outlinewidth": 0,
              "ticks": ""
             }
            },
            "type": "scattergl"
           }
          ],
          "scattermapbox": [
           {
            "marker": {
             "colorbar": {
              "outlinewidth": 0,
              "ticks": ""
             }
            },
            "type": "scattermapbox"
           }
          ],
          "scatterpolar": [
           {
            "marker": {
             "colorbar": {
              "outlinewidth": 0,
              "ticks": ""
             }
            },
            "type": "scatterpolar"
           }
          ],
          "scatterpolargl": [
           {
            "marker": {
             "colorbar": {
              "outlinewidth": 0,
              "ticks": ""
             }
            },
            "type": "scatterpolargl"
           }
          ],
          "scatterternary": [
           {
            "marker": {
             "colorbar": {
              "outlinewidth": 0,
              "ticks": ""
             }
            },
            "type": "scatterternary"
           }
          ],
          "surface": [
           {
            "colorbar": {
             "outlinewidth": 0,
             "ticks": ""
            },
            "colorscale": [
             [
              0,
              "#0d0887"
             ],
             [
              0.1111111111111111,
              "#46039f"
             ],
             [
              0.2222222222222222,
              "#7201a8"
             ],
             [
              0.3333333333333333,
              "#9c179e"
             ],
             [
              0.4444444444444444,
              "#bd3786"
             ],
             [
              0.5555555555555556,
              "#d8576b"
             ],
             [
              0.6666666666666666,
              "#ed7953"
             ],
             [
              0.7777777777777778,
              "#fb9f3a"
             ],
             [
              0.8888888888888888,
              "#fdca26"
             ],
             [
              1,
              "#f0f921"
             ]
            ],
            "type": "surface"
           }
          ],
          "table": [
           {
            "cells": {
             "fill": {
              "color": "#EBF0F8"
             },
             "line": {
              "color": "white"
             }
            },
            "header": {
             "fill": {
              "color": "#C8D4E3"
             },
             "line": {
              "color": "white"
             }
            },
            "type": "table"
           }
          ]
         },
         "layout": {
          "annotationdefaults": {
           "arrowcolor": "#2a3f5f",
           "arrowhead": 0,
           "arrowwidth": 1
          },
          "autotypenumbers": "strict",
          "coloraxis": {
           "colorbar": {
            "outlinewidth": 0,
            "ticks": ""
           }
          },
          "colorscale": {
           "diverging": [
            [
             0,
             "#8e0152"
            ],
            [
             0.1,
             "#c51b7d"
            ],
            [
             0.2,
             "#de77ae"
            ],
            [
             0.3,
             "#f1b6da"
            ],
            [
             0.4,
             "#fde0ef"
            ],
            [
             0.5,
             "#f7f7f7"
            ],
            [
             0.6,
             "#e6f5d0"
            ],
            [
             0.7,
             "#b8e186"
            ],
            [
             0.8,
             "#7fbc41"
            ],
            [
             0.9,
             "#4d9221"
            ],
            [
             1,
             "#276419"
            ]
           ],
           "sequential": [
            [
             0,
             "#0d0887"
            ],
            [
             0.1111111111111111,
             "#46039f"
            ],
            [
             0.2222222222222222,
             "#7201a8"
            ],
            [
             0.3333333333333333,
             "#9c179e"
            ],
            [
             0.4444444444444444,
             "#bd3786"
            ],
            [
             0.5555555555555556,
             "#d8576b"
            ],
            [
             0.6666666666666666,
             "#ed7953"
            ],
            [
             0.7777777777777778,
             "#fb9f3a"
            ],
            [
             0.8888888888888888,
             "#fdca26"
            ],
            [
             1,
             "#f0f921"
            ]
           ],
           "sequentialminus": [
            [
             0,
             "#0d0887"
            ],
            [
             0.1111111111111111,
             "#46039f"
            ],
            [
             0.2222222222222222,
             "#7201a8"
            ],
            [
             0.3333333333333333,
             "#9c179e"
            ],
            [
             0.4444444444444444,
             "#bd3786"
            ],
            [
             0.5555555555555556,
             "#d8576b"
            ],
            [
             0.6666666666666666,
             "#ed7953"
            ],
            [
             0.7777777777777778,
             "#fb9f3a"
            ],
            [
             0.8888888888888888,
             "#fdca26"
            ],
            [
             1,
             "#f0f921"
            ]
           ]
          },
          "colorway": [
           "#636efa",
           "#EF553B",
           "#00cc96",
           "#ab63fa",
           "#FFA15A",
           "#19d3f3",
           "#FF6692",
           "#B6E880",
           "#FF97FF",
           "#FECB52"
          ],
          "font": {
           "color": "#2a3f5f"
          },
          "geo": {
           "bgcolor": "white",
           "lakecolor": "white",
           "landcolor": "#E5ECF6",
           "showlakes": true,
           "showland": true,
           "subunitcolor": "white"
          },
          "hoverlabel": {
           "align": "left"
          },
          "hovermode": "closest",
          "mapbox": {
           "style": "light"
          },
          "paper_bgcolor": "white",
          "plot_bgcolor": "#E5ECF6",
          "polar": {
           "angularaxis": {
            "gridcolor": "white",
            "linecolor": "white",
            "ticks": ""
           },
           "bgcolor": "#E5ECF6",
           "radialaxis": {
            "gridcolor": "white",
            "linecolor": "white",
            "ticks": ""
           }
          },
          "scene": {
           "xaxis": {
            "backgroundcolor": "#E5ECF6",
            "gridcolor": "white",
            "gridwidth": 2,
            "linecolor": "white",
            "showbackground": true,
            "ticks": "",
            "zerolinecolor": "white"
           },
           "yaxis": {
            "backgroundcolor": "#E5ECF6",
            "gridcolor": "white",
            "gridwidth": 2,
            "linecolor": "white",
            "showbackground": true,
            "ticks": "",
            "zerolinecolor": "white"
           },
           "zaxis": {
            "backgroundcolor": "#E5ECF6",
            "gridcolor": "white",
            "gridwidth": 2,
            "linecolor": "white",
            "showbackground": true,
            "ticks": "",
            "zerolinecolor": "white"
           }
          },
          "shapedefaults": {
           "line": {
            "color": "#2a3f5f"
           }
          },
          "ternary": {
           "aaxis": {
            "gridcolor": "white",
            "linecolor": "white",
            "ticks": ""
           },
           "baxis": {
            "gridcolor": "white",
            "linecolor": "white",
            "ticks": ""
           },
           "bgcolor": "#E5ECF6",
           "caxis": {
            "gridcolor": "white",
            "linecolor": "white",
            "ticks": ""
           }
          },
          "title": {
           "x": 0.05
          },
          "xaxis": {
           "automargin": true,
           "gridcolor": "white",
           "linecolor": "white",
           "ticks": "",
           "title": {
            "standoff": 15
           },
           "zerolinecolor": "white",
           "zerolinewidth": 2
          },
          "yaxis": {
           "automargin": true,
           "gridcolor": "white",
           "linecolor": "white",
           "ticks": "",
           "title": {
            "standoff": 15
           },
           "zerolinecolor": "white",
           "zerolinewidth": 2
          }
         }
        },
        "xaxis": {
         "anchor": "y",
         "domain": [
          0,
          1
         ],
         "title": {
          "text": "winpct"
         }
        },
        "yaxis": {
         "anchor": "x",
         "domain": [
          0,
          1
         ],
         "title": {
          "text": "Net Yards Per Play"
         }
        }
       }
      },
      "text/html": [
       "<div>                            <div id=\"3609dcde-eb63-4847-b234-0e61fb05d312\" class=\"plotly-graph-div\" style=\"height:525px; width:100%;\"></div>            <script type=\"text/javascript\">                require([\"plotly\"], function(Plotly) {                    window.PLOTLYENV=window.PLOTLYENV || {};                                    if (document.getElementById(\"3609dcde-eb63-4847-b234-0e61fb05d312\")) {                    Plotly.newPlot(                        \"3609dcde-eb63-4847-b234-0e61fb05d312\",                        [{\"customdata\": [[\"Cincinnati\", 2019, \"AAC\"], [\"East Carolina\", 2019, \"AAC\"], [\"Houston\", 2019, \"AAC\"], [\"Memphis\", 2019, \"AAC\"], [\"Navy\", 2019, \"AAC\"], [\"SMU\", 2019, \"AAC\"], [\"South Fla.\", 2019, \"AAC\"], [\"Temple\", 2019, \"AAC\"], [\"Tulane\", 2019, \"AAC\"], [\"Tulsa\", 2019, \"AAC\"], [\"UCF\", 2019, \"AAC\"], [\"UConn\", 2019, \"AAC\"]], \"hovertemplate\": \"Net Yards Per Play=%{y:.1f}<br>Team=%{customdata[0]}<br>Season=%{customdata[1]}<extra></extra>\", \"legendgroup\": \"AAC\", \"marker\": {\"color\": \"#636efa\", \"symbol\": \"circle\"}, \"mode\": \"markers\", \"name\": \"AAC\", \"orientation\": \"v\", \"showlegend\": true, \"type\": \"scatter\", \"x\": [0.7857142857142857, 0.3333333333333333, 0.3333333333333333, 0.8571428571428571, 0.8461538461538461, 0.7692307692307693, 0.3333333333333333, 0.6153846153846154, 0.5384615384615384, 0.3333333333333333, 0.7692307692307693, 0.16666666666666666], \"xaxis\": \"x\", \"y\": [0.3700000000000001, -0.7799999999999994, -0.79, 1.4799999999999995, 1.5, 0.3799999999999999, -0.25, 0.4300000000000006, 0.6699999999999999, -0.34999999999999964, 2.3499999999999996, -1.8899999999999997], \"yaxis\": \"y\"}, {\"customdata\": [[\"Boston College\", 2019, \"ACC\"], [\"Clemson\", 2019, \"ACC\"], [\"Duke\", 2019, \"ACC\"], [\"Florida St.\", 2019, \"ACC\"], [\"Georgia Tech\", 2019, \"ACC\"], [\"Louisville\", 2019, \"ACC\"], [\"Miami (FL)\", 2019, \"ACC\"], [\"NC State\", 2019, \"ACC\"], [\"North Carolina\", 2019, \"ACC\"], [\"Pittsburgh\", 2019, \"ACC\"], [\"Syracuse\", 2019, \"ACC\"], [\"Virginia\", 2019, \"ACC\"], [\"Virginia Tech\", 2019, \"ACC\"], [\"Wake Forest\", 2019, \"ACC\"]], \"hovertemplate\": \"Net Yards Per Play=%{y:.1f}<br>Team=%{customdata[0]}<br>Season=%{customdata[1]}<extra></extra>\", \"legendgroup\": \"ACC\", \"marker\": {\"color\": \"#EF553B\", \"symbol\": \"circle\"}, \"mode\": \"markers\", \"name\": \"ACC\", \"orientation\": \"v\", \"showlegend\": true, \"type\": \"scatter\", \"x\": [0.46153846153846156, 0.9333333333333333, 0.4166666666666667, 0.46153846153846156, 0.25, 0.6153846153846154, 0.46153846153846156, 0.3333333333333333, 0.5384615384615384, 0.6153846153846154, 0.4166666666666667, 0.6428571428571429, 0.6153846153846154, 0.6153846153846154], \"xaxis\": \"x\", \"y\": [-0.54, 2.92, -0.8199999999999994, 0.5300000000000002, -1.04, 0.34999999999999964, 0.9199999999999999, -0.41000000000000014, 1.0, 0.6799999999999997, -0.8600000000000003, -0.08999999999999986, 0.41000000000000014, -0.0600000000000005], \"yaxis\": \"y\"}, {\"customdata\": [[\"Baylor\", 2019, \"Big 12\"], [\"Iowa St.\", 2019, \"Big 12\"], [\"Kansas\", 2019, \"Big 12\"], [\"Kansas St.\", 2019, \"Big 12\"], [\"Oklahoma\", 2019, \"Big 12\"], [\"Oklahoma St.\", 2019, \"Big 12\"], [\"TCU\", 2019, \"Big 12\"], [\"Texas\", 2019, \"Big 12\"], [\"Texas Tech\", 2019, \"Big 12\"], [\"West Virginia\", 2019, \"Big 12\"]], \"hovertemplate\": \"Net Yards Per Play=%{y:.1f}<br>Team=%{customdata[0]}<br>Season=%{customdata[1]}<extra></extra>\", \"legendgroup\": \"Big 12\", \"marker\": {\"color\": \"#00cc96\", \"symbol\": \"circle\"}, \"mode\": \"markers\", \"name\": \"Big 12\", \"orientation\": \"v\", \"showlegend\": true, \"type\": \"scatter\", \"x\": [0.7857142857142857, 0.5384615384615384, 0.25, 0.6153846153846154, 0.8571428571428571, 0.6153846153846154, 0.4166666666666667, 0.6153846153846154, 0.3333333333333333, 0.4166666666666667], \"xaxis\": \"x\", \"y\": [1.33, 1.0899999999999999, -0.29000000000000004, -0.6200000000000001, 2.33, 0.5999999999999996, 0.15000000000000036, 0.2599999999999998, -0.5, -0.5800000000000001], \"yaxis\": \"y\"}, {\"customdata\": [[\"Illinois\", 2019, \"Big Ten\"], [\"Indiana\", 2019, \"Big Ten\"], [\"Iowa\", 2019, \"Big Ten\"], [\"Maryland\", 2019, \"Big Ten\"], [\"Michigan\", 2019, \"Big Ten\"], [\"Michigan St.\", 2019, \"Big Ten\"], [\"Minnesota\", 2019, \"Big Ten\"], [\"Nebraska\", 2019, \"Big Ten\"], [\"Northwestern\", 2019, \"Big Ten\"], [\"Ohio St.\", 2019, \"Big Ten\"], [\"Penn St.\", 2019, \"Big Ten\"], [\"Purdue\", 2019, \"Big Ten\"], [\"Rutgers\", 2019, \"Big Ten\"], [\"Wisconsin\", 2019, \"Big Ten\"]], \"hovertemplate\": \"Net Yards Per Play=%{y:.1f}<br>Team=%{customdata[0]}<br>Season=%{customdata[1]}<extra></extra>\", \"legendgroup\": \"Big Ten\", \"marker\": {\"color\": \"#ab63fa\", \"symbol\": \"circle\"}, \"mode\": \"markers\", \"name\": \"Big Ten\", \"orientation\": \"v\", \"showlegend\": true, \"type\": \"scatter\", \"x\": [0.46153846153846156, 0.6153846153846154, 0.7692307692307693, 0.25, 0.6923076923076923, 0.5384615384615384, 0.8461538461538461, 0.4166666666666667, 0.25, 0.9285714285714286, 0.8461538461538461, 0.3333333333333333, 0.16666666666666666, 0.7142857142857143], \"xaxis\": \"x\", \"y\": [-0.5999999999999996, 0.6200000000000001, 0.7199999999999998, -0.5800000000000001, 1.0499999999999998, 0.23000000000000043, 1.3000000000000007, 0.14999999999999947, -0.8299999999999992, 2.8100000000000005, 1.2299999999999995, -0.5499999999999998, -1.7599999999999998, 1.5099999999999998], \"yaxis\": \"y\"}, {\"customdata\": [[\"Charlotte\", 2019, \"C-USA\"], [\"FIU\", 2019, \"C-USA\"], [\"Fla. Atlantic\", 2019, \"C-USA\"], [\"Louisiana Tech\", 2019, \"C-USA\"], [\"Marshall\", 2019, \"C-USA\"], [\"Middle Tenn.\", 2019, \"C-USA\"], [\"North Texas\", 2019, \"C-USA\"], [\"Old Dominion\", 2019, \"C-USA\"], [\"Rice\", 2019, \"C-USA\"], [\"Southern Miss.\", 2019, \"C-USA\"], [\"UAB\", 2019, \"C-USA\"], [\"UTEP\", 2019, \"C-USA\"], [\"UTSA\", 2019, \"C-USA\"], [\"Western Ky.\", 2019, \"C-USA\"]], \"hovertemplate\": \"Net Yards Per Play=%{y:.1f}<br>Team=%{customdata[0]}<br>Season=%{customdata[1]}<extra></extra>\", \"legendgroup\": \"C-USA\", \"marker\": {\"color\": \"#FFA15A\", \"symbol\": \"circle\"}, \"mode\": \"markers\", \"name\": \"C-USA\", \"orientation\": \"v\", \"showlegend\": true, \"type\": \"scatter\", \"x\": [0.5384615384615384, 0.46153846153846156, 0.7857142857142857, 0.7692307692307693, 0.6153846153846154, 0.3333333333333333, 0.3333333333333333, 0.08333333333333333, 0.25, 0.5384615384615384, 0.6428571428571429, 0.08333333333333333, 0.3333333333333333, 0.6923076923076923], \"xaxis\": \"x\", \"y\": [0.33999999999999986, -0.11000000000000032, 0.6100000000000003, 0.8700000000000001, 0.22999999999999954, 0.15000000000000036, 0.17999999999999972, -1.6000000000000005, -1.2799999999999994, 0.3600000000000003, 0.79, -1.62, -1.4699999999999998, 0.3799999999999999], \"yaxis\": \"y\"}, {\"customdata\": [[\"Army West Point\", 2019, \"FBS Independent\"], [\"BYU\", 2019, \"FBS Independent\"], [\"Liberty\", 2019, \"FBS Independent\"], [\"Massachusetts\", 2019, \"FBS Independent\"], [\"New Mexico St.\", 2019, \"FBS Independent\"], [\"Notre Dame\", 2019, \"FBS Independent\"]], \"hovertemplate\": \"Net Yards Per Play=%{y:.1f}<br>Team=%{customdata[0]}<br>Season=%{customdata[1]}<extra></extra>\", \"legendgroup\": \"FBS Independent\", \"marker\": {\"color\": \"#19d3f3\", \"symbol\": \"circle\"}, \"mode\": \"markers\", \"name\": \"FBS Independent\", \"orientation\": \"v\", \"showlegend\": true, \"type\": \"scatter\", \"x\": [0.38461538461538464, 0.5384615384615384, 0.6153846153846154, 0.08333333333333333, 0.16666666666666666, 0.8461538461538461], \"xaxis\": \"x\", \"y\": [0.03000000000000025, 0.5800000000000001, 0.7000000000000002, -3.4899999999999993, -1.37, 1.6500000000000004], \"yaxis\": \"y\"}, {\"customdata\": [[\"Akron\", 2019, \"MAC\"], [\"Ball St.\", 2019, \"MAC\"], [\"Bowling Green\", 2019, \"MAC\"], [\"Buffalo\", 2019, \"MAC\"], [\"Central Mich.\", 2019, \"MAC\"], [\"Eastern Mich.\", 2019, \"MAC\"], [\"Kent St.\", 2019, \"MAC\"], [\"Miami (OH)\", 2019, \"MAC\"], [\"Northern Ill.\", 2019, \"MAC\"], [\"Ohio\", 2019, \"MAC\"], [\"Toledo\", 2019, \"MAC\"], [\"Western Mich.\", 2019, \"MAC\"]], \"hovertemplate\": \"Net Yards Per Play=%{y:.1f}<br>Team=%{customdata[0]}<br>Season=%{customdata[1]}<extra></extra>\", \"legendgroup\": \"MAC\", \"marker\": {\"color\": \"#FF6692\", \"symbol\": \"circle\"}, \"mode\": \"markers\", \"name\": \"MAC\", \"orientation\": \"v\", \"showlegend\": true, \"type\": \"scatter\", \"x\": [0.0, 0.4166666666666667, 0.25, 0.6153846153846154, 0.5714285714285714, 0.46153846153846156, 0.5384615384615384, 0.5714285714285714, 0.4166666666666667, 0.5384615384615384, 0.5, 0.5384615384615384], \"xaxis\": \"x\", \"y\": [-1.6800000000000006, 0.29000000000000004, -2.4700000000000006, 0.5199999999999996, 0.6600000000000001, -0.10000000000000053, -0.4900000000000002, -0.2999999999999998, -0.8600000000000003, 0.7299999999999995, -0.5300000000000002, 0.4800000000000004], \"yaxis\": \"y\"}, {\"customdata\": [[\"Air Force\", 2019, \"Mountain West\"], [\"Boise St.\", 2019, \"Mountain West\"], [\"Colorado St.\", 2019, \"Mountain West\"], [\"Fresno St.\", 2019, \"Mountain West\"], [\"Hawaii\", 2019, \"Mountain West\"], [\"Nevada\", 2019, \"Mountain West\"], [\"New Mexico\", 2019, \"Mountain West\"], [\"San Diego St.\", 2019, \"Mountain West\"], [\"San Jose St.\", 2019, \"Mountain West\"], [\"UNLV\", 2019, \"Mountain West\"], [\"Utah St.\", 2019, \"Mountain West\"], [\"Wyoming\", 2019, \"Mountain West\"]], \"hovertemplate\": \"Net Yards Per Play=%{y:.1f}<br>Team=%{customdata[0]}<br>Season=%{customdata[1]}<extra></extra>\", \"legendgroup\": \"Mountain West\", \"marker\": {\"color\": \"#B6E880\", \"symbol\": \"circle\"}, \"mode\": \"markers\", \"name\": \"Mountain West\", \"orientation\": \"v\", \"showlegend\": true, \"type\": \"scatter\", \"x\": [0.8461538461538461, 0.8571428571428571, 0.3333333333333333, 0.3333333333333333, 0.6666666666666666, 0.5384615384615384, 0.16666666666666666, 0.7692307692307693, 0.4166666666666667, 0.3333333333333333, 0.5384615384615384, 0.6153846153846154], \"xaxis\": \"x\", \"y\": [0.6899999999999995, 0.8300000000000001, 0.6600000000000001, 0.3099999999999996, 0.40000000000000036, -1.0500000000000007, -0.9400000000000004, 0.1299999999999999, 0.5700000000000003, -0.8499999999999996, 0.16999999999999993, 0.45999999999999996], \"yaxis\": \"y\"}, {\"customdata\": [[\"Arizona\", 2019, \"Pac-12\"], [\"Arizona St.\", 2019, \"Pac-12\"], [\"California\", 2019, \"Pac-12\"], [\"Colorado\", 2019, \"Pac-12\"], [\"Oregon\", 2019, \"Pac-12\"], [\"Oregon St.\", 2019, \"Pac-12\"], [\"Southern California\", 2019, \"Pac-12\"], [\"Stanford\", 2019, \"Pac-12\"], [\"UCLA\", 2019, \"Pac-12\"], [\"Utah\", 2019, \"Pac-12\"], [\"Washington\", 2019, \"Pac-12\"], [\"Washington St.\", 2019, \"Pac-12\"]], \"hovertemplate\": \"Net Yards Per Play=%{y:.1f}<br>Team=%{customdata[0]}<br>Season=%{customdata[1]}<extra></extra>\", \"legendgroup\": \"Pac-12\", \"marker\": {\"color\": \"#FF97FF\", \"symbol\": \"circle\"}, \"mode\": \"markers\", \"name\": \"Pac-12\", \"orientation\": \"v\", \"showlegend\": true, \"type\": \"scatter\", \"x\": [0.3333333333333333, 0.6153846153846154, 0.6153846153846154, 0.4166666666666667, 0.8571428571428571, 0.4166666666666667, 0.6153846153846154, 0.3333333333333333, 0.3333333333333333, 0.7857142857142857, 0.6153846153846154, 0.46153846153846156], \"xaxis\": \"x\", \"y\": [-0.3100000000000005, 0.23000000000000043, -0.29000000000000004, -1.0099999999999998, 1.6099999999999994, -0.09999999999999964, 0.7899999999999991, -0.71, -1.4000000000000004, 1.9500000000000002, 0.7199999999999998, 0.5], \"yaxis\": \"y\"}, {\"customdata\": [[\"Alabama\", 2019, \"SEC\"], [\"Arkansas\", 2019, \"SEC\"], [\"Auburn\", 2019, \"SEC\"], [\"Florida\", 2019, \"SEC\"], [\"Georgia\", 2019, \"SEC\"], [\"Kentucky\", 2019, \"SEC\"], [\"LSU\", 2019, \"SEC\"], [\"Mississippi St.\", 2019, \"SEC\"], [\"Missouri\", 2019, \"SEC\"], [\"Ole Miss\", 2019, \"SEC\"], [\"South Carolina\", 2019, \"SEC\"], [\"Tennessee\", 2019, \"SEC\"], [\"Texas A&M\", 2019, \"SEC\"], [\"Vanderbilt\", 2019, \"SEC\"]], \"hovertemplate\": \"Net Yards Per Play=%{y:.1f}<br>Team=%{customdata[0]}<br>Season=%{customdata[1]}<extra></extra>\", \"legendgroup\": \"SEC\", \"marker\": {\"color\": \"#FECB52\", \"symbol\": \"circle\"}, \"mode\": \"markers\", \"name\": \"SEC\", \"orientation\": \"v\", \"showlegend\": true, \"type\": \"scatter\", \"x\": [0.8461538461538461, 0.16666666666666666, 0.6923076923076923, 0.8461538461538461, 0.8571428571428571, 0.6153846153846154, 1.0, 0.46153846153846156, 0.5, 0.3333333333333333, 0.3333333333333333, 0.6153846153846154, 0.6153846153846154, 0.25], \"xaxis\": \"x\", \"y\": [3.08, -1.33, 0.7400000000000002, 1.5699999999999994, 1.79, 0.8500000000000005, 2.7799999999999994, -0.13999999999999968, 0.40999999999999925, 0.17999999999999972, -0.35000000000000053, 0.7800000000000002, 0.5700000000000003, -1.7400000000000002], \"yaxis\": \"y\"}, {\"customdata\": [[\"Appalachian St.\", 2019, \"Sun Belt\"], [\"Arkansas St.\", 2019, \"Sun Belt\"], [\"Coastal Carolina\", 2019, \"Sun Belt\"], [\"Ga. Southern\", 2019, \"Sun Belt\"], [\"Georgia St.\", 2019, \"Sun Belt\"], [\"La.-Monroe\", 2019, \"Sun Belt\"], [\"Louisiana\", 2019, \"Sun Belt\"], [\"South Alabama\", 2019, \"Sun Belt\"], [\"Texas St.\", 2019, \"Sun Belt\"], [\"Troy\", 2019, \"Sun Belt\"]], \"hovertemplate\": \"Net Yards Per Play=%{y:.1f}<br>Team=%{customdata[0]}<br>Season=%{customdata[1]}<extra></extra>\", \"legendgroup\": \"Sun Belt\", \"marker\": {\"color\": \"#636efa\", \"symbol\": \"circle\"}, \"mode\": \"markers\", \"name\": \"Sun Belt\", \"orientation\": \"v\", \"showlegend\": true, \"type\": \"scatter\", \"x\": [0.9285714285714286, 0.6153846153846154, 0.4166666666666667, 0.5384615384615384, 0.5384615384615384, 0.4166666666666667, 0.7857142857142857, 0.16666666666666666, 0.25, 0.4166666666666667], \"xaxis\": \"x\", \"y\": [1.25, 0.05999999999999961, -0.5199999999999996, -0.46999999999999975, -0.8499999999999996, -0.33999999999999986, 1.5599999999999996, -0.7599999999999998, -0.75, -0.07000000000000028], \"yaxis\": \"y\"}],                        {\"hoverlabel\": {\"bgcolor\": \"white\", \"font\": {\"family\": \"Arial\", \"size\": 14}}, \"legend\": {\"title\": {\"text\": \"Conference\"}, \"tracegroupgap\": 0}, \"margin\": {\"t\": 60}, \"shapes\": [{\"line\": {\"color\": \"black\", \"width\": 2}, \"type\": \"line\", \"x0\": 0.5, \"x1\": 0.5, \"y0\": -4, \"y1\": 4}, {\"line\": {\"color\": \"black\", \"width\": 2}, \"type\": \"line\", \"x0\": 0, \"x1\": 1, \"y0\": 0, \"y1\": 0}], \"template\": {\"data\": {\"bar\": [{\"error_x\": {\"color\": \"#2a3f5f\"}, \"error_y\": {\"color\": \"#2a3f5f\"}, \"marker\": {\"line\": {\"color\": \"#E5ECF6\", \"width\": 0.5}}, \"type\": \"bar\"}], \"barpolar\": [{\"marker\": {\"line\": {\"color\": \"#E5ECF6\", \"width\": 0.5}}, \"type\": \"barpolar\"}], \"carpet\": [{\"aaxis\": {\"endlinecolor\": \"#2a3f5f\", \"gridcolor\": \"white\", \"linecolor\": \"white\", \"minorgridcolor\": \"white\", \"startlinecolor\": \"#2a3f5f\"}, \"baxis\": {\"endlinecolor\": \"#2a3f5f\", \"gridcolor\": \"white\", \"linecolor\": \"white\", \"minorgridcolor\": \"white\", \"startlinecolor\": \"#2a3f5f\"}, \"type\": \"carpet\"}], \"choropleth\": [{\"colorbar\": {\"outlinewidth\": 0, \"ticks\": \"\"}, \"type\": \"choropleth\"}], \"contour\": [{\"colorbar\": {\"outlinewidth\": 0, \"ticks\": \"\"}, \"colorscale\": [[0.0, \"#0d0887\"], [0.1111111111111111, \"#46039f\"], [0.2222222222222222, \"#7201a8\"], [0.3333333333333333, \"#9c179e\"], [0.4444444444444444, \"#bd3786\"], [0.5555555555555556, \"#d8576b\"], [0.6666666666666666, \"#ed7953\"], [0.7777777777777778, \"#fb9f3a\"], [0.8888888888888888, \"#fdca26\"], [1.0, \"#f0f921\"]], \"type\": \"contour\"}], \"contourcarpet\": [{\"colorbar\": {\"outlinewidth\": 0, \"ticks\": \"\"}, \"type\": \"contourcarpet\"}], \"heatmap\": [{\"colorbar\": {\"outlinewidth\": 0, \"ticks\": \"\"}, \"colorscale\": [[0.0, \"#0d0887\"], [0.1111111111111111, \"#46039f\"], [0.2222222222222222, \"#7201a8\"], [0.3333333333333333, \"#9c179e\"], [0.4444444444444444, \"#bd3786\"], [0.5555555555555556, \"#d8576b\"], [0.6666666666666666, \"#ed7953\"], [0.7777777777777778, \"#fb9f3a\"], [0.8888888888888888, \"#fdca26\"], [1.0, \"#f0f921\"]], \"type\": \"heatmap\"}], \"heatmapgl\": [{\"colorbar\": {\"outlinewidth\": 0, \"ticks\": \"\"}, \"colorscale\": [[0.0, \"#0d0887\"], [0.1111111111111111, \"#46039f\"], [0.2222222222222222, \"#7201a8\"], [0.3333333333333333, \"#9c179e\"], [0.4444444444444444, \"#bd3786\"], [0.5555555555555556, \"#d8576b\"], [0.6666666666666666, \"#ed7953\"], [0.7777777777777778, \"#fb9f3a\"], [0.8888888888888888, \"#fdca26\"], [1.0, \"#f0f921\"]], \"type\": \"heatmapgl\"}], \"histogram\": [{\"marker\": {\"colorbar\": {\"outlinewidth\": 0, \"ticks\": \"\"}}, \"type\": \"histogram\"}], \"histogram2d\": [{\"colorbar\": {\"outlinewidth\": 0, \"ticks\": \"\"}, \"colorscale\": [[0.0, \"#0d0887\"], [0.1111111111111111, \"#46039f\"], [0.2222222222222222, \"#7201a8\"], [0.3333333333333333, \"#9c179e\"], [0.4444444444444444, \"#bd3786\"], [0.5555555555555556, \"#d8576b\"], [0.6666666666666666, \"#ed7953\"], [0.7777777777777778, \"#fb9f3a\"], [0.8888888888888888, \"#fdca26\"], [1.0, \"#f0f921\"]], \"type\": \"histogram2d\"}], \"histogram2dcontour\": [{\"colorbar\": {\"outlinewidth\": 0, \"ticks\": \"\"}, \"colorscale\": [[0.0, \"#0d0887\"], [0.1111111111111111, \"#46039f\"], [0.2222222222222222, \"#7201a8\"], [0.3333333333333333, \"#9c179e\"], [0.4444444444444444, \"#bd3786\"], [0.5555555555555556, \"#d8576b\"], [0.6666666666666666, \"#ed7953\"], [0.7777777777777778, \"#fb9f3a\"], [0.8888888888888888, \"#fdca26\"], [1.0, \"#f0f921\"]], \"type\": \"histogram2dcontour\"}], \"mesh3d\": [{\"colorbar\": {\"outlinewidth\": 0, \"ticks\": \"\"}, \"type\": \"mesh3d\"}], \"parcoords\": [{\"line\": {\"colorbar\": {\"outlinewidth\": 0, \"ticks\": \"\"}}, \"type\": \"parcoords\"}], \"pie\": [{\"automargin\": true, \"type\": \"pie\"}], \"scatter\": [{\"marker\": {\"colorbar\": {\"outlinewidth\": 0, \"ticks\": \"\"}}, \"type\": \"scatter\"}], \"scatter3d\": [{\"line\": {\"colorbar\": {\"outlinewidth\": 0, \"ticks\": \"\"}}, \"marker\": {\"colorbar\": {\"outlinewidth\": 0, \"ticks\": \"\"}}, \"type\": \"scatter3d\"}], \"scattercarpet\": [{\"marker\": {\"colorbar\": {\"outlinewidth\": 0, \"ticks\": \"\"}}, \"type\": \"scattercarpet\"}], \"scattergeo\": [{\"marker\": {\"colorbar\": {\"outlinewidth\": 0, \"ticks\": \"\"}}, \"type\": \"scattergeo\"}], \"scattergl\": [{\"marker\": {\"colorbar\": {\"outlinewidth\": 0, \"ticks\": \"\"}}, \"type\": \"scattergl\"}], \"scattermapbox\": [{\"marker\": {\"colorbar\": {\"outlinewidth\": 0, \"ticks\": \"\"}}, \"type\": \"scattermapbox\"}], \"scatterpolar\": [{\"marker\": {\"colorbar\": {\"outlinewidth\": 0, \"ticks\": \"\"}}, \"type\": \"scatterpolar\"}], \"scatterpolargl\": [{\"marker\": {\"colorbar\": {\"outlinewidth\": 0, \"ticks\": \"\"}}, \"type\": \"scatterpolargl\"}], \"scatterternary\": [{\"marker\": {\"colorbar\": {\"outlinewidth\": 0, \"ticks\": \"\"}}, \"type\": \"scatterternary\"}], \"surface\": [{\"colorbar\": {\"outlinewidth\": 0, \"ticks\": \"\"}, \"colorscale\": [[0.0, \"#0d0887\"], [0.1111111111111111, \"#46039f\"], [0.2222222222222222, \"#7201a8\"], [0.3333333333333333, \"#9c179e\"], [0.4444444444444444, \"#bd3786\"], [0.5555555555555556, \"#d8576b\"], [0.6666666666666666, \"#ed7953\"], [0.7777777777777778, \"#fb9f3a\"], [0.8888888888888888, \"#fdca26\"], [1.0, \"#f0f921\"]], \"type\": \"surface\"}], \"table\": [{\"cells\": {\"fill\": {\"color\": \"#EBF0F8\"}, \"line\": {\"color\": \"white\"}}, \"header\": {\"fill\": {\"color\": \"#C8D4E3\"}, \"line\": {\"color\": \"white\"}}, \"type\": \"table\"}]}, \"layout\": {\"annotationdefaults\": {\"arrowcolor\": \"#2a3f5f\", \"arrowhead\": 0, \"arrowwidth\": 1}, \"autotypenumbers\": \"strict\", \"coloraxis\": {\"colorbar\": {\"outlinewidth\": 0, \"ticks\": \"\"}}, \"colorscale\": {\"diverging\": [[0, \"#8e0152\"], [0.1, \"#c51b7d\"], [0.2, \"#de77ae\"], [0.3, \"#f1b6da\"], [0.4, \"#fde0ef\"], [0.5, \"#f7f7f7\"], [0.6, \"#e6f5d0\"], [0.7, \"#b8e186\"], [0.8, \"#7fbc41\"], [0.9, \"#4d9221\"], [1, \"#276419\"]], \"sequential\": [[0.0, \"#0d0887\"], [0.1111111111111111, \"#46039f\"], [0.2222222222222222, \"#7201a8\"], [0.3333333333333333, \"#9c179e\"], [0.4444444444444444, \"#bd3786\"], [0.5555555555555556, \"#d8576b\"], [0.6666666666666666, \"#ed7953\"], [0.7777777777777778, \"#fb9f3a\"], [0.8888888888888888, \"#fdca26\"], [1.0, \"#f0f921\"]], \"sequentialminus\": [[0.0, \"#0d0887\"], [0.1111111111111111, \"#46039f\"], [0.2222222222222222, \"#7201a8\"], [0.3333333333333333, \"#9c179e\"], [0.4444444444444444, \"#bd3786\"], [0.5555555555555556, \"#d8576b\"], [0.6666666666666666, \"#ed7953\"], [0.7777777777777778, \"#fb9f3a\"], [0.8888888888888888, \"#fdca26\"], [1.0, \"#f0f921\"]]}, \"colorway\": [\"#636efa\", \"#EF553B\", \"#00cc96\", \"#ab63fa\", \"#FFA15A\", \"#19d3f3\", \"#FF6692\", \"#B6E880\", \"#FF97FF\", \"#FECB52\"], \"font\": {\"color\": \"#2a3f5f\"}, \"geo\": {\"bgcolor\": \"white\", \"lakecolor\": \"white\", \"landcolor\": \"#E5ECF6\", \"showlakes\": true, \"showland\": true, \"subunitcolor\": \"white\"}, \"hoverlabel\": {\"align\": \"left\"}, \"hovermode\": \"closest\", \"mapbox\": {\"style\": \"light\"}, \"paper_bgcolor\": \"white\", \"plot_bgcolor\": \"#E5ECF6\", \"polar\": {\"angularaxis\": {\"gridcolor\": \"white\", \"linecolor\": \"white\", \"ticks\": \"\"}, \"bgcolor\": \"#E5ECF6\", \"radialaxis\": {\"gridcolor\": \"white\", \"linecolor\": \"white\", \"ticks\": \"\"}}, \"scene\": {\"xaxis\": {\"backgroundcolor\": \"#E5ECF6\", \"gridcolor\": \"white\", \"gridwidth\": 2, \"linecolor\": \"white\", \"showbackground\": true, \"ticks\": \"\", \"zerolinecolor\": \"white\"}, \"yaxis\": {\"backgroundcolor\": \"#E5ECF6\", \"gridcolor\": \"white\", \"gridwidth\": 2, \"linecolor\": \"white\", \"showbackground\": true, \"ticks\": \"\", \"zerolinecolor\": \"white\"}, \"zaxis\": {\"backgroundcolor\": \"#E5ECF6\", \"gridcolor\": \"white\", \"gridwidth\": 2, \"linecolor\": \"white\", \"showbackground\": true, \"ticks\": \"\", \"zerolinecolor\": \"white\"}}, \"shapedefaults\": {\"line\": {\"color\": \"#2a3f5f\"}}, \"ternary\": {\"aaxis\": {\"gridcolor\": \"white\", \"linecolor\": \"white\", \"ticks\": \"\"}, \"baxis\": {\"gridcolor\": \"white\", \"linecolor\": \"white\", \"ticks\": \"\"}, \"bgcolor\": \"#E5ECF6\", \"caxis\": {\"gridcolor\": \"white\", \"linecolor\": \"white\", \"ticks\": \"\"}}, \"title\": {\"x\": 0.05}, \"xaxis\": {\"automargin\": true, \"gridcolor\": \"white\", \"linecolor\": \"white\", \"ticks\": \"\", \"title\": {\"standoff\": 15}, \"zerolinecolor\": \"white\", \"zerolinewidth\": 2}, \"yaxis\": {\"automargin\": true, \"gridcolor\": \"white\", \"linecolor\": \"white\", \"ticks\": \"\", \"title\": {\"standoff\": 15}, \"zerolinecolor\": \"white\", \"zerolinewidth\": 2}}}, \"xaxis\": {\"anchor\": \"y\", \"domain\": [0.0, 1.0], \"title\": {\"text\": \"winpct\"}}, \"yaxis\": {\"anchor\": \"x\", \"domain\": [0.0, 1.0], \"title\": {\"text\": \"Net Yards Per Play\"}}},                        {\"responsive\": true}                    ).then(function(){\n",
       "                            \n",
       "var gd = document.getElementById('3609dcde-eb63-4847-b234-0e61fb05d312');\n",
       "var x = new MutationObserver(function (mutations, observer) {{\n",
       "        var display = window.getComputedStyle(gd).display;\n",
       "        if (!display || display === 'none') {{\n",
       "            console.log([gd, 'removed!']);\n",
       "            Plotly.purge(gd);\n",
       "            observer.disconnect();\n",
       "        }}\n",
       "}});\n",
       "\n",
       "// Listen for the removal of the full notebook cells\n",
       "var notebookContainer = gd.closest('#notebook-container');\n",
       "if (notebookContainer) {{\n",
       "    x.observe(notebookContainer, {childList: true});\n",
       "}}\n",
       "\n",
       "// Listen for the clearing of the current output cell\n",
       "var outputEl = gd.closest('.output');\n",
       "if (outputEl) {{\n",
       "    x.observe(outputEl, {childList: true});\n",
       "}}\n",
       "\n",
       "                        })                };                });            </script>        </div>"
      ]
     },
     "metadata": {},
     "output_type": "display_data"
    }
   ],
   "source": [
    "#!pip install plotly \n",
    "import plotly.express as px\n",
    "\n",
    "fig = px.scatter(df19, x =\"winpct\", y = \"Net Yards Per Play\", color = \"Conference\", \n",
    "                 hover_data = {'Team':True,\n",
    "                               'Season': True,\n",
    "                               'winpct':False, #Removes WinPct from Tooltip\n",
    "                               'Conference':False,\n",
    "                               'Net Yards Per Play':':.1f'\n",
    "                                \n",
    "                              })\n",
    "#Vertical Line to show .500 Winning Percentage\n",
    "fig.add_shape(type=\"line\", x0=.5, y0=-4, x1=.5, y1=4,\n",
    "    line=dict(color=\"black\",width=2))\n",
    "#Horizontal Line to Show +,- NYPP\n",
    "fig.add_shape(type=\"line\", x0=0, y0=0, x1=1, y1=0,\n",
    "    line=dict(color=\"black\",width=2))\n",
    "\n",
    "#Formats the Tooltip\n",
    "fig.update_layout(\n",
    "    hoverlabel=dict(\n",
    "        bgcolor=\"white\",\n",
    "        font_size=14,\n",
    "        font_family=\"Arial\"\n",
    "    )\n",
    ")\n",
    "\n",
    "fig.show()"
   ]
  }
 ],
 "metadata": {
  "kernelspec": {
   "display_name": "Python 3",
   "language": "python",
   "name": "python3"
  },
  "language_info": {
   "codemirror_mode": {
    "name": "ipython",
    "version": 3
   },
   "file_extension": ".py",
   "mimetype": "text/x-python",
   "name": "python",
   "nbconvert_exporter": "python",
   "pygments_lexer": "ipython3",
   "version": "3.7.9"
  },
  "metadata": {
   "interpreter": {
    "hash": "7a2e686ef06daa77422353f979a7a95691216d745a7d62859469cc1a43d5b4df"
   }
  }
 },
 "nbformat": 4,
 "nbformat_minor": 2
}
