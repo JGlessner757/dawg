{
 "cells": [
  {
   "cell_type": "code",
   "execution_count": 1,
   "metadata": {},
   "outputs": [],
   "source": [
    "import numpy as np # linear algebra - is for nerds.\n",
    "import pandas as pd # data processing, CSV file I/O (e.g. pd.read_csv)\n",
    "from pandas import DataFrame, Series\n",
    "import matplotlib as mpl\n",
    "import matplotlib.pyplot as plt\n",
    "import seaborn as sns\n",
    "import scipy.stats as stats\n",
    "from bokeh.plotting import figure, show\n",
    "# Command so that plots appear in the iPython Notebook\n",
    "%matplotlib inline"
   ]
  },
  {
   "cell_type": "code",
   "execution_count": 2,
   "metadata": {
    "scrolled": true
   },
   "outputs": [],
   "source": [
    "#read in master dataset\n",
    "df = pd.read_csv('C:/Users/jgles/dawg/Analysis/CFB_Dataset_PROD.csv')\n",
    "#df"
   ]
  },
  {
   "cell_type": "markdown",
   "metadata": {},
   "source": [
    "## Avg Rank and Yard Diff Per Play\n",
    "\n",
    "There are two statistics that we want to derive and track throughout time.\n",
    "\n",
    "Through the original analysis, the <Average Rank> and **Net Yards Per Play** appeared to be powerful predictive metrics.  We will investigate here whether or not they hold predictive power throughout time.\n",
    "    \n",
    "We calculate those stats here."
   ]
  },
  {
   "cell_type": "code",
   "execution_count": 3,
   "metadata": {
    "scrolled": true
   },
   "outputs": [],
   "source": [
    "#Here we can change which year we are looking at.\n",
    "\n",
    "#df = df20\n",
    "df['Avg Rank']=(df['Off.Rank']+df['Def.Rank'])/2\n",
    "df['Net Yards Per Play']=df['Off.Yards.Play'] - df['Yards.Play.Allowed']\n",
    "df['winpct']=df['Win'] / df['Games']\n",
    "#df.head()"
   ]
  },
  {
   "cell_type": "code",
   "execution_count": 36,
   "metadata": {},
   "outputs": [
    {
     "ename": "AttributeError",
     "evalue": "'Series' object has no attribute 'sort'",
     "output_type": "error",
     "traceback": [
      "\u001b[1;31m---------------------------------------------------------------------------\u001b[0m",
      "\u001b[1;31mAttributeError\u001b[0m                            Traceback (most recent call last)",
      "\u001b[1;32m<ipython-input-36-755b715b5e66>\u001b[0m in \u001b[0;36m<module>\u001b[1;34m\u001b[0m\n\u001b[0;32m     35\u001b[0m \u001b[0mdf20\u001b[0m \u001b[1;33m=\u001b[0m \u001b[0mdf\u001b[0m\u001b[1;33m[\u001b[0m\u001b[0mis_2020\u001b[0m\u001b[1;33m]\u001b[0m\u001b[1;33m\u001b[0m\u001b[1;33m\u001b[0m\u001b[0m\n\u001b[0;32m     36\u001b[0m \u001b[1;33m\u001b[0m\u001b[0m\n\u001b[1;32m---> 37\u001b[1;33m \u001b[0mdf\u001b[0m\u001b[1;33m[\u001b[0m\u001b[1;34m\"Team\"\u001b[0m\u001b[1;33m]\u001b[0m\u001b[1;33m.\u001b[0m\u001b[0msort\u001b[0m\u001b[1;33m(\u001b[0m\u001b[1;33m)\u001b[0m\u001b[1;33m\u001b[0m\u001b[1;33m\u001b[0m\u001b[0m\n\u001b[0m",
      "\u001b[1;32m~\\miniconda3\\envs\\myenv\\lib\\site-packages\\pandas\\core\\generic.py\u001b[0m in \u001b[0;36m__getattr__\u001b[1;34m(self, name)\u001b[0m\n\u001b[0;32m   5128\u001b[0m             \u001b[1;32mif\u001b[0m \u001b[0mself\u001b[0m\u001b[1;33m.\u001b[0m\u001b[0m_info_axis\u001b[0m\u001b[1;33m.\u001b[0m\u001b[0m_can_hold_identifiers_and_holds_name\u001b[0m\u001b[1;33m(\u001b[0m\u001b[0mname\u001b[0m\u001b[1;33m)\u001b[0m\u001b[1;33m:\u001b[0m\u001b[1;33m\u001b[0m\u001b[1;33m\u001b[0m\u001b[0m\n\u001b[0;32m   5129\u001b[0m                 \u001b[1;32mreturn\u001b[0m \u001b[0mself\u001b[0m\u001b[1;33m[\u001b[0m\u001b[0mname\u001b[0m\u001b[1;33m]\u001b[0m\u001b[1;33m\u001b[0m\u001b[1;33m\u001b[0m\u001b[0m\n\u001b[1;32m-> 5130\u001b[1;33m             \u001b[1;32mreturn\u001b[0m \u001b[0mobject\u001b[0m\u001b[1;33m.\u001b[0m\u001b[0m__getattribute__\u001b[0m\u001b[1;33m(\u001b[0m\u001b[0mself\u001b[0m\u001b[1;33m,\u001b[0m \u001b[0mname\u001b[0m\u001b[1;33m)\u001b[0m\u001b[1;33m\u001b[0m\u001b[1;33m\u001b[0m\u001b[0m\n\u001b[0m\u001b[0;32m   5131\u001b[0m \u001b[1;33m\u001b[0m\u001b[0m\n\u001b[0;32m   5132\u001b[0m     \u001b[1;32mdef\u001b[0m \u001b[0m__setattr__\u001b[0m\u001b[1;33m(\u001b[0m\u001b[0mself\u001b[0m\u001b[1;33m,\u001b[0m \u001b[0mname\u001b[0m\u001b[1;33m:\u001b[0m \u001b[0mstr\u001b[0m\u001b[1;33m,\u001b[0m \u001b[0mvalue\u001b[0m\u001b[1;33m)\u001b[0m \u001b[1;33m->\u001b[0m \u001b[1;32mNone\u001b[0m\u001b[1;33m:\u001b[0m\u001b[1;33m\u001b[0m\u001b[1;33m\u001b[0m\u001b[0m\n",
      "\u001b[1;31mAttributeError\u001b[0m: 'Series' object has no attribute 'sort'"
     ]
    }
   ],
   "source": [
    "# If there are some extra columns, we drop them here that we drop here.\n",
    "\n",
    "#df = df.drop(['Unnamed: 147',\n",
    "# 'Unnamed: 148',\n",
    "# 'Unnamed: 149',\n",
    "# 'Unnamed: 150',\n",
    "# 'Unnamed: 151',\n",
    "# 'Unnamed: 152'],\n",
    "#       axis = 1)\n",
    "\n",
    "# Since we are exploring tracking certain statistics through time, we will create dataframes for each season within the dataset.\n",
    "\n",
    "is_2013 = df['Season'] == 2013\n",
    "df13 = df[is_2013]\n",
    "\n",
    "is_2014 = df['Season'] == 2014\n",
    "df14 = df[is_2014]\n",
    "\n",
    "is_2015 = df['Season'] == 2015\n",
    "df15 = df[is_2015]\n",
    "\n",
    "is_2016 = df['Season'] == 2016\n",
    "df16 = df[is_2016]\n",
    "\n",
    "is_2017 = df['Season'] == 2017\n",
    "df17 = df[is_2017]\n",
    "\n",
    "is_2018 = df['Season'] == 2018\n",
    "df18 = df[is_2018]\n",
    "\n",
    "is_2019 = df['Season'] == 2019\n",
    "df19 = df[is_2019]\n",
    "\n",
    "is_2020 = df['Season'] == 2020\n",
    "df20 = df[is_2020]\n",
    "\n",
    "\n"
   ]
  },
  {
   "cell_type": "code",
   "execution_count": 5,
   "metadata": {},
   "outputs": [],
   "source": [
    "#list(df)"
   ]
  },
  {
   "cell_type": "code",
   "execution_count": 6,
   "metadata": {
    "scrolled": true
   },
   "outputs": [],
   "source": [
    "data = df[['TS_ID',\n",
    " 'Team',\n",
    " 'Season',\n",
    " 'Conference',\n",
    " 'NatChamp',\n",
    " 'Playoff',\n",
    " 'ConfChamp',\n",
    " 'Heisman',\n",
    " 'Games',\n",
    " 'Win',\n",
    " 'Loss',\n",
    " 'Off.Rank',\n",
    " 'Off.Plays',\n",
    " 'Off.Yards',\n",
    " 'Off.Yards.Play',\n",
    " 'Off.TDs',\n",
    " 'Off.Yards.per.Game',\n",
    " 'Def.Rank',\n",
    " 'Def.Plays',\n",
    " 'Yards.Allowed',\n",
    " 'Yards.Play.Allowed',\n",
    " 'Off.TDs.Allowed',\n",
    " 'Total.TDs.Allowed',\n",
    " 'Yards.Per.Game.Allowed',\n",
    " 'First.Down.Rank',\n",
    " 'First.Down.Runs',\n",
    " 'First.Down.Passes',\n",
    " 'First.Down.Penalties',\n",
    " 'First.Downs',\n",
    " 'First.Down.Def.Rank',\n",
    " 'Opp.First.Down.Runs',\n",
    " 'Opp.First.Down.Passes',\n",
    " 'Opp.First.Down.Penalties',\n",
    " 'Opp.First.Downs',\n",
    " 'X4th.Down.Rank',\n",
    " 'X4th.Attempts',\n",
    " 'X4th.Conversions',\n",
    " 'X4th.Percent',\n",
    " 'X4rd.Down.Def.Rank',\n",
    " 'Opp.4th.Conversion',\n",
    " 'Opp.4th.Attempt',\n",
    " 'Opponent.4th.Percent',\n",
    " 'Kickoff.Return.Rank',\n",
    " 'Kickoffs.Returned',\n",
    " 'Kickoff.Return.Yards',\n",
    " 'Kickoff.Return.Touchdowns',\n",
    " 'Avg.Yard.per.Kickoff.Return',\n",
    " 'Passing.Off.Rank',\n",
    " 'Pass.Attempts',\n",
    " 'Pass.Completions',\n",
    " 'Interceptions.Thrown.x',\n",
    " 'Pass.Yards',\n",
    " 'Pass.Yards.Attempt',\n",
    " 'Yards.Completion',\n",
    " 'Pass.Touchdowns',\n",
    " 'Pass.Yards.Per.Game',\n",
    " 'Pass.Def.Rank',\n",
    " 'Opp.Completions.Allowed',\n",
    " 'Opp.Pass.Attempts',\n",
    " 'Opp.Pass.Yds.Allowed',\n",
    " 'Opp.Pass.TDs.Allowed',\n",
    " 'Yards.Attempt.Allowed',\n",
    " 'Yards.Completion.Allowed',\n",
    " 'Pass.Yards.Per.Game.Allowed',\n",
    " 'Penalty.Rank',\n",
    " 'Penalties',\n",
    " 'Penalty.Yards',\n",
    " 'Penalty.Yards.Per.Game',\n",
    " 'Punt.Return.Rank',\n",
    " 'Punt.Returns',\n",
    " 'Net.Punt.Return.Yards',\n",
    " 'Punt.Return.Touchdowns',\n",
    " 'Avg.Yards.Per.Punt.Return',\n",
    " 'Punt.Return.Def.Rank',\n",
    " 'Opp.Punt.Returns',\n",
    " 'Opp.Net.Punt.Return.Yards',\n",
    " 'Opp.Punt.Return.Touchdowns.Allowed',\n",
    " 'Avg.Yards.Allowed.per.Punt.Return',\n",
    " 'Redzone.Off.Rank',\n",
    " 'Redzone.Attempts',\n",
    " 'Redzone.Rush.TD',\n",
    " 'Redzone.Pass.TD',\n",
    " 'Redzone.Field.Goals.Made',\n",
    " 'Redzone.Scores',\n",
    " 'Redzone.Points',\n",
    " 'Redzone.Def.Rank',\n",
    " 'Opp.Redzone.Attempts',\n",
    " 'Opp.Redzone.Rush.TD.Allowed',\n",
    " 'Opp.Redzone.Pass.Touchdowns.Allowed',\n",
    " 'Opp.Redzone.Field.Goals.Made',\n",
    " 'Opp.Redzone.Scores',\n",
    " 'Redzone.Points.Allowed',\n",
    " 'Rushing.Off.Rank',\n",
    " 'Rush.Attempts',\n",
    " 'Rush.Yds',\n",
    " 'Yards.Rush',\n",
    " 'Rushing.TD',\n",
    " 'Rushing.Yards.per.Game',\n",
    " 'Rushing.Def.Rank',\n",
    " 'Opp.Rush.Attempts',\n",
    " 'Opp.Rush.Yards.Alloweed',\n",
    " 'Yds.Rush.Allowed',\n",
    " 'Opp.Rush.Touchdowns.Allowed',\n",
    " 'Rush.Yards.Per.Game.Allowed',\n",
    " 'Sack.Rank',\n",
    " 'Sacks',\n",
    " 'Sack.Yards',\n",
    " 'Average.Sacks.per.Game',\n",
    " 'Scoring.Def.Rank',\n",
    " 'Touchdowns.Allowed',\n",
    " 'Opponent.Extra.Points',\n",
    " 'X2.Point.Conversions.Allowed',\n",
    " 'Opp.Deflected.Extra.Points',\n",
    " 'Opp.Feild.Goals.Made',\n",
    " 'Opp.Safety',\n",
    " 'Points.Allowed',\n",
    " 'Avg.Points.per.Game.Allowed',\n",
    " 'Scoring.Off.Rank',\n",
    " 'Touchdowns',\n",
    " 'PAT',\n",
    " 'X2.Point.Conversions',\n",
    " 'Defensive.Points',\n",
    " 'Feild.Goals',\n",
    " 'Safety',\n",
    " 'Total.Points',\n",
    " 'Points.Per.Game',\n",
    " 'Tackle.for.Loss.Rank',\n",
    " 'Solo.Tackle.For.Loss',\n",
    " 'Assist.Tackle.For.Loss',\n",
    " 'Tackle.for.Loss.Yards',\n",
    " 'Total.Tackle.For.Loss',\n",
    " 'Tackle.For.Loss.Per.Game',\n",
    " 'X3rd.Down.Rank',\n",
    " 'X3rd.Attempts',\n",
    " 'X3rd.Conversions',\n",
    " 'X3rd.Percent',\n",
    " 'X3rd.Down.Def.Rank',\n",
    " 'Opp.3rd.Conversion',\n",
    " 'Opp.3rd.Attempt',\n",
    " 'Opponent.3rd.Percent',\n",
    " 'Time.of.Possession.Rank',\n",
    " 'Average.T.O.P',\n",
    " 'Turnover.Rank',\n",
    " 'Fumbles.Recovered',\n",
    " 'Opponents.Intercepted',\n",
    " 'Turnovers.Gain',\n",
    " 'Fumbles.Lost',\n",
    " 'Interceptions.Thrown.y',\n",
    " 'Turnovers.Lost',\n",
    " 'Turnover.Margin',\n",
    " 'Avg.Turnover.Margin.per.Game',\n",
    " 'Avg Rank',\n",
    " 'Net Yards Per Play',\n",
    " 'winpct']\n",
    "]\n",
    "correlation=data.corr(method='pearson')\n",
    "#correlation"
   ]
  },
  {
   "cell_type": "code",
   "execution_count": 7,
   "metadata": {},
   "outputs": [],
   "source": [
    "# Lets get a better view of the list\n",
    "#pd.set_option('display.max_rows', 200)"
   ]
  },
  {
   "cell_type": "code",
   "execution_count": 8,
   "metadata": {},
   "outputs": [],
   "source": [
    "#correlation.drop(correlation.columns.difference(['winpct']),1, inplace=True)\n",
    "#correlation.sort_values(by=['winpct'], ascending=False)"
   ]
  },
  {
   "cell_type": "code",
   "execution_count": 9,
   "metadata": {
    "scrolled": true
   },
   "outputs": [
    {
     "name": "stderr",
     "output_type": "stream",
     "text": [
      "C:\\Users\\jgles\\miniconda3\\envs\\myenv\\lib\\site-packages\\seaborn\\axisgrid.py:1840: UserWarning: JointGrid annotation is deprecated and will be removed in a future release.\n",
      "  warnings.warn(UserWarning(msg))\n"
     ]
    },
    {
     "data": {
      "text/plain": [
       "Text(0.5, 0.98, 'DEF TEAM RANK vs WIN %')"
      ]
     },
     "execution_count": 9,
     "metadata": {},
     "output_type": "execute_result"
    },
    {
     "data": {
      "image/png": "[encoded data removed]",
      "text/plain": [
       "<Figure size 432x432 with 3 Axes>"
      ]
     },
     "metadata": {
      "needs_background": "light"
     },
     "output_type": "display_data"
    }
   ],
   "source": [
    "g=sns.jointplot('winpct','Def.Rank',df,kind='reg')\n",
    "g.annotate(stats.pearsonr)\n",
    "g.fig.suptitle('DEF TEAM RANK vs WIN %')\n",
    "#plt.show()"
   ]
  },
  {
   "cell_type": "code",
   "execution_count": 10,
   "metadata": {
    "scrolled": true
   },
   "outputs": [
    {
     "name": "stderr",
     "output_type": "stream",
     "text": [
      "C:\\Users\\jgles\\miniconda3\\envs\\myenv\\lib\\site-packages\\seaborn\\axisgrid.py:1840: UserWarning: JointGrid annotation is deprecated and will be removed in a future release.\n",
      "  warnings.warn(UserWarning(msg))\n"
     ]
    },
    {
     "data": {
      "text/plain": [
       "Text(0.5, 0.98, 'OFF TEAM RANK vs WIN %')"
      ]
     },
     "execution_count": 10,
     "metadata": {},
     "output_type": "execute_result"
    },
    {
     "data": {
      "image/png": "[encoded data removed]",
      "text/plain": [
       "<Figure size 432x432 with 3 Axes>"
      ]
     },
     "metadata": {
      "needs_background": "light"
     },
     "output_type": "display_data"
    }
   ],
   "source": [
    "#Regression graph for Offensive Rank and Defensive Rank Vs Win Pct with correlation\n",
    "\n",
    "#Results show a stronger correlation between Defensive Rank and Win Pct\n",
    "\n",
    "g=sns.jointplot('winpct','Off.Rank',df, kind='reg')\n",
    "g.annotate(stats.pearsonr)\n",
    "g.fig.suptitle('OFF TEAM RANK vs WIN %')\n",
    "#plt.show()"
   ]
  },
  {
   "cell_type": "code",
   "execution_count": 11,
   "metadata": {},
   "outputs": [
    {
     "name": "stderr",
     "output_type": "stream",
     "text": [
      "C:\\Users\\jgles\\miniconda3\\envs\\myenv\\lib\\site-packages\\seaborn\\axisgrid.py:1840: UserWarning: JointGrid annotation is deprecated and will be removed in a future release.\n",
      "  warnings.warn(UserWarning(msg))\n"
     ]
    },
    {
     "data": {
      "text/plain": [
       "Text(0.5, 0.98, 'Net Yards Per Play vs WIN %')"
      ]
     },
     "execution_count": 11,
     "metadata": {},
     "output_type": "execute_result"
    },
    {
     "data": {
      "image/png": "[encoded data removed]",
      "text/plain": [
       "<Figure size 432x432 with 3 Axes>"
      ]
     },
     "metadata": {
      "needs_background": "light"
     },
     "output_type": "display_data"
    }
   ],
   "source": [
    "#Regression graph for NYPP Vs Win Pct with correlation\n",
    "\n",
    "#Results show a stronger correlation between NYPP and Winpct\n",
    "\n",
    "g=sns.jointplot('winpct','Net Yards Per Play',df, kind='reg')\n",
    "g.annotate(stats.pearsonr)\n",
    "g.fig.suptitle('Net Yards Per Play vs WIN %')\n",
    "#plt.show()"
   ]
  },
  {
   "cell_type": "code",
   "execution_count": 12,
   "metadata": {
    "scrolled": true
   },
   "outputs": [
    {
     "data": {
      "text/plain": [
       "Text(0.5, 1.0, 'Net Yards Per Play(Off & Def) for Power 5 Conferences')"
      ]
     },
     "execution_count": 12,
     "metadata": {},
     "output_type": "execute_result"
    },
    {
     "data": {
      "image/png": "[encoded data removed]",
      "text/plain": [
       "<Figure size 432x288 with 1 Axes>"
      ]
     },
     "metadata": {
      "needs_background": "light"
     },
     "output_type": "display_data"
    }
   ],
   "source": [
    "filter=df['Conference']== 'ACC'\n",
    "filter2=df['Conference']== 'SEC'\n",
    "filter3=df['Conference']== 'Big 12'\n",
    "filter4=df['Conference']== 'Big Ten' \n",
    "filter5=df['Conference']== 'Pac-12'\n",
    "dfn=df.where(filter | filter2 | filter3 | filter4 | filter5)\n",
    "sns.boxplot(dfn['Net Yards Per Play'], dfn['Conference'], whis=np.inf)\n",
    "plt.title('Net Yards Per Play(Off & Def) for Power 5 Conferences')\n",
    "#plt.show()\n",
    "#df[['TS_ID' , 'Team', 'Season', 'winpct', 'Net Yards Per Play', 'NatChamp', 'Playoff', 'ConfChamp']].sort_values('Net Yards Per Play', ascending = False)[0:25]"
   ]
  },
  {
   "cell_type": "code",
   "execution_count": 13,
   "metadata": {},
   "outputs": [
    {
     "data": {
      "text/plain": [
       "Text(0.5, 1.0, 'Avg Rank(Off & Def) for Power 5 Conferences')"
      ]
     },
     "execution_count": 13,
     "metadata": {},
     "output_type": "execute_result"
    },
    {
     "data": {
      "image/png": "[encoded data removed]",
      "text/plain": [
       "<Figure size 432x288 with 1 Axes>"
      ]
     },
     "metadata": {
      "needs_background": "light"
     },
     "output_type": "display_data"
    }
   ],
   "source": [
    "dfn=df.where(filter | filter2 | filter3 | filter4 | filter5)\n",
    "sns.boxplot(dfn['Avg Rank'], dfn['Conference'], whis=np.inf)\n",
    "plt.title('Avg Rank(Off & Def) for Power 5 Conferences')\n",
    "#plt.show()\n",
    "#df[['Team', 'Season', 'winpct', 'Off.Rank', 'Def.Rank','Avg Rank', 'NatChamp', 'Playoff', 'ConfChamp']].sort_values('Avg Rank', ascending = True)[0:25]"
   ]
  },
  {
   "cell_type": "code",
   "execution_count": 14,
   "metadata": {},
   "outputs": [],
   "source": [
    "# Bottom 10 in Avg Rank\n",
    "#df[['Team', 'Season','Off.Rank','Def.Rank','Avg Rank']].sort_values('Avg Rank')[-10:]"
   ]
  },
  {
   "cell_type": "code",
   "execution_count": 15,
   "metadata": {
    "scrolled": true
   },
   "outputs": [],
   "source": [
    "# Bottom 10 in NYPP. THEY STINK COACH!\n",
    "\n",
    "# Bottom 10 in Avg Rank\n",
    "#df[['Team', 'Season', 'Win', 'Loss','Net Yards Per Play']].sort_values('Net Yards Per Play', ascending=False)[-10:]"
   ]
  },
  {
   "cell_type": "code",
   "execution_count": 16,
   "metadata": {},
   "outputs": [],
   "source": [
    "#df19[['TS_ID' , 'Team', 'Season', 'winpct', 'Net Yards Per Play', 'NatChamp', 'Playoff', 'ConfChamp']].sort_values('Net Yards Per Play', ascending = False)[0:25]\n",
    "#df[['TS_ID' , 'Team', 'Season', 'winpct', 'Net Yards Per Play', 'NatChamp', 'Playoff', 'ConfChamp', 'Heisman']].sort_values('Heisman', ascending = False)[0:25]"
   ]
  },
  {
   "cell_type": "code",
   "execution_count": 17,
   "metadata": {},
   "outputs": [],
   "source": [
    "#Kick out the Df for visualization in Tableau\n",
    "#df.to_csv(\"All_TimeTableauCFB.csv\")"
   ]
  },
  {
   "cell_type": "code",
   "execution_count": 18,
   "metadata": {},
   "outputs": [],
   "source": [
    "df_backup = df"
   ]
  },
  {
   "cell_type": "code",
   "execution_count": 38,
   "metadata": {},
   "outputs": [
    {
     "data": {
      "application/vnd.plotly.v1+json": {
       "config": {
        "plotlyServerURL": "https://plot.ly"
       },
       "data": [
        {
         "customdata": [
          [
           "Cincinnati",
           2013,
           "AAC",
           1.4600000000000009
          ],
          [
           "Houston",
           2013,
           "AAC",
           0.4899999999999993
          ],
          [
           "Louisville",
           2013,
           "AAC",
           2.5
          ],
          [
           "Memphis",
           2013,
           "AAC",
           -0.5100000000000007
          ],
          [
           "Rutgers",
           2013,
           "AAC",
           -0.3899999999999997
          ],
          [
           "SMU",
           2013,
           "AAC",
           -0.04999999999999982
          ],
          [
           "South Fla.",
           2013,
           "AAC",
           -1.1399999999999997
          ],
          [
           "Temple",
           2013,
           "AAC",
           -0.7000000000000002
          ],
          [
           "UCF",
           2013,
           "AAC",
           1.21
          ],
          [
           "UConn",
           2013,
           "AAC",
           -0.8999999999999995
          ],
          [
           "Cincinnati",
           2014,
           "AAC",
           0.34999999999999964
          ],
          [
           "East Carolina",
           2014,
           "AAC",
           1.3800000000000008
          ],
          [
           "Houston",
           2014,
           "AAC",
           0.8200000000000003
          ],
          [
           "Memphis",
           2014,
           "AAC",
           0.75
          ],
          [
           "SMU",
           2014,
           "AAC",
           -2.54
          ],
          [
           "South Fla.",
           2014,
           "AAC",
           -0.75
          ],
          [
           "Temple",
           2014,
           "AAC",
           0.040000000000000036
          ],
          [
           "Tulane",
           2014,
           "AAC",
           -0.8200000000000003
          ],
          [
           "Tulsa",
           2014,
           "AAC",
           -1.7800000000000002
          ],
          [
           "UCF",
           2014,
           "AAC",
           0.5499999999999998
          ],
          [
           "UConn",
           2014,
           "AAC",
           -0.7199999999999998
          ],
          [
           "Cincinnati",
           2015,
           "AAC",
           0.8099999999999996
          ],
          [
           "East Carolina",
           2015,
           "AAC",
           0.29000000000000004
          ],
          [
           "Houston",
           2015,
           "AAC",
           0.6799999999999997
          ],
          [
           "Memphis",
           2015,
           "AAC",
           0.6500000000000004
          ],
          [
           "Navy",
           2015,
           "AAC",
           0.6999999999999993
          ],
          [
           "SMU",
           2015,
           "AAC",
           -1.7699999999999996
          ],
          [
           "South Fla.",
           2015,
           "AAC",
           1.1899999999999995
          ],
          [
           "Temple",
           2015,
           "AAC",
           0.33000000000000007
          ],
          [
           "Tulane",
           2015,
           "AAC",
           -1.0499999999999998
          ],
          [
           "Tulsa",
           2015,
           "AAC",
           -0.5
          ],
          [
           "UCF",
           2015,
           "AAC",
           -2.42
          ],
          [
           "UConn",
           2015,
           "AAC",
           -0.27000000000000046
          ],
          [
           "Cincinnati",
           2016,
           "AAC",
           -0.05999999999999961
          ],
          [
           "East Carolina",
           2016,
           "AAC",
           -0.5900000000000007
          ],
          [
           "Houston",
           2016,
           "AAC",
           0.5200000000000005
          ],
          [
           "Memphis",
           2016,
           "AAC",
           0.4800000000000004
          ],
          [
           "Navy",
           2016,
           "AAC",
           0.4800000000000004
          ],
          [
           "SMU",
           2016,
           "AAC",
           -0.5099999999999998
          ],
          [
           "South Fla.",
           2016,
           "AAC",
           1.3499999999999996
          ],
          [
           "Temple",
           2016,
           "AAC",
           1.3500000000000005
          ],
          [
           "Tulane",
           2016,
           "AAC",
           -0.5300000000000002
          ],
          [
           "Tulsa",
           2016,
           "AAC",
           0.6800000000000006
          ],
          [
           "UCF",
           2016,
           "AAC",
           -0.10000000000000053
          ],
          [
           "UConn",
           2016,
           "AAC",
           -0.9100000000000001
          ],
          [
           "Cincinnati",
           2017,
           "AAC",
           -0.6099999999999994
          ],
          [
           "East Carolina",
           2017,
           "AAC",
           -2.2799999999999994
          ],
          [
           "Houston",
           2017,
           "AAC",
           0.6299999999999999
          ],
          [
           "Memphis",
           2017,
           "AAC",
           1.5999999999999996
          ],
          [
           "Navy",
           2017,
           "AAC",
           -0.13999999999999968
          ],
          [
           "SMU",
           2017,
           "AAC",
           -0.20000000000000018
          ],
          [
           "South Fla.",
           2017,
           "AAC",
           1.3100000000000005
          ],
          [
           "Temple",
           2017,
           "AAC",
           0.11999999999999922
          ],
          [
           "Tulane",
           2017,
           "AAC",
           -0.9199999999999999
          ],
          [
           "Tulsa",
           2017,
           "AAC",
           -1.5999999999999996
          ],
          [
           "UCF",
           2017,
           "AAC",
           1.7199999999999998
          ],
          [
           "UConn",
           2017,
           "AAC",
           -1.2799999999999994
          ],
          [
           "Cincinnati",
           2018,
           "AAC",
           1.42
          ],
          [
           "East Carolina",
           2018,
           "AAC",
           -1.1399999999999997
          ],
          [
           "Houston",
           2018,
           "AAC",
           0.6599999999999993
          ],
          [
           "Memphis",
           2018,
           "AAC",
           1.5099999999999998
          ],
          [
           "Navy",
           2018,
           "AAC",
           -1.25
          ],
          [
           "SMU",
           2018,
           "AAC",
           -0.1900000000000004
          ],
          [
           "South Fla.",
           2018,
           "AAC",
           0.16000000000000014
          ],
          [
           "Temple",
           2018,
           "AAC",
           1.0099999999999998
          ],
          [
           "Tulane",
           2018,
           "AAC",
           0.20999999999999996
          ],
          [
           "Tulsa",
           2018,
           "AAC",
           -0.5899999999999999
          ],
          [
           "UCF",
           2018,
           "AAC",
           1.42
          ],
          [
           "UConn",
           2018,
           "AAC",
           -3.4700000000000006
          ],
          [
           "Cincinnati",
           2019,
           "AAC",
           0.3700000000000001
          ],
          [
           "East Carolina",
           2019,
           "AAC",
           -0.7799999999999994
          ],
          [
           "Houston",
           2019,
           "AAC",
           -0.79
          ],
          [
           "Memphis",
           2019,
           "AAC",
           1.4799999999999995
          ],
          [
           "Navy",
           2019,
           "AAC",
           1.5
          ],
          [
           "SMU",
           2019,
           "AAC",
           0.3799999999999999
          ],
          [
           "South Fla.",
           2019,
           "AAC",
           -0.25
          ],
          [
           "Temple",
           2019,
           "AAC",
           0.4300000000000006
          ],
          [
           "Tulane",
           2019,
           "AAC",
           0.6699999999999999
          ],
          [
           "Tulsa",
           2019,
           "AAC",
           -0.34999999999999964
          ],
          [
           "UCF",
           2019,
           "AAC",
           2.3499999999999996
          ],
          [
           "UConn",
           2019,
           "AAC",
           -1.8899999999999997
          ],
          [
           "Cincinnati",
           2020,
           "AAC",
           2.5
          ],
          [
           "East Carolina",
           2020,
           "AAC",
           -0.6799999999999997
          ],
          [
           "Houston",
           2020,
           "AAC",
           -0.2400000000000002
          ],
          [
           "Memphis",
           2020,
           "AAC",
           0.41000000000000014
          ],
          [
           "Navy",
           2020,
           "AAC",
           -1.46
          ],
          [
           "SMU",
           2020,
           "AAC",
           0.9300000000000006
          ],
          [
           "South Fla.",
           2020,
           "AAC",
           -1
          ],
          [
           "Temple",
           2020,
           "AAC",
           -1.7599999999999998
          ],
          [
           "Tulane",
           2020,
           "AAC",
           0.07000000000000028
          ],
          [
           "Tulsa",
           2020,
           "AAC",
           0.9100000000000001
          ],
          [
           "UCF",
           2020,
           "AAC",
           0.41999999999999993
          ]
         ],
         "hovertemplate": "Points.Per.Game=%{y}<br>Team=%{customdata[0]}<br>Season=%{customdata[1]}<br>Net Yards Per Play=%{customdata[3]:.1f}<extra></extra>",
         "legendgroup": "AAC",
         "marker": {
          "color": "#636efa",
          "symbol": "circle"
         },
         "mode": "markers",
         "name": "AAC",
         "orientation": "v",
         "showlegend": true,
         "type": "scatter",
         "x": [
          0.6923076923076923,
          0.6153846153846154,
          0.9230769230769231,
          0.25,
          0.46153846153846156,
          0.4166666666666667,
          0.16666666666666666,
          0.16666666666666666,
          0.9230769230769231,
          0.25,
          0.6923076923076923,
          0.6153846153846154,
          0.6153846153846154,
          0.7692307692307693,
          0.08333333333333333,
          0.3333333333333333,
          0.5,
          0.25,
          0.16666666666666666,
          0.6923076923076923,
          0.16666666666666666,
          0.5384615384615384,
          0.4166666666666667,
          0.9285714285714286,
          0.6923076923076923,
          0.8461538461538461,
          0.16666666666666666,
          0.6153846153846154,
          0.7142857142857143,
          0.25,
          0.46153846153846156,
          0,
          0.46153846153846156,
          0.3333333333333333,
          0.25,
          0.6923076923076923,
          0.6153846153846154,
          0.6428571428571429,
          0.4166666666666667,
          0.8461538461538461,
          0.7142857142857143,
          0.3333333333333333,
          0.7692307692307693,
          0.46153846153846156,
          0.25,
          0.3333333333333333,
          0.25,
          0.5833333333333334,
          0.7692307692307693,
          0.5384615384615384,
          0.5384615384615384,
          0.8333333333333334,
          0.5384615384615384,
          0.4166666666666667,
          0.16666666666666666,
          1,
          0.25,
          0.8461538461538461,
          0.25,
          0.6153846153846154,
          0.5714285714285714,
          0.23076923076923078,
          0.4166666666666667,
          0.5384615384615384,
          0.6153846153846154,
          0.5384615384615384,
          0.25,
          0.9230769230769231,
          0.08333333333333333,
          0.7857142857142857,
          0.3333333333333333,
          0.3333333333333333,
          0.8571428571428571,
          0.8461538461538461,
          0.7692307692307693,
          0.3333333333333333,
          0.6153846153846154,
          0.5384615384615384,
          0.3333333333333333,
          0.7692307692307693,
          0.16666666666666666,
          1,
          0.3333333333333333,
          0.375,
          0.7272727272727273,
          0.3,
          0.7,
          0.1111111111111111,
          0.14285714285714285,
          0.5,
          0.75,
          0.6
         ],
         "xaxis": "x",
         "y": [
          32.1,
          33.2,
          35.2,
          19.5,
          26.5,
          26.8,
          13.8,
          24.9,
          34.6,
          20.6,
          34,
          35.8,
          29.8,
          36.2,
          11.1,
          17.2,
          23.1,
          16,
          24.7,
          28.1,
          15.5,
          33.8,
          27.4,
          40.4,
          40.2,
          36.8,
          27.8,
          33.6,
          29.8,
          19.7,
          37.2,
          13.9,
          17.2,
          19.3,
          27,
          35.8,
          38.8,
          37.9,
          27.7,
          43.8,
          32.4,
          24.1,
          42.5,
          28.8,
          14.8,
          20.9,
          24.9,
          28.3,
          45.5,
          30.5,
          37.8,
          38.3,
          25.1,
          27.5,
          29.3,
          48.2,
          23.6,
          34.9,
          22.8,
          43.9,
          42.9,
          25,
          30.4,
          28.5,
          34.9,
          26.8,
          24.1,
          43.2,
          22.2,
          29.6,
          26.8,
          30.7,
          40.4,
          37.2,
          41.8,
          20.8,
          26.3,
          33.1,
          26.4,
          43.4,
          18.9,
          39.3,
          30.2,
          30,
          31,
          16.6,
          38.6,
          23.1,
          19.9,
          34.7,
          27.2,
          42.2
         ],
         "yaxis": "y"
        },
        {
         "customdata": [
          [
           "Boston College",
           2013,
           "ACC",
           0.11000000000000032
          ],
          [
           "Clemson",
           2013,
           "ACC",
           1.33
          ],
          [
           "Duke",
           2013,
           "ACC",
           0.20000000000000018
          ],
          [
           "Florida St.",
           2013,
           "ACC",
           3.58
          ],
          [
           "Georgia Tech",
           2013,
           "ACC",
           0.5800000000000001
          ],
          [
           "Maryland",
           2013,
           "ACC",
           0.7000000000000002
          ],
          [
           "Miami (FL)",
           2013,
           "ACC",
           1
          ],
          [
           "NC State",
           2013,
           "ACC",
           -0.7699999999999996
          ],
          [
           "North Carolina",
           2013,
           "ACC",
           0.5899999999999999
          ],
          [
           "Pittsburgh",
           2013,
           "ACC",
           0
          ],
          [
           "Syracuse",
           2013,
           "ACC",
           -0.20999999999999996
          ],
          [
           "Virginia",
           2013,
           "ACC",
           -1.2199999999999998
          ],
          [
           "Virginia Tech",
           2013,
           "ACC",
           0.4500000000000002
          ],
          [
           "Wake Forest",
           2013,
           "ACC",
           -0.6500000000000004
          ],
          [
           "Boston College",
           2014,
           "ACC",
           0.5600000000000005
          ],
          [
           "Clemson",
           2014,
           "ACC",
           1.33
          ],
          [
           "Duke",
           2014,
           "ACC",
           0.09999999999999964
          ],
          [
           "Florida St.",
           2014,
           "ACC",
           0.8799999999999999
          ],
          [
           "Georgia Tech",
           2014,
           "ACC",
           0.39999999999999947
          ],
          [
           "Louisville",
           2014,
           "ACC",
           0.71
          ],
          [
           "Miami (FL)",
           2014,
           "ACC",
           1.8899999999999997
          ],
          [
           "NC State",
           2014,
           "ACC",
           0.7299999999999995
          ],
          [
           "North Carolina",
           2014,
           "ACC",
           -0.9700000000000006
          ],
          [
           "Pittsburgh",
           2014,
           "ACC",
           0.5800000000000001
          ],
          [
           "Syracuse",
           2014,
           "ACC",
           -0.08999999999999986
          ],
          [
           "Virginia",
           2014,
           "ACC",
           -0.05999999999999961
          ],
          [
           "Virginia Tech",
           2014,
           "ACC",
           -0.22000000000000064
          ],
          [
           "Wake Forest",
           2014,
           "ACC",
           -1.8399999999999999
          ],
          [
           "Boston College",
           2015,
           "ACC",
           0.33000000000000007
          ],
          [
           "Clemson",
           2015,
           "ACC",
           1.54
          ],
          [
           "Duke",
           2015,
           "ACC",
           0.16000000000000014
          ],
          [
           "Florida St.",
           2015,
           "ACC",
           1.8500000000000005
          ],
          [
           "Georgia Tech",
           2015,
           "ACC",
           0.02999999999999936
          ],
          [
           "Louisville",
           2015,
           "ACC",
           1.1899999999999995
          ],
          [
           "Miami (FL)",
           2015,
           "ACC",
           0.1200000000000001
          ],
          [
           "NC State",
           2015,
           "ACC",
           0.1200000000000001
          ],
          [
           "North Carolina",
           2015,
           "ACC",
           1.7800000000000002
          ],
          [
           "Pittsburgh",
           2015,
           "ACC",
           0.0699999999999994
          ],
          [
           "Syracuse",
           2015,
           "ACC",
           -1.0999999999999996
          ],
          [
           "Virginia",
           2015,
           "ACC",
           -0.7400000000000002
          ],
          [
           "Virginia Tech",
           2015,
           "ACC",
           -0.21999999999999975
          ],
          [
           "Wake Forest",
           2015,
           "ACC",
           -0.7700000000000005
          ],
          [
           "Boston College",
           2016,
           "ACC",
           -0.6699999999999999
          ],
          [
           "Clemson",
           2016,
           "ACC",
           1.5600000000000005
          ],
          [
           "Duke",
           2016,
           "ACC",
           -1.1399999999999997
          ],
          [
           "Florida St.",
           2016,
           "ACC",
           1.1900000000000004
          ],
          [
           "Georgia Tech",
           2016,
           "ACC",
           0.7700000000000005
          ],
          [
           "Louisville",
           2016,
           "ACC",
           2.5199999999999996
          ],
          [
           "Miami (FL)",
           2016,
           "ACC",
           1.6799999999999997
          ],
          [
           "NC State",
           2016,
           "ACC",
           0.6200000000000001
          ],
          [
           "North Carolina",
           2016,
           "ACC",
           1.2699999999999996
          ],
          [
           "Pittsburgh",
           2016,
           "ACC",
           0.7299999999999995
          ],
          [
           "Syracuse",
           2016,
           "ACC",
           -1.46
          ],
          [
           "Virginia",
           2016,
           "ACC",
           -1.4699999999999998
          ],
          [
           "Virginia Tech",
           2016,
           "ACC",
           0.7400000000000002
          ],
          [
           "Wake Forest",
           2016,
           "ACC",
           -0.7599999999999998
          ],
          [
           "Boston College",
           2017,
           "ACC",
           -0.27000000000000046
          ],
          [
           "Clemson",
           2017,
           "ACC",
           1.4700000000000006
          ],
          [
           "Duke",
           2017,
           "ACC",
           -0.2999999999999998
          ],
          [
           "Florida St.",
           2017,
           "ACC",
           0.9100000000000001
          ],
          [
           "Georgia Tech",
           2017,
           "ACC",
           0.22000000000000064
          ],
          [
           "Louisville",
           2017,
           "ACC",
           1.7799999999999994
          ],
          [
           "Miami (FL)",
           2017,
           "ACC",
           1.4700000000000006
          ],
          [
           "NC State",
           2017,
           "ACC",
           0.4300000000000006
          ],
          [
           "North Carolina",
           2017,
           "ACC",
           -0.5299999999999994
          ],
          [
           "Pittsburgh",
           2017,
           "ACC",
           -0.6100000000000003
          ],
          [
           "Syracuse",
           2017,
           "ACC",
           -1.0700000000000003
          ],
          [
           "Virginia",
           2017,
           "ACC",
           -0.5
          ],
          [
           "Virginia Tech",
           2017,
           "ACC",
           0.33000000000000007
          ],
          [
           "Wake Forest",
           2017,
           "ACC",
           0.7300000000000004
          ],
          [
           "Boston College",
           2018,
           "ACC",
           0.25
          ],
          [
           "Clemson",
           2018,
           "ACC",
           3.1599999999999993
          ],
          [
           "Duke",
           2018,
           "ACC",
           0.009999999999999787
          ],
          [
           "Florida St.",
           2018,
           "ACC",
           -0.1200000000000001
          ],
          [
           "Georgia Tech",
           2018,
           "ACC",
           0.1299999999999999
          ],
          [
           "Louisville",
           2018,
           "ACC",
           -1.5700000000000003
          ],
          [
           "Miami (FL)",
           2018,
           "ACC",
           1.29
          ],
          [
           "NC State",
           2018,
           "ACC",
           0.11999999999999922
          ],
          [
           "North Carolina",
           2018,
           "ACC",
           -0.03000000000000025
          ],
          [
           "Pittsburgh",
           2018,
           "ACC",
           0
          ],
          [
           "Syracuse",
           2018,
           "ACC",
           -0.15000000000000036
          ],
          [
           "Virginia",
           2018,
           "ACC",
           0.5700000000000003
          ],
          [
           "Virginia Tech",
           2018,
           "ACC",
           -0.5199999999999996
          ],
          [
           "Wake Forest",
           2018,
           "ACC",
           -0.3899999999999997
          ],
          [
           "Boston College",
           2019,
           "ACC",
           -0.54
          ],
          [
           "Clemson",
           2019,
           "ACC",
           2.92
          ],
          [
           "Duke",
           2019,
           "ACC",
           -0.8199999999999994
          ],
          [
           "Florida St.",
           2019,
           "ACC",
           0.5300000000000002
          ],
          [
           "Georgia Tech",
           2019,
           "ACC",
           -1.04
          ],
          [
           "Louisville",
           2019,
           "ACC",
           0.34999999999999964
          ],
          [
           "Miami (FL)",
           2019,
           "ACC",
           0.9199999999999999
          ],
          [
           "NC State",
           2019,
           "ACC",
           -0.41000000000000014
          ],
          [
           "North Carolina",
           2019,
           "ACC",
           1
          ],
          [
           "Pittsburgh",
           2019,
           "ACC",
           0.6799999999999997
          ],
          [
           "Syracuse",
           2019,
           "ACC",
           -0.8600000000000003
          ],
          [
           "Virginia",
           2019,
           "ACC",
           -0.08999999999999986
          ],
          [
           "Virginia Tech",
           2019,
           "ACC",
           0.41000000000000014
          ],
          [
           "Wake Forest",
           2019,
           "ACC",
           -0.0600000000000005
          ],
          [
           "Boston College",
           2020,
           "ACC",
           -0.45999999999999996
          ],
          [
           "Clemson",
           2020,
           "ACC",
           2.09
          ],
          [
           "Duke",
           2020,
           "ACC",
           -1.2199999999999998
          ],
          [
           "Florida St.",
           2020,
           "ACC",
           -0.9299999999999997
          ],
          [
           "Georgia Tech",
           2020,
           "ACC",
           -0.22000000000000064
          ],
          [
           "Louisville",
           2020,
           "ACC",
           0.8800000000000008
          ],
          [
           "Miami (FL)",
           2020,
           "ACC",
           0.3099999999999996
          ],
          [
           "NC State",
           2020,
           "ACC",
           0.14000000000000057
          ],
          [
           "North Carolina",
           2020,
           "ACC",
           2.1399999999999997
          ],
          [
           "Notre Dame",
           2020,
           "ACC",
           0.9799999999999995
          ],
          [
           "Pittsburgh",
           2020,
           "ACC",
           0.25
          ],
          [
           "Syracuse",
           2020,
           "ACC",
           -1.37
          ],
          [
           "Virginia",
           2020,
           "ACC",
           -0.71
          ],
          [
           "Virginia Tech",
           2020,
           "ACC",
           0.47999999999999954
          ],
          [
           "Wake Forest",
           2020,
           "ACC",
           -0.33000000000000007
          ]
         ],
         "hovertemplate": "Points.Per.Game=%{y}<br>Team=%{customdata[0]}<br>Season=%{customdata[1]}<br>Net Yards Per Play=%{customdata[3]:.1f}<extra></extra>",
         "legendgroup": "ACC",
         "marker": {
          "color": "#EF553B",
          "symbol": "circle"
         },
         "mode": "markers",
         "name": "ACC",
         "orientation": "v",
         "showlegend": true,
         "type": "scatter",
         "x": [
          0.5384615384615384,
          0.8461538461538461,
          0.7142857142857143,
          1,
          0.5384615384615384,
          0.5384615384615384,
          0.6923076923076923,
          0.25,
          0.5384615384615384,
          0.5384615384615384,
          0.5384615384615384,
          0.16666666666666666,
          0.6153846153846154,
          0.3333333333333333,
          0.5384615384615384,
          0.7692307692307693,
          0.6923076923076923,
          0.9285714285714286,
          0.7857142857142857,
          0.6923076923076923,
          0.46153846153846156,
          0.6153846153846154,
          0.46153846153846156,
          0.46153846153846156,
          0.25,
          0.4166666666666667,
          0.5384615384615384,
          0.25,
          0.25,
          0.9333333333333333,
          0.6153846153846154,
          0.7692307692307693,
          0.25,
          0.6153846153846154,
          0.6153846153846154,
          0.5384615384615384,
          0.7857142857142857,
          0.6153846153846154,
          0.3333333333333333,
          0.3333333333333333,
          0.5384615384615384,
          0.25,
          0.5384615384615384,
          0.9333333333333333,
          0.3333333333333333,
          0.7692307692307693,
          0.6923076923076923,
          0.6923076923076923,
          0.6923076923076923,
          0.5384615384615384,
          0.6153846153846154,
          0.6153846153846154,
          0.3333333333333333,
          0.16666666666666666,
          0.7142857142857143,
          0.5384615384615384,
          0.5384615384615384,
          0.8571428571428571,
          0.5384615384615384,
          0.5384615384615384,
          0.45454545454545453,
          0.6153846153846154,
          0.7692307692307693,
          0.6923076923076923,
          0.25,
          0.4166666666666667,
          0.3333333333333333,
          0.46153846153846156,
          0.6923076923076923,
          0.6153846153846154,
          0.5833333333333334,
          1,
          0.6153846153846154,
          0.4166666666666667,
          0.5384615384615384,
          0.16666666666666666,
          0.5384615384615384,
          0.6923076923076923,
          0.18181818181818182,
          0.5,
          0.7692307692307693,
          0.6153846153846154,
          0.46153846153846156,
          0.5384615384615384,
          0.46153846153846156,
          0.9333333333333333,
          0.4166666666666667,
          0.46153846153846156,
          0.25,
          0.6153846153846154,
          0.46153846153846156,
          0.3333333333333333,
          0.5384615384615384,
          0.6153846153846154,
          0.4166666666666667,
          0.6428571428571429,
          0.6153846153846154,
          0.6153846153846154,
          0.5454545454545454,
          0.9090909090909091,
          0.18181818181818182,
          0.3333333333333333,
          0.3,
          0.36363636363636365,
          0.8,
          0.7272727272727273,
          0.7272727272727273,
          0.9090909090909091,
          0.5454545454545454,
          0.09090909090909091,
          0.5,
          0.45454545454545453,
          0.5
         ],
         "xaxis": "x",
         "y": [
          27.7,
          40.2,
          32.8,
          51.6,
          35.1,
          26.2,
          33.8,
          22.8,
          32.7,
          26.3,
          22.7,
          19.8,
          22.5,
          18.3,
          26.2,
          30.8,
          32.4,
          33.7,
          37.9,
          31.2,
          29.2,
          30.2,
          33.2,
          31.8,
          17.1,
          25.8,
          24.1,
          14.8,
          17.2,
          38.5,
          31.5,
          31.7,
          29.3,
          28.7,
          27.8,
          33.2,
          40.7,
          28.2,
          27.3,
          25.8,
          31,
          17.4,
          20.4,
          39.2,
          23.3,
          35.1,
          28.2,
          42.5,
          34.3,
          27,
          32.3,
          40.9,
          25.7,
          22.5,
          35,
          20.4,
          25.7,
          33.3,
          26.5,
          27.8,
          28.1,
          38.1,
          29.1,
          32.2,
          26,
          23.9,
          27.4,
          22.5,
          28.2,
          35.3,
          32,
          44.3,
          29.4,
          21.9,
          33.6,
          19.8,
          28.8,
          33.8,
          27.4,
          25.6,
          40.2,
          28.5,
          29.8,
          32.8,
          29,
          43.9,
          25.3,
          27.9,
          16.7,
          33.1,
          25.7,
          22.1,
          33.1,
          21.2,
          28.3,
          32.1,
          30.8,
          31.8,
          27.8,
          44.9,
          24.8,
          25.8,
          23.9,
          29.5,
          34,
          31.1,
          43,
          35.2,
          29,
          17.8,
          30.7,
          31.1,
          37
         ],
         "yaxis": "y"
        },
        {
         "customdata": [
          [
           "Baylor",
           2013,
           "Big 12",
           2.74
          ],
          [
           "Iowa St.",
           2013,
           "Big 12",
           -1.2299999999999995
          ],
          [
           "Kansas",
           2013,
           "Big 12",
           -1.54
          ],
          [
           "Kansas St.",
           2013,
           "Big 12",
           1.2400000000000002
          ],
          [
           "Oklahoma",
           2013,
           "Big 12",
           0.45999999999999996
          ],
          [
           "Oklahoma St.",
           2013,
           "Big 12",
           1.1400000000000006
          ],
          [
           "TCU",
           2013,
           "Big 12",
           0.20000000000000018
          ],
          [
           "Texas",
           2013,
           "Big 12",
           -0.1900000000000004
          ],
          [
           "Texas Tech",
           2013,
           "Big 12",
           0.4899999999999993
          ],
          [
           "West Virginia",
           2013,
           "Big 12",
           -0.39999999999999947
          ],
          [
           "Baylor",
           2014,
           "Big 12",
           1.3599999999999994
          ],
          [
           "Iowa St.",
           2014,
           "Big 12",
           -1.63
          ],
          [
           "Kansas",
           2014,
           "Big 12",
           -1.67
          ],
          [
           "Kansas St.",
           2014,
           "Big 12",
           0.6900000000000004
          ],
          [
           "Oklahoma",
           2014,
           "Big 12",
           1.2700000000000005
          ],
          [
           "Oklahoma St.",
           2014,
           "Big 12",
           -0.3600000000000003
          ],
          [
           "TCU",
           2014,
           "Big 12",
           2.0199999999999996
          ],
          [
           "Texas",
           2014,
           "Big 12",
           0.2400000000000002
          ],
          [
           "Texas Tech",
           2014,
           "Big 12",
           0.3799999999999999
          ],
          [
           "West Virginia",
           2014,
           "Big 12",
           0.4900000000000002
          ],
          [
           "Baylor",
           2015,
           "Big 12",
           2.0699999999999994
          ],
          [
           "Iowa St.",
           2015,
           "Big 12",
           -0.7700000000000005
          ],
          [
           "Kansas",
           2015,
           "Big 12",
           -2.5300000000000002
          ],
          [
           "Kansas St.",
           2015,
           "Big 12",
           -1.29
          ],
          [
           "Oklahoma",
           2015,
           "Big 12",
           2.01
          ],
          [
           "Oklahoma St.",
           2015,
           "Big 12",
           0.6999999999999993
          ],
          [
           "TCU",
           2015,
           "Big 12",
           1.63
          ],
          [
           "Texas",
           2015,
           "Big 12",
           0.07000000000000028
          ],
          [
           "Texas Tech",
           2015,
           "Big 12",
           0.040000000000000036
          ],
          [
           "West Virginia",
           2015,
           "Big 12",
           0.6099999999999994
          ],
          [
           "Baylor",
           2016,
           "Big 12",
           0.7000000000000002
          ],
          [
           "Iowa St.",
           2016,
           "Big 12",
           -0.05999999999999961
          ],
          [
           "Kansas",
           2016,
           "Big 12",
           -1.08
          ],
          [
           "Kansas St.",
           2016,
           "Big 12",
           -0.02999999999999936
          ],
          [
           "Oklahoma",
           2016,
           "Big 12",
           1.6900000000000004
          ],
          [
           "Oklahoma St.",
           2016,
           "Big 12",
           0.8000000000000007
          ],
          [
           "TCU",
           2016,
           "Big 12",
           0.5899999999999999
          ],
          [
           "Texas",
           2016,
           "Big 12",
           0.27000000000000046
          ],
          [
           "Texas Tech",
           2016,
           "Big 12",
           -0.5499999999999998
          ],
          [
           "West Virginia",
           2016,
           "Big 12",
           0.8600000000000003
          ],
          [
           "Baylor",
           2017,
           "Big 12",
           -0.9100000000000001
          ],
          [
           "Iowa St.",
           2017,
           "Big 12",
           0.14999999999999947
          ],
          [
           "Kansas",
           2017,
           "Big 12",
           -1.8000000000000007
          ],
          [
           "Kansas St.",
           2017,
           "Big 12",
           0.3199999999999994
          ],
          [
           "Oklahoma",
           2017,
           "Big 12",
           2.4499999999999993
          ],
          [
           "Oklahoma St.",
           2017,
           "Big 12",
           1.83
          ],
          [
           "TCU",
           2017,
           "Big 12",
           1.0199999999999996
          ],
          [
           "Texas",
           2017,
           "Big 12",
           -0.040000000000000036
          ],
          [
           "Texas Tech",
           2017,
           "Big 12",
           0.3899999999999997
          ],
          [
           "West Virginia",
           2017,
           "Big 12",
           0.20999999999999996
          ],
          [
           "Baylor",
           2018,
           "Big 12",
           -0.4500000000000002
          ],
          [
           "Iowa St.",
           2018,
           "Big 12",
           0.7700000000000005
          ],
          [
           "Kansas",
           2018,
           "Big 12",
           -0.8899999999999997
          ],
          [
           "Kansas St.",
           2018,
           "Big 12",
           -0.7599999999999998
          ],
          [
           "Oklahoma",
           2018,
           "Big 12",
           2.4699999999999998
          ],
          [
           "Oklahoma St.",
           2018,
           "Big 12",
           0.3899999999999997
          ],
          [
           "TCU",
           2018,
           "Big 12",
           0.4400000000000004
          ],
          [
           "Texas",
           2018,
           "Big 12",
           -0.08999999999999986
          ],
          [
           "Texas Tech",
           2018,
           "Big 12",
           0.040000000000000036
          ],
          [
           "West Virginia",
           2018,
           "Big 12",
           1.2600000000000007
          ],
          [
           "Baylor",
           2019,
           "Big 12",
           1.33
          ],
          [
           "Iowa St.",
           2019,
           "Big 12",
           1.0899999999999999
          ],
          [
           "Kansas",
           2019,
           "Big 12",
           -0.29000000000000004
          ],
          [
           "Kansas St.",
           2019,
           "Big 12",
           -0.6200000000000001
          ],
          [
           "Oklahoma",
           2019,
           "Big 12",
           2.33
          ],
          [
           "Oklahoma St.",
           2019,
           "Big 12",
           0.5999999999999996
          ],
          [
           "TCU",
           2019,
           "Big 12",
           0.15000000000000036
          ],
          [
           "Texas",
           2019,
           "Big 12",
           0.2599999999999998
          ],
          [
           "Texas Tech",
           2019,
           "Big 12",
           -0.5
          ],
          [
           "West Virginia",
           2019,
           "Big 12",
           -0.5800000000000001
          ],
          [
           "Baylor",
           2020,
           "Big 12",
           -1.0799999999999992
          ],
          [
           "Iowa St.",
           2020,
           "Big 12",
           1.25
          ],
          [
           "Kansas",
           2020,
           "Big 12",
           -2.9699999999999998
          ],
          [
           "Kansas St.",
           2020,
           "Big 12",
           -0.5
          ],
          [
           "Oklahoma",
           2020,
           "Big 12",
           1.5900000000000007
          ],
          [
           "Oklahoma St.",
           2020,
           "Big 12",
           0.40000000000000036
          ],
          [
           "TCU",
           2020,
           "Big 12",
           0.6799999999999997
          ],
          [
           "Texas",
           2020,
           "Big 12",
           1.0900000000000007
          ],
          [
           "Texas Tech",
           2020,
           "Big 12",
           0.10999999999999943
          ],
          [
           "West Virginia",
           2020,
           "Big 12",
           0.7400000000000002
          ]
         ],
         "hovertemplate": "Points.Per.Game=%{y}<br>Team=%{customdata[0]}<br>Season=%{customdata[1]}<br>Net Yards Per Play=%{customdata[3]:.1f}<extra></extra>",
         "legendgroup": "Big 12",
         "marker": {
          "color": "#00cc96",
          "symbol": "circle"
         },
         "mode": "markers",
         "name": "Big 12",
         "orientation": "v",
         "showlegend": true,
         "type": "scatter",
         "x": [
          0.8461538461538461,
          0.25,
          0.25,
          0.6153846153846154,
          0.8461538461538461,
          0.7692307692307693,
          0.3333333333333333,
          0.6153846153846154,
          0.6153846153846154,
          0.3333333333333333,
          0.8461538461538461,
          0.16666666666666666,
          0.25,
          0.6923076923076923,
          0.6153846153846154,
          0.5384615384615384,
          0.9230769230769231,
          0.46153846153846156,
          0.3333333333333333,
          0.5384615384615384,
          0.7692307692307693,
          0.25,
          0,
          0.46153846153846156,
          0.8461538461538461,
          0.7692307692307693,
          0.8461538461538461,
          0.4166666666666667,
          0.5384615384615384,
          0.6153846153846154,
          0.5384615384615384,
          0.25,
          0.16666666666666666,
          0.6923076923076923,
          0.8461538461538461,
          0.7692307692307693,
          0.46153846153846156,
          0.4166666666666667,
          0.4166666666666667,
          0.7692307692307693,
          0.08333333333333333,
          0.6153846153846154,
          0.08333333333333333,
          0.6153846153846154,
          0.8571428571428571,
          0.7692307692307693,
          0.7857142857142857,
          0.5384615384615384,
          0.46153846153846156,
          0.5384615384615384,
          0.5384615384615384,
          0.6153846153846154,
          0.25,
          0.4166666666666667,
          0.8571428571428571,
          0.5384615384615384,
          0.5384615384615384,
          0.7142857142857143,
          0.4166666666666667,
          0.6666666666666666,
          0.7857142857142857,
          0.5384615384615384,
          0.25,
          0.6153846153846154,
          0.8571428571428571,
          0.6153846153846154,
          0.4166666666666667,
          0.6153846153846154,
          0.3333333333333333,
          0.4166666666666667,
          0.2222222222222222,
          0.7272727272727273,
          0,
          0.4,
          0.8,
          0.7,
          0.6,
          0.6666666666666666,
          0.4,
          0.5555555555555556
         ],
         "xaxis": "x",
         "y": [
          52.4,
          24.8,
          15.3,
          33.2,
          32.8,
          39.1,
          25.1,
          29.3,
          35.8,
          26.3,
          48.2,
          23.2,
          17.8,
          35.8,
          36.4,
          27.6,
          46.5,
          21.4,
          30.5,
          33.5,
          48.1,
          25,
          15.3,
          29.9,
          43.5,
          39.5,
          42.1,
          26.4,
          45.1,
          34,
          34.6,
          27.7,
          20.3,
          32.2,
          43.9,
          38.6,
          31,
          31.9,
          43.7,
          31.2,
          24.3,
          29.2,
          18.7,
          32.3,
          45.1,
          45,
          33.6,
          29.5,
          34.3,
          34.5,
          29.5,
          26.8,
          23.8,
          22.5,
          48.4,
          38.4,
          23.5,
          31.1,
          37.3,
          40.3,
          33.6,
          32.2,
          23.5,
          29.6,
          42.1,
          32.5,
          30.3,
          35.2,
          30.5,
          20.6,
          23.3,
          32.8,
          15.8,
          26.6,
          41.8,
          29.5,
          30.8,
          41.3,
          29.1,
          26.8
         ],
         "yaxis": "y"
        },
        {
         "customdata": [
          [
           "Illinois",
           2013,
           "Big Ten",
           -0.75
          ],
          [
           "Indiana",
           2013,
           "Big Ten",
           -0.16000000000000014
          ],
          [
           "Iowa",
           2013,
           "Big Ten",
           0.6799999999999997
          ],
          [
           "Michigan",
           2013,
           "Big Ten",
           0.15000000000000036
          ],
          [
           "Michigan St.",
           2013,
           "Big Ten",
           1.3600000000000003
          ],
          [
           "Minnesota",
           2013,
           "Big Ten",
           -0.4299999999999997
          ],
          [
           "Nebraska",
           2013,
           "Big Ten",
           0.3600000000000003
          ],
          [
           "Northwestern",
           2013,
           "Big Ten",
           -0.07000000000000028
          ],
          [
           "Ohio St.",
           2013,
           "Big Ten",
           1.87
          ],
          [
           "Penn St.",
           2013,
           "Big Ten",
           0.41000000000000014
          ],
          [
           "Purdue",
           2013,
           "Big Ten",
           -1.6700000000000008
          ],
          [
           "Wisconsin",
           2013,
           "Big Ten",
           2.119999999999999
          ],
          [
           "Illinois",
           2014,
           "Big Ten",
           -0.5999999999999996
          ],
          [
           "Indiana",
           2014,
           "Big Ten",
           -0.14999999999999947
          ],
          [
           "Iowa",
           2014,
           "Big Ten",
           0.1899999999999995
          ],
          [
           "Maryland",
           2014,
           "Big Ten",
           -0.1900000000000004
          ],
          [
           "Michigan",
           2014,
           "Big Ten",
           0.5500000000000007
          ],
          [
           "Michigan St.",
           2014,
           "Big Ten",
           1.46
          ],
          [
           "Minnesota",
           2014,
           "Big Ten",
           0.020000000000000462
          ],
          [
           "Nebraska",
           2014,
           "Big Ten",
           0.8499999999999996
          ],
          [
           "Northwestern",
           2014,
           "Big Ten",
           -0.75
          ],
          [
           "Ohio St.",
           2014,
           "Big Ten",
           2
          ],
          [
           "Penn St.",
           2014,
           "Big Ten",
           0.33000000000000007
          ],
          [
           "Purdue",
           2014,
           "Big Ten",
           -0.6299999999999999
          ],
          [
           "Rutgers",
           2014,
           "Big Ten",
           -0.39999999999999947
          ],
          [
           "Wisconsin",
           2014,
           "Big Ten",
           1.8599999999999994
          ],
          [
           "Illinois",
           2015,
           "Big Ten",
           0.02999999999999936
          ],
          [
           "Indiana",
           2015,
           "Big Ten",
           -0.14999999999999947
          ],
          [
           "Iowa",
           2015,
           "Big Ten",
           0.8099999999999996
          ],
          [
           "Maryland",
           2015,
           "Big Ten",
           -0.15000000000000036
          ],
          [
           "Michigan",
           2015,
           "Big Ten",
           1.2199999999999998
          ],
          [
           "Michigan St.",
           2015,
           "Big Ten",
           -0.02999999999999936
          ],
          [
           "Minnesota",
           2015,
           "Big Ten",
           0.4399999999999995
          ],
          [
           "Nebraska",
           2015,
           "Big Ten",
           0.20999999999999996
          ],
          [
           "Northwestern",
           2015,
           "Big Ten",
           -0.0600000000000005
          ],
          [
           "Ohio St.",
           2015,
           "Big Ten",
           1.83
          ],
          [
           "Penn St.",
           2015,
           "Big Ten",
           0.6899999999999995
          ],
          [
           "Purdue",
           2015,
           "Big Ten",
           -1.33
          ],
          [
           "Rutgers",
           2015,
           "Big Ten",
           -1.2399999999999993
          ],
          [
           "Wisconsin",
           2015,
           "Big Ten",
           0.8799999999999999
          ],
          [
           "Illinois",
           2016,
           "Big Ten",
           -0.21999999999999975
          ],
          [
           "Indiana",
           2016,
           "Big Ten",
           0.5
          ],
          [
           "Iowa",
           2016,
           "Big Ten",
           0.08999999999999986
          ],
          [
           "Maryland",
           2016,
           "Big Ten",
           -0.05999999999999961
          ],
          [
           "Michigan",
           2016,
           "Big Ten",
           1.6399999999999997
          ],
          [
           "Michigan St.",
           2016,
           "Big Ten",
           0.10999999999999943
          ],
          [
           "Minnesota",
           2016,
           "Big Ten",
           0.41999999999999993
          ],
          [
           "Nebraska",
           2016,
           "Big Ten",
           -0.16999999999999993
          ],
          [
           "Northwestern",
           2016,
           "Big Ten",
           -0.14000000000000057
          ],
          [
           "Ohio St.",
           2016,
           "Big Ten",
           1.6499999999999995
          ],
          [
           "Penn St.",
           2016,
           "Big Ten",
           1.46
          ],
          [
           "Purdue",
           2016,
           "Big Ten",
           -1.1099999999999994
          ],
          [
           "Rutgers",
           2016,
           "Big Ten",
           -2.21
          ],
          [
           "Wisconsin",
           2016,
           "Big Ten",
           0.5300000000000002
          ],
          [
           "Illinois",
           2017,
           "Big Ten",
           -1.0200000000000005
          ],
          [
           "Indiana",
           2017,
           "Big Ten",
           0.07000000000000028
          ],
          [
           "Iowa",
           2017,
           "Big Ten",
           0.040000000000000036
          ],
          [
           "Maryland",
           2017,
           "Big Ten",
           -0.46999999999999975
          ],
          [
           "Michigan",
           2017,
           "Big Ten",
           0.6600000000000001
          ],
          [
           "Michigan St.",
           2017,
           "Big Ten",
           0.2599999999999998
          ],
          [
           "Minnesota",
           2017,
           "Big Ten",
           -0.6399999999999997
          ],
          [
           "Nebraska",
           2017,
           "Big Ten",
           -0.75
          ],
          [
           "Northwestern",
           2017,
           "Big Ten",
           0.29000000000000004
          ],
          [
           "Ohio St.",
           2017,
           "Big Ten",
           2.4399999999999995
          ],
          [
           "Penn St.",
           2017,
           "Big Ten",
           1.8100000000000005
          ],
          [
           "Purdue",
           2017,
           "Big Ten",
           0.3200000000000003
          ],
          [
           "Rutgers",
           2017,
           "Big Ten",
           -1.29
          ],
          [
           "Wisconsin",
           2017,
           "Big Ten",
           1.67
          ],
          [
           "Illinois",
           2018,
           "Big Ten",
           -1.0700000000000003
          ],
          [
           "Indiana",
           2018,
           "Big Ten",
           -0.5199999999999996
          ],
          [
           "Iowa",
           2018,
           "Big Ten",
           0.8800000000000008
          ],
          [
           "Maryland",
           2018,
           "Big Ten",
           0.5600000000000005
          ],
          [
           "Michigan",
           2018,
           "Big Ten",
           1.5099999999999998
          ],
          [
           "Michigan St.",
           2018,
           "Big Ten",
           0.08000000000000007
          ],
          [
           "Minnesota",
           2018,
           "Big Ten",
           -0.2599999999999998
          ],
          [
           "Nebraska",
           2018,
           "Big Ten",
           0.5
          ],
          [
           "Northwestern",
           2018,
           "Big Ten",
           -0.8300000000000001
          ],
          [
           "Ohio St.",
           2018,
           "Big Ten",
           0.8600000000000003
          ],
          [
           "Penn St.",
           2018,
           "Big Ten",
           1.3900000000000006
          ],
          [
           "Purdue",
           2018,
           "Big Ten",
           0.35999999999999943
          ],
          [
           "Rutgers",
           2018,
           "Big Ten",
           -1.5600000000000005
          ],
          [
           "Wisconsin",
           2018,
           "Big Ten",
           0.9000000000000004
          ],
          [
           "Illinois",
           2019,
           "Big Ten",
           -0.5999999999999996
          ],
          [
           "Indiana",
           2019,
           "Big Ten",
           0.6200000000000001
          ],
          [
           "Iowa",
           2019,
           "Big Ten",
           0.7199999999999998
          ],
          [
           "Maryland",
           2019,
           "Big Ten",
           -0.5800000000000001
          ],
          [
           "Michigan",
           2019,
           "Big Ten",
           1.0499999999999998
          ],
          [
           "Michigan St.",
           2019,
           "Big Ten",
           0.23000000000000043
          ],
          [
           "Minnesota",
           2019,
           "Big Ten",
           1.3000000000000007
          ],
          [
           "Nebraska",
           2019,
           "Big Ten",
           0.14999999999999947
          ],
          [
           "Northwestern",
           2019,
           "Big Ten",
           -0.8299999999999992
          ],
          [
           "Ohio St.",
           2019,
           "Big Ten",
           2.8100000000000005
          ],
          [
           "Penn St.",
           2019,
           "Big Ten",
           1.2299999999999995
          ],
          [
           "Purdue",
           2019,
           "Big Ten",
           -0.5499999999999998
          ],
          [
           "Rutgers",
           2019,
           "Big Ten",
           -1.7599999999999998
          ],
          [
           "Wisconsin",
           2019,
           "Big Ten",
           1.5099999999999998
          ],
          [
           "Illinois",
           2020,
           "Big Ten",
           -1.1999999999999993
          ],
          [
           "Indiana",
           2020,
           "Big Ten",
           -0.2400000000000002
          ],
          [
           "Iowa",
           2020,
           "Big Ten",
           1.08
          ],
          [
           "Maryland",
           2020,
           "Big Ten",
           1.2399999999999993
          ],
          [
           "Michigan",
           2020,
           "Big Ten",
           0.3600000000000003
          ],
          [
           "Michigan St.",
           2020,
           "Big Ten",
           -0.45999999999999996
          ],
          [
           "Minnesota",
           2020,
           "Big Ten",
           -1.1900000000000004
          ],
          [
           "Nebraska",
           2020,
           "Big Ten",
           0.09999999999999964
          ],
          [
           "Northwestern",
           2020,
           "Big Ten",
           -0.09999999999999964
          ],
          [
           "Ohio St.",
           2020,
           "Big Ten",
           1.8600000000000003
          ],
          [
           "Penn St.",
           2020,
           "Big Ten",
           0.40000000000000036
          ],
          [
           "Purdue",
           2020,
           "Big Ten",
           0.3200000000000003
          ],
          [
           "Rutgers",
           2020,
           "Big Ten",
           -1.2400000000000002
          ],
          [
           "Wisconsin",
           2020,
           "Big Ten",
           0.2400000000000002
          ]
         ],
         "hovertemplate": "Points.Per.Game=%{y}<br>Team=%{customdata[0]}<br>Season=%{customdata[1]}<br>Net Yards Per Play=%{customdata[3]:.1f}<extra></extra>",
         "legendgroup": "Big Ten",
         "marker": {
          "color": "#ab63fa",
          "symbol": "circle"
         },
         "mode": "markers",
         "name": "Big Ten",
         "orientation": "v",
         "showlegend": true,
         "type": "scatter",
         "x": [
          0.3333333333333333,
          0.4166666666666667,
          0.6153846153846154,
          0.5384615384615384,
          0.9285714285714286,
          0.6153846153846154,
          0.6923076923076923,
          0.4166666666666667,
          0.8571428571428571,
          0.5833333333333334,
          0.08333333333333333,
          0.6923076923076923,
          0.46153846153846156,
          0.3333333333333333,
          0.5384615384615384,
          0.5384615384615384,
          0.4166666666666667,
          0.8461538461538461,
          0.6153846153846154,
          0.6923076923076923,
          0.4166666666666667,
          0.9333333333333333,
          0.5384615384615384,
          0.25,
          0.6153846153846154,
          0.7857142857142857,
          0.4166666666666667,
          0.46153846153846156,
          0.8571428571428571,
          0.25,
          0.7692307692307693,
          0.8571428571428571,
          0.46153846153846156,
          0.46153846153846156,
          0.7692307692307693,
          0.9230769230769231,
          0.5384615384615384,
          0.16666666666666666,
          0.3333333333333333,
          0.7692307692307693,
          0.25,
          0.46153846153846156,
          0.6153846153846154,
          0.46153846153846156,
          0.7692307692307693,
          0.25,
          0.6923076923076923,
          0.6923076923076923,
          0.5384615384615384,
          0.8461538461538461,
          0.7857142857142857,
          0.25,
          0.16666666666666666,
          0.7857142857142857,
          0.16666666666666666,
          0.4166666666666667,
          0.6153846153846154,
          0.3333333333333333,
          0.6153846153846154,
          0.7692307692307693,
          0.4166666666666667,
          0.3333333333333333,
          0.7692307692307693,
          0.8571428571428571,
          0.8461538461538461,
          0.5384615384615384,
          0.3333333333333333,
          0.9285714285714286,
          0.3333333333333333,
          0.4166666666666667,
          0.6923076923076923,
          0.4166666666666667,
          0.7692307692307693,
          0.5384615384615384,
          0.5384615384615384,
          0.3333333333333333,
          0.6428571428571429,
          0.9285714285714286,
          0.6923076923076923,
          0.46153846153846156,
          0.08333333333333333,
          0.6153846153846154,
          0.46153846153846156,
          0.6153846153846154,
          0.7692307692307693,
          0.25,
          0.6923076923076923,
          0.5384615384615384,
          0.8461538461538461,
          0.4166666666666667,
          0.25,
          0.9285714285714286,
          0.8461538461538461,
          0.3333333333333333,
          0.16666666666666666,
          0.7142857142857143,
          0.25,
          0.8571428571428571,
          0.75,
          0.4,
          0.3333333333333333,
          0.2857142857142857,
          0.42857142857142855,
          0.375,
          0.75,
          1,
          0.4444444444444444,
          0.3333333333333333,
          0.3333333333333333,
          0.5
         ],
         "xaxis": "x",
         "y": [
          29.7,
          38.4,
          26.3,
          32.2,
          29.4,
          25.7,
          31.9,
          26.2,
          45.5,
          28.7,
          14.9,
          34.8,
          25.9,
          25.1,
          28.2,
          28.5,
          20.9,
          43,
          28.4,
          37.8,
          23,
          44.8,
          20.6,
          23.8,
          26.7,
          34.6,
          22.7,
          36.5,
          30.9,
          24.7,
          31.4,
          29.8,
          22.5,
          32.8,
          19.5,
          35.7,
          23.2,
          25.1,
          27.1,
          26.8,
          19.7,
          25.8,
          24.9,
          25.8,
          40.3,
          24.1,
          29.3,
          26.5,
          26,
          39.4,
          37.6,
          24.6,
          15.7,
          28.4,
          15.4,
          26.8,
          28.2,
          24.1,
          25.2,
          24.5,
          22.1,
          25.8,
          29.2,
          41.1,
          41.1,
          25.2,
          18,
          33.8,
          26,
          26.4,
          31.2,
          28.5,
          35.2,
          18.7,
          28.9,
          30,
          24.2,
          42.4,
          33.8,
          30.5,
          13.5,
          29.7,
          26.7,
          31.8,
          25.8,
          25.3,
          31.7,
          22.4,
          34.1,
          28,
          16.3,
          46.9,
          35.8,
          25.8,
          13.3,
          34.1,
          20.1,
          30.1,
          31.8,
          23.6,
          28.3,
          18,
          27.3,
          23.1,
          23.4,
          42.5,
          29.8,
          27.2,
          26.7,
          22.3
         ],
         "yaxis": "y"
        },
        {
         "customdata": [
          [
           "East Carolina",
           2013,
           "C-USA",
           1.0199999999999996
          ],
          [
           "FIU",
           2013,
           "C-USA",
           -3.02
          ],
          [
           "Fla. Atlantic",
           2013,
           "C-USA",
           0.4900000000000002
          ],
          [
           "Louisiana Tech",
           2013,
           "C-USA",
           -0.17999999999999972
          ],
          [
           "Marshall",
           2013,
           "C-USA",
           1.5099999999999998
          ],
          [
           "Middle Tenn.",
           2013,
           "C-USA",
           0.40000000000000036
          ],
          [
           "North Texas",
           2013,
           "C-USA",
           0.47000000000000064
          ],
          [
           "Rice",
           2013,
           "C-USA",
           0.09999999999999964
          ],
          [
           "Southern Miss.",
           2013,
           "C-USA",
           -1.25
          ],
          [
           "Tulane",
           2013,
           "C-USA",
           -0.2599999999999998
          ],
          [
           "Tulsa",
           2013,
           "C-USA",
           -0.8299999999999992
          ],
          [
           "UAB",
           2013,
           "C-USA",
           -1.37
          ],
          [
           "UTEP",
           2013,
           "C-USA",
           -2.38
          ],
          [
           "FIU",
           2014,
           "C-USA",
           -1.0499999999999998
          ],
          [
           "Fla. Atlantic",
           2014,
           "C-USA",
           -0.8400000000000007
          ],
          [
           "Louisiana Tech",
           2014,
           "C-USA",
           0.9199999999999999
          ],
          [
           "Marshall",
           2014,
           "C-USA",
           2.8599999999999994
          ],
          [
           "Middle Tenn.",
           2014,
           "C-USA",
           0.08000000000000007
          ],
          [
           "North Texas",
           2014,
           "C-USA",
           -0.6100000000000003
          ],
          [
           "Rice",
           2014,
           "C-USA",
           -0.1200000000000001
          ],
          [
           "Southern Miss.",
           2014,
           "C-USA",
           -1.3100000000000005
          ],
          [
           "UAB",
           2014,
           "C-USA",
           -0.16999999999999993
          ],
          [
           "UTEP",
           2014,
           "C-USA",
           -1
          ],
          [
           "UTSA",
           2014,
           "C-USA",
           -0.75
          ],
          [
           "Western Ky.",
           2014,
           "C-USA",
           0.3899999999999997
          ],
          [
           "FIU",
           2015,
           "C-USA",
           -0.6500000000000004
          ],
          [
           "Fla. Atlantic",
           2015,
           "C-USA",
           -0.4500000000000002
          ],
          [
           "Louisiana Tech",
           2015,
           "C-USA",
           1.6100000000000003
          ],
          [
           "Marshall",
           2015,
           "C-USA",
           0.6899999999999995
          ],
          [
           "Middle Tenn.",
           2015,
           "C-USA",
           0.45999999999999996
          ],
          [
           "North Texas",
           2015,
           "C-USA",
           -2.1100000000000003
          ],
          [
           "Old Dominion",
           2015,
           "C-USA",
           -0.33000000000000007
          ],
          [
           "Rice",
           2015,
           "C-USA",
           -1.8099999999999996
          ],
          [
           "Southern Miss.",
           2015,
           "C-USA",
           1.5899999999999999
          ],
          [
           "UTEP",
           2015,
           "C-USA",
           -1.9000000000000004
          ],
          [
           "UTSA",
           2015,
           "C-USA",
           -0.9699999999999998
          ],
          [
           "Western Ky.",
           2015,
           "C-USA",
           1.54
          ],
          [
           "Charlotte",
           2016,
           "C-USA",
           -1.0899999999999999
          ],
          [
           "FIU",
           2016,
           "C-USA",
           -0.9100000000000001
          ],
          [
           "Fla. Atlantic",
           2016,
           "C-USA",
           -1.21
          ],
          [
           "Louisiana Tech",
           2016,
           "C-USA",
           1.7199999999999998
          ],
          [
           "Marshall",
           2016,
           "C-USA",
           -1.3499999999999996
          ],
          [
           "Middle Tenn.",
           2016,
           "C-USA",
           1.4500000000000002
          ],
          [
           "North Texas",
           2016,
           "C-USA",
           -0.9900000000000002
          ],
          [
           "Old Dominion",
           2016,
           "C-USA",
           1
          ],
          [
           "Rice",
           2016,
           "C-USA",
           -2.2699999999999996
          ],
          [
           "Southern Miss.",
           2016,
           "C-USA",
           0.2999999999999998
          ],
          [
           "UTEP",
           2016,
           "C-USA",
           -0.10000000000000053
          ],
          [
           "UTSA",
           2016,
           "C-USA",
           -0.3100000000000005
          ],
          [
           "Western Ky.",
           2016,
           "C-USA",
           2.45
          ],
          [
           "Charlotte",
           2017,
           "C-USA",
           -1.2400000000000002
          ],
          [
           "FIU",
           2017,
           "C-USA",
           -0.28999999999999915
          ],
          [
           "Fla. Atlantic",
           2017,
           "C-USA",
           1.6099999999999994
          ],
          [
           "Louisiana Tech",
           2017,
           "C-USA",
           0.14000000000000057
          ],
          [
           "Marshall",
           2017,
           "C-USA",
           0.5499999999999998
          ],
          [
           "Middle Tenn.",
           2017,
           "C-USA",
           0.7299999999999995
          ],
          [
           "North Texas",
           2017,
           "C-USA",
           0.17999999999999972
          ],
          [
           "Old Dominion",
           2017,
           "C-USA",
           -0.8799999999999999
          ],
          [
           "Rice",
           2017,
           "C-USA",
           -0.9899999999999993
          ],
          [
           "Southern Miss.",
           2017,
           "C-USA",
           0.8399999999999999
          ],
          [
           "UAB",
           2017,
           "C-USA",
           0.03000000000000025
          ],
          [
           "UTEP",
           2017,
           "C-USA",
           -2.1500000000000004
          ],
          [
           "UTSA",
           2017,
           "C-USA",
           0.6699999999999999
          ],
          [
           "Western Ky.",
           2017,
           "C-USA",
           -0.1999999999999993
          ],
          [
           "Charlotte",
           2018,
           "C-USA",
           -0.8200000000000003
          ],
          [
           "FIU",
           2018,
           "C-USA",
           0.7199999999999998
          ],
          [
           "Fla. Atlantic",
           2018,
           "C-USA",
           0.23999999999999932
          ],
          [
           "Louisiana Tech",
           2018,
           "C-USA",
           0.3899999999999997
          ],
          [
           "Marshall",
           2018,
           "C-USA",
           0.8199999999999994
          ],
          [
           "Middle Tenn.",
           2018,
           "C-USA",
           0.0699999999999994
          ],
          [
           "North Texas",
           2018,
           "C-USA",
           0.8799999999999999
          ],
          [
           "Old Dominion",
           2018,
           "C-USA",
           -0.5700000000000003
          ],
          [
           "Rice",
           2018,
           "C-USA",
           -2.0699999999999994
          ],
          [
           "Southern Miss.",
           2018,
           "C-USA",
           0.5700000000000003
          ],
          [
           "UAB",
           2018,
           "C-USA",
           1.1100000000000003
          ],
          [
           "UTEP",
           2018,
           "C-USA",
           -1.0200000000000005
          ],
          [
           "UTSA",
           2018,
           "C-USA",
           -2.5
          ],
          [
           "Western Ky.",
           2018,
           "C-USA",
           -0.8500000000000005
          ],
          [
           "Charlotte",
           2019,
           "C-USA",
           0.33999999999999986
          ],
          [
           "FIU",
           2019,
           "C-USA",
           -0.11000000000000032
          ],
          [
           "Fla. Atlantic",
           2019,
           "C-USA",
           0.6100000000000003
          ],
          [
           "Louisiana Tech",
           2019,
           "C-USA",
           0.8700000000000001
          ],
          [
           "Marshall",
           2019,
           "C-USA",
           0.22999999999999954
          ],
          [
           "Middle Tenn.",
           2019,
           "C-USA",
           0.15000000000000036
          ],
          [
           "North Texas",
           2019,
           "C-USA",
           0.17999999999999972
          ],
          [
           "Old Dominion",
           2019,
           "C-USA",
           -1.6000000000000005
          ],
          [
           "Rice",
           2019,
           "C-USA",
           -1.2799999999999994
          ],
          [
           "Southern Miss.",
           2019,
           "C-USA",
           0.3600000000000003
          ],
          [
           "UAB",
           2019,
           "C-USA",
           0.79
          ],
          [
           "UTEP",
           2019,
           "C-USA",
           -1.62
          ],
          [
           "UTSA",
           2019,
           "C-USA",
           -1.4699999999999998
          ],
          [
           "Western Ky.",
           2019,
           "C-USA",
           0.3799999999999999
          ],
          [
           "Charlotte",
           2020,
           "C-USA",
           -1.0999999999999996
          ],
          [
           "FIU",
           2020,
           "C-USA",
           -1.17
          ],
          [
           "Fla. Atlantic",
           2020,
           "C-USA",
           -0.20999999999999996
          ],
          [
           "Louisiana Tech",
           2020,
           "C-USA",
           -1.62
          ],
          [
           "Marshall",
           2020,
           "C-USA",
           1.46
          ],
          [
           "Middle Tenn.",
           2020,
           "C-USA",
           -0.8700000000000001
          ],
          [
           "North Texas",
           2020,
           "C-USA",
           -0.35000000000000053
          ],
          [
           "Rice",
           2020,
           "C-USA",
           -0.9400000000000004
          ],
          [
           "Southern Miss.",
           2020,
           "C-USA",
           0.03000000000000025
          ],
          [
           "UAB",
           2020,
           "C-USA",
           1.2299999999999995
          ],
          [
           "UTEP",
           2020,
           "C-USA",
           -0.9400000000000004
          ],
          [
           "UTSA",
           2020,
           "C-USA",
           0.08999999999999986
          ],
          [
           "Western Ky.",
           2020,
           "C-USA",
           -0.41000000000000014
          ]
         ],
         "hovertemplate": "Points.Per.Game=%{y}<br>Team=%{customdata[0]}<br>Season=%{customdata[1]}<br>Net Yards Per Play=%{customdata[3]:.1f}<extra></extra>",
         "legendgroup": "C-USA",
         "marker": {
          "color": "#FFA15A",
          "symbol": "circle"
         },
         "mode": "markers",
         "name": "C-USA",
         "orientation": "v",
         "showlegend": true,
         "type": "scatter",
         "x": [
          0.7692307692307693,
          0.08333333333333333,
          0.5,
          0.3333333333333333,
          0.7142857142857143,
          0.6153846153846154,
          0.6923076923076923,
          0.7142857142857143,
          0.08333333333333333,
          0.5384615384615384,
          0.25,
          0.16666666666666666,
          0.16666666666666666,
          0.3333333333333333,
          0.25,
          0.6428571428571429,
          0.9285714285714286,
          0.5,
          0.3333333333333333,
          0.6153846153846154,
          0.25,
          0.5,
          0.5384615384615384,
          0.3333333333333333,
          0.6153846153846154,
          0.4166666666666667,
          0.25,
          0.6923076923076923,
          0.7692307692307693,
          0.5384615384615384,
          0.08333333333333333,
          0.4166666666666667,
          0.4166666666666667,
          0.6428571428571429,
          0.4166666666666667,
          0.25,
          0.8571428571428571,
          0.3333333333333333,
          0.3333333333333333,
          0.25,
          0.6428571428571429,
          0.25,
          0.6153846153846154,
          0.38461538461538464,
          0.7692307692307693,
          0.25,
          0.5384615384615384,
          0.3333333333333333,
          0.46153846153846156,
          0.7857142857142857,
          0.08333333333333333,
          0.6153846153846154,
          0.7857142857142857,
          0.5384615384615384,
          0.6153846153846154,
          0.5384615384615384,
          0.6428571428571429,
          0.4166666666666667,
          0.08333333333333333,
          0.6153846153846154,
          0.6153846153846154,
          0,
          0.5454545454545454,
          0.46153846153846156,
          0.4166666666666667,
          0.6923076923076923,
          0.4166666666666667,
          0.6153846153846154,
          0.6923076923076923,
          0.5714285714285714,
          0.6923076923076923,
          0.3333333333333333,
          0.15384615384615385,
          0.5454545454545454,
          0.7857142857142857,
          0.08333333333333333,
          0.25,
          0.25,
          0.5384615384615384,
          0.46153846153846156,
          0.7857142857142857,
          0.7692307692307693,
          0.6153846153846154,
          0.3333333333333333,
          0.3333333333333333,
          0.08333333333333333,
          0.25,
          0.5384615384615384,
          0.6428571428571429,
          0.08333333333333333,
          0.3333333333333333,
          0.6923076923076923,
          0.3333333333333333,
          0,
          0.5555555555555556,
          0.5,
          0.7,
          0.3333333333333333,
          0.4,
          0.4,
          0.3,
          0.6666666666666666,
          0.375,
          0.6363636363636364,
          0.45454545454545453
         ],
         "xaxis": "x",
         "y": [
          40.2,
          9.8,
          26.4,
          19.2,
          42.1,
          29,
          31.8,
          29.6,
          17.1,
          24.8,
          21.1,
          26.3,
          21.8,
          23,
          24,
          37.4,
          45.6,
          31.6,
          27.2,
          28.8,
          19,
          33.2,
          26.6,
          17.1,
          44.4,
          25.5,
          22.5,
          37.5,
          31.3,
          34,
          15.2,
          24.3,
          26.1,
          39.9,
          20.7,
          22.6,
          44.3,
          25.2,
          24,
          26.4,
          44.3,
          26.4,
          39.7,
          24.8,
          35.1,
          25.3,
          32.8,
          26.3,
          29.2,
          45.5,
          14.2,
          25.6,
          40.6,
          30.5,
          26.7,
          25.5,
          35.5,
          20.7,
          16.3,
          29.2,
          27.8,
          11.8,
          23.5,
          25.5,
          21.7,
          34.6,
          31.1,
          24.7,
          28.2,
          28,
          34.6,
          30.8,
          18.9,
          26.2,
          29.9,
          17.7,
          14.2,
          21.1,
          29.8,
          26.5,
          36.4,
          32.5,
          25.8,
          26.3,
          30.6,
          16.3,
          17.9,
          26.6,
          23.1,
          19.6,
          20.3,
          25.4,
          27,
          22.4,
          18.9,
          26.7,
          28.5,
          22.9,
          34.4,
          23.4,
          25.3,
          28.4,
          23,
          28.6,
          18.8
         ],
         "yaxis": "y"
        },
        {
         "customdata": [
          [
           "Army West Point",
           2013,
           "FBS Independent",
           -1.0599999999999996
          ],
          [
           "BYU",
           2013,
           "FBS Independent",
           0.9900000000000002
          ],
          [
           "Idaho",
           2013,
           "FBS Independent",
           -2.1499999999999995
          ],
          [
           "Navy",
           2013,
           "FBS Independent",
           0.15999999999999925
          ],
          [
           "New Mexico St.",
           2013,
           "FBS Independent",
           -2.2200000000000006
          ],
          [
           "Notre Dame",
           2013,
           "FBS Independent",
           0.96
          ],
          [
           "Army West Point",
           2014,
           "FBS Independent",
           -0.8900000000000006
          ],
          [
           "BYU",
           2014,
           "FBS Independent",
           0.7700000000000005
          ],
          [
           "Navy",
           2014,
           "FBS Independent",
           0.5300000000000002
          ],
          [
           "Notre Dame",
           2014,
           "FBS Independent",
           0.5100000000000007
          ],
          [
           "Army West Point",
           2015,
           "FBS Independent",
           -0.45999999999999996
          ],
          [
           "BYU",
           2015,
           "FBS Independent",
           1.1199999999999992
          ],
          [
           "Notre Dame",
           2015,
           "FBS Independent",
           1.4499999999999993
          ],
          [
           "Army West Point",
           2016,
           "FBS Independent",
           0.7999999999999998
          ],
          [
           "BYU",
           2016,
           "FBS Independent",
           -0.08999999999999986
          ],
          [
           "Massachusetts",
           2016,
           "FBS Independent",
           -0.7999999999999998
          ],
          [
           "Notre Dame",
           2016,
           "FBS Independent",
           0.6699999999999999
          ],
          [
           "Army West Point",
           2017,
           "FBS Independent",
           -0.28000000000000025
          ],
          [
           "BYU",
           2017,
           "FBS Independent",
           -0.20999999999999996
          ],
          [
           "Massachusetts",
           2017,
           "FBS Independent",
           0.2400000000000002
          ],
          [
           "New Mexico St.",
           2017,
           "FBS Independent",
           0.45999999999999996
          ],
          [
           "Notre Dame",
           2017,
           "FBS Independent",
           1.3399999999999999
          ],
          [
           "Army West Point",
           2018,
           "FBS Independent",
           -0.04999999999999982
          ],
          [
           "BYU",
           2018,
           "FBS Independent",
           0.8099999999999996
          ],
          [
           "Massachusetts",
           2018,
           "FBS Independent",
           -0.47999999999999954
          ],
          [
           "New Mexico St.",
           2018,
           "FBS Independent",
           -0.9500000000000002
          ],
          [
           "Notre Dame",
           2018,
           "FBS Independent",
           1.2800000000000002
          ],
          [
           "Army West Point",
           2019,
           "FBS Independent",
           0.03000000000000025
          ],
          [
           "BYU",
           2019,
           "FBS Independent",
           0.5800000000000001
          ],
          [
           "Liberty",
           2019,
           "FBS Independent",
           0.7000000000000002
          ],
          [
           "Massachusetts",
           2019,
           "FBS Independent",
           -3.4899999999999993
          ],
          [
           "New Mexico St.",
           2019,
           "FBS Independent",
           -1.37
          ],
          [
           "Notre Dame",
           2019,
           "FBS Independent",
           1.6500000000000004
          ],
          [
           "Army West Point",
           2020,
           "FBS Independent",
           -0.1200000000000001
          ],
          [
           "BYU",
           2020,
           "FBS Independent",
           3.04
          ],
          [
           "Liberty",
           2020,
           "FBS Independent",
           1.7199999999999998
          ],
          [
           "Massachusetts",
           2020,
           "FBS Independent",
           -3.45
          ]
         ],
         "hovertemplate": "Points.Per.Game=%{y}<br>Team=%{customdata[0]}<br>Season=%{customdata[1]}<br>Net Yards Per Play=%{customdata[3]:.1f}<extra></extra>",
         "legendgroup": "FBS Independent",
         "marker": {
          "color": "#19d3f3",
          "symbol": "circle"
         },
         "mode": "markers",
         "name": "FBS Independent",
         "orientation": "v",
         "showlegend": true,
         "type": "scatter",
         "x": [
          0.25,
          0.6153846153846154,
          0.08333333333333333,
          0.6923076923076923,
          0.16666666666666666,
          0.6923076923076923,
          0.3333333333333333,
          0.6153846153846154,
          0.6153846153846154,
          0.6153846153846154,
          0.16666666666666666,
          0.6923076923076923,
          0.7692307692307693,
          0.6153846153846154,
          0.6923076923076923,
          0.16666666666666666,
          0.3333333333333333,
          0.7692307692307693,
          0.3076923076923077,
          0.3333333333333333,
          0.5384615384615384,
          0.7692307692307693,
          0.8461538461538461,
          0.5384615384615384,
          0.3333333333333333,
          0.25,
          0.9230769230769231,
          0.38461538461538464,
          0.5384615384615384,
          0.6153846153846154,
          0.08333333333333333,
          0.16666666666666666,
          0.8461538461538461,
          0.8181818181818182,
          0.9166666666666666,
          0.9,
          0
         ],
         "xaxis": "x",
         "y": [
          24.4,
          30.2,
          18.2,
          33.5,
          20.9,
          27.2,
          24.9,
          37.1,
          31.8,
          32.8,
          22.1,
          33.7,
          34.2,
          29.9,
          29.5,
          23.3,
          30.9,
          30.7,
          17.1,
          30.6,
          29.3,
          34.2,
          32.8,
          27.2,
          32.8,
          25.3,
          31.4,
          28.5,
          28.5,
          32.8,
          19.8,
          21.7,
          36.8,
          27.3,
          43.5,
          38.3,
          3
         ],
         "yaxis": "y"
        },
        {
         "customdata": [
          [
           "Akron",
           2013,
           "MAC",
           -0.6099999999999994
          ],
          [
           "Ball St.",
           2013,
           "MAC",
           0.8799999999999999
          ],
          [
           "Bowling Green",
           2013,
           "MAC",
           1.4800000000000004
          ],
          [
           "Buffalo",
           2013,
           "MAC",
           -0.2699999999999996
          ],
          [
           "Central Mich.",
           2013,
           "MAC",
           -0.4399999999999995
          ],
          [
           "Eastern Mich.",
           2013,
           "MAC",
           -2.45
          ],
          [
           "Kent St.",
           2013,
           "MAC",
           -0.5
          ],
          [
           "Massachusetts",
           2013,
           "MAC",
           -2.3099999999999996
          ],
          [
           "Miami (OH)",
           2013,
           "MAC",
           -2.6699999999999995
          ],
          [
           "Northern Ill.",
           2013,
           "MAC",
           1.3399999999999999
          ],
          [
           "Ohio",
           2013,
           "MAC",
           -0.1900000000000004
          ],
          [
           "Toledo",
           2013,
           "MAC",
           0.5499999999999998
          ],
          [
           "Western Mich.",
           2013,
           "MAC",
           -1.0700000000000003
          ],
          [
           "Akron",
           2014,
           "MAC",
           -0.14999999999999947
          ],
          [
           "Ball St.",
           2014,
           "MAC",
           -0.7000000000000002
          ],
          [
           "Bowling Green",
           2014,
           "MAC",
           -0.4800000000000004
          ],
          [
           "Buffalo",
           2014,
           "MAC",
           0.08999999999999986
          ],
          [
           "Central Mich.",
           2014,
           "MAC",
           0.39999999999999947
          ],
          [
           "Eastern Mich.",
           2014,
           "MAC",
           -2.29
          ],
          [
           "Kent St.",
           2014,
           "MAC",
           -0.9199999999999999
          ],
          [
           "Massachusetts",
           2014,
           "MAC",
           0
          ],
          [
           "Miami (OH)",
           2014,
           "MAC",
           -0.5800000000000001
          ],
          [
           "Northern Ill.",
           2014,
           "MAC",
           0.2599999999999998
          ],
          [
           "Ohio",
           2014,
           "MAC",
           -0.3200000000000003
          ],
          [
           "Toledo",
           2014,
           "MAC",
           0.7400000000000002
          ],
          [
           "Western Mich.",
           2014,
           "MAC",
           1.04
          ],
          [
           "Akron",
           2015,
           "MAC",
           0.28000000000000025
          ],
          [
           "Ball St.",
           2015,
           "MAC",
           -1.7799999999999994
          ],
          [
           "Bowling Green",
           2015,
           "MAC",
           1.3399999999999999
          ],
          [
           "Buffalo",
           2015,
           "MAC",
           -0.39000000000000057
          ],
          [
           "Central Mich.",
           2015,
           "MAC",
           0.5700000000000003
          ],
          [
           "Eastern Mich.",
           2015,
           "MAC",
           -1.5299999999999994
          ],
          [
           "Kent St.",
           2015,
           "MAC",
           -0.75
          ],
          [
           "Massachusetts",
           2015,
           "MAC",
           -0.2599999999999998
          ],
          [
           "Miami (OH)",
           2015,
           "MAC",
           -0.5700000000000003
          ],
          [
           "Northern Ill.",
           2015,
           "MAC",
           0.15000000000000036
          ],
          [
           "Ohio",
           2015,
           "MAC",
           -0.04999999999999982
          ],
          [
           "Toledo",
           2015,
           "MAC",
           1.0599999999999996
          ],
          [
           "Western Mich.",
           2015,
           "MAC",
           0.5500000000000007
          ],
          [
           "Akron",
           2016,
           "MAC",
           -0.05999999999999961
          ],
          [
           "Ball St.",
           2016,
           "MAC",
           -0.7400000000000002
          ],
          [
           "Bowling Green",
           2016,
           "MAC",
           -1.1900000000000004
          ],
          [
           "Buffalo",
           2016,
           "MAC",
           -0.7599999999999998
          ],
          [
           "Central Mich.",
           2016,
           "MAC",
           0.05999999999999961
          ],
          [
           "Eastern Mich.",
           2016,
           "MAC",
           0.08000000000000007
          ],
          [
           "Kent St.",
           2016,
           "MAC",
           -0.3600000000000003
          ],
          [
           "Miami (OH)",
           2016,
           "MAC",
           0.4299999999999997
          ],
          [
           "Northern Ill.",
           2016,
           "MAC",
           0.07000000000000028
          ],
          [
           "Ohio",
           2016,
           "MAC",
           0.33999999999999986
          ],
          [
           "Toledo",
           2016,
           "MAC",
           1.3900000000000006
          ],
          [
           "Western Mich.",
           2016,
           "MAC",
           0.8399999999999999
          ],
          [
           "Akron",
           2017,
           "MAC",
           -1.1399999999999997
          ],
          [
           "Ball St.",
           2017,
           "MAC",
           -2.16
          ],
          [
           "Bowling Green",
           2017,
           "MAC",
           -1.13
          ],
          [
           "Buffalo",
           2017,
           "MAC",
           0.7699999999999996
          ],
          [
           "Central Mich.",
           2017,
           "MAC",
           0.45999999999999996
          ],
          [
           "Eastern Mich.",
           2017,
           "MAC",
           0.08000000000000007
          ],
          [
           "Kent St.",
           2017,
           "MAC",
           -1.83
          ],
          [
           "Miami (OH)",
           2017,
           "MAC",
           0.1200000000000001
          ],
          [
           "Northern Ill.",
           2017,
           "MAC",
           0.47999999999999954
          ],
          [
           "Ohio",
           2017,
           "MAC",
           1.13
          ],
          [
           "Toledo",
           2017,
           "MAC",
           1.2800000000000002
          ],
          [
           "Western Mich.",
           2017,
           "MAC",
           -0.17999999999999972
          ],
          [
           "Akron",
           2018,
           "MAC",
           -0.5700000000000003
          ],
          [
           "Ball St.",
           2018,
           "MAC",
           -0.6100000000000003
          ],
          [
           "Bowling Green",
           2018,
           "MAC",
           -1.2599999999999998
          ],
          [
           "Buffalo",
           2018,
           "MAC",
           0.54
          ],
          [
           "Central Mich.",
           2018,
           "MAC",
           -1.1800000000000002
          ],
          [
           "Eastern Mich.",
           2018,
           "MAC",
           0.5099999999999998
          ],
          [
           "Kent St.",
           2018,
           "MAC",
           -1.2199999999999998
          ],
          [
           "Miami (OH)",
           2018,
           "MAC",
           0.21999999999999975
          ],
          [
           "Northern Ill.",
           2018,
           "MAC",
           -0.2600000000000007
          ],
          [
           "Ohio",
           2018,
           "MAC",
           0.9100000000000001
          ],
          [
           "Toledo",
           2018,
           "MAC",
           0.3799999999999999
          ],
          [
           "Western Mich.",
           2018,
           "MAC",
           -0.27999999999999936
          ],
          [
           "Akron",
           2019,
           "MAC",
           -1.6800000000000006
          ],
          [
           "Ball St.",
           2019,
           "MAC",
           0.29000000000000004
          ],
          [
           "Bowling Green",
           2019,
           "MAC",
           -2.4700000000000006
          ],
          [
           "Buffalo",
           2019,
           "MAC",
           0.5199999999999996
          ],
          [
           "Central Mich.",
           2019,
           "MAC",
           0.6600000000000001
          ],
          [
           "Eastern Mich.",
           2019,
           "MAC",
           -0.10000000000000053
          ],
          [
           "Kent St.",
           2019,
           "MAC",
           -0.4900000000000002
          ],
          [
           "Miami (OH)",
           2019,
           "MAC",
           -0.2999999999999998
          ],
          [
           "Northern Ill.",
           2019,
           "MAC",
           -0.8600000000000003
          ],
          [
           "Ohio",
           2019,
           "MAC",
           0.7299999999999995
          ],
          [
           "Toledo",
           2019,
           "MAC",
           -0.5300000000000002
          ],
          [
           "Western Mich.",
           2019,
           "MAC",
           0.4800000000000004
          ],
          [
           "Akron",
           2020,
           "MAC",
           -2.869999999999999
          ],
          [
           "Ball St.",
           2020,
           "MAC",
           -0.2400000000000002
          ],
          [
           "Bowling Green",
           2020,
           "MAC",
           -1.4799999999999995
          ],
          [
           "Buffalo",
           2020,
           "MAC",
           2.13
          ],
          [
           "Central Mich.",
           2020,
           "MAC",
           -0.02999999999999936
          ],
          [
           "Eastern Mich.",
           2020,
           "MAC",
           -0.6399999999999997
          ],
          [
           "Kent St.",
           2020,
           "MAC",
           0.9400000000000004
          ],
          [
           "Miami (OH)",
           2020,
           "MAC",
           -0.13999999999999968
          ],
          [
           "Northern Ill.",
           2020,
           "MAC",
           -1.6399999999999997
          ],
          [
           "Ohio",
           2020,
           "MAC",
           0.8799999999999999
          ],
          [
           "Toledo",
           2020,
           "MAC",
           1.0700000000000003
          ],
          [
           "Western Mich.",
           2020,
           "MAC",
           1.7400000000000002
          ]
         ],
         "hovertemplate": "Points.Per.Game=%{y}<br>Team=%{customdata[0]}<br>Season=%{customdata[1]}<br>Net Yards Per Play=%{customdata[3]:.1f}<extra></extra>",
         "legendgroup": "MAC",
         "marker": {
          "color": "#FF6692",
          "symbol": "circle"
         },
         "mode": "markers",
         "name": "MAC",
         "orientation": "v",
         "showlegend": true,
         "type": "scatter",
         "x": [
          0.4166666666666667,
          0.7692307692307693,
          0.7142857142857143,
          0.6153846153846154,
          0.5,
          0.16666666666666666,
          0.3333333333333333,
          0.08333333333333333,
          0,
          0.8571428571428571,
          0.5384615384615384,
          0.5833333333333334,
          0.08333333333333333,
          0.4166666666666667,
          0.4166666666666667,
          0.5714285714285714,
          0.45454545454545453,
          0.5384615384615384,
          0.16666666666666666,
          0.18181818181818182,
          0.25,
          0.16666666666666666,
          0.7857142857142857,
          0.5,
          0.6923076923076923,
          0.6153846153846154,
          0.6153846153846154,
          0.25,
          0.7142857142857143,
          0.4166666666666667,
          0.5384615384615384,
          0.08333333333333333,
          0.25,
          0.25,
          0.25,
          0.5714285714285714,
          0.6153846153846154,
          0.8333333333333334,
          0.6153846153846154,
          0.4166666666666667,
          0.3333333333333333,
          0.3333333333333333,
          0.16666666666666666,
          0.46153846153846156,
          0.5384615384615384,
          0.25,
          0.46153846153846156,
          0.4166666666666667,
          0.5714285714285714,
          0.6923076923076923,
          0.9285714285714286,
          0.5,
          0.16666666666666666,
          0.16666666666666666,
          0.5,
          0.6153846153846154,
          0.4166666666666667,
          0.16666666666666666,
          0.4166666666666667,
          0.6153846153846154,
          0.6923076923076923,
          0.7857142857142857,
          0.5,
          0.3333333333333333,
          0.3333333333333333,
          0.25,
          0.7142857142857143,
          0.08333333333333333,
          0.5384615384615384,
          0.16666666666666666,
          0.5,
          0.5714285714285714,
          0.6923076923076923,
          0.5384615384615384,
          0.5384615384615384,
          0,
          0.4166666666666667,
          0.25,
          0.6153846153846154,
          0.5714285714285714,
          0.46153846153846156,
          0.5384615384615384,
          0.5714285714285714,
          0.4166666666666667,
          0.5384615384615384,
          0.5,
          0.5384615384615384,
          0.16666666666666666,
          0.8571428571428571,
          0,
          0.8571428571428571,
          0.5,
          0.3333333333333333,
          0.75,
          0.6666666666666666,
          0,
          0.6666666666666666,
          0.6666666666666666,
          0.6666666666666666
         ],
         "xaxis": "x",
         "y": [
          20.2,
          38.5,
          34.8,
          30.3,
          23.3,
          18.8,
          20.8,
          11.7,
          9.8,
          39.6,
          27.4,
          33,
          17.2,
          22.6,
          27.7,
          30,
          32.3,
          26.9,
          15.2,
          16.4,
          27.3,
          22.3,
          31.5,
          20.5,
          36.6,
          33.8,
          23.9,
          23.1,
          42.2,
          26.7,
          25.8,
          25.4,
          13.1,
          22.2,
          17.9,
          31.1,
          27.5,
          35,
          36,
          27.4,
          27,
          24.8,
          16.5,
          26.3,
          29.6,
          20.6,
          22.8,
          30.5,
          26.3,
          38,
          41.6,
          22.1,
          17.9,
          25.3,
          28.5,
          28.5,
          26.1,
          12.8,
          24.4,
          28.9,
          39.1,
          36.4,
          33.9,
          18.9,
          24.2,
          24.3,
          34.6,
          15,
          27,
          23.9,
          28.1,
          20.1,
          40.1,
          40.4,
          32,
          10.5,
          34.8,
          16,
          31.5,
          30.4,
          29.2,
          29.2,
          24.1,
          22.8,
          34.3,
          27.3,
          33.1,
          17.2,
          34.3,
          11.4,
          43.4,
          31.3,
          33.2,
          49.8,
          28.7,
          24.8,
          34.3,
          35,
          41.7
         ],
         "yaxis": "y"
        },
        {
         "customdata": [
          [
           "Air Force",
           2019,
           "Mountain West",
           0.6899999999999995
          ],
          [
           "Boise St.",
           2019,
           "Mountain West",
           0.8300000000000001
          ],
          [
           "Colorado St.",
           2019,
           "Mountain West",
           0.6600000000000001
          ],
          [
           "Fresno St.",
           2019,
           "Mountain West",
           0.3099999999999996
          ],
          [
           "Hawaii",
           2019,
           "Mountain West",
           0.40000000000000036
          ],
          [
           "Nevada",
           2019,
           "Mountain West",
           -1.0500000000000007
          ],
          [
           "New Mexico",
           2019,
           "Mountain West",
           -0.9400000000000004
          ],
          [
           "San Diego St.",
           2019,
           "Mountain West",
           0.1299999999999999
          ],
          [
           "San Jose St.",
           2019,
           "Mountain West",
           0.5700000000000003
          ],
          [
           "UNLV",
           2019,
           "Mountain West",
           -0.8499999999999996
          ],
          [
           "Utah St.",
           2019,
           "Mountain West",
           0.16999999999999993
          ],
          [
           "Wyoming",
           2019,
           "Mountain West",
           0.45999999999999996
          ],
          [
           "Air Force",
           2020,
           "Mountain West",
           1.2000000000000002
          ],
          [
           "Boise St.",
           2020,
           "Mountain West",
           0.16000000000000014
          ],
          [
           "Colorado St.",
           2020,
           "Mountain West",
           -0.0600000000000005
          ],
          [
           "Fresno St.",
           2020,
           "Mountain West",
           0.0600000000000005
          ],
          [
           "Hawaii",
           2020,
           "Mountain West",
           -0.2999999999999998
          ],
          [
           "Nevada",
           2020,
           "Mountain West",
           1.0599999999999996
          ],
          [
           "New Mexico",
           2020,
           "Mountain West",
           -1.33
          ],
          [
           "San Diego St.",
           2020,
           "Mountain West",
           0.6499999999999995
          ],
          [
           "San Jose St.",
           2020,
           "Mountain West",
           1.96
          ],
          [
           "UNLV",
           2020,
           "Mountain West",
           -2.4400000000000004
          ],
          [
           "Utah St.",
           2020,
           "Mountain West",
           -1.9899999999999993
          ],
          [
           "Wyoming",
           2020,
           "Mountain West",
           0.54
          ]
         ],
         "hovertemplate": "Points.Per.Game=%{y}<br>Team=%{customdata[0]}<br>Season=%{customdata[1]}<br>Net Yards Per Play=%{customdata[3]:.1f}<extra></extra>",
         "legendgroup": "Mountain West",
         "marker": {
          "color": "#B6E880",
          "symbol": "circle"
         },
         "mode": "markers",
         "name": "Mountain West",
         "orientation": "v",
         "showlegend": true,
         "type": "scatter",
         "x": [
          0.8461538461538461,
          0.8571428571428571,
          0.3333333333333333,
          0.3333333333333333,
          0.6666666666666666,
          0.5384615384615384,
          0.16666666666666666,
          0.7692307692307693,
          0.4166666666666667,
          0.3333333333333333,
          0.5384615384615384,
          0.6153846153846154,
          0.5,
          0.7142857142857143,
          0.25,
          0.5,
          0.5555555555555556,
          0.7777777777777778,
          0.2857142857142857,
          0.5,
          1,
          0,
          0.16666666666666666,
          0.3333333333333333
         ],
         "xaxis": "x",
         "y": [
          34.1,
          34.7,
          28.1,
          30,
          33.9,
          21.3,
          22.3,
          21.2,
          30.1,
          24.2,
          29.2,
          25.4,
          24.3,
          33.9,
          22.2,
          32.8,
          26.2,
          30.8,
          23.9,
          24.6,
          30.9,
          17.3,
          15.5,
          26.5
         ],
         "yaxis": "y"
        },
        {
         "customdata": [
          [
           "Air Force",
           2017,
           "MWC",
           -1.29
          ],
          [
           "Boise St.",
           2017,
           "MWC",
           0.9699999999999998
          ],
          [
           "Colorado St.",
           2017,
           "MWC",
           0.2599999999999998
          ],
          [
           "Fresno St.",
           2017,
           "MWC",
           0.9199999999999999
          ],
          [
           "Hawaii",
           2017,
           "MWC",
           -1.0299999999999994
          ],
          [
           "Nevada",
           2017,
           "MWC",
           -0.25
          ],
          [
           "New Mexico",
           2017,
           "MWC",
           -0.6299999999999999
          ],
          [
           "San Diego St.",
           2017,
           "MWC",
           1.21
          ],
          [
           "San Jose St.",
           2017,
           "MWC",
           -1.6100000000000003
          ],
          [
           "UNLV",
           2017,
           "MWC",
           -0.0699999999999994
          ],
          [
           "Utah St.",
           2017,
           "MWC",
           0.4500000000000002
          ],
          [
           "Wyoming",
           2017,
           "MWC",
           0.009999999999999787
          ],
          [
           "Air Force",
           2018,
           "MWC",
           -0.28000000000000025
          ],
          [
           "Boise St.",
           2018,
           "MWC",
           0.45999999999999996
          ],
          [
           "Colorado St.",
           2018,
           "MWC",
           -1.2800000000000002
          ],
          [
           "Fresno St.",
           2018,
           "MWC",
           1.5499999999999998
          ],
          [
           "Hawaii",
           2018,
           "MWC",
           -0.20000000000000018
          ],
          [
           "Nevada",
           2018,
           "MWC",
           0.7800000000000002
          ],
          [
           "New Mexico",
           2018,
           "MWC",
           -1.3200000000000003
          ],
          [
           "San Diego St.",
           2018,
           "MWC",
           0.3700000000000001
          ],
          [
           "San Jose St.",
           2018,
           "MWC",
           -1.3999999999999995
          ],
          [
           "UNLV",
           2018,
           "MWC",
           -1.21
          ],
          [
           "Utah St.",
           2018,
           "MWC",
           1.8399999999999999
          ],
          [
           "Wyoming",
           2018,
           "MWC",
           0.3700000000000001
          ]
         ],
         "hovertemplate": "Points.Per.Game=%{y}<br>Team=%{customdata[0]}<br>Season=%{customdata[1]}<br>Net Yards Per Play=%{customdata[3]:.1f}<extra></extra>",
         "legendgroup": "MWC",
         "marker": {
          "color": "#FF97FF",
          "symbol": "circle"
         },
         "mode": "markers",
         "name": "MWC",
         "orientation": "v",
         "showlegend": true,
         "type": "scatter",
         "x": [
          0.4166666666666667,
          0.7857142857142857,
          0.5384615384615384,
          0.7142857142857143,
          0.25,
          0.25,
          0.25,
          0.7692307692307693,
          0.15384615384615385,
          0.4166666666666667,
          0.46153846153846156,
          0.6153846153846154,
          0.4166666666666667,
          0.7692307692307693,
          0.25,
          0.8571428571428571,
          0.5714285714285714,
          0.6153846153846154,
          0.25,
          0.5384615384615384,
          0.08333333333333333,
          0.3333333333333333,
          0.8461538461538461,
          0.5
         ],
         "xaxis": "x",
         "y": [
          31.4,
          32.5,
          33.4,
          27.1,
          22.8,
          28.2,
          20.7,
          30.8,
          15.8,
          28.8,
          30.2,
          23.5,
          30.3,
          35.4,
          22.8,
          34.6,
          30.8,
          31.1,
          26.6,
          20.6,
          21.3,
          28.8,
          47.5,
          20.7
         ],
         "yaxis": "y"
        },
        {
         "customdata": [
          [
           "Arizona",
           2013,
           "Pac-12",
           0.5300000000000002
          ],
          [
           "Arizona St.",
           2013,
           "Pac-12",
           0.27999999999999936
          ],
          [
           "California",
           2013,
           "Pac-12",
           -1.87
          ],
          [
           "Colorado",
           2013,
           "Pac-12",
           -0.7400000000000002
          ],
          [
           "Oregon",
           2013,
           "Pac-12",
           2.9299999999999997
          ],
          [
           "Oregon St.",
           2013,
           "Pac-12",
           0.05000000000000071
          ],
          [
           "Southern California",
           2013,
           "Pac-12",
           1.0799999999999992
          ],
          [
           "Stanford",
           2013,
           "Pac-12",
           1.4799999999999995
          ],
          [
           "UCLA",
           2013,
           "Pac-12",
           1.0199999999999996
          ],
          [
           "Utah",
           2013,
           "Pac-12",
           0.1299999999999999
          ],
          [
           "Washington",
           2013,
           "Pac-12",
           1.3699999999999992
          ],
          [
           "Washington St.",
           2013,
           "Pac-12",
           -0.4399999999999995
          ],
          [
           "Arizona",
           2014,
           "Pac-12",
           0.040000000000000036
          ],
          [
           "Arizona St.",
           2014,
           "Pac-12",
           0.28000000000000025
          ],
          [
           "California",
           2014,
           "Pac-12",
           -0.17999999999999972
          ],
          [
           "Colorado",
           2014,
           "Pac-12",
           -1.2599999999999998
          ],
          [
           "Oregon",
           2014,
           "Pac-12",
           1.8200000000000003
          ],
          [
           "Oregon St.",
           2014,
           "Pac-12",
           -0.1899999999999995
          ],
          [
           "Southern California",
           2014,
           "Pac-12",
           0.7400000000000002
          ],
          [
           "Stanford",
           2014,
           "Pac-12",
           1.6799999999999997
          ],
          [
           "UCLA",
           2014,
           "Pac-12",
           0.96
          ],
          [
           "Utah",
           2014,
           "Pac-12",
           0.009999999999999787
          ],
          [
           "Washington",
           2014,
           "Pac-12",
           0.020000000000000462
          ],
          [
           "Washington St.",
           2014,
           "Pac-12",
           -0.05999999999999961
          ],
          [
           "Arizona",
           2015,
           "Pac-12",
           0.5500000000000007
          ],
          [
           "Arizona St.",
           2015,
           "Pac-12",
           -0.4300000000000006
          ],
          [
           "California",
           2015,
           "Pac-12",
           0.8600000000000003
          ],
          [
           "Colorado",
           2015,
           "Pac-12",
           -0.5999999999999996
          ],
          [
           "Oregon",
           2015,
           "Pac-12",
           1.0199999999999996
          ],
          [
           "Oregon St.",
           2015,
           "Pac-12",
           -1.3200000000000003
          ],
          [
           "Southern California",
           2015,
           "Pac-12",
           0.4900000000000002
          ],
          [
           "Stanford",
           2015,
           "Pac-12",
           1
          ],
          [
           "UCLA",
           2015,
           "Pac-12",
           1.25
          ],
          [
           "Utah",
           2015,
           "Pac-12",
           -0.0699999999999994
          ],
          [
           "Washington",
           2015,
           "Pac-12",
           1.0999999999999996
          ],
          [
           "Washington St.",
           2015,
           "Pac-12",
           0.15000000000000036
          ],
          [
           "Arizona",
           2016,
           "Pac-12",
           -0.019999999999999574
          ],
          [
           "Arizona St.",
           2016,
           "Pac-12",
           -1.8600000000000003
          ],
          [
           "California",
           2016,
           "Pac-12",
           -0.7599999999999998
          ],
          [
           "Colorado",
           2016,
           "Pac-12",
           0.6699999999999999
          ],
          [
           "Oregon",
           2016,
           "Pac-12",
           0.20000000000000018
          ],
          [
           "Oregon St.",
           2016,
           "Pac-12",
           -0.2400000000000002
          ],
          [
           "Southern California",
           2016,
           "Pac-12",
           1.0200000000000005
          ],
          [
           "Stanford",
           2016,
           "Pac-12",
           0.41999999999999993
          ],
          [
           "UCLA",
           2016,
           "Pac-12",
           0.5699999999999994
          ],
          [
           "Utah",
           2016,
           "Pac-12",
           0.22000000000000064
          ],
          [
           "Washington",
           2016,
           "Pac-12",
           2.2199999999999998
          ],
          [
           "Washington St.",
           2016,
           "Pac-12",
           0.07000000000000028
          ],
          [
           "Arizona",
           2017,
           "Pac-12",
           0.9799999999999995
          ],
          [
           "Arizona St.",
           2017,
           "Pac-12",
           -0.6200000000000001
          ],
          [
           "California",
           2017,
           "Pac-12",
           -0.6399999999999997
          ],
          [
           "Colorado",
           2017,
           "Pac-12",
           -0.6100000000000003
          ],
          [
           "Oregon",
           2017,
           "Pac-12",
           1.0299999999999994
          ],
          [
           "Oregon St.",
           2017,
           "Pac-12",
           -1.4300000000000006
          ],
          [
           "Southern California",
           2017,
           "Pac-12",
           0.9299999999999997
          ],
          [
           "Stanford",
           2017,
           "Pac-12",
           0.46999999999999975
          ],
          [
           "UCLA",
           2017,
           "Pac-12",
           0.1299999999999999
          ],
          [
           "Utah",
           2017,
           "Pac-12",
           0.5699999999999994
          ],
          [
           "Washington",
           2017,
           "Pac-12",
           2
          ],
          [
           "Washington St.",
           2017,
           "Pac-12",
           0.4299999999999997
          ],
          [
           "Arizona",
           2018,
           "Pac-12",
           0.5
          ],
          [
           "Arizona St.",
           2018,
           "Pac-12",
           0.3200000000000003
          ],
          [
           "California",
           2018,
           "Pac-12",
           0.3200000000000003
          ],
          [
           "Colorado",
           2018,
           "Pac-12",
           0.16000000000000014
          ],
          [
           "Oregon",
           2018,
           "Pac-12",
           0.6100000000000003
          ],
          [
           "Oregon St.",
           2018,
           "Pac-12",
           -2.1100000000000003
          ],
          [
           "Southern California",
           2018,
           "Pac-12",
           0.41999999999999993
          ],
          [
           "Stanford",
           2018,
           "Pac-12",
           0.46999999999999975
          ],
          [
           "UCLA",
           2018,
           "Pac-12",
           -0.47000000000000064
          ],
          [
           "Utah",
           2018,
           "Pac-12",
           1.0899999999999999
          ],
          [
           "Washington",
           2018,
           "Pac-12",
           1.3200000000000003
          ],
          [
           "Washington St.",
           2018,
           "Pac-12",
           0.5499999999999998
          ],
          [
           "Arizona",
           2019,
           "Pac-12",
           -0.3100000000000005
          ],
          [
           "Arizona St.",
           2019,
           "Pac-12",
           0.23000000000000043
          ],
          [
           "California",
           2019,
           "Pac-12",
           -0.29000000000000004
          ],
          [
           "Colorado",
           2019,
           "Pac-12",
           -1.0099999999999998
          ],
          [
           "Oregon",
           2019,
           "Pac-12",
           1.6099999999999994
          ],
          [
           "Oregon St.",
           2019,
           "Pac-12",
           -0.09999999999999964
          ],
          [
           "Southern California",
           2019,
           "Pac-12",
           0.7899999999999991
          ],
          [
           "Stanford",
           2019,
           "Pac-12",
           -0.71
          ],
          [
           "UCLA",
           2019,
           "Pac-12",
           -1.4000000000000004
          ],
          [
           "Utah",
           2019,
           "Pac-12",
           1.9500000000000002
          ],
          [
           "Washington",
           2019,
           "Pac-12",
           0.7199999999999998
          ],
          [
           "Washington St.",
           2019,
           "Pac-12",
           0.5
          ],
          [
           "Arizona",
           2020,
           "Pac-12",
           -1.79
          ],
          [
           "Arizona St.",
           2020,
           "Pac-12",
           1.87
          ],
          [
           "California",
           2020,
           "Pac-12",
           -1.2200000000000006
          ],
          [
           "Colorado",
           2020,
           "Pac-12",
           0.20000000000000018
          ],
          [
           "Oregon",
           2020,
           "Pac-12",
           1.2400000000000002
          ],
          [
           "Oregon St.",
           2020,
           "Pac-12",
           -0.6600000000000001
          ],
          [
           "Southern California",
           2020,
           "Pac-12",
           0.08000000000000007
          ],
          [
           "Stanford",
           2020,
           "Pac-12",
           -0.5800000000000001
          ],
          [
           "UCLA",
           2020,
           "Pac-12",
           0.6999999999999993
          ],
          [
           "Utah",
           2020,
           "Pac-12",
           0.40000000000000036
          ],
          [
           "Washington",
           2020,
           "Pac-12",
           0.6800000000000006
          ],
          [
           "Washington St.",
           2020,
           "Pac-12",
           -0.8300000000000001
          ]
         ],
         "hovertemplate": "Points.Per.Game=%{y}<br>Team=%{customdata[0]}<br>Season=%{customdata[1]}<br>Net Yards Per Play=%{customdata[3]:.1f}<extra></extra>",
         "legendgroup": "Pac-12",
         "marker": {
          "color": "#FECB52",
          "symbol": "circle"
         },
         "mode": "markers",
         "name": "Pac-12",
         "orientation": "v",
         "showlegend": true,
         "type": "scatter",
         "x": [
          0.6153846153846154,
          0.7142857142857143,
          0.08333333333333333,
          0.3333333333333333,
          0.8461538461538461,
          0.5384615384615384,
          0.7142857142857143,
          0.7857142857142857,
          0.7692307692307693,
          0.4166666666666667,
          0.6923076923076923,
          0.46153846153846156,
          0.7142857142857143,
          0.7692307692307693,
          0.4166666666666667,
          0.16666666666666666,
          0.8666666666666667,
          0.4166666666666667,
          0.6923076923076923,
          0.6153846153846154,
          0.7692307692307693,
          0.6923076923076923,
          0.5714285714285714,
          0.25,
          0.5384615384615384,
          0.46153846153846156,
          0.6153846153846154,
          0.3076923076923077,
          0.6923076923076923,
          0.16666666666666666,
          0.5714285714285714,
          0.8571428571428571,
          0.6153846153846154,
          0.7692307692307693,
          0.5384615384615384,
          0.6923076923076923,
          0.25,
          0.4166666666666667,
          0.4166666666666667,
          0.7142857142857143,
          0.3333333333333333,
          0.3333333333333333,
          0.7692307692307693,
          0.7692307692307693,
          0.3333333333333333,
          0.6923076923076923,
          0.8571428571428571,
          0.6153846153846154,
          0.5384615384615384,
          0.5384615384615384,
          0.4166666666666667,
          0.4166666666666667,
          0.5384615384615384,
          0.08333333333333333,
          0.7857142857142857,
          0.6428571428571429,
          0.46153846153846156,
          0.5384615384615384,
          0.7692307692307693,
          0.6923076923076923,
          0.4166666666666667,
          0.5384615384615384,
          0.5384615384615384,
          0.4166666666666667,
          0.6923076923076923,
          0.16666666666666666,
          0.4166666666666667,
          0.6923076923076923,
          0.25,
          0.6428571428571429,
          0.7142857142857143,
          0.8461538461538461,
          0.3333333333333333,
          0.6153846153846154,
          0.6153846153846154,
          0.4166666666666667,
          0.8571428571428571,
          0.4166666666666667,
          0.6153846153846154,
          0.3333333333333333,
          0.3333333333333333,
          0.7857142857142857,
          0.6153846153846154,
          0.46153846153846156,
          0,
          0.5,
          0.25,
          0.8,
          0.6666666666666666,
          0.2857142857142857,
          0.8333333333333334,
          0.6666666666666666,
          0.42857142857142855,
          0.6,
          0.75,
          0.25
         ],
         "xaxis": "x",
         "y": [
          33.5,
          39.7,
          23,
          25.4,
          45.5,
          34.8,
          29.7,
          32.3,
          36.9,
          29.2,
          37.9,
          31,
          34.5,
          36.9,
          38.3,
          28.5,
          45.4,
          25.7,
          35.8,
          27.2,
          33.5,
          31.3,
          30.2,
          31.8,
          37.4,
          34.6,
          37.9,
          24.6,
          43,
          19,
          33.9,
          37.8,
          32.2,
          30.6,
          30.6,
          31.5,
          24.8,
          33.3,
          37.1,
          31.1,
          35.4,
          26.2,
          34.4,
          26.3,
          24.9,
          29.8,
          41.8,
          38.2,
          41.3,
          31.8,
          27.8,
          26.4,
          36,
          20.7,
          32.6,
          32.4,
          32.5,
          29.5,
          36.2,
          30.3,
          31.3,
          29.9,
          21.5,
          27.1,
          34.8,
          26.1,
          26.1,
          28.4,
          24.6,
          28.1,
          26.4,
          37.5,
          26.9,
          24.8,
          21.2,
          23.5,
          35.4,
          31.2,
          32.5,
          21.7,
          26.7,
          32.3,
          32,
          37.8,
          17.4,
          40.2,
          20.2,
          29.6,
          33.7,
          28.9,
          33.3,
          29.3,
          35.4,
          30.2,
          30.2,
          27
         ],
         "yaxis": "y"
        },
        {
         "customdata": [
          [
           "Alabama",
           2013,
           "SEC",
           2.3200000000000003
          ],
          [
           "Arkansas",
           2013,
           "SEC",
           -0.5599999999999996
          ],
          [
           "Auburn",
           2013,
           "SEC",
           0.96
          ],
          [
           "Florida",
           2013,
           "SEC",
           -0.5099999999999998
          ],
          [
           "Georgia",
           2013,
           "SEC",
           1.25
          ],
          [
           "Kentucky",
           2013,
           "SEC",
           -0.9699999999999998
          ],
          [
           "LSU",
           2013,
           "SEC",
           1.8600000000000003
          ],
          [
           "Mississippi St.",
           2013,
           "SEC",
           0.45999999999999996
          ],
          [
           "Missouri",
           2013,
           "SEC",
           1.1799999999999997
          ],
          [
           "Ole Miss",
           2013,
           "SEC",
           0.79
          ],
          [
           "South Carolina",
           2013,
           "SEC",
           0.9299999999999997
          ],
          [
           "Tennessee",
           2013,
           "SEC",
           -0.8000000000000007
          ],
          [
           "Texas A&M",
           2013,
           "SEC",
           0.9799999999999995
          ],
          [
           "Vanderbilt",
           2013,
           "SEC",
           0.33999999999999986
          ],
          [
           "Alabama",
           2014,
           "SEC",
           1.79
          ],
          [
           "Arkansas",
           2014,
           "SEC",
           0.6399999999999997
          ],
          [
           "Auburn",
           2014,
           "SEC",
           1.04
          ],
          [
           "Florida",
           2014,
           "SEC",
           0.6900000000000004
          ],
          [
           "Georgia",
           2014,
           "SEC",
           1.9500000000000002
          ],
          [
           "Kentucky",
           2014,
           "SEC",
           -0.07000000000000028
          ],
          [
           "LSU",
           2014,
           "SEC",
           0.75
          ],
          [
           "Mississippi St.",
           2014,
           "SEC",
           1.0199999999999996
          ],
          [
           "Missouri",
           2014,
           "SEC",
           0.5599999999999996
          ],
          [
           "Ole Miss",
           2014,
           "SEC",
           1.3600000000000003
          ],
          [
           "South Carolina",
           2014,
           "SEC",
           -0.1299999999999999
          ],
          [
           "Tennessee",
           2014,
           "SEC",
           -0.3799999999999999
          ],
          [
           "Texas A&M",
           2014,
           "SEC",
           0.41999999999999993
          ],
          [
           "Vanderbilt",
           2014,
           "SEC",
           -1.04
          ],
          [
           "Alabama",
           2015,
           "SEC",
           1.5899999999999999
          ],
          [
           "Arkansas",
           2015,
           "SEC",
           0.7599999999999998
          ],
          [
           "Auburn",
           2015,
           "SEC",
           0.019999999999999574
          ],
          [
           "Florida",
           2015,
           "SEC",
           0.45999999999999996
          ],
          [
           "Georgia",
           2015,
           "SEC",
           1.2700000000000005
          ],
          [
           "Kentucky",
           2015,
           "SEC",
           -0.08000000000000007
          ],
          [
           "LSU",
           2015,
           "SEC",
           1.5300000000000002
          ],
          [
           "Mississippi St.",
           2015,
           "SEC",
           1.1399999999999997
          ],
          [
           "Missouri",
           2015,
           "SEC",
           0.05999999999999961
          ],
          [
           "Ole Miss",
           2015,
           "SEC",
           2.2
          ],
          [
           "South Carolina",
           2015,
           "SEC",
           -0.41999999999999993
          ],
          [
           "Tennessee",
           2015,
           "SEC",
           0.34999999999999964
          ],
          [
           "Texas A&M",
           2015,
           "SEC",
           0.16999999999999993
          ],
          [
           "Vanderbilt",
           2015,
           "SEC",
           -0.6699999999999999
          ],
          [
           "Alabama",
           2016,
           "SEC",
           2.4799999999999995
          ],
          [
           "Arkansas",
           2016,
           "SEC",
           -0.7199999999999998
          ],
          [
           "Auburn",
           2016,
           "SEC",
           1.0599999999999996
          ],
          [
           "Florida",
           2016,
           "SEC",
           0.5200000000000005
          ],
          [
           "Georgia",
           2016,
           "SEC",
           0.1800000000000006
          ],
          [
           "Kentucky",
           2016,
           "SEC",
           0.17999999999999972
          ],
          [
           "LSU",
           2016,
           "SEC",
           1.9500000000000002
          ],
          [
           "Mississippi St.",
           2016,
           "SEC",
           -0.16999999999999993
          ],
          [
           "Missouri",
           2016,
           "SEC",
           0.2699999999999996
          ],
          [
           "Ole Miss",
           2016,
           "SEC",
           -0.019999999999999574
          ],
          [
           "South Carolina",
           2016,
           "SEC",
           -0.46999999999999975
          ],
          [
           "Tennessee",
           2016,
           "SEC",
           0.6000000000000005
          ],
          [
           "Texas A&M",
           2016,
           "SEC",
           0.8200000000000003
          ],
          [
           "Vanderbilt",
           2016,
           "SEC",
           -0.71
          ],
          [
           "Alabama",
           2017,
           "SEC",
           2.5999999999999996
          ],
          [
           "Arkansas",
           2017,
           "SEC",
           -0.8600000000000003
          ],
          [
           "Auburn",
           2017,
           "SEC",
           1.5
          ],
          [
           "Florida",
           2017,
           "SEC",
           -0.54
          ],
          [
           "Georgia",
           2017,
           "SEC",
           2.01
          ],
          [
           "Kentucky",
           2017,
           "SEC",
           -0.6600000000000001
          ],
          [
           "LSU",
           2017,
           "SEC",
           1.12
          ],
          [
           "Mississippi St.",
           2017,
           "SEC",
           0.27999999999999936
          ],
          [
           "Missouri",
           2017,
           "SEC",
           1.5300000000000002
          ],
          [
           "Ole Miss",
           2017,
           "SEC",
           0.7400000000000002
          ],
          [
           "South Carolina",
           2017,
           "SEC",
           0.2999999999999998
          ],
          [
           "Tennessee",
           2017,
           "SEC",
           -1.1700000000000008
          ],
          [
           "Texas A&M",
           2017,
           "SEC",
           -0.08999999999999986
          ],
          [
           "Vanderbilt",
           2017,
           "SEC",
           -0.25
          ],
          [
           "Alabama",
           2018,
           "SEC",
           2.87
          ],
          [
           "Arkansas",
           2018,
           "SEC",
           -1.0300000000000002
          ],
          [
           "Auburn",
           2018,
           "SEC",
           0.5199999999999996
          ],
          [
           "Florida",
           2018,
           "SEC",
           1.1100000000000003
          ],
          [
           "Georgia",
           2018,
           "SEC",
           2.1099999999999994
          ],
          [
           "Kentucky",
           2018,
           "SEC",
           0.39999999999999947
          ],
          [
           "LSU",
           2018,
           "SEC",
           0.6900000000000004
          ],
          [
           "Mississippi St.",
           2018,
           "SEC",
           2.04
          ],
          [
           "Missouri",
           2018,
           "SEC",
           0.5600000000000005
          ],
          [
           "Ole Miss",
           2018,
           "SEC",
           0.7999999999999998
          ],
          [
           "South Carolina",
           2018,
           "SEC",
           0.6699999999999999
          ],
          [
           "Tennessee",
           2018,
           "SEC",
           -0.20999999999999996
          ],
          [
           "Texas A&M",
           2018,
           "SEC",
           0.4900000000000002
          ],
          [
           "Vanderbilt",
           2018,
           "SEC",
           0.15000000000000036
          ],
          [
           "Alabama",
           2019,
           "SEC",
           3.08
          ],
          [
           "Arkansas",
           2019,
           "SEC",
           -1.33
          ],
          [
           "Auburn",
           2019,
           "SEC",
           0.7400000000000002
          ],
          [
           "Florida",
           2019,
           "SEC",
           1.5699999999999994
          ],
          [
           "Georgia",
           2019,
           "SEC",
           1.79
          ],
          [
           "Kentucky",
           2019,
           "SEC",
           0.8500000000000005
          ],
          [
           "LSU",
           2019,
           "SEC",
           2.7799999999999994
          ],
          [
           "Mississippi St.",
           2019,
           "SEC",
           -0.13999999999999968
          ],
          [
           "Missouri",
           2019,
           "SEC",
           0.40999999999999925
          ],
          [
           "Ole Miss",
           2019,
           "SEC",
           0.17999999999999972
          ],
          [
           "South Carolina",
           2019,
           "SEC",
           -0.35000000000000053
          ],
          [
           "Tennessee",
           2019,
           "SEC",
           0.7800000000000002
          ],
          [
           "Texas A&M",
           2019,
           "SEC",
           0.5700000000000003
          ],
          [
           "Vanderbilt",
           2019,
           "SEC",
           -1.7400000000000002
          ],
          [
           "Alabama",
           2020,
           "SEC",
           2.79
          ],
          [
           "Arkansas",
           2020,
           "SEC",
           0.11999999999999922
          ],
          [
           "Auburn",
           2020,
           "SEC",
           -0.040000000000000036
          ],
          [
           "Florida",
           2020,
           "SEC",
           1.71
          ],
          [
           "Georgia",
           2020,
           "SEC",
           1.25
          ],
          [
           "Kentucky",
           2020,
           "SEC",
           -0.4400000000000004
          ],
          [
           "LSU",
           2020,
           "SEC",
           -1.7400000000000002
          ],
          [
           "Mississippi St.",
           2020,
           "SEC",
           -0.5300000000000002
          ],
          [
           "Missouri",
           2020,
           "SEC",
           -0.46999999999999975
          ],
          [
           "Ole Miss",
           2020,
           "SEC",
           0.09999999999999964
          ],
          [
           "South Carolina",
           2020,
           "SEC",
           -1.21
          ],
          [
           "Tennessee",
           2020,
           "SEC",
           -0.5800000000000001
          ],
          [
           "Texas A&M",
           2020,
           "SEC",
           0.9799999999999995
          ],
          [
           "Vanderbilt",
           2020,
           "SEC",
           -2.5700000000000003
          ]
         ],
         "hovertemplate": "Points.Per.Game=%{y}<br>Team=%{customdata[0]}<br>Season=%{customdata[1]}<br>Net Yards Per Play=%{customdata[3]:.1f}<extra></extra>",
         "legendgroup": "SEC",
         "marker": {
          "color": "#636efa",
          "symbol": "circle"
         },
         "mode": "markers",
         "name": "SEC",
         "orientation": "v",
         "showlegend": true,
         "type": "scatter",
         "x": [
          0.8461538461538461,
          0.25,
          0.8571428571428571,
          0.3333333333333333,
          0.6153846153846154,
          0.16666666666666666,
          0.7692307692307693,
          0.5384615384615384,
          0.8571428571428571,
          0.6153846153846154,
          0.8461538461538461,
          0.4166666666666667,
          0.6923076923076923,
          0.6923076923076923,
          0.8571428571428571,
          0.5384615384615384,
          0.6153846153846154,
          0.5833333333333334,
          0.7692307692307693,
          0.4166666666666667,
          0.6153846153846154,
          0.7692307692307693,
          0.7857142857142857,
          0.6923076923076923,
          0.5384615384615384,
          0.5384615384615384,
          0.6153846153846154,
          0.25,
          0.9333333333333333,
          0.6153846153846154,
          0.5384615384615384,
          0.7142857142857143,
          0.7692307692307693,
          0.4166666666666667,
          0.75,
          0.6923076923076923,
          0.4166666666666667,
          0.7692307692307693,
          0.25,
          0.6923076923076923,
          0.6153846153846154,
          0.3333333333333333,
          0.9333333333333333,
          0.5384615384615384,
          0.6153846153846154,
          0.6923076923076923,
          0.6153846153846154,
          0.5384615384615384,
          0.6666666666666666,
          0.46153846153846156,
          0.3333333333333333,
          0.4166666666666667,
          0.46153846153846156,
          0.6923076923076923,
          0.6153846153846154,
          0.46153846153846156,
          0.9285714285714286,
          0.3333333333333333,
          0.7142857142857143,
          0.36363636363636365,
          0.8666666666666667,
          0.5384615384615384,
          0.6923076923076923,
          0.6923076923076923,
          0.5384615384615384,
          0.5,
          0.6923076923076923,
          0.3333333333333333,
          0.5384615384615384,
          0.4166666666666667,
          0.9333333333333333,
          0.16666666666666666,
          0.6153846153846154,
          0.7692307692307693,
          0.7857142857142857,
          0.7692307692307693,
          0.7692307692307693,
          0.6153846153846154,
          0.6153846153846154,
          0.4166666666666667,
          0.5384615384615384,
          0.4166666666666667,
          0.6923076923076923,
          0.46153846153846156,
          0.8461538461538461,
          0.16666666666666666,
          0.6923076923076923,
          0.8461538461538461,
          0.8571428571428571,
          0.6153846153846154,
          1,
          0.46153846153846156,
          0.5,
          0.3333333333333333,
          0.3333333333333333,
          0.6153846153846154,
          0.6153846153846154,
          0.25,
          1,
          0.3,
          0.6,
          0.7272727272727273,
          0.7777777777777778,
          0.4,
          0.5,
          0.3,
          0.5,
          0.4444444444444444,
          0.2,
          0.3,
          0.8888888888888888,
          0
         ],
         "xaxis": "x",
         "y": [
          38.2,
          20.7,
          39.5,
          18.8,
          36.7,
          20.5,
          35.8,
          27.7,
          39.1,
          30,
          34.1,
          23.8,
          44.2,
          30.1,
          36.9,
          31.9,
          35.5,
          30.3,
          41.3,
          29.2,
          27.6,
          36.9,
          27.8,
          28.3,
          32.6,
          28.9,
          35.2,
          17.2,
          35.1,
          35.9,
          27.5,
          23.2,
          26.3,
          24.7,
          32.8,
          34.4,
          13.6,
          40.8,
          21.9,
          35.2,
          27.8,
          15.2,
          38.8,
          30.3,
          31.2,
          23.9,
          24.5,
          30,
          28.3,
          30.4,
          31.4,
          32.6,
          20.8,
          36.4,
          34.8,
          23,
          37.1,
          28.8,
          33.9,
          22.1,
          35.4,
          25.5,
          27.2,
          32,
          37.5,
          32.8,
          24.2,
          19.8,
          32.7,
          24.6,
          45.6,
          21.7,
          30.9,
          35,
          37.9,
          26.6,
          32.4,
          28.5,
          36.6,
          33.9,
          30.1,
          22.8,
          36,
          28.5,
          47.2,
          21.4,
          33.2,
          33.2,
          30.8,
          27.2,
          48.4,
          27.6,
          25.3,
          26.6,
          22.4,
          24.2,
          29.5,
          16.5,
          49.7,
          25.7,
          25.7,
          41.6,
          33.2,
          21.7,
          32,
          20.7,
          26.7,
          40.7,
          23.5,
          21.5,
          31.7,
          14.8
         ],
         "yaxis": "y"
        },
        {
         "customdata": [
          [
           "Arkansas St.",
           2013,
           "Sun Belt",
           -0.1800000000000006
          ],
          [
           "La.-Monroe",
           2013,
           "Sun Belt",
           -0.79
          ],
          [
           "Louisiana",
           2013,
           "Sun Belt",
           0.3799999999999999
          ],
          [
           "South Alabama",
           2013,
           "Sun Belt",
           0.16999999999999993
          ],
          [
           "Texas St.",
           2013,
           "Sun Belt",
           -0.33000000000000007
          ],
          [
           "Troy",
           2013,
           "Sun Belt",
           -0.6299999999999999
          ],
          [
           "Western Ky.",
           2013,
           "Sun Belt",
           0.96
          ],
          [
           "Arkansas St.",
           2014,
           "Sun Belt",
           0.4299999999999997
          ],
          [
           "Georgia St.",
           2014,
           "Sun Belt",
           -1.1800000000000006
          ],
          [
           "Idaho",
           2014,
           "Sun Belt",
           -1.7199999999999998
          ],
          [
           "La.-Monroe",
           2014,
           "Sun Belt",
           -0.6099999999999994
          ],
          [
           "Louisiana",
           2014,
           "Sun Belt",
           0.03000000000000025
          ],
          [
           "New Mexico St.",
           2014,
           "Sun Belt",
           -1.0299999999999994
          ],
          [
           "South Alabama",
           2014,
           "Sun Belt",
           -0.4399999999999995
          ],
          [
           "Texas St.",
           2014,
           "Sun Belt",
           0.34999999999999964
          ],
          [
           "Troy",
           2014,
           "Sun Belt",
           -1.04
          ],
          [
           "Appalachian St.",
           2015,
           "Sun Belt",
           2.05
          ],
          [
           "Arkansas St.",
           2015,
           "Sun Belt",
           0.10000000000000053
          ],
          [
           "Ga. Southern",
           2015,
           "Sun Belt",
           0.9400000000000004
          ],
          [
           "Georgia St.",
           2015,
           "Sun Belt",
           0.9300000000000006
          ],
          [
           "Idaho",
           2015,
           "Sun Belt",
           -1.4399999999999995
          ],
          [
           "La.-Monroe",
           2015,
           "Sun Belt",
           -1.13
          ],
          [
           "Louisiana",
           2015,
           "Sun Belt",
           -0.5099999999999998
          ],
          [
           "New Mexico St.",
           2015,
           "Sun Belt",
           -0.9900000000000002
          ],
          [
           "South Alabama",
           2015,
           "Sun Belt",
           -0.8199999999999994
          ],
          [
           "Texas St.",
           2015,
           "Sun Belt",
           -1.46
          ],
          [
           "Troy",
           2015,
           "Sun Belt",
           0.16000000000000014
          ],
          [
           "Appalachian St.",
           2016,
           "Sun Belt",
           1.1399999999999997
          ],
          [
           "Arkansas St.",
           2016,
           "Sun Belt",
           0.3799999999999999
          ],
          [
           "Ga. Southern",
           2016,
           "Sun Belt",
           -0.7000000000000002
          ],
          [
           "Georgia St.",
           2016,
           "Sun Belt",
           0.39999999999999947
          ],
          [
           "Idaho",
           2016,
           "Sun Belt",
           -0.6299999999999999
          ],
          [
           "La.-Monroe",
           2016,
           "Sun Belt",
           -1.54
          ],
          [
           "Louisiana",
           2016,
           "Sun Belt",
           -0.2999999999999998
          ],
          [
           "New Mexico St.",
           2016,
           "Sun Belt",
           -1.1199999999999992
          ],
          [
           "South Alabama",
           2016,
           "Sun Belt",
           0.10000000000000053
          ],
          [
           "Texas St.",
           2016,
           "Sun Belt",
           -1.8800000000000008
          ],
          [
           "Troy",
           2016,
           "Sun Belt",
           0.6699999999999999
          ],
          [
           "Appalachian St.",
           2017,
           "Sun Belt",
           1.1400000000000006
          ],
          [
           "Arkansas St.",
           2017,
           "Sun Belt",
           0.7999999999999998
          ],
          [
           "Ga. Southern",
           2017,
           "Sun Belt",
           -1.8499999999999996
          ],
          [
           "Georgia St.",
           2017,
           "Sun Belt",
           -0.33999999999999986
          ],
          [
           "Idaho",
           2017,
           "Sun Belt",
           -0.5200000000000005
          ],
          [
           "La.-Monroe",
           2017,
           "Sun Belt",
           -0.8899999999999997
          ],
          [
           "Louisiana",
           2017,
           "Sun Belt",
           -0.7999999999999998
          ],
          [
           "South Alabama",
           2017,
           "Sun Belt",
           -0.7800000000000002
          ],
          [
           "Texas St.",
           2017,
           "Sun Belt",
           -1.4100000000000001
          ],
          [
           "Troy",
           2017,
           "Sun Belt",
           1.46
          ],
          [
           "Appalachian St.",
           2018,
           "Sun Belt",
           2.09
          ],
          [
           "Arkansas St.",
           2018,
           "Sun Belt",
           0.6099999999999994
          ],
          [
           "Coastal Caro.",
           2018,
           "Sun Belt",
           -1.46
          ],
          [
           "Ga. Southern",
           2018,
           "Sun Belt",
           0.45999999999999996
          ],
          [
           "Georgia St.",
           2018,
           "Sun Belt",
           -2.16
          ],
          [
           "La.-Monroe",
           2018,
           "Sun Belt",
           -0.09999999999999964
          ],
          [
           "Louisiana",
           2018,
           "Sun Belt",
           0.2699999999999996
          ],
          [
           "South Alabama",
           2018,
           "Sun Belt",
           -1.4400000000000004
          ],
          [
           "Texas St.",
           2018,
           "Sun Belt",
           -0.20999999999999996
          ],
          [
           "Troy",
           2018,
           "Sun Belt",
           0.8600000000000003
          ],
          [
           "Appalachian St.",
           2019,
           "Sun Belt",
           1.25
          ],
          [
           "Arkansas St.",
           2019,
           "Sun Belt",
           0.05999999999999961
          ],
          [
           "Coastal Carolina",
           2019,
           "Sun Belt",
           -0.5199999999999996
          ],
          [
           "Ga. Southern",
           2019,
           "Sun Belt",
           -0.46999999999999975
          ],
          [
           "Georgia St.",
           2019,
           "Sun Belt",
           -0.8499999999999996
          ],
          [
           "La.-Monroe",
           2019,
           "Sun Belt",
           -0.33999999999999986
          ],
          [
           "Louisiana",
           2019,
           "Sun Belt",
           1.5599999999999996
          ],
          [
           "South Alabama",
           2019,
           "Sun Belt",
           -0.7599999999999998
          ],
          [
           "Texas St.",
           2019,
           "Sun Belt",
           -0.75
          ],
          [
           "Troy",
           2019,
           "Sun Belt",
           -0.07000000000000028
          ],
          [
           "App State",
           2020,
           "Sun Belt",
           1.4799999999999995
          ],
          [
           "Arkansas St.",
           2020,
           "Sun Belt",
           0.04999999999999982
          ],
          [
           "Coastal Carolina",
           2020,
           "Sun Belt",
           1.2799999999999994
          ],
          [
           "Ga. Southern",
           2020,
           "Sun Belt",
           0.8199999999999994
          ],
          [
           "Georgia St.",
           2020,
           "Sun Belt",
           -0.019999999999999574
          ],
          [
           "Louisiana",
           2020,
           "Sun Belt",
           1.5499999999999998
          ],
          [
           "South Alabama",
           2020,
           "Sun Belt",
           -1.3200000000000003
          ],
          [
           "Texas St.",
           2020,
           "Sun Belt",
           -0.6200000000000001
          ],
          [
           "Troy",
           2020,
           "Sun Belt",
           -0.020000000000000462
          ],
          [
           "ULM",
           2020,
           "Sun Belt",
           -2.01
          ]
         ],
         "hovertemplate": "Points.Per.Game=%{y}<br>Team=%{customdata[0]}<br>Season=%{customdata[1]}<br>Net Yards Per Play=%{customdata[3]:.1f}<extra></extra>",
         "legendgroup": "Sun Belt",
         "marker": {
          "color": "#EF553B",
          "symbol": "circle"
         },
         "mode": "markers",
         "name": "Sun Belt",
         "orientation": "v",
         "showlegend": true,
         "type": "scatter",
         "x": [
          0.6153846153846154,
          0.5,
          0.6923076923076923,
          0.5,
          0.5,
          0.5,
          0.6666666666666666,
          0.5384615384615384,
          0.08333333333333333,
          0.09090909090909091,
          0.3333333333333333,
          0.6923076923076923,
          0.16666666666666666,
          0.46153846153846156,
          0.5833333333333334,
          0.25,
          0.8461538461538461,
          0.6923076923076923,
          0.6923076923076923,
          0.46153846153846156,
          0.3333333333333333,
          0.15384615384615385,
          0.3333333333333333,
          0.25,
          0.4166666666666667,
          0.25,
          0.3333333333333333,
          0.7692307692307693,
          0.6153846153846154,
          0.4166666666666667,
          0.25,
          0.6923076923076923,
          0.3333333333333333,
          0.46153846153846156,
          0.25,
          0.46153846153846156,
          0.16666666666666666,
          0.7692307692307693,
          0.6923076923076923,
          0.5833333333333334,
          0.16666666666666666,
          0.5833333333333334,
          0.3333333333333333,
          0.3333333333333333,
          0.4166666666666667,
          0.3333333333333333,
          0.16666666666666666,
          0.8461538461538461,
          0.8461538461538461,
          0.6153846153846154,
          0.4166666666666667,
          0.7692307692307693,
          0.16666666666666666,
          0.5,
          0.5,
          0.25,
          0.25,
          0.7692307692307693,
          0.9285714285714286,
          0.6153846153846154,
          0.4166666666666667,
          0.5384615384615384,
          0.5384615384615384,
          0.4166666666666667,
          0.7857142857142857,
          0.16666666666666666,
          0.25,
          0.4166666666666667,
          0.75,
          0.36363636363636365,
          1,
          0.6153846153846154,
          0.5555555555555556,
          0.9,
          0.36363636363636365,
          0.16666666666666666,
          0.45454545454545453,
          0
         ],
         "xaxis": "x",
         "y": [
          29.2,
          22.3,
          33.8,
          29.4,
          23.9,
          34.1,
          30.8,
          36.7,
          22.7,
          25,
          20.1,
          29.5,
          24.5,
          22.5,
          33.8,
          21.8,
          36.7,
          40,
          36.5,
          26.9,
          30.3,
          21,
          26.4,
          28.6,
          25,
          26.9,
          27.9,
          29.2,
          27.3,
          26.6,
          19.9,
          30.8,
          23.3,
          23.6,
          24.8,
          25.4,
          18.6,
          33.7,
          33.5,
          37.8,
          20.8,
          20.3,
          20.9,
          33.9,
          28.2,
          19.8,
          17.3,
          31.5,
          37.3,
          30.3,
          26.7,
          30.5,
          23.9,
          26.6,
          31.9,
          24.2,
          19.8,
          30.7,
          38.8,
          33.7,
          30.3,
          28.2,
          31.2,
          31.6,
          37.9,
          18.4,
          18.4,
          33.8,
          33.8,
          32.9,
          37.5,
          27.2,
          32.7,
          33.9,
          19.9,
          27.7,
          27.4,
          16.3
         ],
         "yaxis": "y"
        }
       ],
       "layout": {
        "hoverlabel": {
         "bgcolor": "white",
         "font": {
          "family": "Arial",
          "size": 14
         }
        },
        "legend": {
         "title": {
          "text": "Conference"
         },
         "tracegroupgap": 0
        },
        "margin": {
         "t": 60
        },
        "shapes": [
         {
          "line": {
           "color": "black",
           "width": 2
          },
          "type": "line",
          "x0": 0.5,
          "x1": 0.5,
          "y0": -4,
          "y1": 55
         },
         {
          "line": {
           "color": "black",
           "width": 2
          },
          "type": "line",
          "x0": 0,
          "x1": 1,
          "y0": 0,
          "y1": 0
         }
        ],
        "template": {
         "data": {
          "bar": [
           {
            "error_x": {
             "color": "#2a3f5f"
            },
            "error_y": {
             "color": "#2a3f5f"
            },
            "marker": {
             "line": {
              "color": "#E5ECF6",
              "width": 0.5
             }
            },
            "type": "bar"
           }
          ],
          "barpolar": [
           {
            "marker": {
             "line": {
              "color": "#E5ECF6",
              "width": 0.5
             }
            },
            "type": "barpolar"
           }
          ],
          "carpet": [
           {
            "aaxis": {
             "endlinecolor": "#2a3f5f",
             "gridcolor": "white",
             "linecolor": "white",
             "minorgridcolor": "white",
             "startlinecolor": "#2a3f5f"
            },
            "baxis": {
             "endlinecolor": "#2a3f5f",
             "gridcolor": "white",
             "linecolor": "white",
             "minorgridcolor": "white",
             "startlinecolor": "#2a3f5f"
            },
            "type": "carpet"
           }
          ],
          "choropleth": [
           {
            "colorbar": {
             "outlinewidth": 0,
             "ticks": ""
            },
            "type": "choropleth"
           }
          ],
          "contour": [
           {
            "colorbar": {
             "outlinewidth": 0,
             "ticks": ""
            },
            "colorscale": [
             [
              0,
              "#0d0887"
             ],
             [
              0.1111111111111111,
              "#46039f"
             ],
             [
              0.2222222222222222,
              "#7201a8"
             ],
             [
              0.3333333333333333,
              "#9c179e"
             ],
             [
              0.4444444444444444,
              "#bd3786"
             ],
             [
              0.5555555555555556,
              "#d8576b"
             ],
             [
              0.6666666666666666,
              "#ed7953"
             ],
             [
              0.7777777777777778,
              "#fb9f3a"
             ],
             [
              0.8888888888888888,
              "#fdca26"
             ],
             [
              1,
              "#f0f921"
             ]
            ],
            "type": "contour"
           }
          ],
          "contourcarpet": [
           {
            "colorbar": {
             "outlinewidth": 0,
             "ticks": ""
            },
            "type": "contourcarpet"
           }
          ],
          "heatmap": [
           {
            "colorbar": {
             "outlinewidth": 0,
             "ticks": ""
            },
            "colorscale": [
             [
              0,
              "#0d0887"
             ],
             [
              0.1111111111111111,
              "#46039f"
             ],
             [
              0.2222222222222222,
              "#7201a8"
             ],
             [
              0.3333333333333333,
              "#9c179e"
             ],
             [
              0.4444444444444444,
              "#bd3786"
             ],
             [
              0.5555555555555556,
              "#d8576b"
             ],
             [
              0.6666666666666666,
              "#ed7953"
             ],
             [
              0.7777777777777778,
              "#fb9f3a"
             ],
             [
              0.8888888888888888,
              "#fdca26"
             ],
             [
              1,
              "#f0f921"
             ]
            ],
            "type": "heatmap"
           }
          ],
          "heatmapgl": [
           {
            "colorbar": {
             "outlinewidth": 0,
             "ticks": ""
            },
            "colorscale": [
             [
              0,
              "#0d0887"
             ],
             [
              0.1111111111111111,
              "#46039f"
             ],
             [
              0.2222222222222222,
              "#7201a8"
             ],
             [
              0.3333333333333333,
              "#9c179e"
             ],
             [
              0.4444444444444444,
              "#bd3786"
             ],
             [
              0.5555555555555556,
              "#d8576b"
             ],
             [
              0.6666666666666666,
              "#ed7953"
             ],
             [
              0.7777777777777778,
              "#fb9f3a"
             ],
             [
              0.8888888888888888,
              "#fdca26"
             ],
             [
              1,
              "#f0f921"
             ]
            ],
            "type": "heatmapgl"
           }
          ],
          "histogram": [
           {
            "marker": {
             "colorbar": {
              "outlinewidth": 0,
              "ticks": ""
             }
            },
            "type": "histogram"
           }
          ],
          "histogram2d": [
           {
            "colorbar": {
             "outlinewidth": 0,
             "ticks": ""
            },
            "colorscale": [
             [
              0,
              "#0d0887"
             ],
             [
              0.1111111111111111,
              "#46039f"
             ],
             [
              0.2222222222222222,
              "#7201a8"
             ],
             [
              0.3333333333333333,
              "#9c179e"
             ],
             [
              0.4444444444444444,
              "#bd3786"
             ],
             [
              0.5555555555555556,
              "#d8576b"
             ],
             [
              0.6666666666666666,
              "#ed7953"
             ],
             [
              0.7777777777777778,
              "#fb9f3a"
             ],
             [
              0.8888888888888888,
              "#fdca26"
             ],
             [
              1,
              "#f0f921"
             ]
            ],
            "type": "histogram2d"
           }
          ],
          "histogram2dcontour": [
           {
            "colorbar": {
             "outlinewidth": 0,
             "ticks": ""
            },
            "colorscale": [
             [
              0,
              "#0d0887"
             ],
             [
              0.1111111111111111,
              "#46039f"
             ],
             [
              0.2222222222222222,
              "#7201a8"
             ],
             [
              0.3333333333333333,
              "#9c179e"
             ],
             [
              0.4444444444444444,
              "#bd3786"
             ],
             [
              0.5555555555555556,
              "#d8576b"
             ],
             [
              0.6666666666666666,
              "#ed7953"
             ],
             [
              0.7777777777777778,
              "#fb9f3a"
             ],
             [
              0.8888888888888888,
              "#fdca26"
             ],
             [
              1,
              "#f0f921"
             ]
            ],
            "type": "histogram2dcontour"
           }
          ],
          "mesh3d": [
           {
            "colorbar": {
             "outlinewidth": 0,
             "ticks": ""
            },
            "type": "mesh3d"
           }
          ],
          "parcoords": [
           {
            "line": {
             "colorbar": {
              "outlinewidth": 0,
              "ticks": ""
             }
            },
            "type": "parcoords"
           }
          ],
          "pie": [
           {
            "automargin": true,
            "type": "pie"
           }
          ],
          "scatter": [
           {
            "marker": {
             "colorbar": {
              "outlinewidth": 0,
              "ticks": ""
             }
            },
            "type": "scatter"
           }
          ],
          "scatter3d": [
           {
            "line": {
             "colorbar": {
              "outlinewidth": 0,
              "ticks": ""
             }
            },
            "marker": {
             "colorbar": {
              "outlinewidth": 0,
              "ticks": ""
             }
            },
            "type": "scatter3d"
           }
          ],
          "scattercarpet": [
           {
            "marker": {
             "colorbar": {
              "outlinewidth": 0,
              "ticks": ""
             }
            },
            "type": "scattercarpet"
           }
          ],
          "scattergeo": [
           {
            "marker": {
             "colorbar": {
              "outlinewidth": 0,
              "ticks": ""
             }
            },
            "type": "scattergeo"
           }
          ],
          "scattergl": [
           {
            "marker": {
             "colorbar": {
              "outlinewidth": 0,
              "ticks": ""
             }
            },
            "type": "scattergl"
           }
          ],
          "scattermapbox": [
           {
            "marker": {
             "colorbar": {
              "outlinewidth": 0,
              "ticks": ""
             }
            },
            "type": "scattermapbox"
           }
          ],
          "scatterpolar": [
           {
            "marker": {
             "colorbar": {
              "outlinewidth": 0,
              "ticks": ""
             }
            },
            "type": "scatterpolar"
           }
          ],
          "scatterpolargl": [
           {
            "marker": {
             "colorbar": {
              "outlinewidth": 0,
              "ticks": ""
             }
            },
            "type": "scatterpolargl"
           }
          ],
          "scatterternary": [
           {
            "marker": {
             "colorbar": {
              "outlinewidth": 0,
              "ticks": ""
             }
            },
            "type": "scatterternary"
           }
          ],
          "surface": [
           {
            "colorbar": {
             "outlinewidth": 0,
             "ticks": ""
            },
            "colorscale": [
             [
              0,
              "#0d0887"
             ],
             [
              0.1111111111111111,
              "#46039f"
             ],
             [
              0.2222222222222222,
              "#7201a8"
             ],
             [
              0.3333333333333333,
              "#9c179e"
             ],
             [
              0.4444444444444444,
              "#bd3786"
             ],
             [
              0.5555555555555556,
              "#d8576b"
             ],
             [
              0.6666666666666666,
              "#ed7953"
             ],
             [
              0.7777777777777778,
              "#fb9f3a"
             ],
             [
              0.8888888888888888,
              "#fdca26"
             ],
             [
              1,
              "#f0f921"
             ]
            ],
            "type": "surface"
           }
          ],
          "table": [
           {
            "cells": {
             "fill": {
              "color": "#EBF0F8"
             },
             "line": {
              "color": "white"
             }
            },
            "header": {
             "fill": {
              "color": "#C8D4E3"
             },
             "line": {
              "color": "white"
             }
            },
            "type": "table"
           }
          ]
         },
         "layout": {
          "annotationdefaults": {
           "arrowcolor": "#2a3f5f",
           "arrowhead": 0,
           "arrowwidth": 1
          },
          "autotypenumbers": "strict",
          "coloraxis": {
           "colorbar": {
            "outlinewidth": 0,
            "ticks": ""
           }
          },
          "colorscale": {
           "diverging": [
            [
             0,
             "#8e0152"
            ],
            [
             0.1,
             "#c51b7d"
            ],
            [
             0.2,
             "#de77ae"
            ],
            [
             0.3,
             "#f1b6da"
            ],
            [
             0.4,
             "#fde0ef"
            ],
            [
             0.5,
             "#f7f7f7"
            ],
            [
             0.6,
             "#e6f5d0"
            ],
            [
             0.7,
             "#b8e186"
            ],
            [
             0.8,
             "#7fbc41"
            ],
            [
             0.9,
             "#4d9221"
            ],
            [
             1,
             "#276419"
            ]
           ],
           "sequential": [
            [
             0,
             "#0d0887"
            ],
            [
             0.1111111111111111,
             "#46039f"
            ],
            [
             0.2222222222222222,
             "#7201a8"
            ],
            [
             0.3333333333333333,
             "#9c179e"
            ],
            [
             0.4444444444444444,
             "#bd3786"
            ],
            [
             0.5555555555555556,
             "#d8576b"
            ],
            [
             0.6666666666666666,
             "#ed7953"
            ],
            [
             0.7777777777777778,
             "#fb9f3a"
            ],
            [
             0.8888888888888888,
             "#fdca26"
            ],
            [
             1,
             "#f0f921"
            ]
           ],
           "sequentialminus": [
            [
             0,
             "#0d0887"
            ],
            [
             0.1111111111111111,
             "#46039f"
            ],
            [
             0.2222222222222222,
             "#7201a8"
            ],
            [
             0.3333333333333333,
             "#9c179e"
            ],
            [
             0.4444444444444444,
             "#bd3786"
            ],
            [
             0.5555555555555556,
             "#d8576b"
            ],
            [
             0.6666666666666666,
             "#ed7953"
            ],
            [
             0.7777777777777778,
             "#fb9f3a"
            ],
            [
             0.8888888888888888,
             "#fdca26"
            ],
            [
             1,
             "#f0f921"
            ]
           ]
          },
          "colorway": [
           "#636efa",
           "#EF553B",
           "#00cc96",
           "#ab63fa",
           "#FFA15A",
           "#19d3f3",
           "#FF6692",
           "#B6E880",
           "#FF97FF",
           "#FECB52"
          ],
          "font": {
           "color": "#2a3f5f"
          },
          "geo": {
           "bgcolor": "white",
           "lakecolor": "white",
           "landcolor": "#E5ECF6",
           "showlakes": true,
           "showland": true,
           "subunitcolor": "white"
          },
          "hoverlabel": {
           "align": "left"
          },
          "hovermode": "closest",
          "mapbox": {
           "style": "light"
          },
          "paper_bgcolor": "white",
          "plot_bgcolor": "#E5ECF6",
          "polar": {
           "angularaxis": {
            "gridcolor": "white",
            "linecolor": "white",
            "ticks": ""
           },
           "bgcolor": "#E5ECF6",
           "radialaxis": {
            "gridcolor": "white",
            "linecolor": "white",
            "ticks": ""
           }
          },
          "scene": {
           "xaxis": {
            "backgroundcolor": "#E5ECF6",
            "gridcolor": "white",
            "gridwidth": 2,
            "linecolor": "white",
            "showbackground": true,
            "ticks": "",
            "zerolinecolor": "white"
           },
           "yaxis": {
            "backgroundcolor": "#E5ECF6",
            "gridcolor": "white",
            "gridwidth": 2,
            "linecolor": "white",
            "showbackground": true,
            "ticks": "",
            "zerolinecolor": "white"
           },
           "zaxis": {
            "backgroundcolor": "#E5ECF6",
            "gridcolor": "white",
            "gridwidth": 2,
            "linecolor": "white",
            "showbackground": true,
            "ticks": "",
            "zerolinecolor": "white"
           }
          },
          "shapedefaults": {
           "line": {
            "color": "#2a3f5f"
           }
          },
          "ternary": {
           "aaxis": {
            "gridcolor": "white",
            "linecolor": "white",
            "ticks": ""
           },
           "baxis": {
            "gridcolor": "white",
            "linecolor": "white",
            "ticks": ""
           },
           "bgcolor": "#E5ECF6",
           "caxis": {
            "gridcolor": "white",
            "linecolor": "white",
            "ticks": ""
           }
          },
          "title": {
           "x": 0.05
          },
          "xaxis": {
           "automargin": true,
           "gridcolor": "white",
           "linecolor": "white",
           "ticks": "",
           "title": {
            "standoff": 15
           },
           "zerolinecolor": "white",
           "zerolinewidth": 2
          },
          "yaxis": {
           "automargin": true,
           "gridcolor": "white",
           "linecolor": "white",
           "ticks": "",
           "title": {
            "standoff": 15
           },
           "zerolinecolor": "white",
           "zerolinewidth": 2
          }
         }
        },
        "xaxis": {
         "anchor": "y",
         "domain": [
          0,
          1
         ],
         "title": {
          "text": "winpct"
         }
        },
        "yaxis": {
         "anchor": "x",
         "domain": [
          0,
          1
         ],
         "title": {
          "text": "Points.Per.Game"
         }
        }
       }
      },
      "text/html": [
       "<div>                            <div id=\"c945f3b3-b1fa-4d6c-a331-3ec97267ecb6\" class=\"plotly-graph-div\" style=\"height:525px; width:100%;\"></div>            <script type=\"text/javascript\">                require([\"plotly\"], function(Plotly) {                    window.PLOTLYENV=window.PLOTLYENV || {};                                    if (document.getElementById(\"c945f3b3-b1fa-4d6c-a331-3ec97267ecb6\")) {                    Plotly.newPlot(                        \"c945f3b3-b1fa-4d6c-a331-3ec97267ecb6\",                        [{\"customdata\": [[\"Cincinnati\", 2013, \"AAC\", 1.4600000000000009], [\"Houston\", 2013, \"AAC\", 0.4899999999999993], [\"Louisville\", 2013, \"AAC\", 2.5], [\"Memphis\", 2013, \"AAC\", -0.5100000000000007], [\"Rutgers\", 2013, \"AAC\", -0.3899999999999997], [\"SMU\", 2013, \"AAC\", -0.04999999999999982], [\"South Fla.\", 2013, \"AAC\", -1.1399999999999997], [\"Temple\", 2013, \"AAC\", -0.7000000000000002], [\"UCF\", 2013, \"AAC\", 1.21], [\"UConn\", 2013, \"AAC\", -0.8999999999999995], [\"Cincinnati\", 2014, \"AAC\", 0.34999999999999964], [\"East Carolina\", 2014, \"AAC\", 1.3800000000000008], [\"Houston\", 2014, \"AAC\", 0.8200000000000003], [\"Memphis\", 2014, \"AAC\", 0.75], [\"SMU\", 2014, \"AAC\", -2.54], [\"South Fla.\", 2014, \"AAC\", -0.75], [\"Temple\", 2014, \"AAC\", 0.040000000000000036], [\"Tulane\", 2014, \"AAC\", -0.8200000000000003], [\"Tulsa\", 2014, \"AAC\", -1.7800000000000002], [\"UCF\", 2014, \"AAC\", 0.5499999999999998], [\"UConn\", 2014, \"AAC\", -0.7199999999999998], [\"Cincinnati\", 2015, \"AAC\", 0.8099999999999996], [\"East Carolina\", 2015, \"AAC\", 0.29000000000000004], [\"Houston\", 2015, \"AAC\", 0.6799999999999997], [\"Memphis\", 2015, \"AAC\", 0.6500000000000004], [\"Navy\", 2015, \"AAC\", 0.6999999999999993], [\"SMU\", 2015, \"AAC\", -1.7699999999999996], [\"South Fla.\", 2015, \"AAC\", 1.1899999999999995], [\"Temple\", 2015, \"AAC\", 0.33000000000000007], [\"Tulane\", 2015, \"AAC\", -1.0499999999999998], [\"Tulsa\", 2015, \"AAC\", -0.5], [\"UCF\", 2015, \"AAC\", -2.42], [\"UConn\", 2015, \"AAC\", -0.27000000000000046], [\"Cincinnati\", 2016, \"AAC\", -0.05999999999999961], [\"East Carolina\", 2016, \"AAC\", -0.5900000000000007], [\"Houston\", 2016, \"AAC\", 0.5200000000000005], [\"Memphis\", 2016, \"AAC\", 0.4800000000000004], [\"Navy\", 2016, \"AAC\", 0.4800000000000004], [\"SMU\", 2016, \"AAC\", -0.5099999999999998], [\"South Fla.\", 2016, \"AAC\", 1.3499999999999996], [\"Temple\", 2016, \"AAC\", 1.3500000000000005], [\"Tulane\", 2016, \"AAC\", -0.5300000000000002], [\"Tulsa\", 2016, \"AAC\", 0.6800000000000006], [\"UCF\", 2016, \"AAC\", -0.10000000000000053], [\"UConn\", 2016, \"AAC\", -0.9100000000000001], [\"Cincinnati\", 2017, \"AAC\", -0.6099999999999994], [\"East Carolina\", 2017, \"AAC\", -2.2799999999999994], [\"Houston\", 2017, \"AAC\", 0.6299999999999999], [\"Memphis\", 2017, \"AAC\", 1.5999999999999996], [\"Navy\", 2017, \"AAC\", -0.13999999999999968], [\"SMU\", 2017, \"AAC\", -0.20000000000000018], [\"South Fla.\", 2017, \"AAC\", 1.3100000000000005], [\"Temple\", 2017, \"AAC\", 0.11999999999999922], [\"Tulane\", 2017, \"AAC\", -0.9199999999999999], [\"Tulsa\", 2017, \"AAC\", -1.5999999999999996], [\"UCF\", 2017, \"AAC\", 1.7199999999999998], [\"UConn\", 2017, \"AAC\", -1.2799999999999994], [\"Cincinnati\", 2018, \"AAC\", 1.42], [\"East Carolina\", 2018, \"AAC\", -1.1399999999999997], [\"Houston\", 2018, \"AAC\", 0.6599999999999993], [\"Memphis\", 2018, \"AAC\", 1.5099999999999998], [\"Navy\", 2018, \"AAC\", -1.25], [\"SMU\", 2018, \"AAC\", -0.1900000000000004], [\"South Fla.\", 2018, \"AAC\", 0.16000000000000014], [\"Temple\", 2018, \"AAC\", 1.0099999999999998], [\"Tulane\", 2018, \"AAC\", 0.20999999999999996], [\"Tulsa\", 2018, \"AAC\", -0.5899999999999999], [\"UCF\", 2018, \"AAC\", 1.42], [\"UConn\", 2018, \"AAC\", -3.4700000000000006], [\"Cincinnati\", 2019, \"AAC\", 0.3700000000000001], [\"East Carolina\", 2019, \"AAC\", -0.7799999999999994], [\"Houston\", 2019, \"AAC\", -0.79], [\"Memphis\", 2019, \"AAC\", 1.4799999999999995], [\"Navy\", 2019, \"AAC\", 1.5], [\"SMU\", 2019, \"AAC\", 0.3799999999999999], [\"South Fla.\", 2019, \"AAC\", -0.25], [\"Temple\", 2019, \"AAC\", 0.4300000000000006], [\"Tulane\", 2019, \"AAC\", 0.6699999999999999], [\"Tulsa\", 2019, \"AAC\", -0.34999999999999964], [\"UCF\", 2019, \"AAC\", 2.3499999999999996], [\"UConn\", 2019, \"AAC\", -1.8899999999999997], [\"Cincinnati\", 2020, \"AAC\", 2.5], [\"East Carolina\", 2020, \"AAC\", -0.6799999999999997], [\"Houston\", 2020, \"AAC\", -0.2400000000000002], [\"Memphis\", 2020, \"AAC\", 0.41000000000000014], [\"Navy\", 2020, \"AAC\", -1.46], [\"SMU\", 2020, \"AAC\", 0.9300000000000006], [\"South Fla.\", 2020, \"AAC\", -1.0], [\"Temple\", 2020, \"AAC\", -1.7599999999999998], [\"Tulane\", 2020, \"AAC\", 0.07000000000000028], [\"Tulsa\", 2020, \"AAC\", 0.9100000000000001], [\"UCF\", 2020, \"AAC\", 0.41999999999999993]], \"hovertemplate\": \"Points.Per.Game=%{y}<br>Team=%{customdata[0]}<br>Season=%{customdata[1]}<br>Net Yards Per Play=%{customdata[3]:.1f}<extra></extra>\", \"legendgroup\": \"AAC\", \"marker\": {\"color\": \"#636efa\", \"symbol\": \"circle\"}, \"mode\": \"markers\", \"name\": \"AAC\", \"orientation\": \"v\", \"showlegend\": true, \"type\": \"scatter\", \"x\": [0.6923076923076923, 0.6153846153846154, 0.9230769230769231, 0.25, 0.46153846153846156, 0.4166666666666667, 0.16666666666666666, 0.16666666666666666, 0.9230769230769231, 0.25, 0.6923076923076923, 0.6153846153846154, 0.6153846153846154, 0.7692307692307693, 0.08333333333333333, 0.3333333333333333, 0.5, 0.25, 0.16666666666666666, 0.6923076923076923, 0.16666666666666666, 0.5384615384615384, 0.4166666666666667, 0.9285714285714286, 0.6923076923076923, 0.8461538461538461, 0.16666666666666666, 0.6153846153846154, 0.7142857142857143, 0.25, 0.46153846153846156, 0.0, 0.46153846153846156, 0.3333333333333333, 0.25, 0.6923076923076923, 0.6153846153846154, 0.6428571428571429, 0.4166666666666667, 0.8461538461538461, 0.7142857142857143, 0.3333333333333333, 0.7692307692307693, 0.46153846153846156, 0.25, 0.3333333333333333, 0.25, 0.5833333333333334, 0.7692307692307693, 0.5384615384615384, 0.5384615384615384, 0.8333333333333334, 0.5384615384615384, 0.4166666666666667, 0.16666666666666666, 1.0, 0.25, 0.8461538461538461, 0.25, 0.6153846153846154, 0.5714285714285714, 0.23076923076923078, 0.4166666666666667, 0.5384615384615384, 0.6153846153846154, 0.5384615384615384, 0.25, 0.9230769230769231, 0.08333333333333333, 0.7857142857142857, 0.3333333333333333, 0.3333333333333333, 0.8571428571428571, 0.8461538461538461, 0.7692307692307693, 0.3333333333333333, 0.6153846153846154, 0.5384615384615384, 0.3333333333333333, 0.7692307692307693, 0.16666666666666666, 1.0, 0.3333333333333333, 0.375, 0.7272727272727273, 0.3, 0.7, 0.1111111111111111, 0.14285714285714285, 0.5, 0.75, 0.6], \"xaxis\": \"x\", \"y\": [32.1, 33.2, 35.2, 19.5, 26.5, 26.8, 13.8, 24.9, 34.6, 20.6, 34.0, 35.8, 29.8, 36.2, 11.1, 17.2, 23.1, 16.0, 24.7, 28.1, 15.5, 33.8, 27.4, 40.4, 40.2, 36.8, 27.8, 33.6, 29.8, 19.7, 37.2, 13.9, 17.2, 19.3, 27.0, 35.8, 38.8, 37.9, 27.7, 43.8, 32.4, 24.1, 42.5, 28.8, 14.8, 20.9, 24.9, 28.3, 45.5, 30.5, 37.8, 38.3, 25.1, 27.5, 29.3, 48.2, 23.6, 34.9, 22.8, 43.9, 42.9, 25.0, 30.4, 28.5, 34.9, 26.8, 24.1, 43.2, 22.2, 29.6, 26.8, 30.7, 40.4, 37.2, 41.8, 20.8, 26.3, 33.1, 26.4, 43.4, 18.9, 39.3, 30.2, 30.0, 31.0, 16.6, 38.6, 23.1, 19.9, 34.7, 27.2, 42.2], \"yaxis\": \"y\"}, {\"customdata\": [[\"Boston College\", 2013, \"ACC\", 0.11000000000000032], [\"Clemson\", 2013, \"ACC\", 1.33], [\"Duke\", 2013, \"ACC\", 0.20000000000000018], [\"Florida St.\", 2013, \"ACC\", 3.58], [\"Georgia Tech\", 2013, \"ACC\", 0.5800000000000001], [\"Maryland\", 2013, \"ACC\", 0.7000000000000002], [\"Miami (FL)\", 2013, \"ACC\", 1.0], [\"NC State\", 2013, \"ACC\", -0.7699999999999996], [\"North Carolina\", 2013, \"ACC\", 0.5899999999999999], [\"Pittsburgh\", 2013, \"ACC\", 0.0], [\"Syracuse\", 2013, \"ACC\", -0.20999999999999996], [\"Virginia\", 2013, \"ACC\", -1.2199999999999998], [\"Virginia Tech\", 2013, \"ACC\", 0.4500000000000002], [\"Wake Forest\", 2013, \"ACC\", -0.6500000000000004], [\"Boston College\", 2014, \"ACC\", 0.5600000000000005], [\"Clemson\", 2014, \"ACC\", 1.33], [\"Duke\", 2014, \"ACC\", 0.09999999999999964], [\"Florida St.\", 2014, \"ACC\", 0.8799999999999999], [\"Georgia Tech\", 2014, \"ACC\", 0.39999999999999947], [\"Louisville\", 2014, \"ACC\", 0.71], [\"Miami (FL)\", 2014, \"ACC\", 1.8899999999999997], [\"NC State\", 2014, \"ACC\", 0.7299999999999995], [\"North Carolina\", 2014, \"ACC\", -0.9700000000000006], [\"Pittsburgh\", 2014, \"ACC\", 0.5800000000000001], [\"Syracuse\", 2014, \"ACC\", -0.08999999999999986], [\"Virginia\", 2014, \"ACC\", -0.05999999999999961], [\"Virginia Tech\", 2014, \"ACC\", -0.22000000000000064], [\"Wake Forest\", 2014, \"ACC\", -1.8399999999999999], [\"Boston College\", 2015, \"ACC\", 0.33000000000000007], [\"Clemson\", 2015, \"ACC\", 1.54], [\"Duke\", 2015, \"ACC\", 0.16000000000000014], [\"Florida St.\", 2015, \"ACC\", 1.8500000000000005], [\"Georgia Tech\", 2015, \"ACC\", 0.02999999999999936], [\"Louisville\", 2015, \"ACC\", 1.1899999999999995], [\"Miami (FL)\", 2015, \"ACC\", 0.1200000000000001], [\"NC State\", 2015, \"ACC\", 0.1200000000000001], [\"North Carolina\", 2015, \"ACC\", 1.7800000000000002], [\"Pittsburgh\", 2015, \"ACC\", 0.0699999999999994], [\"Syracuse\", 2015, \"ACC\", -1.0999999999999996], [\"Virginia\", 2015, \"ACC\", -0.7400000000000002], [\"Virginia Tech\", 2015, \"ACC\", -0.21999999999999975], [\"Wake Forest\", 2015, \"ACC\", -0.7700000000000005], [\"Boston College\", 2016, \"ACC\", -0.6699999999999999], [\"Clemson\", 2016, \"ACC\", 1.5600000000000005], [\"Duke\", 2016, \"ACC\", -1.1399999999999997], [\"Florida St.\", 2016, \"ACC\", 1.1900000000000004], [\"Georgia Tech\", 2016, \"ACC\", 0.7700000000000005], [\"Louisville\", 2016, \"ACC\", 2.5199999999999996], [\"Miami (FL)\", 2016, \"ACC\", 1.6799999999999997], [\"NC State\", 2016, \"ACC\", 0.6200000000000001], [\"North Carolina\", 2016, \"ACC\", 1.2699999999999996], [\"Pittsburgh\", 2016, \"ACC\", 0.7299999999999995], [\"Syracuse\", 2016, \"ACC\", -1.46], [\"Virginia\", 2016, \"ACC\", -1.4699999999999998], [\"Virginia Tech\", 2016, \"ACC\", 0.7400000000000002], [\"Wake Forest\", 2016, \"ACC\", -0.7599999999999998], [\"Boston College\", 2017, \"ACC\", -0.27000000000000046], [\"Clemson\", 2017, \"ACC\", 1.4700000000000006], [\"Duke\", 2017, \"ACC\", -0.2999999999999998], [\"Florida St.\", 2017, \"ACC\", 0.9100000000000001], [\"Georgia Tech\", 2017, \"ACC\", 0.22000000000000064], [\"Louisville\", 2017, \"ACC\", 1.7799999999999994], [\"Miami (FL)\", 2017, \"ACC\", 1.4700000000000006], [\"NC State\", 2017, \"ACC\", 0.4300000000000006], [\"North Carolina\", 2017, \"ACC\", -0.5299999999999994], [\"Pittsburgh\", 2017, \"ACC\", -0.6100000000000003], [\"Syracuse\", 2017, \"ACC\", -1.0700000000000003], [\"Virginia\", 2017, \"ACC\", -0.5], [\"Virginia Tech\", 2017, \"ACC\", 0.33000000000000007], [\"Wake Forest\", 2017, \"ACC\", 0.7300000000000004], [\"Boston College\", 2018, \"ACC\", 0.25], [\"Clemson\", 2018, \"ACC\", 3.1599999999999993], [\"Duke\", 2018, \"ACC\", 0.009999999999999787], [\"Florida St.\", 2018, \"ACC\", -0.1200000000000001], [\"Georgia Tech\", 2018, \"ACC\", 0.1299999999999999], [\"Louisville\", 2018, \"ACC\", -1.5700000000000003], [\"Miami (FL)\", 2018, \"ACC\", 1.29], [\"NC State\", 2018, \"ACC\", 0.11999999999999922], [\"North Carolina\", 2018, \"ACC\", -0.03000000000000025], [\"Pittsburgh\", 2018, \"ACC\", 0.0], [\"Syracuse\", 2018, \"ACC\", -0.15000000000000036], [\"Virginia\", 2018, \"ACC\", 0.5700000000000003], [\"Virginia Tech\", 2018, \"ACC\", -0.5199999999999996], [\"Wake Forest\", 2018, \"ACC\", -0.3899999999999997], [\"Boston College\", 2019, \"ACC\", -0.54], [\"Clemson\", 2019, \"ACC\", 2.92], [\"Duke\", 2019, \"ACC\", -0.8199999999999994], [\"Florida St.\", 2019, \"ACC\", 0.5300000000000002], [\"Georgia Tech\", 2019, \"ACC\", -1.04], [\"Louisville\", 2019, \"ACC\", 0.34999999999999964], [\"Miami (FL)\", 2019, \"ACC\", 0.9199999999999999], [\"NC State\", 2019, \"ACC\", -0.41000000000000014], [\"North Carolina\", 2019, \"ACC\", 1.0], [\"Pittsburgh\", 2019, \"ACC\", 0.6799999999999997], [\"Syracuse\", 2019, \"ACC\", -0.8600000000000003], [\"Virginia\", 2019, \"ACC\", -0.08999999999999986], [\"Virginia Tech\", 2019, \"ACC\", 0.41000000000000014], [\"Wake Forest\", 2019, \"ACC\", -0.0600000000000005], [\"Boston College\", 2020, \"ACC\", -0.45999999999999996], [\"Clemson\", 2020, \"ACC\", 2.09], [\"Duke\", 2020, \"ACC\", -1.2199999999999998], [\"Florida St.\", 2020, \"ACC\", -0.9299999999999997], [\"Georgia Tech\", 2020, \"ACC\", -0.22000000000000064], [\"Louisville\", 2020, \"ACC\", 0.8800000000000008], [\"Miami (FL)\", 2020, \"ACC\", 0.3099999999999996], [\"NC State\", 2020, \"ACC\", 0.14000000000000057], [\"North Carolina\", 2020, \"ACC\", 2.1399999999999997], [\"Notre Dame\", 2020, \"ACC\", 0.9799999999999995], [\"Pittsburgh\", 2020, \"ACC\", 0.25], [\"Syracuse\", 2020, \"ACC\", -1.37], [\"Virginia\", 2020, \"ACC\", -0.71], [\"Virginia Tech\", 2020, \"ACC\", 0.47999999999999954], [\"Wake Forest\", 2020, \"ACC\", -0.33000000000000007]], \"hovertemplate\": \"Points.Per.Game=%{y}<br>Team=%{customdata[0]}<br>Season=%{customdata[1]}<br>Net Yards Per Play=%{customdata[3]:.1f}<extra></extra>\", \"legendgroup\": \"ACC\", \"marker\": {\"color\": \"#EF553B\", \"symbol\": \"circle\"}, \"mode\": \"markers\", \"name\": \"ACC\", \"orientation\": \"v\", \"showlegend\": true, \"type\": \"scatter\", \"x\": [0.5384615384615384, 0.8461538461538461, 0.7142857142857143, 1.0, 0.5384615384615384, 0.5384615384615384, 0.6923076923076923, 0.25, 0.5384615384615384, 0.5384615384615384, 0.5384615384615384, 0.16666666666666666, 0.6153846153846154, 0.3333333333333333, 0.5384615384615384, 0.7692307692307693, 0.6923076923076923, 0.9285714285714286, 0.7857142857142857, 0.6923076923076923, 0.46153846153846156, 0.6153846153846154, 0.46153846153846156, 0.46153846153846156, 0.25, 0.4166666666666667, 0.5384615384615384, 0.25, 0.25, 0.9333333333333333, 0.6153846153846154, 0.7692307692307693, 0.25, 0.6153846153846154, 0.6153846153846154, 0.5384615384615384, 0.7857142857142857, 0.6153846153846154, 0.3333333333333333, 0.3333333333333333, 0.5384615384615384, 0.25, 0.5384615384615384, 0.9333333333333333, 0.3333333333333333, 0.7692307692307693, 0.6923076923076923, 0.6923076923076923, 0.6923076923076923, 0.5384615384615384, 0.6153846153846154, 0.6153846153846154, 0.3333333333333333, 0.16666666666666666, 0.7142857142857143, 0.5384615384615384, 0.5384615384615384, 0.8571428571428571, 0.5384615384615384, 0.5384615384615384, 0.45454545454545453, 0.6153846153846154, 0.7692307692307693, 0.6923076923076923, 0.25, 0.4166666666666667, 0.3333333333333333, 0.46153846153846156, 0.6923076923076923, 0.6153846153846154, 0.5833333333333334, 1.0, 0.6153846153846154, 0.4166666666666667, 0.5384615384615384, 0.16666666666666666, 0.5384615384615384, 0.6923076923076923, 0.18181818181818182, 0.5, 0.7692307692307693, 0.6153846153846154, 0.46153846153846156, 0.5384615384615384, 0.46153846153846156, 0.9333333333333333, 0.4166666666666667, 0.46153846153846156, 0.25, 0.6153846153846154, 0.46153846153846156, 0.3333333333333333, 0.5384615384615384, 0.6153846153846154, 0.4166666666666667, 0.6428571428571429, 0.6153846153846154, 0.6153846153846154, 0.5454545454545454, 0.9090909090909091, 0.18181818181818182, 0.3333333333333333, 0.3, 0.36363636363636365, 0.8, 0.7272727272727273, 0.7272727272727273, 0.9090909090909091, 0.5454545454545454, 0.09090909090909091, 0.5, 0.45454545454545453, 0.5], \"xaxis\": \"x\", \"y\": [27.7, 40.2, 32.8, 51.6, 35.1, 26.2, 33.8, 22.8, 32.7, 26.3, 22.7, 19.8, 22.5, 18.3, 26.2, 30.8, 32.4, 33.7, 37.9, 31.2, 29.2, 30.2, 33.2, 31.8, 17.1, 25.8, 24.1, 14.8, 17.2, 38.5, 31.5, 31.7, 29.3, 28.7, 27.8, 33.2, 40.7, 28.2, 27.3, 25.8, 31.0, 17.4, 20.4, 39.2, 23.3, 35.1, 28.2, 42.5, 34.3, 27.0, 32.3, 40.9, 25.7, 22.5, 35.0, 20.4, 25.7, 33.3, 26.5, 27.8, 28.1, 38.1, 29.1, 32.2, 26.0, 23.9, 27.4, 22.5, 28.2, 35.3, 32.0, 44.3, 29.4, 21.9, 33.6, 19.8, 28.8, 33.8, 27.4, 25.6, 40.2, 28.5, 29.8, 32.8, 29.0, 43.9, 25.3, 27.9, 16.7, 33.1, 25.7, 22.1, 33.1, 21.2, 28.3, 32.1, 30.8, 31.8, 27.8, 44.9, 24.8, 25.8, 23.9, 29.5, 34.0, 31.1, 43.0, 35.2, 29.0, 17.8, 30.7, 31.1, 37.0], \"yaxis\": \"y\"}, {\"customdata\": [[\"Baylor\", 2013, \"Big 12\", 2.74], [\"Iowa St.\", 2013, \"Big 12\", -1.2299999999999995], [\"Kansas\", 2013, \"Big 12\", -1.54], [\"Kansas St.\", 2013, \"Big 12\", 1.2400000000000002], [\"Oklahoma\", 2013, \"Big 12\", 0.45999999999999996], [\"Oklahoma St.\", 2013, \"Big 12\", 1.1400000000000006], [\"TCU\", 2013, \"Big 12\", 0.20000000000000018], [\"Texas\", 2013, \"Big 12\", -0.1900000000000004], [\"Texas Tech\", 2013, \"Big 12\", 0.4899999999999993], [\"West Virginia\", 2013, \"Big 12\", -0.39999999999999947], [\"Baylor\", 2014, \"Big 12\", 1.3599999999999994], [\"Iowa St.\", 2014, \"Big 12\", -1.63], [\"Kansas\", 2014, \"Big 12\", -1.67], [\"Kansas St.\", 2014, \"Big 12\", 0.6900000000000004], [\"Oklahoma\", 2014, \"Big 12\", 1.2700000000000005], [\"Oklahoma St.\", 2014, \"Big 12\", -0.3600000000000003], [\"TCU\", 2014, \"Big 12\", 2.0199999999999996], [\"Texas\", 2014, \"Big 12\", 0.2400000000000002], [\"Texas Tech\", 2014, \"Big 12\", 0.3799999999999999], [\"West Virginia\", 2014, \"Big 12\", 0.4900000000000002], [\"Baylor\", 2015, \"Big 12\", 2.0699999999999994], [\"Iowa St.\", 2015, \"Big 12\", -0.7700000000000005], [\"Kansas\", 2015, \"Big 12\", -2.5300000000000002], [\"Kansas St.\", 2015, \"Big 12\", -1.29], [\"Oklahoma\", 2015, \"Big 12\", 2.01], [\"Oklahoma St.\", 2015, \"Big 12\", 0.6999999999999993], [\"TCU\", 2015, \"Big 12\", 1.63], [\"Texas\", 2015, \"Big 12\", 0.07000000000000028], [\"Texas Tech\", 2015, \"Big 12\", 0.040000000000000036], [\"West Virginia\", 2015, \"Big 12\", 0.6099999999999994], [\"Baylor\", 2016, \"Big 12\", 0.7000000000000002], [\"Iowa St.\", 2016, \"Big 12\", -0.05999999999999961], [\"Kansas\", 2016, \"Big 12\", -1.08], [\"Kansas St.\", 2016, \"Big 12\", -0.02999999999999936], [\"Oklahoma\", 2016, \"Big 12\", 1.6900000000000004], [\"Oklahoma St.\", 2016, \"Big 12\", 0.8000000000000007], [\"TCU\", 2016, \"Big 12\", 0.5899999999999999], [\"Texas\", 2016, \"Big 12\", 0.27000000000000046], [\"Texas Tech\", 2016, \"Big 12\", -0.5499999999999998], [\"West Virginia\", 2016, \"Big 12\", 0.8600000000000003], [\"Baylor\", 2017, \"Big 12\", -0.9100000000000001], [\"Iowa St.\", 2017, \"Big 12\", 0.14999999999999947], [\"Kansas\", 2017, \"Big 12\", -1.8000000000000007], [\"Kansas St.\", 2017, \"Big 12\", 0.3199999999999994], [\"Oklahoma\", 2017, \"Big 12\", 2.4499999999999993], [\"Oklahoma St.\", 2017, \"Big 12\", 1.83], [\"TCU\", 2017, \"Big 12\", 1.0199999999999996], [\"Texas\", 2017, \"Big 12\", -0.040000000000000036], [\"Texas Tech\", 2017, \"Big 12\", 0.3899999999999997], [\"West Virginia\", 2017, \"Big 12\", 0.20999999999999996], [\"Baylor\", 2018, \"Big 12\", -0.4500000000000002], [\"Iowa St.\", 2018, \"Big 12\", 0.7700000000000005], [\"Kansas\", 2018, \"Big 12\", -0.8899999999999997], [\"Kansas St.\", 2018, \"Big 12\", -0.7599999999999998], [\"Oklahoma\", 2018, \"Big 12\", 2.4699999999999998], [\"Oklahoma St.\", 2018, \"Big 12\", 0.3899999999999997], [\"TCU\", 2018, \"Big 12\", 0.4400000000000004], [\"Texas\", 2018, \"Big 12\", -0.08999999999999986], [\"Texas Tech\", 2018, \"Big 12\", 0.040000000000000036], [\"West Virginia\", 2018, \"Big 12\", 1.2600000000000007], [\"Baylor\", 2019, \"Big 12\", 1.33], [\"Iowa St.\", 2019, \"Big 12\", 1.0899999999999999], [\"Kansas\", 2019, \"Big 12\", -0.29000000000000004], [\"Kansas St.\", 2019, \"Big 12\", -0.6200000000000001], [\"Oklahoma\", 2019, \"Big 12\", 2.33], [\"Oklahoma St.\", 2019, \"Big 12\", 0.5999999999999996], [\"TCU\", 2019, \"Big 12\", 0.15000000000000036], [\"Texas\", 2019, \"Big 12\", 0.2599999999999998], [\"Texas Tech\", 2019, \"Big 12\", -0.5], [\"West Virginia\", 2019, \"Big 12\", -0.5800000000000001], [\"Baylor\", 2020, \"Big 12\", -1.0799999999999992], [\"Iowa St.\", 2020, \"Big 12\", 1.25], [\"Kansas\", 2020, \"Big 12\", -2.9699999999999998], [\"Kansas St.\", 2020, \"Big 12\", -0.5], [\"Oklahoma\", 2020, \"Big 12\", 1.5900000000000007], [\"Oklahoma St.\", 2020, \"Big 12\", 0.40000000000000036], [\"TCU\", 2020, \"Big 12\", 0.6799999999999997], [\"Texas\", 2020, \"Big 12\", 1.0900000000000007], [\"Texas Tech\", 2020, \"Big 12\", 0.10999999999999943], [\"West Virginia\", 2020, \"Big 12\", 0.7400000000000002]], \"hovertemplate\": \"Points.Per.Game=%{y}<br>Team=%{customdata[0]}<br>Season=%{customdata[1]}<br>Net Yards Per Play=%{customdata[3]:.1f}<extra></extra>\", \"legendgroup\": \"Big 12\", \"marker\": {\"color\": \"#00cc96\", \"symbol\": \"circle\"}, \"mode\": \"markers\", \"name\": \"Big 12\", \"orientation\": \"v\", \"showlegend\": true, \"type\": \"scatter\", \"x\": [0.8461538461538461, 0.25, 0.25, 0.6153846153846154, 0.8461538461538461, 0.7692307692307693, 0.3333333333333333, 0.6153846153846154, 0.6153846153846154, 0.3333333333333333, 0.8461538461538461, 0.16666666666666666, 0.25, 0.6923076923076923, 0.6153846153846154, 0.5384615384615384, 0.9230769230769231, 0.46153846153846156, 0.3333333333333333, 0.5384615384615384, 0.7692307692307693, 0.25, 0.0, 0.46153846153846156, 0.8461538461538461, 0.7692307692307693, 0.8461538461538461, 0.4166666666666667, 0.5384615384615384, 0.6153846153846154, 0.5384615384615384, 0.25, 0.16666666666666666, 0.6923076923076923, 0.8461538461538461, 0.7692307692307693, 0.46153846153846156, 0.4166666666666667, 0.4166666666666667, 0.7692307692307693, 0.08333333333333333, 0.6153846153846154, 0.08333333333333333, 0.6153846153846154, 0.8571428571428571, 0.7692307692307693, 0.7857142857142857, 0.5384615384615384, 0.46153846153846156, 0.5384615384615384, 0.5384615384615384, 0.6153846153846154, 0.25, 0.4166666666666667, 0.8571428571428571, 0.5384615384615384, 0.5384615384615384, 0.7142857142857143, 0.4166666666666667, 0.6666666666666666, 0.7857142857142857, 0.5384615384615384, 0.25, 0.6153846153846154, 0.8571428571428571, 0.6153846153846154, 0.4166666666666667, 0.6153846153846154, 0.3333333333333333, 0.4166666666666667, 0.2222222222222222, 0.7272727272727273, 0.0, 0.4, 0.8, 0.7, 0.6, 0.6666666666666666, 0.4, 0.5555555555555556], \"xaxis\": \"x\", \"y\": [52.4, 24.8, 15.3, 33.2, 32.8, 39.1, 25.1, 29.3, 35.8, 26.3, 48.2, 23.2, 17.8, 35.8, 36.4, 27.6, 46.5, 21.4, 30.5, 33.5, 48.1, 25.0, 15.3, 29.9, 43.5, 39.5, 42.1, 26.4, 45.1, 34.0, 34.6, 27.7, 20.3, 32.2, 43.9, 38.6, 31.0, 31.9, 43.7, 31.2, 24.3, 29.2, 18.7, 32.3, 45.1, 45.0, 33.6, 29.5, 34.3, 34.5, 29.5, 26.8, 23.8, 22.5, 48.4, 38.4, 23.5, 31.1, 37.3, 40.3, 33.6, 32.2, 23.5, 29.6, 42.1, 32.5, 30.3, 35.2, 30.5, 20.6, 23.3, 32.8, 15.8, 26.6, 41.8, 29.5, 30.8, 41.3, 29.1, 26.8], \"yaxis\": \"y\"}, {\"customdata\": [[\"Illinois\", 2013, \"Big Ten\", -0.75], [\"Indiana\", 2013, \"Big Ten\", -0.16000000000000014], [\"Iowa\", 2013, \"Big Ten\", 0.6799999999999997], [\"Michigan\", 2013, \"Big Ten\", 0.15000000000000036], [\"Michigan St.\", 2013, \"Big Ten\", 1.3600000000000003], [\"Minnesota\", 2013, \"Big Ten\", -0.4299999999999997], [\"Nebraska\", 2013, \"Big Ten\", 0.3600000000000003], [\"Northwestern\", 2013, \"Big Ten\", -0.07000000000000028], [\"Ohio St.\", 2013, \"Big Ten\", 1.87], [\"Penn St.\", 2013, \"Big Ten\", 0.41000000000000014], [\"Purdue\", 2013, \"Big Ten\", -1.6700000000000008], [\"Wisconsin\", 2013, \"Big Ten\", 2.119999999999999], [\"Illinois\", 2014, \"Big Ten\", -0.5999999999999996], [\"Indiana\", 2014, \"Big Ten\", -0.14999999999999947], [\"Iowa\", 2014, \"Big Ten\", 0.1899999999999995], [\"Maryland\", 2014, \"Big Ten\", -0.1900000000000004], [\"Michigan\", 2014, \"Big Ten\", 0.5500000000000007], [\"Michigan St.\", 2014, \"Big Ten\", 1.46], [\"Minnesota\", 2014, \"Big Ten\", 0.020000000000000462], [\"Nebraska\", 2014, \"Big Ten\", 0.8499999999999996], [\"Northwestern\", 2014, \"Big Ten\", -0.75], [\"Ohio St.\", 2014, \"Big Ten\", 2.0], [\"Penn St.\", 2014, \"Big Ten\", 0.33000000000000007], [\"Purdue\", 2014, \"Big Ten\", -0.6299999999999999], [\"Rutgers\", 2014, \"Big Ten\", -0.39999999999999947], [\"Wisconsin\", 2014, \"Big Ten\", 1.8599999999999994], [\"Illinois\", 2015, \"Big Ten\", 0.02999999999999936], [\"Indiana\", 2015, \"Big Ten\", -0.14999999999999947], [\"Iowa\", 2015, \"Big Ten\", 0.8099999999999996], [\"Maryland\", 2015, \"Big Ten\", -0.15000000000000036], [\"Michigan\", 2015, \"Big Ten\", 1.2199999999999998], [\"Michigan St.\", 2015, \"Big Ten\", -0.02999999999999936], [\"Minnesota\", 2015, \"Big Ten\", 0.4399999999999995], [\"Nebraska\", 2015, \"Big Ten\", 0.20999999999999996], [\"Northwestern\", 2015, \"Big Ten\", -0.0600000000000005], [\"Ohio St.\", 2015, \"Big Ten\", 1.83], [\"Penn St.\", 2015, \"Big Ten\", 0.6899999999999995], [\"Purdue\", 2015, \"Big Ten\", -1.33], [\"Rutgers\", 2015, \"Big Ten\", -1.2399999999999993], [\"Wisconsin\", 2015, \"Big Ten\", 0.8799999999999999], [\"Illinois\", 2016, \"Big Ten\", -0.21999999999999975], [\"Indiana\", 2016, \"Big Ten\", 0.5], [\"Iowa\", 2016, \"Big Ten\", 0.08999999999999986], [\"Maryland\", 2016, \"Big Ten\", -0.05999999999999961], [\"Michigan\", 2016, \"Big Ten\", 1.6399999999999997], [\"Michigan St.\", 2016, \"Big Ten\", 0.10999999999999943], [\"Minnesota\", 2016, \"Big Ten\", 0.41999999999999993], [\"Nebraska\", 2016, \"Big Ten\", -0.16999999999999993], [\"Northwestern\", 2016, \"Big Ten\", -0.14000000000000057], [\"Ohio St.\", 2016, \"Big Ten\", 1.6499999999999995], [\"Penn St.\", 2016, \"Big Ten\", 1.46], [\"Purdue\", 2016, \"Big Ten\", -1.1099999999999994], [\"Rutgers\", 2016, \"Big Ten\", -2.21], [\"Wisconsin\", 2016, \"Big Ten\", 0.5300000000000002], [\"Illinois\", 2017, \"Big Ten\", -1.0200000000000005], [\"Indiana\", 2017, \"Big Ten\", 0.07000000000000028], [\"Iowa\", 2017, \"Big Ten\", 0.040000000000000036], [\"Maryland\", 2017, \"Big Ten\", -0.46999999999999975], [\"Michigan\", 2017, \"Big Ten\", 0.6600000000000001], [\"Michigan St.\", 2017, \"Big Ten\", 0.2599999999999998], [\"Minnesota\", 2017, \"Big Ten\", -0.6399999999999997], [\"Nebraska\", 2017, \"Big Ten\", -0.75], [\"Northwestern\", 2017, \"Big Ten\", 0.29000000000000004], [\"Ohio St.\", 2017, \"Big Ten\", 2.4399999999999995], [\"Penn St.\", 2017, \"Big Ten\", 1.8100000000000005], [\"Purdue\", 2017, \"Big Ten\", 0.3200000000000003], [\"Rutgers\", 2017, \"Big Ten\", -1.29], [\"Wisconsin\", 2017, \"Big Ten\", 1.67], [\"Illinois\", 2018, \"Big Ten\", -1.0700000000000003], [\"Indiana\", 2018, \"Big Ten\", -0.5199999999999996], [\"Iowa\", 2018, \"Big Ten\", 0.8800000000000008], [\"Maryland\", 2018, \"Big Ten\", 0.5600000000000005], [\"Michigan\", 2018, \"Big Ten\", 1.5099999999999998], [\"Michigan St.\", 2018, \"Big Ten\", 0.08000000000000007], [\"Minnesota\", 2018, \"Big Ten\", -0.2599999999999998], [\"Nebraska\", 2018, \"Big Ten\", 0.5], [\"Northwestern\", 2018, \"Big Ten\", -0.8300000000000001], [\"Ohio St.\", 2018, \"Big Ten\", 0.8600000000000003], [\"Penn St.\", 2018, \"Big Ten\", 1.3900000000000006], [\"Purdue\", 2018, \"Big Ten\", 0.35999999999999943], [\"Rutgers\", 2018, \"Big Ten\", -1.5600000000000005], [\"Wisconsin\", 2018, \"Big Ten\", 0.9000000000000004], [\"Illinois\", 2019, \"Big Ten\", -0.5999999999999996], [\"Indiana\", 2019, \"Big Ten\", 0.6200000000000001], [\"Iowa\", 2019, \"Big Ten\", 0.7199999999999998], [\"Maryland\", 2019, \"Big Ten\", -0.5800000000000001], [\"Michigan\", 2019, \"Big Ten\", 1.0499999999999998], [\"Michigan St.\", 2019, \"Big Ten\", 0.23000000000000043], [\"Minnesota\", 2019, \"Big Ten\", 1.3000000000000007], [\"Nebraska\", 2019, \"Big Ten\", 0.14999999999999947], [\"Northwestern\", 2019, \"Big Ten\", -0.8299999999999992], [\"Ohio St.\", 2019, \"Big Ten\", 2.8100000000000005], [\"Penn St.\", 2019, \"Big Ten\", 1.2299999999999995], [\"Purdue\", 2019, \"Big Ten\", -0.5499999999999998], [\"Rutgers\", 2019, \"Big Ten\", -1.7599999999999998], [\"Wisconsin\", 2019, \"Big Ten\", 1.5099999999999998], [\"Illinois\", 2020, \"Big Ten\", -1.1999999999999993], [\"Indiana\", 2020, \"Big Ten\", -0.2400000000000002], [\"Iowa\", 2020, \"Big Ten\", 1.08], [\"Maryland\", 2020, \"Big Ten\", 1.2399999999999993], [\"Michigan\", 2020, \"Big Ten\", 0.3600000000000003], [\"Michigan St.\", 2020, \"Big Ten\", -0.45999999999999996], [\"Minnesota\", 2020, \"Big Ten\", -1.1900000000000004], [\"Nebraska\", 2020, \"Big Ten\", 0.09999999999999964], [\"Northwestern\", 2020, \"Big Ten\", -0.09999999999999964], [\"Ohio St.\", 2020, \"Big Ten\", 1.8600000000000003], [\"Penn St.\", 2020, \"Big Ten\", 0.40000000000000036], [\"Purdue\", 2020, \"Big Ten\", 0.3200000000000003], [\"Rutgers\", 2020, \"Big Ten\", -1.2400000000000002], [\"Wisconsin\", 2020, \"Big Ten\", 0.2400000000000002]], \"hovertemplate\": \"Points.Per.Game=%{y}<br>Team=%{customdata[0]}<br>Season=%{customdata[1]}<br>Net Yards Per Play=%{customdata[3]:.1f}<extra></extra>\", \"legendgroup\": \"Big Ten\", \"marker\": {\"color\": \"#ab63fa\", \"symbol\": \"circle\"}, \"mode\": \"markers\", \"name\": \"Big Ten\", \"orientation\": \"v\", \"showlegend\": true, \"type\": \"scatter\", \"x\": [0.3333333333333333, 0.4166666666666667, 0.6153846153846154, 0.5384615384615384, 0.9285714285714286, 0.6153846153846154, 0.6923076923076923, 0.4166666666666667, 0.8571428571428571, 0.5833333333333334, 0.08333333333333333, 0.6923076923076923, 0.46153846153846156, 0.3333333333333333, 0.5384615384615384, 0.5384615384615384, 0.4166666666666667, 0.8461538461538461, 0.6153846153846154, 0.6923076923076923, 0.4166666666666667, 0.9333333333333333, 0.5384615384615384, 0.25, 0.6153846153846154, 0.7857142857142857, 0.4166666666666667, 0.46153846153846156, 0.8571428571428571, 0.25, 0.7692307692307693, 0.8571428571428571, 0.46153846153846156, 0.46153846153846156, 0.7692307692307693, 0.9230769230769231, 0.5384615384615384, 0.16666666666666666, 0.3333333333333333, 0.7692307692307693, 0.25, 0.46153846153846156, 0.6153846153846154, 0.46153846153846156, 0.7692307692307693, 0.25, 0.6923076923076923, 0.6923076923076923, 0.5384615384615384, 0.8461538461538461, 0.7857142857142857, 0.25, 0.16666666666666666, 0.7857142857142857, 0.16666666666666666, 0.4166666666666667, 0.6153846153846154, 0.3333333333333333, 0.6153846153846154, 0.7692307692307693, 0.4166666666666667, 0.3333333333333333, 0.7692307692307693, 0.8571428571428571, 0.8461538461538461, 0.5384615384615384, 0.3333333333333333, 0.9285714285714286, 0.3333333333333333, 0.4166666666666667, 0.6923076923076923, 0.4166666666666667, 0.7692307692307693, 0.5384615384615384, 0.5384615384615384, 0.3333333333333333, 0.6428571428571429, 0.9285714285714286, 0.6923076923076923, 0.46153846153846156, 0.08333333333333333, 0.6153846153846154, 0.46153846153846156, 0.6153846153846154, 0.7692307692307693, 0.25, 0.6923076923076923, 0.5384615384615384, 0.8461538461538461, 0.4166666666666667, 0.25, 0.9285714285714286, 0.8461538461538461, 0.3333333333333333, 0.16666666666666666, 0.7142857142857143, 0.25, 0.8571428571428571, 0.75, 0.4, 0.3333333333333333, 0.2857142857142857, 0.42857142857142855, 0.375, 0.75, 1.0, 0.4444444444444444, 0.3333333333333333, 0.3333333333333333, 0.5], \"xaxis\": \"x\", \"y\": [29.7, 38.4, 26.3, 32.2, 29.4, 25.7, 31.9, 26.2, 45.5, 28.7, 14.9, 34.8, 25.9, 25.1, 28.2, 28.5, 20.9, 43.0, 28.4, 37.8, 23.0, 44.8, 20.6, 23.8, 26.7, 34.6, 22.7, 36.5, 30.9, 24.7, 31.4, 29.8, 22.5, 32.8, 19.5, 35.7, 23.2, 25.1, 27.1, 26.8, 19.7, 25.8, 24.9, 25.8, 40.3, 24.1, 29.3, 26.5, 26.0, 39.4, 37.6, 24.6, 15.7, 28.4, 15.4, 26.8, 28.2, 24.1, 25.2, 24.5, 22.1, 25.8, 29.2, 41.1, 41.1, 25.2, 18.0, 33.8, 26.0, 26.4, 31.2, 28.5, 35.2, 18.7, 28.9, 30.0, 24.2, 42.4, 33.8, 30.5, 13.5, 29.7, 26.7, 31.8, 25.8, 25.3, 31.7, 22.4, 34.1, 28.0, 16.3, 46.9, 35.8, 25.8, 13.3, 34.1, 20.1, 30.1, 31.8, 23.6, 28.3, 18.0, 27.3, 23.1, 23.4, 42.5, 29.8, 27.2, 26.7, 22.3], \"yaxis\": \"y\"}, {\"customdata\": [[\"East Carolina\", 2013, \"C-USA\", 1.0199999999999996], [\"FIU\", 2013, \"C-USA\", -3.02], [\"Fla. Atlantic\", 2013, \"C-USA\", 0.4900000000000002], [\"Louisiana Tech\", 2013, \"C-USA\", -0.17999999999999972], [\"Marshall\", 2013, \"C-USA\", 1.5099999999999998], [\"Middle Tenn.\", 2013, \"C-USA\", 0.40000000000000036], [\"North Texas\", 2013, \"C-USA\", 0.47000000000000064], [\"Rice\", 2013, \"C-USA\", 0.09999999999999964], [\"Southern Miss.\", 2013, \"C-USA\", -1.25], [\"Tulane\", 2013, \"C-USA\", -0.2599999999999998], [\"Tulsa\", 2013, \"C-USA\", -0.8299999999999992], [\"UAB\", 2013, \"C-USA\", -1.37], [\"UTEP\", 2013, \"C-USA\", -2.38], [\"FIU\", 2014, \"C-USA\", -1.0499999999999998], [\"Fla. Atlantic\", 2014, \"C-USA\", -0.8400000000000007], [\"Louisiana Tech\", 2014, \"C-USA\", 0.9199999999999999], [\"Marshall\", 2014, \"C-USA\", 2.8599999999999994], [\"Middle Tenn.\", 2014, \"C-USA\", 0.08000000000000007], [\"North Texas\", 2014, \"C-USA\", -0.6100000000000003], [\"Rice\", 2014, \"C-USA\", -0.1200000000000001], [\"Southern Miss.\", 2014, \"C-USA\", -1.3100000000000005], [\"UAB\", 2014, \"C-USA\", -0.16999999999999993], [\"UTEP\", 2014, \"C-USA\", -1.0], [\"UTSA\", 2014, \"C-USA\", -0.75], [\"Western Ky.\", 2014, \"C-USA\", 0.3899999999999997], [\"FIU\", 2015, \"C-USA\", -0.6500000000000004], [\"Fla. Atlantic\", 2015, \"C-USA\", -0.4500000000000002], [\"Louisiana Tech\", 2015, \"C-USA\", 1.6100000000000003], [\"Marshall\", 2015, \"C-USA\", 0.6899999999999995], [\"Middle Tenn.\", 2015, \"C-USA\", 0.45999999999999996], [\"North Texas\", 2015, \"C-USA\", -2.1100000000000003], [\"Old Dominion\", 2015, \"C-USA\", -0.33000000000000007], [\"Rice\", 2015, \"C-USA\", -1.8099999999999996], [\"Southern Miss.\", 2015, \"C-USA\", 1.5899999999999999], [\"UTEP\", 2015, \"C-USA\", -1.9000000000000004], [\"UTSA\", 2015, \"C-USA\", -0.9699999999999998], [\"Western Ky.\", 2015, \"C-USA\", 1.54], [\"Charlotte\", 2016, \"C-USA\", -1.0899999999999999], [\"FIU\", 2016, \"C-USA\", -0.9100000000000001], [\"Fla. Atlantic\", 2016, \"C-USA\", -1.21], [\"Louisiana Tech\", 2016, \"C-USA\", 1.7199999999999998], [\"Marshall\", 2016, \"C-USA\", -1.3499999999999996], [\"Middle Tenn.\", 2016, \"C-USA\", 1.4500000000000002], [\"North Texas\", 2016, \"C-USA\", -0.9900000000000002], [\"Old Dominion\", 2016, \"C-USA\", 1.0], [\"Rice\", 2016, \"C-USA\", -2.2699999999999996], [\"Southern Miss.\", 2016, \"C-USA\", 0.2999999999999998], [\"UTEP\", 2016, \"C-USA\", -0.10000000000000053], [\"UTSA\", 2016, \"C-USA\", -0.3100000000000005], [\"Western Ky.\", 2016, \"C-USA\", 2.45], [\"Charlotte\", 2017, \"C-USA\", -1.2400000000000002], [\"FIU\", 2017, \"C-USA\", -0.28999999999999915], [\"Fla. Atlantic\", 2017, \"C-USA\", 1.6099999999999994], [\"Louisiana Tech\", 2017, \"C-USA\", 0.14000000000000057], [\"Marshall\", 2017, \"C-USA\", 0.5499999999999998], [\"Middle Tenn.\", 2017, \"C-USA\", 0.7299999999999995], [\"North Texas\", 2017, \"C-USA\", 0.17999999999999972], [\"Old Dominion\", 2017, \"C-USA\", -0.8799999999999999], [\"Rice\", 2017, \"C-USA\", -0.9899999999999993], [\"Southern Miss.\", 2017, \"C-USA\", 0.8399999999999999], [\"UAB\", 2017, \"C-USA\", 0.03000000000000025], [\"UTEP\", 2017, \"C-USA\", -2.1500000000000004], [\"UTSA\", 2017, \"C-USA\", 0.6699999999999999], [\"Western Ky.\", 2017, \"C-USA\", -0.1999999999999993], [\"Charlotte\", 2018, \"C-USA\", -0.8200000000000003], [\"FIU\", 2018, \"C-USA\", 0.7199999999999998], [\"Fla. Atlantic\", 2018, \"C-USA\", 0.23999999999999932], [\"Louisiana Tech\", 2018, \"C-USA\", 0.3899999999999997], [\"Marshall\", 2018, \"C-USA\", 0.8199999999999994], [\"Middle Tenn.\", 2018, \"C-USA\", 0.0699999999999994], [\"North Texas\", 2018, \"C-USA\", 0.8799999999999999], [\"Old Dominion\", 2018, \"C-USA\", -0.5700000000000003], [\"Rice\", 2018, \"C-USA\", -2.0699999999999994], [\"Southern Miss.\", 2018, \"C-USA\", 0.5700000000000003], [\"UAB\", 2018, \"C-USA\", 1.1100000000000003], [\"UTEP\", 2018, \"C-USA\", -1.0200000000000005], [\"UTSA\", 2018, \"C-USA\", -2.5], [\"Western Ky.\", 2018, \"C-USA\", -0.8500000000000005], [\"Charlotte\", 2019, \"C-USA\", 0.33999999999999986], [\"FIU\", 2019, \"C-USA\", -0.11000000000000032], [\"Fla. Atlantic\", 2019, \"C-USA\", 0.6100000000000003], [\"Louisiana Tech\", 2019, \"C-USA\", 0.8700000000000001], [\"Marshall\", 2019, \"C-USA\", 0.22999999999999954], [\"Middle Tenn.\", 2019, \"C-USA\", 0.15000000000000036], [\"North Texas\", 2019, \"C-USA\", 0.17999999999999972], [\"Old Dominion\", 2019, \"C-USA\", -1.6000000000000005], [\"Rice\", 2019, \"C-USA\", -1.2799999999999994], [\"Southern Miss.\", 2019, \"C-USA\", 0.3600000000000003], [\"UAB\", 2019, \"C-USA\", 0.79], [\"UTEP\", 2019, \"C-USA\", -1.62], [\"UTSA\", 2019, \"C-USA\", -1.4699999999999998], [\"Western Ky.\", 2019, \"C-USA\", 0.3799999999999999], [\"Charlotte\", 2020, \"C-USA\", -1.0999999999999996], [\"FIU\", 2020, \"C-USA\", -1.17], [\"Fla. Atlantic\", 2020, \"C-USA\", -0.20999999999999996], [\"Louisiana Tech\", 2020, \"C-USA\", -1.62], [\"Marshall\", 2020, \"C-USA\", 1.46], [\"Middle Tenn.\", 2020, \"C-USA\", -0.8700000000000001], [\"North Texas\", 2020, \"C-USA\", -0.35000000000000053], [\"Rice\", 2020, \"C-USA\", -0.9400000000000004], [\"Southern Miss.\", 2020, \"C-USA\", 0.03000000000000025], [\"UAB\", 2020, \"C-USA\", 1.2299999999999995], [\"UTEP\", 2020, \"C-USA\", -0.9400000000000004], [\"UTSA\", 2020, \"C-USA\", 0.08999999999999986], [\"Western Ky.\", 2020, \"C-USA\", -0.41000000000000014]], \"hovertemplate\": \"Points.Per.Game=%{y}<br>Team=%{customdata[0]}<br>Season=%{customdata[1]}<br>Net Yards Per Play=%{customdata[3]:.1f}<extra></extra>\", \"legendgroup\": \"C-USA\", \"marker\": {\"color\": \"#FFA15A\", \"symbol\": \"circle\"}, \"mode\": \"markers\", \"name\": \"C-USA\", \"orientation\": \"v\", \"showlegend\": true, \"type\": \"scatter\", \"x\": [0.7692307692307693, 0.08333333333333333, 0.5, 0.3333333333333333, 0.7142857142857143, 0.6153846153846154, 0.6923076923076923, 0.7142857142857143, 0.08333333333333333, 0.5384615384615384, 0.25, 0.16666666666666666, 0.16666666666666666, 0.3333333333333333, 0.25, 0.6428571428571429, 0.9285714285714286, 0.5, 0.3333333333333333, 0.6153846153846154, 0.25, 0.5, 0.5384615384615384, 0.3333333333333333, 0.6153846153846154, 0.4166666666666667, 0.25, 0.6923076923076923, 0.7692307692307693, 0.5384615384615384, 0.08333333333333333, 0.4166666666666667, 0.4166666666666667, 0.6428571428571429, 0.4166666666666667, 0.25, 0.8571428571428571, 0.3333333333333333, 0.3333333333333333, 0.25, 0.6428571428571429, 0.25, 0.6153846153846154, 0.38461538461538464, 0.7692307692307693, 0.25, 0.5384615384615384, 0.3333333333333333, 0.46153846153846156, 0.7857142857142857, 0.08333333333333333, 0.6153846153846154, 0.7857142857142857, 0.5384615384615384, 0.6153846153846154, 0.5384615384615384, 0.6428571428571429, 0.4166666666666667, 0.08333333333333333, 0.6153846153846154, 0.6153846153846154, 0.0, 0.5454545454545454, 0.46153846153846156, 0.4166666666666667, 0.6923076923076923, 0.4166666666666667, 0.6153846153846154, 0.6923076923076923, 0.5714285714285714, 0.6923076923076923, 0.3333333333333333, 0.15384615384615385, 0.5454545454545454, 0.7857142857142857, 0.08333333333333333, 0.25, 0.25, 0.5384615384615384, 0.46153846153846156, 0.7857142857142857, 0.7692307692307693, 0.6153846153846154, 0.3333333333333333, 0.3333333333333333, 0.08333333333333333, 0.25, 0.5384615384615384, 0.6428571428571429, 0.08333333333333333, 0.3333333333333333, 0.6923076923076923, 0.3333333333333333, 0.0, 0.5555555555555556, 0.5, 0.7, 0.3333333333333333, 0.4, 0.4, 0.3, 0.6666666666666666, 0.375, 0.6363636363636364, 0.45454545454545453], \"xaxis\": \"x\", \"y\": [40.2, 9.8, 26.4, 19.2, 42.1, 29.0, 31.8, 29.6, 17.1, 24.8, 21.1, 26.3, 21.8, 23.0, 24.0, 37.4, 45.6, 31.6, 27.2, 28.8, 19.0, 33.2, 26.6, 17.1, 44.4, 25.5, 22.5, 37.5, 31.3, 34.0, 15.2, 24.3, 26.1, 39.9, 20.7, 22.6, 44.3, 25.2, 24.0, 26.4, 44.3, 26.4, 39.7, 24.8, 35.1, 25.3, 32.8, 26.3, 29.2, 45.5, 14.2, 25.6, 40.6, 30.5, 26.7, 25.5, 35.5, 20.7, 16.3, 29.2, 27.8, 11.8, 23.5, 25.5, 21.7, 34.6, 31.1, 24.7, 28.2, 28.0, 34.6, 30.8, 18.9, 26.2, 29.9, 17.7, 14.2, 21.1, 29.8, 26.5, 36.4, 32.5, 25.8, 26.3, 30.6, 16.3, 17.9, 26.6, 23.1, 19.6, 20.3, 25.4, 27.0, 22.4, 18.9, 26.7, 28.5, 22.9, 34.4, 23.4, 25.3, 28.4, 23.0, 28.6, 18.8], \"yaxis\": \"y\"}, {\"customdata\": [[\"Army West Point\", 2013, \"FBS Independent\", -1.0599999999999996], [\"BYU\", 2013, \"FBS Independent\", 0.9900000000000002], [\"Idaho\", 2013, \"FBS Independent\", -2.1499999999999995], [\"Navy\", 2013, \"FBS Independent\", 0.15999999999999925], [\"New Mexico St.\", 2013, \"FBS Independent\", -2.2200000000000006], [\"Notre Dame\", 2013, \"FBS Independent\", 0.96], [\"Army West Point\", 2014, \"FBS Independent\", -0.8900000000000006], [\"BYU\", 2014, \"FBS Independent\", 0.7700000000000005], [\"Navy\", 2014, \"FBS Independent\", 0.5300000000000002], [\"Notre Dame\", 2014, \"FBS Independent\", 0.5100000000000007], [\"Army West Point\", 2015, \"FBS Independent\", -0.45999999999999996], [\"BYU\", 2015, \"FBS Independent\", 1.1199999999999992], [\"Notre Dame\", 2015, \"FBS Independent\", 1.4499999999999993], [\"Army West Point\", 2016, \"FBS Independent\", 0.7999999999999998], [\"BYU\", 2016, \"FBS Independent\", -0.08999999999999986], [\"Massachusetts\", 2016, \"FBS Independent\", -0.7999999999999998], [\"Notre Dame\", 2016, \"FBS Independent\", 0.6699999999999999], [\"Army West Point\", 2017, \"FBS Independent\", -0.28000000000000025], [\"BYU\", 2017, \"FBS Independent\", -0.20999999999999996], [\"Massachusetts\", 2017, \"FBS Independent\", 0.2400000000000002], [\"New Mexico St.\", 2017, \"FBS Independent\", 0.45999999999999996], [\"Notre Dame\", 2017, \"FBS Independent\", 1.3399999999999999], [\"Army West Point\", 2018, \"FBS Independent\", -0.04999999999999982], [\"BYU\", 2018, \"FBS Independent\", 0.8099999999999996], [\"Massachusetts\", 2018, \"FBS Independent\", -0.47999999999999954], [\"New Mexico St.\", 2018, \"FBS Independent\", -0.9500000000000002], [\"Notre Dame\", 2018, \"FBS Independent\", 1.2800000000000002], [\"Army West Point\", 2019, \"FBS Independent\", 0.03000000000000025], [\"BYU\", 2019, \"FBS Independent\", 0.5800000000000001], [\"Liberty\", 2019, \"FBS Independent\", 0.7000000000000002], [\"Massachusetts\", 2019, \"FBS Independent\", -3.4899999999999993], [\"New Mexico St.\", 2019, \"FBS Independent\", -1.37], [\"Notre Dame\", 2019, \"FBS Independent\", 1.6500000000000004], [\"Army West Point\", 2020, \"FBS Independent\", -0.1200000000000001], [\"BYU\", 2020, \"FBS Independent\", 3.04], [\"Liberty\", 2020, \"FBS Independent\", 1.7199999999999998], [\"Massachusetts\", 2020, \"FBS Independent\", -3.45]], \"hovertemplate\": \"Points.Per.Game=%{y}<br>Team=%{customdata[0]}<br>Season=%{customdata[1]}<br>Net Yards Per Play=%{customdata[3]:.1f}<extra></extra>\", \"legendgroup\": \"FBS Independent\", \"marker\": {\"color\": \"#19d3f3\", \"symbol\": \"circle\"}, \"mode\": \"markers\", \"name\": \"FBS Independent\", \"orientation\": \"v\", \"showlegend\": true, \"type\": \"scatter\", \"x\": [0.25, 0.6153846153846154, 0.08333333333333333, 0.6923076923076923, 0.16666666666666666, 0.6923076923076923, 0.3333333333333333, 0.6153846153846154, 0.6153846153846154, 0.6153846153846154, 0.16666666666666666, 0.6923076923076923, 0.7692307692307693, 0.6153846153846154, 0.6923076923076923, 0.16666666666666666, 0.3333333333333333, 0.7692307692307693, 0.3076923076923077, 0.3333333333333333, 0.5384615384615384, 0.7692307692307693, 0.8461538461538461, 0.5384615384615384, 0.3333333333333333, 0.25, 0.9230769230769231, 0.38461538461538464, 0.5384615384615384, 0.6153846153846154, 0.08333333333333333, 0.16666666666666666, 0.8461538461538461, 0.8181818181818182, 0.9166666666666666, 0.9, 0.0], \"xaxis\": \"x\", \"y\": [24.4, 30.2, 18.2, 33.5, 20.9, 27.2, 24.9, 37.1, 31.8, 32.8, 22.1, 33.7, 34.2, 29.9, 29.5, 23.3, 30.9, 30.7, 17.1, 30.6, 29.3, 34.2, 32.8, 27.2, 32.8, 25.3, 31.4, 28.5, 28.5, 32.8, 19.8, 21.7, 36.8, 27.3, 43.5, 38.3, 3.0], \"yaxis\": \"y\"}, {\"customdata\": [[\"Akron\", 2013, \"MAC\", -0.6099999999999994], [\"Ball St.\", 2013, \"MAC\", 0.8799999999999999], [\"Bowling Green\", 2013, \"MAC\", 1.4800000000000004], [\"Buffalo\", 2013, \"MAC\", -0.2699999999999996], [\"Central Mich.\", 2013, \"MAC\", -0.4399999999999995], [\"Eastern Mich.\", 2013, \"MAC\", -2.45], [\"Kent St.\", 2013, \"MAC\", -0.5], [\"Massachusetts\", 2013, \"MAC\", -2.3099999999999996], [\"Miami (OH)\", 2013, \"MAC\", -2.6699999999999995], [\"Northern Ill.\", 2013, \"MAC\", 1.3399999999999999], [\"Ohio\", 2013, \"MAC\", -0.1900000000000004], [\"Toledo\", 2013, \"MAC\", 0.5499999999999998], [\"Western Mich.\", 2013, \"MAC\", -1.0700000000000003], [\"Akron\", 2014, \"MAC\", -0.14999999999999947], [\"Ball St.\", 2014, \"MAC\", -0.7000000000000002], [\"Bowling Green\", 2014, \"MAC\", -0.4800000000000004], [\"Buffalo\", 2014, \"MAC\", 0.08999999999999986], [\"Central Mich.\", 2014, \"MAC\", 0.39999999999999947], [\"Eastern Mich.\", 2014, \"MAC\", -2.29], [\"Kent St.\", 2014, \"MAC\", -0.9199999999999999], [\"Massachusetts\", 2014, \"MAC\", 0.0], [\"Miami (OH)\", 2014, \"MAC\", -0.5800000000000001], [\"Northern Ill.\", 2014, \"MAC\", 0.2599999999999998], [\"Ohio\", 2014, \"MAC\", -0.3200000000000003], [\"Toledo\", 2014, \"MAC\", 0.7400000000000002], [\"Western Mich.\", 2014, \"MAC\", 1.04], [\"Akron\", 2015, \"MAC\", 0.28000000000000025], [\"Ball St.\", 2015, \"MAC\", -1.7799999999999994], [\"Bowling Green\", 2015, \"MAC\", 1.3399999999999999], [\"Buffalo\", 2015, \"MAC\", -0.39000000000000057], [\"Central Mich.\", 2015, \"MAC\", 0.5700000000000003], [\"Eastern Mich.\", 2015, \"MAC\", -1.5299999999999994], [\"Kent St.\", 2015, \"MAC\", -0.75], [\"Massachusetts\", 2015, \"MAC\", -0.2599999999999998], [\"Miami (OH)\", 2015, \"MAC\", -0.5700000000000003], [\"Northern Ill.\", 2015, \"MAC\", 0.15000000000000036], [\"Ohio\", 2015, \"MAC\", -0.04999999999999982], [\"Toledo\", 2015, \"MAC\", 1.0599999999999996], [\"Western Mich.\", 2015, \"MAC\", 0.5500000000000007], [\"Akron\", 2016, \"MAC\", -0.05999999999999961], [\"Ball St.\", 2016, \"MAC\", -0.7400000000000002], [\"Bowling Green\", 2016, \"MAC\", -1.1900000000000004], [\"Buffalo\", 2016, \"MAC\", -0.7599999999999998], [\"Central Mich.\", 2016, \"MAC\", 0.05999999999999961], [\"Eastern Mich.\", 2016, \"MAC\", 0.08000000000000007], [\"Kent St.\", 2016, \"MAC\", -0.3600000000000003], [\"Miami (OH)\", 2016, \"MAC\", 0.4299999999999997], [\"Northern Ill.\", 2016, \"MAC\", 0.07000000000000028], [\"Ohio\", 2016, \"MAC\", 0.33999999999999986], [\"Toledo\", 2016, \"MAC\", 1.3900000000000006], [\"Western Mich.\", 2016, \"MAC\", 0.8399999999999999], [\"Akron\", 2017, \"MAC\", -1.1399999999999997], [\"Ball St.\", 2017, \"MAC\", -2.16], [\"Bowling Green\", 2017, \"MAC\", -1.13], [\"Buffalo\", 2017, \"MAC\", 0.7699999999999996], [\"Central Mich.\", 2017, \"MAC\", 0.45999999999999996], [\"Eastern Mich.\", 2017, \"MAC\", 0.08000000000000007], [\"Kent St.\", 2017, \"MAC\", -1.83], [\"Miami (OH)\", 2017, \"MAC\", 0.1200000000000001], [\"Northern Ill.\", 2017, \"MAC\", 0.47999999999999954], [\"Ohio\", 2017, \"MAC\", 1.13], [\"Toledo\", 2017, \"MAC\", 1.2800000000000002], [\"Western Mich.\", 2017, \"MAC\", -0.17999999999999972], [\"Akron\", 2018, \"MAC\", -0.5700000000000003], [\"Ball St.\", 2018, \"MAC\", -0.6100000000000003], [\"Bowling Green\", 2018, \"MAC\", -1.2599999999999998], [\"Buffalo\", 2018, \"MAC\", 0.54], [\"Central Mich.\", 2018, \"MAC\", -1.1800000000000002], [\"Eastern Mich.\", 2018, \"MAC\", 0.5099999999999998], [\"Kent St.\", 2018, \"MAC\", -1.2199999999999998], [\"Miami (OH)\", 2018, \"MAC\", 0.21999999999999975], [\"Northern Ill.\", 2018, \"MAC\", -0.2600000000000007], [\"Ohio\", 2018, \"MAC\", 0.9100000000000001], [\"Toledo\", 2018, \"MAC\", 0.3799999999999999], [\"Western Mich.\", 2018, \"MAC\", -0.27999999999999936], [\"Akron\", 2019, \"MAC\", -1.6800000000000006], [\"Ball St.\", 2019, \"MAC\", 0.29000000000000004], [\"Bowling Green\", 2019, \"MAC\", -2.4700000000000006], [\"Buffalo\", 2019, \"MAC\", 0.5199999999999996], [\"Central Mich.\", 2019, \"MAC\", 0.6600000000000001], [\"Eastern Mich.\", 2019, \"MAC\", -0.10000000000000053], [\"Kent St.\", 2019, \"MAC\", -0.4900000000000002], [\"Miami (OH)\", 2019, \"MAC\", -0.2999999999999998], [\"Northern Ill.\", 2019, \"MAC\", -0.8600000000000003], [\"Ohio\", 2019, \"MAC\", 0.7299999999999995], [\"Toledo\", 2019, \"MAC\", -0.5300000000000002], [\"Western Mich.\", 2019, \"MAC\", 0.4800000000000004], [\"Akron\", 2020, \"MAC\", -2.869999999999999], [\"Ball St.\", 2020, \"MAC\", -0.2400000000000002], [\"Bowling Green\", 2020, \"MAC\", -1.4799999999999995], [\"Buffalo\", 2020, \"MAC\", 2.13], [\"Central Mich.\", 2020, \"MAC\", -0.02999999999999936], [\"Eastern Mich.\", 2020, \"MAC\", -0.6399999999999997], [\"Kent St.\", 2020, \"MAC\", 0.9400000000000004], [\"Miami (OH)\", 2020, \"MAC\", -0.13999999999999968], [\"Northern Ill.\", 2020, \"MAC\", -1.6399999999999997], [\"Ohio\", 2020, \"MAC\", 0.8799999999999999], [\"Toledo\", 2020, \"MAC\", 1.0700000000000003], [\"Western Mich.\", 2020, \"MAC\", 1.7400000000000002]], \"hovertemplate\": \"Points.Per.Game=%{y}<br>Team=%{customdata[0]}<br>Season=%{customdata[1]}<br>Net Yards Per Play=%{customdata[3]:.1f}<extra></extra>\", \"legendgroup\": \"MAC\", \"marker\": {\"color\": \"#FF6692\", \"symbol\": \"circle\"}, \"mode\": \"markers\", \"name\": \"MAC\", \"orientation\": \"v\", \"showlegend\": true, \"type\": \"scatter\", \"x\": [0.4166666666666667, 0.7692307692307693, 0.7142857142857143, 0.6153846153846154, 0.5, 0.16666666666666666, 0.3333333333333333, 0.08333333333333333, 0.0, 0.8571428571428571, 0.5384615384615384, 0.5833333333333334, 0.08333333333333333, 0.4166666666666667, 0.4166666666666667, 0.5714285714285714, 0.45454545454545453, 0.5384615384615384, 0.16666666666666666, 0.18181818181818182, 0.25, 0.16666666666666666, 0.7857142857142857, 0.5, 0.6923076923076923, 0.6153846153846154, 0.6153846153846154, 0.25, 0.7142857142857143, 0.4166666666666667, 0.5384615384615384, 0.08333333333333333, 0.25, 0.25, 0.25, 0.5714285714285714, 0.6153846153846154, 0.8333333333333334, 0.6153846153846154, 0.4166666666666667, 0.3333333333333333, 0.3333333333333333, 0.16666666666666666, 0.46153846153846156, 0.5384615384615384, 0.25, 0.46153846153846156, 0.4166666666666667, 0.5714285714285714, 0.6923076923076923, 0.9285714285714286, 0.5, 0.16666666666666666, 0.16666666666666666, 0.5, 0.6153846153846154, 0.4166666666666667, 0.16666666666666666, 0.4166666666666667, 0.6153846153846154, 0.6923076923076923, 0.7857142857142857, 0.5, 0.3333333333333333, 0.3333333333333333, 0.25, 0.7142857142857143, 0.08333333333333333, 0.5384615384615384, 0.16666666666666666, 0.5, 0.5714285714285714, 0.6923076923076923, 0.5384615384615384, 0.5384615384615384, 0.0, 0.4166666666666667, 0.25, 0.6153846153846154, 0.5714285714285714, 0.46153846153846156, 0.5384615384615384, 0.5714285714285714, 0.4166666666666667, 0.5384615384615384, 0.5, 0.5384615384615384, 0.16666666666666666, 0.8571428571428571, 0.0, 0.8571428571428571, 0.5, 0.3333333333333333, 0.75, 0.6666666666666666, 0.0, 0.6666666666666666, 0.6666666666666666, 0.6666666666666666], \"xaxis\": \"x\", \"y\": [20.2, 38.5, 34.8, 30.3, 23.3, 18.8, 20.8, 11.7, 9.8, 39.6, 27.4, 33.0, 17.2, 22.6, 27.7, 30.0, 32.3, 26.9, 15.2, 16.4, 27.3, 22.3, 31.5, 20.5, 36.6, 33.8, 23.9, 23.1, 42.2, 26.7, 25.8, 25.4, 13.1, 22.2, 17.9, 31.1, 27.5, 35.0, 36.0, 27.4, 27.0, 24.8, 16.5, 26.3, 29.6, 20.6, 22.8, 30.5, 26.3, 38.0, 41.6, 22.1, 17.9, 25.3, 28.5, 28.5, 26.1, 12.8, 24.4, 28.9, 39.1, 36.4, 33.9, 18.9, 24.2, 24.3, 34.6, 15.0, 27.0, 23.9, 28.1, 20.1, 40.1, 40.4, 32.0, 10.5, 34.8, 16.0, 31.5, 30.4, 29.2, 29.2, 24.1, 22.8, 34.3, 27.3, 33.1, 17.2, 34.3, 11.4, 43.4, 31.3, 33.2, 49.8, 28.7, 24.8, 34.3, 35.0, 41.7], \"yaxis\": \"y\"}, {\"customdata\": [[\"Air Force\", 2019, \"Mountain West\", 0.6899999999999995], [\"Boise St.\", 2019, \"Mountain West\", 0.8300000000000001], [\"Colorado St.\", 2019, \"Mountain West\", 0.6600000000000001], [\"Fresno St.\", 2019, \"Mountain West\", 0.3099999999999996], [\"Hawaii\", 2019, \"Mountain West\", 0.40000000000000036], [\"Nevada\", 2019, \"Mountain West\", -1.0500000000000007], [\"New Mexico\", 2019, \"Mountain West\", -0.9400000000000004], [\"San Diego St.\", 2019, \"Mountain West\", 0.1299999999999999], [\"San Jose St.\", 2019, \"Mountain West\", 0.5700000000000003], [\"UNLV\", 2019, \"Mountain West\", -0.8499999999999996], [\"Utah St.\", 2019, \"Mountain West\", 0.16999999999999993], [\"Wyoming\", 2019, \"Mountain West\", 0.45999999999999996], [\"Air Force\", 2020, \"Mountain West\", 1.2000000000000002], [\"Boise St.\", 2020, \"Mountain West\", 0.16000000000000014], [\"Colorado St.\", 2020, \"Mountain West\", -0.0600000000000005], [\"Fresno St.\", 2020, \"Mountain West\", 0.0600000000000005], [\"Hawaii\", 2020, \"Mountain West\", -0.2999999999999998], [\"Nevada\", 2020, \"Mountain West\", 1.0599999999999996], [\"New Mexico\", 2020, \"Mountain West\", -1.33], [\"San Diego St.\", 2020, \"Mountain West\", 0.6499999999999995], [\"San Jose St.\", 2020, \"Mountain West\", 1.96], [\"UNLV\", 2020, \"Mountain West\", -2.4400000000000004], [\"Utah St.\", 2020, \"Mountain West\", -1.9899999999999993], [\"Wyoming\", 2020, \"Mountain West\", 0.54]], \"hovertemplate\": \"Points.Per.Game=%{y}<br>Team=%{customdata[0]}<br>Season=%{customdata[1]}<br>Net Yards Per Play=%{customdata[3]:.1f}<extra></extra>\", \"legendgroup\": \"Mountain West\", \"marker\": {\"color\": \"#B6E880\", \"symbol\": \"circle\"}, \"mode\": \"markers\", \"name\": \"Mountain West\", \"orientation\": \"v\", \"showlegend\": true, \"type\": \"scatter\", \"x\": [0.8461538461538461, 0.8571428571428571, 0.3333333333333333, 0.3333333333333333, 0.6666666666666666, 0.5384615384615384, 0.16666666666666666, 0.7692307692307693, 0.4166666666666667, 0.3333333333333333, 0.5384615384615384, 0.6153846153846154, 0.5, 0.7142857142857143, 0.25, 0.5, 0.5555555555555556, 0.7777777777777778, 0.2857142857142857, 0.5, 1.0, 0.0, 0.16666666666666666, 0.3333333333333333], \"xaxis\": \"x\", \"y\": [34.1, 34.7, 28.1, 30.0, 33.9, 21.3, 22.3, 21.2, 30.1, 24.2, 29.2, 25.4, 24.3, 33.9, 22.2, 32.8, 26.2, 30.8, 23.9, 24.6, 30.9, 17.3, 15.5, 26.5], \"yaxis\": \"y\"}, {\"customdata\": [[\"Air Force\", 2017, \"MWC\", -1.29], [\"Boise St.\", 2017, \"MWC\", 0.9699999999999998], [\"Colorado St.\", 2017, \"MWC\", 0.2599999999999998], [\"Fresno St.\", 2017, \"MWC\", 0.9199999999999999], [\"Hawaii\", 2017, \"MWC\", -1.0299999999999994], [\"Nevada\", 2017, \"MWC\", -0.25], [\"New Mexico\", 2017, \"MWC\", -0.6299999999999999], [\"San Diego St.\", 2017, \"MWC\", 1.21], [\"San Jose St.\", 2017, \"MWC\", -1.6100000000000003], [\"UNLV\", 2017, \"MWC\", -0.0699999999999994], [\"Utah St.\", 2017, \"MWC\", 0.4500000000000002], [\"Wyoming\", 2017, \"MWC\", 0.009999999999999787], [\"Air Force\", 2018, \"MWC\", -0.28000000000000025], [\"Boise St.\", 2018, \"MWC\", 0.45999999999999996], [\"Colorado St.\", 2018, \"MWC\", -1.2800000000000002], [\"Fresno St.\", 2018, \"MWC\", 1.5499999999999998], [\"Hawaii\", 2018, \"MWC\", -0.20000000000000018], [\"Nevada\", 2018, \"MWC\", 0.7800000000000002], [\"New Mexico\", 2018, \"MWC\", -1.3200000000000003], [\"San Diego St.\", 2018, \"MWC\", 0.3700000000000001], [\"San Jose St.\", 2018, \"MWC\", -1.3999999999999995], [\"UNLV\", 2018, \"MWC\", -1.21], [\"Utah St.\", 2018, \"MWC\", 1.8399999999999999], [\"Wyoming\", 2018, \"MWC\", 0.3700000000000001]], \"hovertemplate\": \"Points.Per.Game=%{y}<br>Team=%{customdata[0]}<br>Season=%{customdata[1]}<br>Net Yards Per Play=%{customdata[3]:.1f}<extra></extra>\", \"legendgroup\": \"MWC\", \"marker\": {\"color\": \"#FF97FF\", \"symbol\": \"circle\"}, \"mode\": \"markers\", \"name\": \"MWC\", \"orientation\": \"v\", \"showlegend\": true, \"type\": \"scatter\", \"x\": [0.4166666666666667, 0.7857142857142857, 0.5384615384615384, 0.7142857142857143, 0.25, 0.25, 0.25, 0.7692307692307693, 0.15384615384615385, 0.4166666666666667, 0.46153846153846156, 0.6153846153846154, 0.4166666666666667, 0.7692307692307693, 0.25, 0.8571428571428571, 0.5714285714285714, 0.6153846153846154, 0.25, 0.5384615384615384, 0.08333333333333333, 0.3333333333333333, 0.8461538461538461, 0.5], \"xaxis\": \"x\", \"y\": [31.4, 32.5, 33.4, 27.1, 22.8, 28.2, 20.7, 30.8, 15.8, 28.8, 30.2, 23.5, 30.3, 35.4, 22.8, 34.6, 30.8, 31.1, 26.6, 20.6, 21.3, 28.8, 47.5, 20.7], \"yaxis\": \"y\"}, {\"customdata\": [[\"Arizona\", 2013, \"Pac-12\", 0.5300000000000002], [\"Arizona St.\", 2013, \"Pac-12\", 0.27999999999999936], [\"California\", 2013, \"Pac-12\", -1.87], [\"Colorado\", 2013, \"Pac-12\", -0.7400000000000002], [\"Oregon\", 2013, \"Pac-12\", 2.9299999999999997], [\"Oregon St.\", 2013, \"Pac-12\", 0.05000000000000071], [\"Southern California\", 2013, \"Pac-12\", 1.0799999999999992], [\"Stanford\", 2013, \"Pac-12\", 1.4799999999999995], [\"UCLA\", 2013, \"Pac-12\", 1.0199999999999996], [\"Utah\", 2013, \"Pac-12\", 0.1299999999999999], [\"Washington\", 2013, \"Pac-12\", 1.3699999999999992], [\"Washington St.\", 2013, \"Pac-12\", -0.4399999999999995], [\"Arizona\", 2014, \"Pac-12\", 0.040000000000000036], [\"Arizona St.\", 2014, \"Pac-12\", 0.28000000000000025], [\"California\", 2014, \"Pac-12\", -0.17999999999999972], [\"Colorado\", 2014, \"Pac-12\", -1.2599999999999998], [\"Oregon\", 2014, \"Pac-12\", 1.8200000000000003], [\"Oregon St.\", 2014, \"Pac-12\", -0.1899999999999995], [\"Southern California\", 2014, \"Pac-12\", 0.7400000000000002], [\"Stanford\", 2014, \"Pac-12\", 1.6799999999999997], [\"UCLA\", 2014, \"Pac-12\", 0.96], [\"Utah\", 2014, \"Pac-12\", 0.009999999999999787], [\"Washington\", 2014, \"Pac-12\", 0.020000000000000462], [\"Washington St.\", 2014, \"Pac-12\", -0.05999999999999961], [\"Arizona\", 2015, \"Pac-12\", 0.5500000000000007], [\"Arizona St.\", 2015, \"Pac-12\", -0.4300000000000006], [\"California\", 2015, \"Pac-12\", 0.8600000000000003], [\"Colorado\", 2015, \"Pac-12\", -0.5999999999999996], [\"Oregon\", 2015, \"Pac-12\", 1.0199999999999996], [\"Oregon St.\", 2015, \"Pac-12\", -1.3200000000000003], [\"Southern California\", 2015, \"Pac-12\", 0.4900000000000002], [\"Stanford\", 2015, \"Pac-12\", 1.0], [\"UCLA\", 2015, \"Pac-12\", 1.25], [\"Utah\", 2015, \"Pac-12\", -0.0699999999999994], [\"Washington\", 2015, \"Pac-12\", 1.0999999999999996], [\"Washington St.\", 2015, \"Pac-12\", 0.15000000000000036], [\"Arizona\", 2016, \"Pac-12\", -0.019999999999999574], [\"Arizona St.\", 2016, \"Pac-12\", -1.8600000000000003], [\"California\", 2016, \"Pac-12\", -0.7599999999999998], [\"Colorado\", 2016, \"Pac-12\", 0.6699999999999999], [\"Oregon\", 2016, \"Pac-12\", 0.20000000000000018], [\"Oregon St.\", 2016, \"Pac-12\", -0.2400000000000002], [\"Southern California\", 2016, \"Pac-12\", 1.0200000000000005], [\"Stanford\", 2016, \"Pac-12\", 0.41999999999999993], [\"UCLA\", 2016, \"Pac-12\", 0.5699999999999994], [\"Utah\", 2016, \"Pac-12\", 0.22000000000000064], [\"Washington\", 2016, \"Pac-12\", 2.2199999999999998], [\"Washington St.\", 2016, \"Pac-12\", 0.07000000000000028], [\"Arizona\", 2017, \"Pac-12\", 0.9799999999999995], [\"Arizona St.\", 2017, \"Pac-12\", -0.6200000000000001], [\"California\", 2017, \"Pac-12\", -0.6399999999999997], [\"Colorado\", 2017, \"Pac-12\", -0.6100000000000003], [\"Oregon\", 2017, \"Pac-12\", 1.0299999999999994], [\"Oregon St.\", 2017, \"Pac-12\", -1.4300000000000006], [\"Southern California\", 2017, \"Pac-12\", 0.9299999999999997], [\"Stanford\", 2017, \"Pac-12\", 0.46999999999999975], [\"UCLA\", 2017, \"Pac-12\", 0.1299999999999999], [\"Utah\", 2017, \"Pac-12\", 0.5699999999999994], [\"Washington\", 2017, \"Pac-12\", 2.0], [\"Washington St.\", 2017, \"Pac-12\", 0.4299999999999997], [\"Arizona\", 2018, \"Pac-12\", 0.5], [\"Arizona St.\", 2018, \"Pac-12\", 0.3200000000000003], [\"California\", 2018, \"Pac-12\", 0.3200000000000003], [\"Colorado\", 2018, \"Pac-12\", 0.16000000000000014], [\"Oregon\", 2018, \"Pac-12\", 0.6100000000000003], [\"Oregon St.\", 2018, \"Pac-12\", -2.1100000000000003], [\"Southern California\", 2018, \"Pac-12\", 0.41999999999999993], [\"Stanford\", 2018, \"Pac-12\", 0.46999999999999975], [\"UCLA\", 2018, \"Pac-12\", -0.47000000000000064], [\"Utah\", 2018, \"Pac-12\", 1.0899999999999999], [\"Washington\", 2018, \"Pac-12\", 1.3200000000000003], [\"Washington St.\", 2018, \"Pac-12\", 0.5499999999999998], [\"Arizona\", 2019, \"Pac-12\", -0.3100000000000005], [\"Arizona St.\", 2019, \"Pac-12\", 0.23000000000000043], [\"California\", 2019, \"Pac-12\", -0.29000000000000004], [\"Colorado\", 2019, \"Pac-12\", -1.0099999999999998], [\"Oregon\", 2019, \"Pac-12\", 1.6099999999999994], [\"Oregon St.\", 2019, \"Pac-12\", -0.09999999999999964], [\"Southern California\", 2019, \"Pac-12\", 0.7899999999999991], [\"Stanford\", 2019, \"Pac-12\", -0.71], [\"UCLA\", 2019, \"Pac-12\", -1.4000000000000004], [\"Utah\", 2019, \"Pac-12\", 1.9500000000000002], [\"Washington\", 2019, \"Pac-12\", 0.7199999999999998], [\"Washington St.\", 2019, \"Pac-12\", 0.5], [\"Arizona\", 2020, \"Pac-12\", -1.79], [\"Arizona St.\", 2020, \"Pac-12\", 1.87], [\"California\", 2020, \"Pac-12\", -1.2200000000000006], [\"Colorado\", 2020, \"Pac-12\", 0.20000000000000018], [\"Oregon\", 2020, \"Pac-12\", 1.2400000000000002], [\"Oregon St.\", 2020, \"Pac-12\", -0.6600000000000001], [\"Southern California\", 2020, \"Pac-12\", 0.08000000000000007], [\"Stanford\", 2020, \"Pac-12\", -0.5800000000000001], [\"UCLA\", 2020, \"Pac-12\", 0.6999999999999993], [\"Utah\", 2020, \"Pac-12\", 0.40000000000000036], [\"Washington\", 2020, \"Pac-12\", 0.6800000000000006], [\"Washington St.\", 2020, \"Pac-12\", -0.8300000000000001]], \"hovertemplate\": \"Points.Per.Game=%{y}<br>Team=%{customdata[0]}<br>Season=%{customdata[1]}<br>Net Yards Per Play=%{customdata[3]:.1f}<extra></extra>\", \"legendgroup\": \"Pac-12\", \"marker\": {\"color\": \"#FECB52\", \"symbol\": \"circle\"}, \"mode\": \"markers\", \"name\": \"Pac-12\", \"orientation\": \"v\", \"showlegend\": true, \"type\": \"scatter\", \"x\": [0.6153846153846154, 0.7142857142857143, 0.08333333333333333, 0.3333333333333333, 0.8461538461538461, 0.5384615384615384, 0.7142857142857143, 0.7857142857142857, 0.7692307692307693, 0.4166666666666667, 0.6923076923076923, 0.46153846153846156, 0.7142857142857143, 0.7692307692307693, 0.4166666666666667, 0.16666666666666666, 0.8666666666666667, 0.4166666666666667, 0.6923076923076923, 0.6153846153846154, 0.7692307692307693, 0.6923076923076923, 0.5714285714285714, 0.25, 0.5384615384615384, 0.46153846153846156, 0.6153846153846154, 0.3076923076923077, 0.6923076923076923, 0.16666666666666666, 0.5714285714285714, 0.8571428571428571, 0.6153846153846154, 0.7692307692307693, 0.5384615384615384, 0.6923076923076923, 0.25, 0.4166666666666667, 0.4166666666666667, 0.7142857142857143, 0.3333333333333333, 0.3333333333333333, 0.7692307692307693, 0.7692307692307693, 0.3333333333333333, 0.6923076923076923, 0.8571428571428571, 0.6153846153846154, 0.5384615384615384, 0.5384615384615384, 0.4166666666666667, 0.4166666666666667, 0.5384615384615384, 0.08333333333333333, 0.7857142857142857, 0.6428571428571429, 0.46153846153846156, 0.5384615384615384, 0.7692307692307693, 0.6923076923076923, 0.4166666666666667, 0.5384615384615384, 0.5384615384615384, 0.4166666666666667, 0.6923076923076923, 0.16666666666666666, 0.4166666666666667, 0.6923076923076923, 0.25, 0.6428571428571429, 0.7142857142857143, 0.8461538461538461, 0.3333333333333333, 0.6153846153846154, 0.6153846153846154, 0.4166666666666667, 0.8571428571428571, 0.4166666666666667, 0.6153846153846154, 0.3333333333333333, 0.3333333333333333, 0.7857142857142857, 0.6153846153846154, 0.46153846153846156, 0.0, 0.5, 0.25, 0.8, 0.6666666666666666, 0.2857142857142857, 0.8333333333333334, 0.6666666666666666, 0.42857142857142855, 0.6, 0.75, 0.25], \"xaxis\": \"x\", \"y\": [33.5, 39.7, 23.0, 25.4, 45.5, 34.8, 29.7, 32.3, 36.9, 29.2, 37.9, 31.0, 34.5, 36.9, 38.3, 28.5, 45.4, 25.7, 35.8, 27.2, 33.5, 31.3, 30.2, 31.8, 37.4, 34.6, 37.9, 24.6, 43.0, 19.0, 33.9, 37.8, 32.2, 30.6, 30.6, 31.5, 24.8, 33.3, 37.1, 31.1, 35.4, 26.2, 34.4, 26.3, 24.9, 29.8, 41.8, 38.2, 41.3, 31.8, 27.8, 26.4, 36.0, 20.7, 32.6, 32.4, 32.5, 29.5, 36.2, 30.3, 31.3, 29.9, 21.5, 27.1, 34.8, 26.1, 26.1, 28.4, 24.6, 28.1, 26.4, 37.5, 26.9, 24.8, 21.2, 23.5, 35.4, 31.2, 32.5, 21.7, 26.7, 32.3, 32.0, 37.8, 17.4, 40.2, 20.2, 29.6, 33.7, 28.9, 33.3, 29.3, 35.4, 30.2, 30.2, 27.0], \"yaxis\": \"y\"}, {\"customdata\": [[\"Alabama\", 2013, \"SEC\", 2.3200000000000003], [\"Arkansas\", 2013, \"SEC\", -0.5599999999999996], [\"Auburn\", 2013, \"SEC\", 0.96], [\"Florida\", 2013, \"SEC\", -0.5099999999999998], [\"Georgia\", 2013, \"SEC\", 1.25], [\"Kentucky\", 2013, \"SEC\", -0.9699999999999998], [\"LSU\", 2013, \"SEC\", 1.8600000000000003], [\"Mississippi St.\", 2013, \"SEC\", 0.45999999999999996], [\"Missouri\", 2013, \"SEC\", 1.1799999999999997], [\"Ole Miss\", 2013, \"SEC\", 0.79], [\"South Carolina\", 2013, \"SEC\", 0.9299999999999997], [\"Tennessee\", 2013, \"SEC\", -0.8000000000000007], [\"Texas A&M\", 2013, \"SEC\", 0.9799999999999995], [\"Vanderbilt\", 2013, \"SEC\", 0.33999999999999986], [\"Alabama\", 2014, \"SEC\", 1.79], [\"Arkansas\", 2014, \"SEC\", 0.6399999999999997], [\"Auburn\", 2014, \"SEC\", 1.04], [\"Florida\", 2014, \"SEC\", 0.6900000000000004], [\"Georgia\", 2014, \"SEC\", 1.9500000000000002], [\"Kentucky\", 2014, \"SEC\", -0.07000000000000028], [\"LSU\", 2014, \"SEC\", 0.75], [\"Mississippi St.\", 2014, \"SEC\", 1.0199999999999996], [\"Missouri\", 2014, \"SEC\", 0.5599999999999996], [\"Ole Miss\", 2014, \"SEC\", 1.3600000000000003], [\"South Carolina\", 2014, \"SEC\", -0.1299999999999999], [\"Tennessee\", 2014, \"SEC\", -0.3799999999999999], [\"Texas A&M\", 2014, \"SEC\", 0.41999999999999993], [\"Vanderbilt\", 2014, \"SEC\", -1.04], [\"Alabama\", 2015, \"SEC\", 1.5899999999999999], [\"Arkansas\", 2015, \"SEC\", 0.7599999999999998], [\"Auburn\", 2015, \"SEC\", 0.019999999999999574], [\"Florida\", 2015, \"SEC\", 0.45999999999999996], [\"Georgia\", 2015, \"SEC\", 1.2700000000000005], [\"Kentucky\", 2015, \"SEC\", -0.08000000000000007], [\"LSU\", 2015, \"SEC\", 1.5300000000000002], [\"Mississippi St.\", 2015, \"SEC\", 1.1399999999999997], [\"Missouri\", 2015, \"SEC\", 0.05999999999999961], [\"Ole Miss\", 2015, \"SEC\", 2.2], [\"South Carolina\", 2015, \"SEC\", -0.41999999999999993], [\"Tennessee\", 2015, \"SEC\", 0.34999999999999964], [\"Texas A&M\", 2015, \"SEC\", 0.16999999999999993], [\"Vanderbilt\", 2015, \"SEC\", -0.6699999999999999], [\"Alabama\", 2016, \"SEC\", 2.4799999999999995], [\"Arkansas\", 2016, \"SEC\", -0.7199999999999998], [\"Auburn\", 2016, \"SEC\", 1.0599999999999996], [\"Florida\", 2016, \"SEC\", 0.5200000000000005], [\"Georgia\", 2016, \"SEC\", 0.1800000000000006], [\"Kentucky\", 2016, \"SEC\", 0.17999999999999972], [\"LSU\", 2016, \"SEC\", 1.9500000000000002], [\"Mississippi St.\", 2016, \"SEC\", -0.16999999999999993], [\"Missouri\", 2016, \"SEC\", 0.2699999999999996], [\"Ole Miss\", 2016, \"SEC\", -0.019999999999999574], [\"South Carolina\", 2016, \"SEC\", -0.46999999999999975], [\"Tennessee\", 2016, \"SEC\", 0.6000000000000005], [\"Texas A&M\", 2016, \"SEC\", 0.8200000000000003], [\"Vanderbilt\", 2016, \"SEC\", -0.71], [\"Alabama\", 2017, \"SEC\", 2.5999999999999996], [\"Arkansas\", 2017, \"SEC\", -0.8600000000000003], [\"Auburn\", 2017, \"SEC\", 1.5], [\"Florida\", 2017, \"SEC\", -0.54], [\"Georgia\", 2017, \"SEC\", 2.01], [\"Kentucky\", 2017, \"SEC\", -0.6600000000000001], [\"LSU\", 2017, \"SEC\", 1.12], [\"Mississippi St.\", 2017, \"SEC\", 0.27999999999999936], [\"Missouri\", 2017, \"SEC\", 1.5300000000000002], [\"Ole Miss\", 2017, \"SEC\", 0.7400000000000002], [\"South Carolina\", 2017, \"SEC\", 0.2999999999999998], [\"Tennessee\", 2017, \"SEC\", -1.1700000000000008], [\"Texas A&M\", 2017, \"SEC\", -0.08999999999999986], [\"Vanderbilt\", 2017, \"SEC\", -0.25], [\"Alabama\", 2018, \"SEC\", 2.87], [\"Arkansas\", 2018, \"SEC\", -1.0300000000000002], [\"Auburn\", 2018, \"SEC\", 0.5199999999999996], [\"Florida\", 2018, \"SEC\", 1.1100000000000003], [\"Georgia\", 2018, \"SEC\", 2.1099999999999994], [\"Kentucky\", 2018, \"SEC\", 0.39999999999999947], [\"LSU\", 2018, \"SEC\", 0.6900000000000004], [\"Mississippi St.\", 2018, \"SEC\", 2.04], [\"Missouri\", 2018, \"SEC\", 0.5600000000000005], [\"Ole Miss\", 2018, \"SEC\", 0.7999999999999998], [\"South Carolina\", 2018, \"SEC\", 0.6699999999999999], [\"Tennessee\", 2018, \"SEC\", -0.20999999999999996], [\"Texas A&M\", 2018, \"SEC\", 0.4900000000000002], [\"Vanderbilt\", 2018, \"SEC\", 0.15000000000000036], [\"Alabama\", 2019, \"SEC\", 3.08], [\"Arkansas\", 2019, \"SEC\", -1.33], [\"Auburn\", 2019, \"SEC\", 0.7400000000000002], [\"Florida\", 2019, \"SEC\", 1.5699999999999994], [\"Georgia\", 2019, \"SEC\", 1.79], [\"Kentucky\", 2019, \"SEC\", 0.8500000000000005], [\"LSU\", 2019, \"SEC\", 2.7799999999999994], [\"Mississippi St.\", 2019, \"SEC\", -0.13999999999999968], [\"Missouri\", 2019, \"SEC\", 0.40999999999999925], [\"Ole Miss\", 2019, \"SEC\", 0.17999999999999972], [\"South Carolina\", 2019, \"SEC\", -0.35000000000000053], [\"Tennessee\", 2019, \"SEC\", 0.7800000000000002], [\"Texas A&M\", 2019, \"SEC\", 0.5700000000000003], [\"Vanderbilt\", 2019, \"SEC\", -1.7400000000000002], [\"Alabama\", 2020, \"SEC\", 2.79], [\"Arkansas\", 2020, \"SEC\", 0.11999999999999922], [\"Auburn\", 2020, \"SEC\", -0.040000000000000036], [\"Florida\", 2020, \"SEC\", 1.71], [\"Georgia\", 2020, \"SEC\", 1.25], [\"Kentucky\", 2020, \"SEC\", -0.4400000000000004], [\"LSU\", 2020, \"SEC\", -1.7400000000000002], [\"Mississippi St.\", 2020, \"SEC\", -0.5300000000000002], [\"Missouri\", 2020, \"SEC\", -0.46999999999999975], [\"Ole Miss\", 2020, \"SEC\", 0.09999999999999964], [\"South Carolina\", 2020, \"SEC\", -1.21], [\"Tennessee\", 2020, \"SEC\", -0.5800000000000001], [\"Texas A&M\", 2020, \"SEC\", 0.9799999999999995], [\"Vanderbilt\", 2020, \"SEC\", -2.5700000000000003]], \"hovertemplate\": \"Points.Per.Game=%{y}<br>Team=%{customdata[0]}<br>Season=%{customdata[1]}<br>Net Yards Per Play=%{customdata[3]:.1f}<extra></extra>\", \"legendgroup\": \"SEC\", \"marker\": {\"color\": \"#636efa\", \"symbol\": \"circle\"}, \"mode\": \"markers\", \"name\": \"SEC\", \"orientation\": \"v\", \"showlegend\": true, \"type\": \"scatter\", \"x\": [0.8461538461538461, 0.25, 0.8571428571428571, 0.3333333333333333, 0.6153846153846154, 0.16666666666666666, 0.7692307692307693, 0.5384615384615384, 0.8571428571428571, 0.6153846153846154, 0.8461538461538461, 0.4166666666666667, 0.6923076923076923, 0.6923076923076923, 0.8571428571428571, 0.5384615384615384, 0.6153846153846154, 0.5833333333333334, 0.7692307692307693, 0.4166666666666667, 0.6153846153846154, 0.7692307692307693, 0.7857142857142857, 0.6923076923076923, 0.5384615384615384, 0.5384615384615384, 0.6153846153846154, 0.25, 0.9333333333333333, 0.6153846153846154, 0.5384615384615384, 0.7142857142857143, 0.7692307692307693, 0.4166666666666667, 0.75, 0.6923076923076923, 0.4166666666666667, 0.7692307692307693, 0.25, 0.6923076923076923, 0.6153846153846154, 0.3333333333333333, 0.9333333333333333, 0.5384615384615384, 0.6153846153846154, 0.6923076923076923, 0.6153846153846154, 0.5384615384615384, 0.6666666666666666, 0.46153846153846156, 0.3333333333333333, 0.4166666666666667, 0.46153846153846156, 0.6923076923076923, 0.6153846153846154, 0.46153846153846156, 0.9285714285714286, 0.3333333333333333, 0.7142857142857143, 0.36363636363636365, 0.8666666666666667, 0.5384615384615384, 0.6923076923076923, 0.6923076923076923, 0.5384615384615384, 0.5, 0.6923076923076923, 0.3333333333333333, 0.5384615384615384, 0.4166666666666667, 0.9333333333333333, 0.16666666666666666, 0.6153846153846154, 0.7692307692307693, 0.7857142857142857, 0.7692307692307693, 0.7692307692307693, 0.6153846153846154, 0.6153846153846154, 0.4166666666666667, 0.5384615384615384, 0.4166666666666667, 0.6923076923076923, 0.46153846153846156, 0.8461538461538461, 0.16666666666666666, 0.6923076923076923, 0.8461538461538461, 0.8571428571428571, 0.6153846153846154, 1.0, 0.46153846153846156, 0.5, 0.3333333333333333, 0.3333333333333333, 0.6153846153846154, 0.6153846153846154, 0.25, 1.0, 0.3, 0.6, 0.7272727272727273, 0.7777777777777778, 0.4, 0.5, 0.3, 0.5, 0.4444444444444444, 0.2, 0.3, 0.8888888888888888, 0.0], \"xaxis\": \"x\", \"y\": [38.2, 20.7, 39.5, 18.8, 36.7, 20.5, 35.8, 27.7, 39.1, 30.0, 34.1, 23.8, 44.2, 30.1, 36.9, 31.9, 35.5, 30.3, 41.3, 29.2, 27.6, 36.9, 27.8, 28.3, 32.6, 28.9, 35.2, 17.2, 35.1, 35.9, 27.5, 23.2, 26.3, 24.7, 32.8, 34.4, 13.6, 40.8, 21.9, 35.2, 27.8, 15.2, 38.8, 30.3, 31.2, 23.9, 24.5, 30.0, 28.3, 30.4, 31.4, 32.6, 20.8, 36.4, 34.8, 23.0, 37.1, 28.8, 33.9, 22.1, 35.4, 25.5, 27.2, 32.0, 37.5, 32.8, 24.2, 19.8, 32.7, 24.6, 45.6, 21.7, 30.9, 35.0, 37.9, 26.6, 32.4, 28.5, 36.6, 33.9, 30.1, 22.8, 36.0, 28.5, 47.2, 21.4, 33.2, 33.2, 30.8, 27.2, 48.4, 27.6, 25.3, 26.6, 22.4, 24.2, 29.5, 16.5, 49.7, 25.7, 25.7, 41.6, 33.2, 21.7, 32.0, 20.7, 26.7, 40.7, 23.5, 21.5, 31.7, 14.8], \"yaxis\": \"y\"}, {\"customdata\": [[\"Arkansas St.\", 2013, \"Sun Belt\", -0.1800000000000006], [\"La.-Monroe\", 2013, \"Sun Belt\", -0.79], [\"Louisiana\", 2013, \"Sun Belt\", 0.3799999999999999], [\"South Alabama\", 2013, \"Sun Belt\", 0.16999999999999993], [\"Texas St.\", 2013, \"Sun Belt\", -0.33000000000000007], [\"Troy\", 2013, \"Sun Belt\", -0.6299999999999999], [\"Western Ky.\", 2013, \"Sun Belt\", 0.96], [\"Arkansas St.\", 2014, \"Sun Belt\", 0.4299999999999997], [\"Georgia St.\", 2014, \"Sun Belt\", -1.1800000000000006], [\"Idaho\", 2014, \"Sun Belt\", -1.7199999999999998], [\"La.-Monroe\", 2014, \"Sun Belt\", -0.6099999999999994], [\"Louisiana\", 2014, \"Sun Belt\", 0.03000000000000025], [\"New Mexico St.\", 2014, \"Sun Belt\", -1.0299999999999994], [\"South Alabama\", 2014, \"Sun Belt\", -0.4399999999999995], [\"Texas St.\", 2014, \"Sun Belt\", 0.34999999999999964], [\"Troy\", 2014, \"Sun Belt\", -1.04], [\"Appalachian St.\", 2015, \"Sun Belt\", 2.05], [\"Arkansas St.\", 2015, \"Sun Belt\", 0.10000000000000053], [\"Ga. Southern\", 2015, \"Sun Belt\", 0.9400000000000004], [\"Georgia St.\", 2015, \"Sun Belt\", 0.9300000000000006], [\"Idaho\", 2015, \"Sun Belt\", -1.4399999999999995], [\"La.-Monroe\", 2015, \"Sun Belt\", -1.13], [\"Louisiana\", 2015, \"Sun Belt\", -0.5099999999999998], [\"New Mexico St.\", 2015, \"Sun Belt\", -0.9900000000000002], [\"South Alabama\", 2015, \"Sun Belt\", -0.8199999999999994], [\"Texas St.\", 2015, \"Sun Belt\", -1.46], [\"Troy\", 2015, \"Sun Belt\", 0.16000000000000014], [\"Appalachian St.\", 2016, \"Sun Belt\", 1.1399999999999997], [\"Arkansas St.\", 2016, \"Sun Belt\", 0.3799999999999999], [\"Ga. Southern\", 2016, \"Sun Belt\", -0.7000000000000002], [\"Georgia St.\", 2016, \"Sun Belt\", 0.39999999999999947], [\"Idaho\", 2016, \"Sun Belt\", -0.6299999999999999], [\"La.-Monroe\", 2016, \"Sun Belt\", -1.54], [\"Louisiana\", 2016, \"Sun Belt\", -0.2999999999999998], [\"New Mexico St.\", 2016, \"Sun Belt\", -1.1199999999999992], [\"South Alabama\", 2016, \"Sun Belt\", 0.10000000000000053], [\"Texas St.\", 2016, \"Sun Belt\", -1.8800000000000008], [\"Troy\", 2016, \"Sun Belt\", 0.6699999999999999], [\"Appalachian St.\", 2017, \"Sun Belt\", 1.1400000000000006], [\"Arkansas St.\", 2017, \"Sun Belt\", 0.7999999999999998], [\"Ga. Southern\", 2017, \"Sun Belt\", -1.8499999999999996], [\"Georgia St.\", 2017, \"Sun Belt\", -0.33999999999999986], [\"Idaho\", 2017, \"Sun Belt\", -0.5200000000000005], [\"La.-Monroe\", 2017, \"Sun Belt\", -0.8899999999999997], [\"Louisiana\", 2017, \"Sun Belt\", -0.7999999999999998], [\"South Alabama\", 2017, \"Sun Belt\", -0.7800000000000002], [\"Texas St.\", 2017, \"Sun Belt\", -1.4100000000000001], [\"Troy\", 2017, \"Sun Belt\", 1.46], [\"Appalachian St.\", 2018, \"Sun Belt\", 2.09], [\"Arkansas St.\", 2018, \"Sun Belt\", 0.6099999999999994], [\"Coastal Caro.\", 2018, \"Sun Belt\", -1.46], [\"Ga. Southern\", 2018, \"Sun Belt\", 0.45999999999999996], [\"Georgia St.\", 2018, \"Sun Belt\", -2.16], [\"La.-Monroe\", 2018, \"Sun Belt\", -0.09999999999999964], [\"Louisiana\", 2018, \"Sun Belt\", 0.2699999999999996], [\"South Alabama\", 2018, \"Sun Belt\", -1.4400000000000004], [\"Texas St.\", 2018, \"Sun Belt\", -0.20999999999999996], [\"Troy\", 2018, \"Sun Belt\", 0.8600000000000003], [\"Appalachian St.\", 2019, \"Sun Belt\", 1.25], [\"Arkansas St.\", 2019, \"Sun Belt\", 0.05999999999999961], [\"Coastal Carolina\", 2019, \"Sun Belt\", -0.5199999999999996], [\"Ga. Southern\", 2019, \"Sun Belt\", -0.46999999999999975], [\"Georgia St.\", 2019, \"Sun Belt\", -0.8499999999999996], [\"La.-Monroe\", 2019, \"Sun Belt\", -0.33999999999999986], [\"Louisiana\", 2019, \"Sun Belt\", 1.5599999999999996], [\"South Alabama\", 2019, \"Sun Belt\", -0.7599999999999998], [\"Texas St.\", 2019, \"Sun Belt\", -0.75], [\"Troy\", 2019, \"Sun Belt\", -0.07000000000000028], [\"App State\", 2020, \"Sun Belt\", 1.4799999999999995], [\"Arkansas St.\", 2020, \"Sun Belt\", 0.04999999999999982], [\"Coastal Carolina\", 2020, \"Sun Belt\", 1.2799999999999994], [\"Ga. Southern\", 2020, \"Sun Belt\", 0.8199999999999994], [\"Georgia St.\", 2020, \"Sun Belt\", -0.019999999999999574], [\"Louisiana\", 2020, \"Sun Belt\", 1.5499999999999998], [\"South Alabama\", 2020, \"Sun Belt\", -1.3200000000000003], [\"Texas St.\", 2020, \"Sun Belt\", -0.6200000000000001], [\"Troy\", 2020, \"Sun Belt\", -0.020000000000000462], [\"ULM\", 2020, \"Sun Belt\", -2.01]], \"hovertemplate\": \"Points.Per.Game=%{y}<br>Team=%{customdata[0]}<br>Season=%{customdata[1]}<br>Net Yards Per Play=%{customdata[3]:.1f}<extra></extra>\", \"legendgroup\": \"Sun Belt\", \"marker\": {\"color\": \"#EF553B\", \"symbol\": \"circle\"}, \"mode\": \"markers\", \"name\": \"Sun Belt\", \"orientation\": \"v\", \"showlegend\": true, \"type\": \"scatter\", \"x\": [0.6153846153846154, 0.5, 0.6923076923076923, 0.5, 0.5, 0.5, 0.6666666666666666, 0.5384615384615384, 0.08333333333333333, 0.09090909090909091, 0.3333333333333333, 0.6923076923076923, 0.16666666666666666, 0.46153846153846156, 0.5833333333333334, 0.25, 0.8461538461538461, 0.6923076923076923, 0.6923076923076923, 0.46153846153846156, 0.3333333333333333, 0.15384615384615385, 0.3333333333333333, 0.25, 0.4166666666666667, 0.25, 0.3333333333333333, 0.7692307692307693, 0.6153846153846154, 0.4166666666666667, 0.25, 0.6923076923076923, 0.3333333333333333, 0.46153846153846156, 0.25, 0.46153846153846156, 0.16666666666666666, 0.7692307692307693, 0.6923076923076923, 0.5833333333333334, 0.16666666666666666, 0.5833333333333334, 0.3333333333333333, 0.3333333333333333, 0.4166666666666667, 0.3333333333333333, 0.16666666666666666, 0.8461538461538461, 0.8461538461538461, 0.6153846153846154, 0.4166666666666667, 0.7692307692307693, 0.16666666666666666, 0.5, 0.5, 0.25, 0.25, 0.7692307692307693, 0.9285714285714286, 0.6153846153846154, 0.4166666666666667, 0.5384615384615384, 0.5384615384615384, 0.4166666666666667, 0.7857142857142857, 0.16666666666666666, 0.25, 0.4166666666666667, 0.75, 0.36363636363636365, 1.0, 0.6153846153846154, 0.5555555555555556, 0.9, 0.36363636363636365, 0.16666666666666666, 0.45454545454545453, 0.0], \"xaxis\": \"x\", \"y\": [29.2, 22.3, 33.8, 29.4, 23.9, 34.1, 30.8, 36.7, 22.7, 25.0, 20.1, 29.5, 24.5, 22.5, 33.8, 21.8, 36.7, 40.0, 36.5, 26.9, 30.3, 21.0, 26.4, 28.6, 25.0, 26.9, 27.9, 29.2, 27.3, 26.6, 19.9, 30.8, 23.3, 23.6, 24.8, 25.4, 18.6, 33.7, 33.5, 37.8, 20.8, 20.3, 20.9, 33.9, 28.2, 19.8, 17.3, 31.5, 37.3, 30.3, 26.7, 30.5, 23.9, 26.6, 31.9, 24.2, 19.8, 30.7, 38.8, 33.7, 30.3, 28.2, 31.2, 31.6, 37.9, 18.4, 18.4, 33.8, 33.8, 32.9, 37.5, 27.2, 32.7, 33.9, 19.9, 27.7, 27.4, 16.3], \"yaxis\": \"y\"}],                        {\"hoverlabel\": {\"bgcolor\": \"white\", \"font\": {\"family\": \"Arial\", \"size\": 14}}, \"legend\": {\"title\": {\"text\": \"Conference\"}, \"tracegroupgap\": 0}, \"margin\": {\"t\": 60}, \"shapes\": [{\"line\": {\"color\": \"black\", \"width\": 2}, \"type\": \"line\", \"x0\": 0.5, \"x1\": 0.5, \"y0\": -4, \"y1\": 55}, {\"line\": {\"color\": \"black\", \"width\": 2}, \"type\": \"line\", \"x0\": 0, \"x1\": 1, \"y0\": 0, \"y1\": 0}], \"template\": {\"data\": {\"bar\": [{\"error_x\": {\"color\": \"#2a3f5f\"}, \"error_y\": {\"color\": \"#2a3f5f\"}, \"marker\": {\"line\": {\"color\": \"#E5ECF6\", \"width\": 0.5}}, \"type\": \"bar\"}], \"barpolar\": [{\"marker\": {\"line\": {\"color\": \"#E5ECF6\", \"width\": 0.5}}, \"type\": \"barpolar\"}], \"carpet\": [{\"aaxis\": {\"endlinecolor\": \"#2a3f5f\", \"gridcolor\": \"white\", \"linecolor\": \"white\", \"minorgridcolor\": \"white\", \"startlinecolor\": \"#2a3f5f\"}, \"baxis\": {\"endlinecolor\": \"#2a3f5f\", \"gridcolor\": \"white\", \"linecolor\": \"white\", \"minorgridcolor\": \"white\", \"startlinecolor\": \"#2a3f5f\"}, \"type\": \"carpet\"}], \"choropleth\": [{\"colorbar\": {\"outlinewidth\": 0, \"ticks\": \"\"}, \"type\": \"choropleth\"}], \"contour\": [{\"colorbar\": {\"outlinewidth\": 0, \"ticks\": \"\"}, \"colorscale\": [[0.0, \"#0d0887\"], [0.1111111111111111, \"#46039f\"], [0.2222222222222222, \"#7201a8\"], [0.3333333333333333, \"#9c179e\"], [0.4444444444444444, \"#bd3786\"], [0.5555555555555556, \"#d8576b\"], [0.6666666666666666, \"#ed7953\"], [0.7777777777777778, \"#fb9f3a\"], [0.8888888888888888, \"#fdca26\"], [1.0, \"#f0f921\"]], \"type\": \"contour\"}], \"contourcarpet\": [{\"colorbar\": {\"outlinewidth\": 0, \"ticks\": \"\"}, \"type\": \"contourcarpet\"}], \"heatmap\": [{\"colorbar\": {\"outlinewidth\": 0, \"ticks\": \"\"}, \"colorscale\": [[0.0, \"#0d0887\"], [0.1111111111111111, \"#46039f\"], [0.2222222222222222, \"#7201a8\"], [0.3333333333333333, \"#9c179e\"], [0.4444444444444444, \"#bd3786\"], [0.5555555555555556, \"#d8576b\"], [0.6666666666666666, \"#ed7953\"], [0.7777777777777778, \"#fb9f3a\"], [0.8888888888888888, \"#fdca26\"], [1.0, \"#f0f921\"]], \"type\": \"heatmap\"}], \"heatmapgl\": [{\"colorbar\": {\"outlinewidth\": 0, \"ticks\": \"\"}, \"colorscale\": [[0.0, \"#0d0887\"], [0.1111111111111111, \"#46039f\"], [0.2222222222222222, \"#7201a8\"], [0.3333333333333333, \"#9c179e\"], [0.4444444444444444, \"#bd3786\"], [0.5555555555555556, \"#d8576b\"], [0.6666666666666666, \"#ed7953\"], [0.7777777777777778, \"#fb9f3a\"], [0.8888888888888888, \"#fdca26\"], [1.0, \"#f0f921\"]], \"type\": \"heatmapgl\"}], \"histogram\": [{\"marker\": {\"colorbar\": {\"outlinewidth\": 0, \"ticks\": \"\"}}, \"type\": \"histogram\"}], \"histogram2d\": [{\"colorbar\": {\"outlinewidth\": 0, \"ticks\": \"\"}, \"colorscale\": [[0.0, \"#0d0887\"], [0.1111111111111111, \"#46039f\"], [0.2222222222222222, \"#7201a8\"], [0.3333333333333333, \"#9c179e\"], [0.4444444444444444, \"#bd3786\"], [0.5555555555555556, \"#d8576b\"], [0.6666666666666666, \"#ed7953\"], [0.7777777777777778, \"#fb9f3a\"], [0.8888888888888888, \"#fdca26\"], [1.0, \"#f0f921\"]], \"type\": \"histogram2d\"}], \"histogram2dcontour\": [{\"colorbar\": {\"outlinewidth\": 0, \"ticks\": \"\"}, \"colorscale\": [[0.0, \"#0d0887\"], [0.1111111111111111, \"#46039f\"], [0.2222222222222222, \"#7201a8\"], [0.3333333333333333, \"#9c179e\"], [0.4444444444444444, \"#bd3786\"], [0.5555555555555556, \"#d8576b\"], [0.6666666666666666, \"#ed7953\"], [0.7777777777777778, \"#fb9f3a\"], [0.8888888888888888, \"#fdca26\"], [1.0, \"#f0f921\"]], \"type\": \"histogram2dcontour\"}], \"mesh3d\": [{\"colorbar\": {\"outlinewidth\": 0, \"ticks\": \"\"}, \"type\": \"mesh3d\"}], \"parcoords\": [{\"line\": {\"colorbar\": {\"outlinewidth\": 0, \"ticks\": \"\"}}, \"type\": \"parcoords\"}], \"pie\": [{\"automargin\": true, \"type\": \"pie\"}], \"scatter\": [{\"marker\": {\"colorbar\": {\"outlinewidth\": 0, \"ticks\": \"\"}}, \"type\": \"scatter\"}], \"scatter3d\": [{\"line\": {\"colorbar\": {\"outlinewidth\": 0, \"ticks\": \"\"}}, \"marker\": {\"colorbar\": {\"outlinewidth\": 0, \"ticks\": \"\"}}, \"type\": \"scatter3d\"}], \"scattercarpet\": [{\"marker\": {\"colorbar\": {\"outlinewidth\": 0, \"ticks\": \"\"}}, \"type\": \"scattercarpet\"}], \"scattergeo\": [{\"marker\": {\"colorbar\": {\"outlinewidth\": 0, \"ticks\": \"\"}}, \"type\": \"scattergeo\"}], \"scattergl\": [{\"marker\": {\"colorbar\": {\"outlinewidth\": 0, \"ticks\": \"\"}}, \"type\": \"scattergl\"}], \"scattermapbox\": [{\"marker\": {\"colorbar\": {\"outlinewidth\": 0, \"ticks\": \"\"}}, \"type\": \"scattermapbox\"}], \"scatterpolar\": [{\"marker\": {\"colorbar\": {\"outlinewidth\": 0, \"ticks\": \"\"}}, \"type\": \"scatterpolar\"}], \"scatterpolargl\": [{\"marker\": {\"colorbar\": {\"outlinewidth\": 0, \"ticks\": \"\"}}, \"type\": \"scatterpolargl\"}], \"scatterternary\": [{\"marker\": {\"colorbar\": {\"outlinewidth\": 0, \"ticks\": \"\"}}, \"type\": \"scatterternary\"}], \"surface\": [{\"colorbar\": {\"outlinewidth\": 0, \"ticks\": \"\"}, \"colorscale\": [[0.0, \"#0d0887\"], [0.1111111111111111, \"#46039f\"], [0.2222222222222222, \"#7201a8\"], [0.3333333333333333, \"#9c179e\"], [0.4444444444444444, \"#bd3786\"], [0.5555555555555556, \"#d8576b\"], [0.6666666666666666, \"#ed7953\"], [0.7777777777777778, \"#fb9f3a\"], [0.8888888888888888, \"#fdca26\"], [1.0, \"#f0f921\"]], \"type\": \"surface\"}], \"table\": [{\"cells\": {\"fill\": {\"color\": \"#EBF0F8\"}, \"line\": {\"color\": \"white\"}}, \"header\": {\"fill\": {\"color\": \"#C8D4E3\"}, \"line\": {\"color\": \"white\"}}, \"type\": \"table\"}]}, \"layout\": {\"annotationdefaults\": {\"arrowcolor\": \"#2a3f5f\", \"arrowhead\": 0, \"arrowwidth\": 1}, \"autotypenumbers\": \"strict\", \"coloraxis\": {\"colorbar\": {\"outlinewidth\": 0, \"ticks\": \"\"}}, \"colorscale\": {\"diverging\": [[0, \"#8e0152\"], [0.1, \"#c51b7d\"], [0.2, \"#de77ae\"], [0.3, \"#f1b6da\"], [0.4, \"#fde0ef\"], [0.5, \"#f7f7f7\"], [0.6, \"#e6f5d0\"], [0.7, \"#b8e186\"], [0.8, \"#7fbc41\"], [0.9, \"#4d9221\"], [1, \"#276419\"]], \"sequential\": [[0.0, \"#0d0887\"], [0.1111111111111111, \"#46039f\"], [0.2222222222222222, \"#7201a8\"], [0.3333333333333333, \"#9c179e\"], [0.4444444444444444, \"#bd3786\"], [0.5555555555555556, \"#d8576b\"], [0.6666666666666666, \"#ed7953\"], [0.7777777777777778, \"#fb9f3a\"], [0.8888888888888888, \"#fdca26\"], [1.0, \"#f0f921\"]], \"sequentialminus\": [[0.0, \"#0d0887\"], [0.1111111111111111, \"#46039f\"], [0.2222222222222222, \"#7201a8\"], [0.3333333333333333, \"#9c179e\"], [0.4444444444444444, \"#bd3786\"], [0.5555555555555556, \"#d8576b\"], [0.6666666666666666, \"#ed7953\"], [0.7777777777777778, \"#fb9f3a\"], [0.8888888888888888, \"#fdca26\"], [1.0, \"#f0f921\"]]}, \"colorway\": [\"#636efa\", \"#EF553B\", \"#00cc96\", \"#ab63fa\", \"#FFA15A\", \"#19d3f3\", \"#FF6692\", \"#B6E880\", \"#FF97FF\", \"#FECB52\"], \"font\": {\"color\": \"#2a3f5f\"}, \"geo\": {\"bgcolor\": \"white\", \"lakecolor\": \"white\", \"landcolor\": \"#E5ECF6\", \"showlakes\": true, \"showland\": true, \"subunitcolor\": \"white\"}, \"hoverlabel\": {\"align\": \"left\"}, \"hovermode\": \"closest\", \"mapbox\": {\"style\": \"light\"}, \"paper_bgcolor\": \"white\", \"plot_bgcolor\": \"#E5ECF6\", \"polar\": {\"angularaxis\": {\"gridcolor\": \"white\", \"linecolor\": \"white\", \"ticks\": \"\"}, \"bgcolor\": \"#E5ECF6\", \"radialaxis\": {\"gridcolor\": \"white\", \"linecolor\": \"white\", \"ticks\": \"\"}}, \"scene\": {\"xaxis\": {\"backgroundcolor\": \"#E5ECF6\", \"gridcolor\": \"white\", \"gridwidth\": 2, \"linecolor\": \"white\", \"showbackground\": true, \"ticks\": \"\", \"zerolinecolor\": \"white\"}, \"yaxis\": {\"backgroundcolor\": \"#E5ECF6\", \"gridcolor\": \"white\", \"gridwidth\": 2, \"linecolor\": \"white\", \"showbackground\": true, \"ticks\": \"\", \"zerolinecolor\": \"white\"}, \"zaxis\": {\"backgroundcolor\": \"#E5ECF6\", \"gridcolor\": \"white\", \"gridwidth\": 2, \"linecolor\": \"white\", \"showbackground\": true, \"ticks\": \"\", \"zerolinecolor\": \"white\"}}, \"shapedefaults\": {\"line\": {\"color\": \"#2a3f5f\"}}, \"ternary\": {\"aaxis\": {\"gridcolor\": \"white\", \"linecolor\": \"white\", \"ticks\": \"\"}, \"baxis\": {\"gridcolor\": \"white\", \"linecolor\": \"white\", \"ticks\": \"\"}, \"bgcolor\": \"#E5ECF6\", \"caxis\": {\"gridcolor\": \"white\", \"linecolor\": \"white\", \"ticks\": \"\"}}, \"title\": {\"x\": 0.05}, \"xaxis\": {\"automargin\": true, \"gridcolor\": \"white\", \"linecolor\": \"white\", \"ticks\": \"\", \"title\": {\"standoff\": 15}, \"zerolinecolor\": \"white\", \"zerolinewidth\": 2}, \"yaxis\": {\"automargin\": true, \"gridcolor\": \"white\", \"linecolor\": \"white\", \"ticks\": \"\", \"title\": {\"standoff\": 15}, \"zerolinecolor\": \"white\", \"zerolinewidth\": 2}}}, \"xaxis\": {\"anchor\": \"y\", \"domain\": [0.0, 1.0], \"title\": {\"text\": \"winpct\"}}, \"yaxis\": {\"anchor\": \"x\", \"domain\": [0.0, 1.0], \"title\": {\"text\": \"Points.Per.Game\"}}},                        {\"responsive\": true}                    ).then(function(){\n",
       "                            \n",
       "var gd = document.getElementById('c945f3b3-b1fa-4d6c-a331-3ec97267ecb6');\n",
       "var x = new MutationObserver(function (mutations, observer) {{\n",
       "        var display = window.getComputedStyle(gd).display;\n",
       "        if (!display || display === 'none') {{\n",
       "            console.log([gd, 'removed!']);\n",
       "            Plotly.purge(gd);\n",
       "            observer.disconnect();\n",
       "        }}\n",
       "}});\n",
       "\n",
       "// Listen for the removal of the full notebook cells\n",
       "var notebookContainer = gd.closest('#notebook-container');\n",
       "if (notebookContainer) {{\n",
       "    x.observe(notebookContainer, {childList: true});\n",
       "}}\n",
       "\n",
       "// Listen for the clearing of the current output cell\n",
       "var outputEl = gd.closest('.output');\n",
       "if (outputEl) {{\n",
       "    x.observe(outputEl, {childList: true});\n",
       "}}\n",
       "\n",
       "                        })                };                });            </script>        </div>"
      ]
     },
     "metadata": {},
     "output_type": "display_data"
    }
   ],
   "source": [
    "#!pip install plotly \n",
    "import plotly.express as px\n",
    "\n",
    "fig = px.scatter(df, x =\"winpct\", y = \"Points.Per.Game\", color = \"Conference\",   \n",
    "                #category_orders={\"AAC\", \"ACC\", \"Big 12\", \"Big Ten\", \"C-USA\", \"FBS Independent\", \"MAC\", \"Mountain West\", \"MWC\", \"Pac-12\", \"SEC\", \"Sun Belt\"},  \n",
    "                hover_data = {'Team':True,\n",
    "                               'Season': True,\n",
    "                               'winpct':False, #Removes WinPct from Tooltip\n",
    "                               'Conference':False,\n",
    "                               'Net Yards Per Play':':.1f'\n",
    "                                \n",
    "                              })\n",
    "                 \n",
    "#Vertical Line to show .500 Winning Percentage\n",
    "fig.add_shape(type=\"line\", x0=.5, y0=-4, x1=.5, y1=55,\n",
    "    line=dict(color=\"black\",width=2))\n",
    "#Horizontal Line to Show +,- NYPP\n",
    "fig.add_shape(type=\"line\", x0=0, y0=0, x1=1, y1=0,\n",
    "    line=dict(color=\"black\",width=2))\n",
    "\n",
    "#Formats the Tooltip\n",
    "fig.update_layout(\n",
    "    hoverlabel=dict(\n",
    "        bgcolor=\"white\",\n",
    "        font_size=14,\n",
    "        font_family=\"Arial\"\n",
    "    )\n",
    ")\n",
    "\n",
    "fig.show()"
   ]
  },
  {
   "cell_type": "code",
   "execution_count": 20,
   "metadata": {},
   "outputs": [
    {
     "data": {
      "application/vnd.plotly.v1+json": {
       "config": {
        "plotlyServerURL": "https://plot.ly"
       },
       "data": [
        {
         "customdata": [
          [
           "Cincinnati",
           2019,
           "AAC"
          ],
          [
           "East Carolina",
           2019,
           "AAC"
          ],
          [
           "Houston",
           2019,
           "AAC"
          ],
          [
           "Memphis",
           2019,
           "AAC"
          ],
          [
           "Navy",
           2019,
           "AAC"
          ],
          [
           "SMU",
           2019,
           "AAC"
          ],
          [
           "South Fla.",
           2019,
           "AAC"
          ],
          [
           "Temple",
           2019,
           "AAC"
          ],
          [
           "Tulane",
           2019,
           "AAC"
          ],
          [
           "Tulsa",
           2019,
           "AAC"
          ],
          [
           "UCF",
           2019,
           "AAC"
          ],
          [
           "UConn",
           2019,
           "AAC"
          ]
         ],
         "hovertemplate": "Net Yards Per Play=%{y:.1f}<br>Team=%{customdata[0]}<br>Season=%{customdata[1]}<extra></extra>",
         "legendgroup": "AAC",
         "marker": {
          "color": "#636efa",
          "symbol": "circle"
         },
         "mode": "markers",
         "name": "AAC",
         "orientation": "v",
         "showlegend": true,
         "type": "scatter",
         "x": [
          0.7857142857142857,
          0.3333333333333333,
          0.3333333333333333,
          0.8571428571428571,
          0.8461538461538461,
          0.7692307692307693,
          0.3333333333333333,
          0.6153846153846154,
          0.5384615384615384,
          0.3333333333333333,
          0.7692307692307693,
          0.16666666666666666
         ],
         "xaxis": "x",
         "y": [
          0.3700000000000001,
          -0.7799999999999994,
          -0.79,
          1.4799999999999995,
          1.5,
          0.3799999999999999,
          -0.25,
          0.4300000000000006,
          0.6699999999999999,
          -0.34999999999999964,
          2.3499999999999996,
          -1.8899999999999997
         ],
         "yaxis": "y"
        },
        {
         "customdata": [
          [
           "Boston College",
           2019,
           "ACC"
          ],
          [
           "Clemson",
           2019,
           "ACC"
          ],
          [
           "Duke",
           2019,
           "ACC"
          ],
          [
           "Florida St.",
           2019,
           "ACC"
          ],
          [
           "Georgia Tech",
           2019,
           "ACC"
          ],
          [
           "Louisville",
           2019,
           "ACC"
          ],
          [
           "Miami (FL)",
           2019,
           "ACC"
          ],
          [
           "NC State",
           2019,
           "ACC"
          ],
          [
           "North Carolina",
           2019,
           "ACC"
          ],
          [
           "Pittsburgh",
           2019,
           "ACC"
          ],
          [
           "Syracuse",
           2019,
           "ACC"
          ],
          [
           "Virginia",
           2019,
           "ACC"
          ],
          [
           "Virginia Tech",
           2019,
           "ACC"
          ],
          [
           "Wake Forest",
           2019,
           "ACC"
          ]
         ],
         "hovertemplate": "Net Yards Per Play=%{y:.1f}<br>Team=%{customdata[0]}<br>Season=%{customdata[1]}<extra></extra>",
         "legendgroup": "ACC",
         "marker": {
          "color": "#EF553B",
          "symbol": "circle"
         },
         "mode": "markers",
         "name": "ACC",
         "orientation": "v",
         "showlegend": true,
         "type": "scatter",
         "x": [
          0.46153846153846156,
          0.9333333333333333,
          0.4166666666666667,
          0.46153846153846156,
          0.25,
          0.6153846153846154,
          0.46153846153846156,
          0.3333333333333333,
          0.5384615384615384,
          0.6153846153846154,
          0.4166666666666667,
          0.6428571428571429,
          0.6153846153846154,
          0.6153846153846154
         ],
         "xaxis": "x",
         "y": [
          -0.54,
          2.92,
          -0.8199999999999994,
          0.5300000000000002,
          -1.04,
          0.34999999999999964,
          0.9199999999999999,
          -0.41000000000000014,
          1,
          0.6799999999999997,
          -0.8600000000000003,
          -0.08999999999999986,
          0.41000000000000014,
          -0.0600000000000005
         ],
         "yaxis": "y"
        },
        {
         "customdata": [
          [
           "Baylor",
           2019,
           "Big 12"
          ],
          [
           "Iowa St.",
           2019,
           "Big 12"
          ],
          [
           "Kansas",
           2019,
           "Big 12"
          ],
          [
           "Kansas St.",
           2019,
           "Big 12"
          ],
          [
           "Oklahoma",
           2019,
           "Big 12"
          ],
          [
           "Oklahoma St.",
           2019,
           "Big 12"
          ],
          [
           "TCU",
           2019,
           "Big 12"
          ],
          [
           "Texas",
           2019,
           "Big 12"
          ],
          [
           "Texas Tech",
           2019,
           "Big 12"
          ],
          [
           "West Virginia",
           2019,
           "Big 12"
          ]
         ],
         "hovertemplate": "Net Yards Per Play=%{y:.1f}<br>Team=%{customdata[0]}<br>Season=%{customdata[1]}<extra></extra>",
         "legendgroup": "Big 12",
         "marker": {
          "color": "#00cc96",
          "symbol": "circle"
         },
         "mode": "markers",
         "name": "Big 12",
         "orientation": "v",
         "showlegend": true,
         "type": "scatter",
         "x": [
          0.7857142857142857,
          0.5384615384615384,
          0.25,
          0.6153846153846154,
          0.8571428571428571,
          0.6153846153846154,
          0.4166666666666667,
          0.6153846153846154,
          0.3333333333333333,
          0.4166666666666667
         ],
         "xaxis": "x",
         "y": [
          1.33,
          1.0899999999999999,
          -0.29000000000000004,
          -0.6200000000000001,
          2.33,
          0.5999999999999996,
          0.15000000000000036,
          0.2599999999999998,
          -0.5,
          -0.5800000000000001
         ],
         "yaxis": "y"
        },
        {
         "customdata": [
          [
           "Illinois",
           2019,
           "Big Ten"
          ],
          [
           "Indiana",
           2019,
           "Big Ten"
          ],
          [
           "Iowa",
           2019,
           "Big Ten"
          ],
          [
           "Maryland",
           2019,
           "Big Ten"
          ],
          [
           "Michigan",
           2019,
           "Big Ten"
          ],
          [
           "Michigan St.",
           2019,
           "Big Ten"
          ],
          [
           "Minnesota",
           2019,
           "Big Ten"
          ],
          [
           "Nebraska",
           2019,
           "Big Ten"
          ],
          [
           "Northwestern",
           2019,
           "Big Ten"
          ],
          [
           "Ohio St.",
           2019,
           "Big Ten"
          ],
          [
           "Penn St.",
           2019,
           "Big Ten"
          ],
          [
           "Purdue",
           2019,
           "Big Ten"
          ],
          [
           "Rutgers",
           2019,
           "Big Ten"
          ],
          [
           "Wisconsin",
           2019,
           "Big Ten"
          ]
         ],
         "hovertemplate": "Net Yards Per Play=%{y:.1f}<br>Team=%{customdata[0]}<br>Season=%{customdata[1]}<extra></extra>",
         "legendgroup": "Big Ten",
         "marker": {
          "color": "#ab63fa",
          "symbol": "circle"
         },
         "mode": "markers",
         "name": "Big Ten",
         "orientation": "v",
         "showlegend": true,
         "type": "scatter",
         "x": [
          0.46153846153846156,
          0.6153846153846154,
          0.7692307692307693,
          0.25,
          0.6923076923076923,
          0.5384615384615384,
          0.8461538461538461,
          0.4166666666666667,
          0.25,
          0.9285714285714286,
          0.8461538461538461,
          0.3333333333333333,
          0.16666666666666666,
          0.7142857142857143
         ],
         "xaxis": "x",
         "y": [
          -0.5999999999999996,
          0.6200000000000001,
          0.7199999999999998,
          -0.5800000000000001,
          1.0499999999999998,
          0.23000000000000043,
          1.3000000000000007,
          0.14999999999999947,
          -0.8299999999999992,
          2.8100000000000005,
          1.2299999999999995,
          -0.5499999999999998,
          -1.7599999999999998,
          1.5099999999999998
         ],
         "yaxis": "y"
        },
        {
         "customdata": [
          [
           "Charlotte",
           2019,
           "C-USA"
          ],
          [
           "FIU",
           2019,
           "C-USA"
          ],
          [
           "Fla. Atlantic",
           2019,
           "C-USA"
          ],
          [
           "Louisiana Tech",
           2019,
           "C-USA"
          ],
          [
           "Marshall",
           2019,
           "C-USA"
          ],
          [
           "Middle Tenn.",
           2019,
           "C-USA"
          ],
          [
           "North Texas",
           2019,
           "C-USA"
          ],
          [
           "Old Dominion",
           2019,
           "C-USA"
          ],
          [
           "Rice",
           2019,
           "C-USA"
          ],
          [
           "Southern Miss.",
           2019,
           "C-USA"
          ],
          [
           "UAB",
           2019,
           "C-USA"
          ],
          [
           "UTEP",
           2019,
           "C-USA"
          ],
          [
           "UTSA",
           2019,
           "C-USA"
          ],
          [
           "Western Ky.",
           2019,
           "C-USA"
          ]
         ],
         "hovertemplate": "Net Yards Per Play=%{y:.1f}<br>Team=%{customdata[0]}<br>Season=%{customdata[1]}<extra></extra>",
         "legendgroup": "C-USA",
         "marker": {
          "color": "#FFA15A",
          "symbol": "circle"
         },
         "mode": "markers",
         "name": "C-USA",
         "orientation": "v",
         "showlegend": true,
         "type": "scatter",
         "x": [
          0.5384615384615384,
          0.46153846153846156,
          0.7857142857142857,
          0.7692307692307693,
          0.6153846153846154,
          0.3333333333333333,
          0.3333333333333333,
          0.08333333333333333,
          0.25,
          0.5384615384615384,
          0.6428571428571429,
          0.08333333333333333,
          0.3333333333333333,
          0.6923076923076923
         ],
         "xaxis": "x",
         "y": [
          0.33999999999999986,
          -0.11000000000000032,
          0.6100000000000003,
          0.8700000000000001,
          0.22999999999999954,
          0.15000000000000036,
          0.17999999999999972,
          -1.6000000000000005,
          -1.2799999999999994,
          0.3600000000000003,
          0.79,
          -1.62,
          -1.4699999999999998,
          0.3799999999999999
         ],
         "yaxis": "y"
        },
        {
         "customdata": [
          [
           "Army West Point",
           2019,
           "FBS Independent"
          ],
          [
           "BYU",
           2019,
           "FBS Independent"
          ],
          [
           "Liberty",
           2019,
           "FBS Independent"
          ],
          [
           "Massachusetts",
           2019,
           "FBS Independent"
          ],
          [
           "New Mexico St.",
           2019,
           "FBS Independent"
          ],
          [
           "Notre Dame",
           2019,
           "FBS Independent"
          ]
         ],
         "hovertemplate": "Net Yards Per Play=%{y:.1f}<br>Team=%{customdata[0]}<br>Season=%{customdata[1]}<extra></extra>",
         "legendgroup": "FBS Independent",
         "marker": {
          "color": "#19d3f3",
          "symbol": "circle"
         },
         "mode": "markers",
         "name": "FBS Independent",
         "orientation": "v",
         "showlegend": true,
         "type": "scatter",
         "x": [
          0.38461538461538464,
          0.5384615384615384,
          0.6153846153846154,
          0.08333333333333333,
          0.16666666666666666,
          0.8461538461538461
         ],
         "xaxis": "x",
         "y": [
          0.03000000000000025,
          0.5800000000000001,
          0.7000000000000002,
          -3.4899999999999993,
          -1.37,
          1.6500000000000004
         ],
         "yaxis": "y"
        },
        {
         "customdata": [
          [
           "Akron",
           2019,
           "MAC"
          ],
          [
           "Ball St.",
           2019,
           "MAC"
          ],
          [
           "Bowling Green",
           2019,
           "MAC"
          ],
          [
           "Buffalo",
           2019,
           "MAC"
          ],
          [
           "Central Mich.",
           2019,
           "MAC"
          ],
          [
           "Eastern Mich.",
           2019,
           "MAC"
          ],
          [
           "Kent St.",
           2019,
           "MAC"
          ],
          [
           "Miami (OH)",
           2019,
           "MAC"
          ],
          [
           "Northern Ill.",
           2019,
           "MAC"
          ],
          [
           "Ohio",
           2019,
           "MAC"
          ],
          [
           "Toledo",
           2019,
           "MAC"
          ],
          [
           "Western Mich.",
           2019,
           "MAC"
          ]
         ],
         "hovertemplate": "Net Yards Per Play=%{y:.1f}<br>Team=%{customdata[0]}<br>Season=%{customdata[1]}<extra></extra>",
         "legendgroup": "MAC",
         "marker": {
          "color": "#FF6692",
          "symbol": "circle"
         },
         "mode": "markers",
         "name": "MAC",
         "orientation": "v",
         "showlegend": true,
         "type": "scatter",
         "x": [
          0,
          0.4166666666666667,
          0.25,
          0.6153846153846154,
          0.5714285714285714,
          0.46153846153846156,
          0.5384615384615384,
          0.5714285714285714,
          0.4166666666666667,
          0.5384615384615384,
          0.5,
          0.5384615384615384
         ],
         "xaxis": "x",
         "y": [
          -1.6800000000000006,
          0.29000000000000004,
          -2.4700000000000006,
          0.5199999999999996,
          0.6600000000000001,
          -0.10000000000000053,
          -0.4900000000000002,
          -0.2999999999999998,
          -0.8600000000000003,
          0.7299999999999995,
          -0.5300000000000002,
          0.4800000000000004
         ],
         "yaxis": "y"
        },
        {
         "customdata": [
          [
           "Air Force",
           2019,
           "Mountain West"
          ],
          [
           "Boise St.",
           2019,
           "Mountain West"
          ],
          [
           "Colorado St.",
           2019,
           "Mountain West"
          ],
          [
           "Fresno St.",
           2019,
           "Mountain West"
          ],
          [
           "Hawaii",
           2019,
           "Mountain West"
          ],
          [
           "Nevada",
           2019,
           "Mountain West"
          ],
          [
           "New Mexico",
           2019,
           "Mountain West"
          ],
          [
           "San Diego St.",
           2019,
           "Mountain West"
          ],
          [
           "San Jose St.",
           2019,
           "Mountain West"
          ],
          [
           "UNLV",
           2019,
           "Mountain West"
          ],
          [
           "Utah St.",
           2019,
           "Mountain West"
          ],
          [
           "Wyoming",
           2019,
           "Mountain West"
          ]
         ],
         "hovertemplate": "Net Yards Per Play=%{y:.1f}<br>Team=%{customdata[0]}<br>Season=%{customdata[1]}<extra></extra>",
         "legendgroup": "Mountain West",
         "marker": {
          "color": "#B6E880",
          "symbol": "circle"
         },
         "mode": "markers",
         "name": "Mountain West",
         "orientation": "v",
         "showlegend": true,
         "type": "scatter",
         "x": [
          0.8461538461538461,
          0.8571428571428571,
          0.3333333333333333,
          0.3333333333333333,
          0.6666666666666666,
          0.5384615384615384,
          0.16666666666666666,
          0.7692307692307693,
          0.4166666666666667,
          0.3333333333333333,
          0.5384615384615384,
          0.6153846153846154
         ],
         "xaxis": "x",
         "y": [
          0.6899999999999995,
          0.8300000000000001,
          0.6600000000000001,
          0.3099999999999996,
          0.40000000000000036,
          -1.0500000000000007,
          -0.9400000000000004,
          0.1299999999999999,
          0.5700000000000003,
          -0.8499999999999996,
          0.16999999999999993,
          0.45999999999999996
         ],
         "yaxis": "y"
        },
        {
         "customdata": [
          [
           "Arizona",
           2019,
           "Pac-12"
          ],
          [
           "Arizona St.",
           2019,
           "Pac-12"
          ],
          [
           "California",
           2019,
           "Pac-12"
          ],
          [
           "Colorado",
           2019,
           "Pac-12"
          ],
          [
           "Oregon",
           2019,
           "Pac-12"
          ],
          [
           "Oregon St.",
           2019,
           "Pac-12"
          ],
          [
           "Southern California",
           2019,
           "Pac-12"
          ],
          [
           "Stanford",
           2019,
           "Pac-12"
          ],
          [
           "UCLA",
           2019,
           "Pac-12"
          ],
          [
           "Utah",
           2019,
           "Pac-12"
          ],
          [
           "Washington",
           2019,
           "Pac-12"
          ],
          [
           "Washington St.",
           2019,
           "Pac-12"
          ]
         ],
         "hovertemplate": "Net Yards Per Play=%{y:.1f}<br>Team=%{customdata[0]}<br>Season=%{customdata[1]}<extra></extra>",
         "legendgroup": "Pac-12",
         "marker": {
          "color": "#FF97FF",
          "symbol": "circle"
         },
         "mode": "markers",
         "name": "Pac-12",
         "orientation": "v",
         "showlegend": true,
         "type": "scatter",
         "x": [
          0.3333333333333333,
          0.6153846153846154,
          0.6153846153846154,
          0.4166666666666667,
          0.8571428571428571,
          0.4166666666666667,
          0.6153846153846154,
          0.3333333333333333,
          0.3333333333333333,
          0.7857142857142857,
          0.6153846153846154,
          0.46153846153846156
         ],
         "xaxis": "x",
         "y": [
          -0.3100000000000005,
          0.23000000000000043,
          -0.29000000000000004,
          -1.0099999999999998,
          1.6099999999999994,
          -0.09999999999999964,
          0.7899999999999991,
          -0.71,
          -1.4000000000000004,
          1.9500000000000002,
          0.7199999999999998,
          0.5
         ],
         "yaxis": "y"
        },
        {
         "customdata": [
          [
           "Alabama",
           2019,
           "SEC"
          ],
          [
           "Arkansas",
           2019,
           "SEC"
          ],
          [
           "Auburn",
           2019,
           "SEC"
          ],
          [
           "Florida",
           2019,
           "SEC"
          ],
          [
           "Georgia",
           2019,
           "SEC"
          ],
          [
           "Kentucky",
           2019,
           "SEC"
          ],
          [
           "LSU",
           2019,
           "SEC"
          ],
          [
           "Mississippi St.",
           2019,
           "SEC"
          ],
          [
           "Missouri",
           2019,
           "SEC"
          ],
          [
           "Ole Miss",
           2019,
           "SEC"
          ],
          [
           "South Carolina",
           2019,
           "SEC"
          ],
          [
           "Tennessee",
           2019,
           "SEC"
          ],
          [
           "Texas A&M",
           2019,
           "SEC"
          ],
          [
           "Vanderbilt",
           2019,
           "SEC"
          ]
         ],
         "hovertemplate": "Net Yards Per Play=%{y:.1f}<br>Team=%{customdata[0]}<br>Season=%{customdata[1]}<extra></extra>",
         "legendgroup": "SEC",
         "marker": {
          "color": "#FECB52",
          "symbol": "circle"
         },
         "mode": "markers",
         "name": "SEC",
         "orientation": "v",
         "showlegend": true,
         "type": "scatter",
         "x": [
          0.8461538461538461,
          0.16666666666666666,
          0.6923076923076923,
          0.8461538461538461,
          0.8571428571428571,
          0.6153846153846154,
          1,
          0.46153846153846156,
          0.5,
          0.3333333333333333,
          0.3333333333333333,
          0.6153846153846154,
          0.6153846153846154,
          0.25
         ],
         "xaxis": "x",
         "y": [
          3.08,
          -1.33,
          0.7400000000000002,
          1.5699999999999994,
          1.79,
          0.8500000000000005,
          2.7799999999999994,
          -0.13999999999999968,
          0.40999999999999925,
          0.17999999999999972,
          -0.35000000000000053,
          0.7800000000000002,
          0.5700000000000003,
          -1.7400000000000002
         ],
         "yaxis": "y"
        },
        {
         "customdata": [
          [
           "Appalachian St.",
           2019,
           "Sun Belt"
          ],
          [
           "Arkansas St.",
           2019,
           "Sun Belt"
          ],
          [
           "Coastal Carolina",
           2019,
           "Sun Belt"
          ],
          [
           "Ga. Southern",
           2019,
           "Sun Belt"
          ],
          [
           "Georgia St.",
           2019,
           "Sun Belt"
          ],
          [
           "La.-Monroe",
           2019,
           "Sun Belt"
          ],
          [
           "Louisiana",
           2019,
           "Sun Belt"
          ],
          [
           "South Alabama",
           2019,
           "Sun Belt"
          ],
          [
           "Texas St.",
           2019,
           "Sun Belt"
          ],
          [
           "Troy",
           2019,
           "Sun Belt"
          ]
         ],
         "hovertemplate": "Net Yards Per Play=%{y:.1f}<br>Team=%{customdata[0]}<br>Season=%{customdata[1]}<extra></extra>",
         "legendgroup": "Sun Belt",
         "marker": {
          "color": "#636efa",
          "symbol": "circle"
         },
         "mode": "markers",
         "name": "Sun Belt",
         "orientation": "v",
         "showlegend": true,
         "type": "scatter",
         "x": [
          0.9285714285714286,
          0.6153846153846154,
          0.4166666666666667,
          0.5384615384615384,
          0.5384615384615384,
          0.4166666666666667,
          0.7857142857142857,
          0.16666666666666666,
          0.25,
          0.4166666666666667
         ],
         "xaxis": "x",
         "y": [
          1.25,
          0.05999999999999961,
          -0.5199999999999996,
          -0.46999999999999975,
          -0.8499999999999996,
          -0.33999999999999986,
          1.5599999999999996,
          -0.7599999999999998,
          -0.75,
          -0.07000000000000028
         ],
         "yaxis": "y"
        }
       ],
       "layout": {
        "hoverlabel": {
         "bgcolor": "white",
         "font": {
          "family": "Arial",
          "size": 14
         }
        },
        "legend": {
         "title": {
          "text": "Conference"
         },
         "tracegroupgap": 0
        },
        "margin": {
         "t": 60
        },
        "shapes": [
         {
          "line": {
           "color": "black",
           "width": 2
          },
          "type": "line",
          "x0": 0.5,
          "x1": 0.5,
          "y0": -4,
          "y1": 4
         },
         {
          "line": {
           "color": "black",
           "width": 2
          },
          "type": "line",
          "x0": 0,
          "x1": 1,
          "y0": 0,
          "y1": 0
         }
        ],
        "template": {
         "data": {
          "bar": [
           {
            "error_x": {
             "color": "#2a3f5f"
            },
            "error_y": {
             "color": "#2a3f5f"
            },
            "marker": {
             "line": {
              "color": "#E5ECF6",
              "width": 0.5
             }
            },
            "type": "bar"
           }
          ],
          "barpolar": [
           {
            "marker": {
             "line": {
              "color": "#E5ECF6",
              "width": 0.5
             }
            },
            "type": "barpolar"
           }
          ],
          "carpet": [
           {
            "aaxis": {
             "endlinecolor": "#2a3f5f",
             "gridcolor": "white",
             "linecolor": "white",
             "minorgridcolor": "white",
             "startlinecolor": "#2a3f5f"
            },
            "baxis": {
             "endlinecolor": "#2a3f5f",
             "gridcolor": "white",
             "linecolor": "white",
             "minorgridcolor": "white",
             "startlinecolor": "#2a3f5f"
            },
            "type": "carpet"
           }
          ],
          "choropleth": [
           {
            "colorbar": {
             "outlinewidth": 0,
             "ticks": ""
            },
            "type": "choropleth"
           }
          ],
          "contour": [
           {
            "colorbar": {
             "outlinewidth": 0,
             "ticks": ""
            },
            "colorscale": [
             [
              0,
              "#0d0887"
             ],
             [
              0.1111111111111111,
              "#46039f"
             ],
             [
              0.2222222222222222,
              "#7201a8"
             ],
             [
              0.3333333333333333,
              "#9c179e"
             ],
             [
              0.4444444444444444,
              "#bd3786"
             ],
             [
              0.5555555555555556,
              "#d8576b"
             ],
             [
              0.6666666666666666,
              "#ed7953"
             ],
             [
              0.7777777777777778,
              "#fb9f3a"
             ],
             [
              0.8888888888888888,
              "#fdca26"
             ],
             [
              1,
              "#f0f921"
             ]
            ],
            "type": "contour"
           }
          ],
          "contourcarpet": [
           {
            "colorbar": {
             "outlinewidth": 0,
             "ticks": ""
            },
            "type": "contourcarpet"
           }
          ],
          "heatmap": [
           {
            "colorbar": {
             "outlinewidth": 0,
             "ticks": ""
            },
            "colorscale": [
             [
              0,
              "#0d0887"
             ],
             [
              0.1111111111111111,
              "#46039f"
             ],
             [
              0.2222222222222222,
              "#7201a8"
             ],
             [
              0.3333333333333333,
              "#9c179e"
             ],
             [
              0.4444444444444444,
              "#bd3786"
             ],
             [
              0.5555555555555556,
              "#d8576b"
             ],
             [
              0.6666666666666666,
              "#ed7953"
             ],
             [
              0.7777777777777778,
              "#fb9f3a"
             ],
             [
              0.8888888888888888,
              "#fdca26"
             ],
             [
              1,
              "#f0f921"
             ]
            ],
            "type": "heatmap"
           }
          ],
          "heatmapgl": [
           {
            "colorbar": {
             "outlinewidth": 0,
             "ticks": ""
            },
            "colorscale": [
             [
              0,
              "#0d0887"
             ],
             [
              0.1111111111111111,
              "#46039f"
             ],
             [
              0.2222222222222222,
              "#7201a8"
             ],
             [
              0.3333333333333333,
              "#9c179e"
             ],
             [
              0.4444444444444444,
              "#bd3786"
             ],
             [
              0.5555555555555556,
              "#d8576b"
             ],
             [
              0.6666666666666666,
              "#ed7953"
             ],
             [
              0.7777777777777778,
              "#fb9f3a"
             ],
             [
              0.8888888888888888,
              "#fdca26"
             ],
             [
              1,
              "#f0f921"
             ]
            ],
            "type": "heatmapgl"
           }
          ],
          "histogram": [
           {
            "marker": {
             "colorbar": {
              "outlinewidth": 0,
              "ticks": ""
             }
            },
            "type": "histogram"
           }
          ],
          "histogram2d": [
           {
            "colorbar": {
             "outlinewidth": 0,
             "ticks": ""
            },
            "colorscale": [
             [
              0,
              "#0d0887"
             ],
             [
              0.1111111111111111,
              "#46039f"
             ],
             [
              0.2222222222222222,
              "#7201a8"
             ],
             [
              0.3333333333333333,
              "#9c179e"
             ],
             [
              0.4444444444444444,
              "#bd3786"
             ],
             [
              0.5555555555555556,
              "#d8576b"
             ],
             [
              0.6666666666666666,
              "#ed7953"
             ],
             [
              0.7777777777777778,
              "#fb9f3a"
             ],
             [
              0.8888888888888888,
              "#fdca26"
             ],
             [
              1,
              "#f0f921"
             ]
            ],
            "type": "histogram2d"
           }
          ],
          "histogram2dcontour": [
           {
            "colorbar": {
             "outlinewidth": 0,
             "ticks": ""
            },
            "colorscale": [
             [
              0,
              "#0d0887"
             ],
             [
              0.1111111111111111,
              "#46039f"
             ],
             [
              0.2222222222222222,
              "#7201a8"
             ],
             [
              0.3333333333333333,
              "#9c179e"
             ],
             [
              0.4444444444444444,
              "#bd3786"
             ],
             [
              0.5555555555555556,
              "#d8576b"
             ],
             [
              0.6666666666666666,
              "#ed7953"
             ],
             [
              0.7777777777777778,
              "#fb9f3a"
             ],
             [
              0.8888888888888888,
              "#fdca26"
             ],
             [
              1,
              "#f0f921"
             ]
            ],
            "type": "histogram2dcontour"
           }
          ],
          "mesh3d": [
           {
            "colorbar": {
             "outlinewidth": 0,
             "ticks": ""
            },
            "type": "mesh3d"
           }
          ],
          "parcoords": [
           {
            "line": {
             "colorbar": {
              "outlinewidth": 0,
              "ticks": ""
             }
            },
            "type": "parcoords"
           }
          ],
          "pie": [
           {
            "automargin": true,
            "type": "pie"
           }
          ],
          "scatter": [
           {
            "marker": {
             "colorbar": {
              "outlinewidth": 0,
              "ticks": ""
             }
            },
            "type": "scatter"
           }
          ],
          "scatter3d": [
           {
            "line": {
             "colorbar": {
              "outlinewidth": 0,
              "ticks": ""
             }
            },
            "marker": {
             "colorbar": {
              "outlinewidth": 0,
              "ticks": ""
             }
            },
            "type": "scatter3d"
           }
          ],
          "scattercarpet": [
           {
            "marker": {
             "colorbar": {
              "outlinewidth": 0,
              "ticks": ""
             }
            },
            "type": "scattercarpet"
           }
          ],
          "scattergeo": [
           {
            "marker": {
             "colorbar": {
              "outlinewidth": 0,
              "ticks": ""
             }
            },
            "type": "scattergeo"
           }
          ],
          "scattergl": [
           {
            "marker": {
             "colorbar": {
              "outlinewidth": 0,
              "ticks": ""
             }
            },
            "type": "scattergl"
           }
          ],
          "scattermapbox": [
           {
            "marker": {
             "colorbar": {
              "outlinewidth": 0,
              "ticks": ""
             }
            },
            "type": "scattermapbox"
           }
          ],
          "scatterpolar": [
           {
            "marker": {
             "colorbar": {
              "outlinewidth": 0,
              "ticks": ""
             }
            },
            "type": "scatterpolar"
           }
          ],
          "scatterpolargl": [
           {
            "marker": {
             "colorbar": {
              "outlinewidth": 0,
              "ticks": ""
             }
            },
            "type": "scatterpolargl"
           }
          ],
          "scatterternary": [
           {
            "marker": {
             "colorbar": {
              "outlinewidth": 0,
              "ticks": ""
             }
            },
            "type": "scatterternary"
           }
          ],
          "surface": [
           {
            "colorbar": {
             "outlinewidth": 0,
             "ticks": ""
            },
            "colorscale": [
             [
              0,
              "#0d0887"
             ],
             [
              0.1111111111111111,
              "#46039f"
             ],
             [
              0.2222222222222222,
              "#7201a8"
             ],
             [
              0.3333333333333333,
              "#9c179e"
             ],
             [
              0.4444444444444444,
              "#bd3786"
             ],
             [
              0.5555555555555556,
              "#d8576b"
             ],
             [
              0.6666666666666666,
              "#ed7953"
             ],
             [
              0.7777777777777778,
              "#fb9f3a"
             ],
             [
              0.8888888888888888,
              "#fdca26"
             ],
             [
              1,
              "#f0f921"
             ]
            ],
            "type": "surface"
           }
          ],
          "table": [
           {
            "cells": {
             "fill": {
              "color": "#EBF0F8"
             },
             "line": {
              "color": "white"
             }
            },
            "header": {
             "fill": {
              "color": "#C8D4E3"
             },
             "line": {
              "color": "white"
             }
            },
            "type": "table"
           }
          ]
         },
         "layout": {
          "annotationdefaults": {
           "arrowcolor": "#2a3f5f",
           "arrowhead": 0,
           "arrowwidth": 1
          },
          "autotypenumbers": "strict",
          "coloraxis": {
           "colorbar": {
            "outlinewidth": 0,
            "ticks": ""
           }
          },
          "colorscale": {
           "diverging": [
            [
             0,
             "#8e0152"
            ],
            [
             0.1,
             "#c51b7d"
            ],
            [
             0.2,
             "#de77ae"
            ],
            [
             0.3,
             "#f1b6da"
            ],
            [
             0.4,
             "#fde0ef"
            ],
            [
             0.5,
             "#f7f7f7"
            ],
            [
             0.6,
             "#e6f5d0"
            ],
            [
             0.7,
             "#b8e186"
            ],
            [
             0.8,
             "#7fbc41"
            ],
            [
             0.9,
             "#4d9221"
            ],
            [
             1,
             "#276419"
            ]
           ],
           "sequential": [
            [
             0,
             "#0d0887"
            ],
            [
             0.1111111111111111,
             "#46039f"
            ],
            [
             0.2222222222222222,
             "#7201a8"
            ],
            [
             0.3333333333333333,
             "#9c179e"
            ],
            [
             0.4444444444444444,
             "#bd3786"
            ],
            [
             0.5555555555555556,
             "#d8576b"
            ],
            [
             0.6666666666666666,
             "#ed7953"
            ],
            [
             0.7777777777777778,
             "#fb9f3a"
            ],
            [
             0.8888888888888888,
             "#fdca26"
            ],
            [
             1,
             "#f0f921"
            ]
           ],
           "sequentialminus": [
            [
             0,
             "#0d0887"
            ],
            [
             0.1111111111111111,
             "#46039f"
            ],
            [
             0.2222222222222222,
             "#7201a8"
            ],
            [
             0.3333333333333333,
             "#9c179e"
            ],
            [
             0.4444444444444444,
             "#bd3786"
            ],
            [
             0.5555555555555556,
             "#d8576b"
            ],
            [
             0.6666666666666666,
             "#ed7953"
            ],
            [
             0.7777777777777778,
             "#fb9f3a"
            ],
            [
             0.8888888888888888,
             "#fdca26"
            ],
            [
             1,
             "#f0f921"
            ]
           ]
          },
          "colorway": [
           "#636efa",
           "#EF553B",
           "#00cc96",
           "#ab63fa",
           "#FFA15A",
           "#19d3f3",
           "#FF6692",
           "#B6E880",
           "#FF97FF",
           "#FECB52"
          ],
          "font": {
           "color": "#2a3f5f"
          },
          "geo": {
           "bgcolor": "white",
           "lakecolor": "white",
           "landcolor": "#E5ECF6",
           "showlakes": true,
           "showland": true,
           "subunitcolor": "white"
          },
          "hoverlabel": {
           "align": "left"
          },
          "hovermode": "closest",
          "mapbox": {
           "style": "light"
          },
          "paper_bgcolor": "white",
          "plot_bgcolor": "#E5ECF6",
          "polar": {
           "angularaxis": {
            "gridcolor": "white",
            "linecolor": "white",
            "ticks": ""
           },
           "bgcolor": "#E5ECF6",
           "radialaxis": {
            "gridcolor": "white",
            "linecolor": "white",
            "ticks": ""
           }
          },
          "scene": {
           "xaxis": {
            "backgroundcolor": "#E5ECF6",
            "gridcolor": "white",
            "gridwidth": 2,
            "linecolor": "white",
            "showbackground": true,
            "ticks": "",
            "zerolinecolor": "white"
           },
           "yaxis": {
            "backgroundcolor": "#E5ECF6",
            "gridcolor": "white",
            "gridwidth": 2,
            "linecolor": "white",
            "showbackground": true,
            "ticks": "",
            "zerolinecolor": "white"
           },
           "zaxis": {
            "backgroundcolor": "#E5ECF6",
            "gridcolor": "white",
            "gridwidth": 2,
            "linecolor": "white",
            "showbackground": true,
            "ticks": "",
            "zerolinecolor": "white"
           }
          },
          "shapedefaults": {
           "line": {
            "color": "#2a3f5f"
           }
          },
          "ternary": {
           "aaxis": {
            "gridcolor": "white",
            "linecolor": "white",
            "ticks": ""
           },
           "baxis": {
            "gridcolor": "white",
            "linecolor": "white",
            "ticks": ""
           },
           "bgcolor": "#E5ECF6",
           "caxis": {
            "gridcolor": "white",
            "linecolor": "white",
            "ticks": ""
           }
          },
          "title": {
           "x": 0.05
          },
          "xaxis": {
           "automargin": true,
           "gridcolor": "white",
           "linecolor": "white",
           "ticks": "",
           "title": {
            "standoff": 15
           },
           "zerolinecolor": "white",
           "zerolinewidth": 2
          },
          "yaxis": {
           "automargin": true,
           "gridcolor": "white",
           "linecolor": "white",
           "ticks": "",
           "title": {
            "standoff": 15
           },
           "zerolinecolor": "white",
           "zerolinewidth": 2
          }
         }
        },
        "xaxis": {
         "anchor": "y",
         "domain": [
          0,
          1
         ],
         "title": {
          "text": "winpct"
         }
        },
        "yaxis": {
         "anchor": "x",
         "domain": [
          0,
          1
         ],
         "title": {
          "text": "Net Yards Per Play"
         }
        }
       }
      },
      "text/html": [
       "<div>                            <div id=\"e3d49983-6c45-4ce3-a345-594f966319e5\" class=\"plotly-graph-div\" style=\"height:525px; width:100%;\"></div>            <script type=\"text/javascript\">                require([\"plotly\"], function(Plotly) {                    window.PLOTLYENV=window.PLOTLYENV || {};                                    if (document.getElementById(\"e3d49983-6c45-4ce3-a345-594f966319e5\")) {                    Plotly.newPlot(                        \"e3d49983-6c45-4ce3-a345-594f966319e5\",                        [{\"customdata\": [[\"Cincinnati\", 2019, \"AAC\"], [\"East Carolina\", 2019, \"AAC\"], [\"Houston\", 2019, \"AAC\"], [\"Memphis\", 2019, \"AAC\"], [\"Navy\", 2019, \"AAC\"], [\"SMU\", 2019, \"AAC\"], [\"South Fla.\", 2019, \"AAC\"], [\"Temple\", 2019, \"AAC\"], [\"Tulane\", 2019, \"AAC\"], [\"Tulsa\", 2019, \"AAC\"], [\"UCF\", 2019, \"AAC\"], [\"UConn\", 2019, \"AAC\"]], \"hovertemplate\": \"Net Yards Per Play=%{y:.1f}<br>Team=%{customdata[0]}<br>Season=%{customdata[1]}<extra></extra>\", \"legendgroup\": \"AAC\", \"marker\": {\"color\": \"#636efa\", \"symbol\": \"circle\"}, \"mode\": \"markers\", \"name\": \"AAC\", \"orientation\": \"v\", \"showlegend\": true, \"type\": \"scatter\", \"x\": [0.7857142857142857, 0.3333333333333333, 0.3333333333333333, 0.8571428571428571, 0.8461538461538461, 0.7692307692307693, 0.3333333333333333, 0.6153846153846154, 0.5384615384615384, 0.3333333333333333, 0.7692307692307693, 0.16666666666666666], \"xaxis\": \"x\", \"y\": [0.3700000000000001, -0.7799999999999994, -0.79, 1.4799999999999995, 1.5, 0.3799999999999999, -0.25, 0.4300000000000006, 0.6699999999999999, -0.34999999999999964, 2.3499999999999996, -1.8899999999999997], \"yaxis\": \"y\"}, {\"customdata\": [[\"Boston College\", 2019, \"ACC\"], [\"Clemson\", 2019, \"ACC\"], [\"Duke\", 2019, \"ACC\"], [\"Florida St.\", 2019, \"ACC\"], [\"Georgia Tech\", 2019, \"ACC\"], [\"Louisville\", 2019, \"ACC\"], [\"Miami (FL)\", 2019, \"ACC\"], [\"NC State\", 2019, \"ACC\"], [\"North Carolina\", 2019, \"ACC\"], [\"Pittsburgh\", 2019, \"ACC\"], [\"Syracuse\", 2019, \"ACC\"], [\"Virginia\", 2019, \"ACC\"], [\"Virginia Tech\", 2019, \"ACC\"], [\"Wake Forest\", 2019, \"ACC\"]], \"hovertemplate\": \"Net Yards Per Play=%{y:.1f}<br>Team=%{customdata[0]}<br>Season=%{customdata[1]}<extra></extra>\", \"legendgroup\": \"ACC\", \"marker\": {\"color\": \"#EF553B\", \"symbol\": \"circle\"}, \"mode\": \"markers\", \"name\": \"ACC\", \"orientation\": \"v\", \"showlegend\": true, \"type\": \"scatter\", \"x\": [0.46153846153846156, 0.9333333333333333, 0.4166666666666667, 0.46153846153846156, 0.25, 0.6153846153846154, 0.46153846153846156, 0.3333333333333333, 0.5384615384615384, 0.6153846153846154, 0.4166666666666667, 0.6428571428571429, 0.6153846153846154, 0.6153846153846154], \"xaxis\": \"x\", \"y\": [-0.54, 2.92, -0.8199999999999994, 0.5300000000000002, -1.04, 0.34999999999999964, 0.9199999999999999, -0.41000000000000014, 1.0, 0.6799999999999997, -0.8600000000000003, -0.08999999999999986, 0.41000000000000014, -0.0600000000000005], \"yaxis\": \"y\"}, {\"customdata\": [[\"Baylor\", 2019, \"Big 12\"], [\"Iowa St.\", 2019, \"Big 12\"], [\"Kansas\", 2019, \"Big 12\"], [\"Kansas St.\", 2019, \"Big 12\"], [\"Oklahoma\", 2019, \"Big 12\"], [\"Oklahoma St.\", 2019, \"Big 12\"], [\"TCU\", 2019, \"Big 12\"], [\"Texas\", 2019, \"Big 12\"], [\"Texas Tech\", 2019, \"Big 12\"], [\"West Virginia\", 2019, \"Big 12\"]], \"hovertemplate\": \"Net Yards Per Play=%{y:.1f}<br>Team=%{customdata[0]}<br>Season=%{customdata[1]}<extra></extra>\", \"legendgroup\": \"Big 12\", \"marker\": {\"color\": \"#00cc96\", \"symbol\": \"circle\"}, \"mode\": \"markers\", \"name\": \"Big 12\", \"orientation\": \"v\", \"showlegend\": true, \"type\": \"scatter\", \"x\": [0.7857142857142857, 0.5384615384615384, 0.25, 0.6153846153846154, 0.8571428571428571, 0.6153846153846154, 0.4166666666666667, 0.6153846153846154, 0.3333333333333333, 0.4166666666666667], \"xaxis\": \"x\", \"y\": [1.33, 1.0899999999999999, -0.29000000000000004, -0.6200000000000001, 2.33, 0.5999999999999996, 0.15000000000000036, 0.2599999999999998, -0.5, -0.5800000000000001], \"yaxis\": \"y\"}, {\"customdata\": [[\"Illinois\", 2019, \"Big Ten\"], [\"Indiana\", 2019, \"Big Ten\"], [\"Iowa\", 2019, \"Big Ten\"], [\"Maryland\", 2019, \"Big Ten\"], [\"Michigan\", 2019, \"Big Ten\"], [\"Michigan St.\", 2019, \"Big Ten\"], [\"Minnesota\", 2019, \"Big Ten\"], [\"Nebraska\", 2019, \"Big Ten\"], [\"Northwestern\", 2019, \"Big Ten\"], [\"Ohio St.\", 2019, \"Big Ten\"], [\"Penn St.\", 2019, \"Big Ten\"], [\"Purdue\", 2019, \"Big Ten\"], [\"Rutgers\", 2019, \"Big Ten\"], [\"Wisconsin\", 2019, \"Big Ten\"]], \"hovertemplate\": \"Net Yards Per Play=%{y:.1f}<br>Team=%{customdata[0]}<br>Season=%{customdata[1]}<extra></extra>\", \"legendgroup\": \"Big Ten\", \"marker\": {\"color\": \"#ab63fa\", \"symbol\": \"circle\"}, \"mode\": \"markers\", \"name\": \"Big Ten\", \"orientation\": \"v\", \"showlegend\": true, \"type\": \"scatter\", \"x\": [0.46153846153846156, 0.6153846153846154, 0.7692307692307693, 0.25, 0.6923076923076923, 0.5384615384615384, 0.8461538461538461, 0.4166666666666667, 0.25, 0.9285714285714286, 0.8461538461538461, 0.3333333333333333, 0.16666666666666666, 0.7142857142857143], \"xaxis\": \"x\", \"y\": [-0.5999999999999996, 0.6200000000000001, 0.7199999999999998, -0.5800000000000001, 1.0499999999999998, 0.23000000000000043, 1.3000000000000007, 0.14999999999999947, -0.8299999999999992, 2.8100000000000005, 1.2299999999999995, -0.5499999999999998, -1.7599999999999998, 1.5099999999999998], \"yaxis\": \"y\"}, {\"customdata\": [[\"Charlotte\", 2019, \"C-USA\"], [\"FIU\", 2019, \"C-USA\"], [\"Fla. Atlantic\", 2019, \"C-USA\"], [\"Louisiana Tech\", 2019, \"C-USA\"], [\"Marshall\", 2019, \"C-USA\"], [\"Middle Tenn.\", 2019, \"C-USA\"], [\"North Texas\", 2019, \"C-USA\"], [\"Old Dominion\", 2019, \"C-USA\"], [\"Rice\", 2019, \"C-USA\"], [\"Southern Miss.\", 2019, \"C-USA\"], [\"UAB\", 2019, \"C-USA\"], [\"UTEP\", 2019, \"C-USA\"], [\"UTSA\", 2019, \"C-USA\"], [\"Western Ky.\", 2019, \"C-USA\"]], \"hovertemplate\": \"Net Yards Per Play=%{y:.1f}<br>Team=%{customdata[0]}<br>Season=%{customdata[1]}<extra></extra>\", \"legendgroup\": \"C-USA\", \"marker\": {\"color\": \"#FFA15A\", \"symbol\": \"circle\"}, \"mode\": \"markers\", \"name\": \"C-USA\", \"orientation\": \"v\", \"showlegend\": true, \"type\": \"scatter\", \"x\": [0.5384615384615384, 0.46153846153846156, 0.7857142857142857, 0.7692307692307693, 0.6153846153846154, 0.3333333333333333, 0.3333333333333333, 0.08333333333333333, 0.25, 0.5384615384615384, 0.6428571428571429, 0.08333333333333333, 0.3333333333333333, 0.6923076923076923], \"xaxis\": \"x\", \"y\": [0.33999999999999986, -0.11000000000000032, 0.6100000000000003, 0.8700000000000001, 0.22999999999999954, 0.15000000000000036, 0.17999999999999972, -1.6000000000000005, -1.2799999999999994, 0.3600000000000003, 0.79, -1.62, -1.4699999999999998, 0.3799999999999999], \"yaxis\": \"y\"}, {\"customdata\": [[\"Army West Point\", 2019, \"FBS Independent\"], [\"BYU\", 2019, \"FBS Independent\"], [\"Liberty\", 2019, \"FBS Independent\"], [\"Massachusetts\", 2019, \"FBS Independent\"], [\"New Mexico St.\", 2019, \"FBS Independent\"], [\"Notre Dame\", 2019, \"FBS Independent\"]], \"hovertemplate\": \"Net Yards Per Play=%{y:.1f}<br>Team=%{customdata[0]}<br>Season=%{customdata[1]}<extra></extra>\", \"legendgroup\": \"FBS Independent\", \"marker\": {\"color\": \"#19d3f3\", \"symbol\": \"circle\"}, \"mode\": \"markers\", \"name\": \"FBS Independent\", \"orientation\": \"v\", \"showlegend\": true, \"type\": \"scatter\", \"x\": [0.38461538461538464, 0.5384615384615384, 0.6153846153846154, 0.08333333333333333, 0.16666666666666666, 0.8461538461538461], \"xaxis\": \"x\", \"y\": [0.03000000000000025, 0.5800000000000001, 0.7000000000000002, -3.4899999999999993, -1.37, 1.6500000000000004], \"yaxis\": \"y\"}, {\"customdata\": [[\"Akron\", 2019, \"MAC\"], [\"Ball St.\", 2019, \"MAC\"], [\"Bowling Green\", 2019, \"MAC\"], [\"Buffalo\", 2019, \"MAC\"], [\"Central Mich.\", 2019, \"MAC\"], [\"Eastern Mich.\", 2019, \"MAC\"], [\"Kent St.\", 2019, \"MAC\"], [\"Miami (OH)\", 2019, \"MAC\"], [\"Northern Ill.\", 2019, \"MAC\"], [\"Ohio\", 2019, \"MAC\"], [\"Toledo\", 2019, \"MAC\"], [\"Western Mich.\", 2019, \"MAC\"]], \"hovertemplate\": \"Net Yards Per Play=%{y:.1f}<br>Team=%{customdata[0]}<br>Season=%{customdata[1]}<extra></extra>\", \"legendgroup\": \"MAC\", \"marker\": {\"color\": \"#FF6692\", \"symbol\": \"circle\"}, \"mode\": \"markers\", \"name\": \"MAC\", \"orientation\": \"v\", \"showlegend\": true, \"type\": \"scatter\", \"x\": [0.0, 0.4166666666666667, 0.25, 0.6153846153846154, 0.5714285714285714, 0.46153846153846156, 0.5384615384615384, 0.5714285714285714, 0.4166666666666667, 0.5384615384615384, 0.5, 0.5384615384615384], \"xaxis\": \"x\", \"y\": [-1.6800000000000006, 0.29000000000000004, -2.4700000000000006, 0.5199999999999996, 0.6600000000000001, -0.10000000000000053, -0.4900000000000002, -0.2999999999999998, -0.8600000000000003, 0.7299999999999995, -0.5300000000000002, 0.4800000000000004], \"yaxis\": \"y\"}, {\"customdata\": [[\"Air Force\", 2019, \"Mountain West\"], [\"Boise St.\", 2019, \"Mountain West\"], [\"Colorado St.\", 2019, \"Mountain West\"], [\"Fresno St.\", 2019, \"Mountain West\"], [\"Hawaii\", 2019, \"Mountain West\"], [\"Nevada\", 2019, \"Mountain West\"], [\"New Mexico\", 2019, \"Mountain West\"], [\"San Diego St.\", 2019, \"Mountain West\"], [\"San Jose St.\", 2019, \"Mountain West\"], [\"UNLV\", 2019, \"Mountain West\"], [\"Utah St.\", 2019, \"Mountain West\"], [\"Wyoming\", 2019, \"Mountain West\"]], \"hovertemplate\": \"Net Yards Per Play=%{y:.1f}<br>Team=%{customdata[0]}<br>Season=%{customdata[1]}<extra></extra>\", \"legendgroup\": \"Mountain West\", \"marker\": {\"color\": \"#B6E880\", \"symbol\": \"circle\"}, \"mode\": \"markers\", \"name\": \"Mountain West\", \"orientation\": \"v\", \"showlegend\": true, \"type\": \"scatter\", \"x\": [0.8461538461538461, 0.8571428571428571, 0.3333333333333333, 0.3333333333333333, 0.6666666666666666, 0.5384615384615384, 0.16666666666666666, 0.7692307692307693, 0.4166666666666667, 0.3333333333333333, 0.5384615384615384, 0.6153846153846154], \"xaxis\": \"x\", \"y\": [0.6899999999999995, 0.8300000000000001, 0.6600000000000001, 0.3099999999999996, 0.40000000000000036, -1.0500000000000007, -0.9400000000000004, 0.1299999999999999, 0.5700000000000003, -0.8499999999999996, 0.16999999999999993, 0.45999999999999996], \"yaxis\": \"y\"}, {\"customdata\": [[\"Arizona\", 2019, \"Pac-12\"], [\"Arizona St.\", 2019, \"Pac-12\"], [\"California\", 2019, \"Pac-12\"], [\"Colorado\", 2019, \"Pac-12\"], [\"Oregon\", 2019, \"Pac-12\"], [\"Oregon St.\", 2019, \"Pac-12\"], [\"Southern California\", 2019, \"Pac-12\"], [\"Stanford\", 2019, \"Pac-12\"], [\"UCLA\", 2019, \"Pac-12\"], [\"Utah\", 2019, \"Pac-12\"], [\"Washington\", 2019, \"Pac-12\"], [\"Washington St.\", 2019, \"Pac-12\"]], \"hovertemplate\": \"Net Yards Per Play=%{y:.1f}<br>Team=%{customdata[0]}<br>Season=%{customdata[1]}<extra></extra>\", \"legendgroup\": \"Pac-12\", \"marker\": {\"color\": \"#FF97FF\", \"symbol\": \"circle\"}, \"mode\": \"markers\", \"name\": \"Pac-12\", \"orientation\": \"v\", \"showlegend\": true, \"type\": \"scatter\", \"x\": [0.3333333333333333, 0.6153846153846154, 0.6153846153846154, 0.4166666666666667, 0.8571428571428571, 0.4166666666666667, 0.6153846153846154, 0.3333333333333333, 0.3333333333333333, 0.7857142857142857, 0.6153846153846154, 0.46153846153846156], \"xaxis\": \"x\", \"y\": [-0.3100000000000005, 0.23000000000000043, -0.29000000000000004, -1.0099999999999998, 1.6099999999999994, -0.09999999999999964, 0.7899999999999991, -0.71, -1.4000000000000004, 1.9500000000000002, 0.7199999999999998, 0.5], \"yaxis\": \"y\"}, {\"customdata\": [[\"Alabama\", 2019, \"SEC\"], [\"Arkansas\", 2019, \"SEC\"], [\"Auburn\", 2019, \"SEC\"], [\"Florida\", 2019, \"SEC\"], [\"Georgia\", 2019, \"SEC\"], [\"Kentucky\", 2019, \"SEC\"], [\"LSU\", 2019, \"SEC\"], [\"Mississippi St.\", 2019, \"SEC\"], [\"Missouri\", 2019, \"SEC\"], [\"Ole Miss\", 2019, \"SEC\"], [\"South Carolina\", 2019, \"SEC\"], [\"Tennessee\", 2019, \"SEC\"], [\"Texas A&M\", 2019, \"SEC\"], [\"Vanderbilt\", 2019, \"SEC\"]], \"hovertemplate\": \"Net Yards Per Play=%{y:.1f}<br>Team=%{customdata[0]}<br>Season=%{customdata[1]}<extra></extra>\", \"legendgroup\": \"SEC\", \"marker\": {\"color\": \"#FECB52\", \"symbol\": \"circle\"}, \"mode\": \"markers\", \"name\": \"SEC\", \"orientation\": \"v\", \"showlegend\": true, \"type\": \"scatter\", \"x\": [0.8461538461538461, 0.16666666666666666, 0.6923076923076923, 0.8461538461538461, 0.8571428571428571, 0.6153846153846154, 1.0, 0.46153846153846156, 0.5, 0.3333333333333333, 0.3333333333333333, 0.6153846153846154, 0.6153846153846154, 0.25], \"xaxis\": \"x\", \"y\": [3.08, -1.33, 0.7400000000000002, 1.5699999999999994, 1.79, 0.8500000000000005, 2.7799999999999994, -0.13999999999999968, 0.40999999999999925, 0.17999999999999972, -0.35000000000000053, 0.7800000000000002, 0.5700000000000003, -1.7400000000000002], \"yaxis\": \"y\"}, {\"customdata\": [[\"Appalachian St.\", 2019, \"Sun Belt\"], [\"Arkansas St.\", 2019, \"Sun Belt\"], [\"Coastal Carolina\", 2019, \"Sun Belt\"], [\"Ga. Southern\", 2019, \"Sun Belt\"], [\"Georgia St.\", 2019, \"Sun Belt\"], [\"La.-Monroe\", 2019, \"Sun Belt\"], [\"Louisiana\", 2019, \"Sun Belt\"], [\"South Alabama\", 2019, \"Sun Belt\"], [\"Texas St.\", 2019, \"Sun Belt\"], [\"Troy\", 2019, \"Sun Belt\"]], \"hovertemplate\": \"Net Yards Per Play=%{y:.1f}<br>Team=%{customdata[0]}<br>Season=%{customdata[1]}<extra></extra>\", \"legendgroup\": \"Sun Belt\", \"marker\": {\"color\": \"#636efa\", \"symbol\": \"circle\"}, \"mode\": \"markers\", \"name\": \"Sun Belt\", \"orientation\": \"v\", \"showlegend\": true, \"type\": \"scatter\", \"x\": [0.9285714285714286, 0.6153846153846154, 0.4166666666666667, 0.5384615384615384, 0.5384615384615384, 0.4166666666666667, 0.7857142857142857, 0.16666666666666666, 0.25, 0.4166666666666667], \"xaxis\": \"x\", \"y\": [1.25, 0.05999999999999961, -0.5199999999999996, -0.46999999999999975, -0.8499999999999996, -0.33999999999999986, 1.5599999999999996, -0.7599999999999998, -0.75, -0.07000000000000028], \"yaxis\": \"y\"}],                        {\"hoverlabel\": {\"bgcolor\": \"white\", \"font\": {\"family\": \"Arial\", \"size\": 14}}, \"legend\": {\"title\": {\"text\": \"Conference\"}, \"tracegroupgap\": 0}, \"margin\": {\"t\": 60}, \"shapes\": [{\"line\": {\"color\": \"black\", \"width\": 2}, \"type\": \"line\", \"x0\": 0.5, \"x1\": 0.5, \"y0\": -4, \"y1\": 4}, {\"line\": {\"color\": \"black\", \"width\": 2}, \"type\": \"line\", \"x0\": 0, \"x1\": 1, \"y0\": 0, \"y1\": 0}], \"template\": {\"data\": {\"bar\": [{\"error_x\": {\"color\": \"#2a3f5f\"}, \"error_y\": {\"color\": \"#2a3f5f\"}, \"marker\": {\"line\": {\"color\": \"#E5ECF6\", \"width\": 0.5}}, \"type\": \"bar\"}], \"barpolar\": [{\"marker\": {\"line\": {\"color\": \"#E5ECF6\", \"width\": 0.5}}, \"type\": \"barpolar\"}], \"carpet\": [{\"aaxis\": {\"endlinecolor\": \"#2a3f5f\", \"gridcolor\": \"white\", \"linecolor\": \"white\", \"minorgridcolor\": \"white\", \"startlinecolor\": \"#2a3f5f\"}, \"baxis\": {\"endlinecolor\": \"#2a3f5f\", \"gridcolor\": \"white\", \"linecolor\": \"white\", \"minorgridcolor\": \"white\", \"startlinecolor\": \"#2a3f5f\"}, \"type\": \"carpet\"}], \"choropleth\": [{\"colorbar\": {\"outlinewidth\": 0, \"ticks\": \"\"}, \"type\": \"choropleth\"}], \"contour\": [{\"colorbar\": {\"outlinewidth\": 0, \"ticks\": \"\"}, \"colorscale\": [[0.0, \"#0d0887\"], [0.1111111111111111, \"#46039f\"], [0.2222222222222222, \"#7201a8\"], [0.3333333333333333, \"#9c179e\"], [0.4444444444444444, \"#bd3786\"], [0.5555555555555556, \"#d8576b\"], [0.6666666666666666, \"#ed7953\"], [0.7777777777777778, \"#fb9f3a\"], [0.8888888888888888, \"#fdca26\"], [1.0, \"#f0f921\"]], \"type\": \"contour\"}], \"contourcarpet\": [{\"colorbar\": {\"outlinewidth\": 0, \"ticks\": \"\"}, \"type\": \"contourcarpet\"}], \"heatmap\": [{\"colorbar\": {\"outlinewidth\": 0, \"ticks\": \"\"}, \"colorscale\": [[0.0, \"#0d0887\"], [0.1111111111111111, \"#46039f\"], [0.2222222222222222, \"#7201a8\"], [0.3333333333333333, \"#9c179e\"], [0.4444444444444444, \"#bd3786\"], [0.5555555555555556, \"#d8576b\"], [0.6666666666666666, \"#ed7953\"], [0.7777777777777778, \"#fb9f3a\"], [0.8888888888888888, \"#fdca26\"], [1.0, \"#f0f921\"]], \"type\": \"heatmap\"}], \"heatmapgl\": [{\"colorbar\": {\"outlinewidth\": 0, \"ticks\": \"\"}, \"colorscale\": [[0.0, \"#0d0887\"], [0.1111111111111111, \"#46039f\"], [0.2222222222222222, \"#7201a8\"], [0.3333333333333333, \"#9c179e\"], [0.4444444444444444, \"#bd3786\"], [0.5555555555555556, \"#d8576b\"], [0.6666666666666666, \"#ed7953\"], [0.7777777777777778, \"#fb9f3a\"], [0.8888888888888888, \"#fdca26\"], [1.0, \"#f0f921\"]], \"type\": \"heatmapgl\"}], \"histogram\": [{\"marker\": {\"colorbar\": {\"outlinewidth\": 0, \"ticks\": \"\"}}, \"type\": \"histogram\"}], \"histogram2d\": [{\"colorbar\": {\"outlinewidth\": 0, \"ticks\": \"\"}, \"colorscale\": [[0.0, \"#0d0887\"], [0.1111111111111111, \"#46039f\"], [0.2222222222222222, \"#7201a8\"], [0.3333333333333333, \"#9c179e\"], [0.4444444444444444, \"#bd3786\"], [0.5555555555555556, \"#d8576b\"], [0.6666666666666666, \"#ed7953\"], [0.7777777777777778, \"#fb9f3a\"], [0.8888888888888888, \"#fdca26\"], [1.0, \"#f0f921\"]], \"type\": \"histogram2d\"}], \"histogram2dcontour\": [{\"colorbar\": {\"outlinewidth\": 0, \"ticks\": \"\"}, \"colorscale\": [[0.0, \"#0d0887\"], [0.1111111111111111, \"#46039f\"], [0.2222222222222222, \"#7201a8\"], [0.3333333333333333, \"#9c179e\"], [0.4444444444444444, \"#bd3786\"], [0.5555555555555556, \"#d8576b\"], [0.6666666666666666, \"#ed7953\"], [0.7777777777777778, \"#fb9f3a\"], [0.8888888888888888, \"#fdca26\"], [1.0, \"#f0f921\"]], \"type\": \"histogram2dcontour\"}], \"mesh3d\": [{\"colorbar\": {\"outlinewidth\": 0, \"ticks\": \"\"}, \"type\": \"mesh3d\"}], \"parcoords\": [{\"line\": {\"colorbar\": {\"outlinewidth\": 0, \"ticks\": \"\"}}, \"type\": \"parcoords\"}], \"pie\": [{\"automargin\": true, \"type\": \"pie\"}], \"scatter\": [{\"marker\": {\"colorbar\": {\"outlinewidth\": 0, \"ticks\": \"\"}}, \"type\": \"scatter\"}], \"scatter3d\": [{\"line\": {\"colorbar\": {\"outlinewidth\": 0, \"ticks\": \"\"}}, \"marker\": {\"colorbar\": {\"outlinewidth\": 0, \"ticks\": \"\"}}, \"type\": \"scatter3d\"}], \"scattercarpet\": [{\"marker\": {\"colorbar\": {\"outlinewidth\": 0, \"ticks\": \"\"}}, \"type\": \"scattercarpet\"}], \"scattergeo\": [{\"marker\": {\"colorbar\": {\"outlinewidth\": 0, \"ticks\": \"\"}}, \"type\": \"scattergeo\"}], \"scattergl\": [{\"marker\": {\"colorbar\": {\"outlinewidth\": 0, \"ticks\": \"\"}}, \"type\": \"scattergl\"}], \"scattermapbox\": [{\"marker\": {\"colorbar\": {\"outlinewidth\": 0, \"ticks\": \"\"}}, \"type\": \"scattermapbox\"}], \"scatterpolar\": [{\"marker\": {\"colorbar\": {\"outlinewidth\": 0, \"ticks\": \"\"}}, \"type\": \"scatterpolar\"}], \"scatterpolargl\": [{\"marker\": {\"colorbar\": {\"outlinewidth\": 0, \"ticks\": \"\"}}, \"type\": \"scatterpolargl\"}], \"scatterternary\": [{\"marker\": {\"colorbar\": {\"outlinewidth\": 0, \"ticks\": \"\"}}, \"type\": \"scatterternary\"}], \"surface\": [{\"colorbar\": {\"outlinewidth\": 0, \"ticks\": \"\"}, \"colorscale\": [[0.0, \"#0d0887\"], [0.1111111111111111, \"#46039f\"], [0.2222222222222222, \"#7201a8\"], [0.3333333333333333, \"#9c179e\"], [0.4444444444444444, \"#bd3786\"], [0.5555555555555556, \"#d8576b\"], [0.6666666666666666, \"#ed7953\"], [0.7777777777777778, \"#fb9f3a\"], [0.8888888888888888, \"#fdca26\"], [1.0, \"#f0f921\"]], \"type\": \"surface\"}], \"table\": [{\"cells\": {\"fill\": {\"color\": \"#EBF0F8\"}, \"line\": {\"color\": \"white\"}}, \"header\": {\"fill\": {\"color\": \"#C8D4E3\"}, \"line\": {\"color\": \"white\"}}, \"type\": \"table\"}]}, \"layout\": {\"annotationdefaults\": {\"arrowcolor\": \"#2a3f5f\", \"arrowhead\": 0, \"arrowwidth\": 1}, \"autotypenumbers\": \"strict\", \"coloraxis\": {\"colorbar\": {\"outlinewidth\": 0, \"ticks\": \"\"}}, \"colorscale\": {\"diverging\": [[0, \"#8e0152\"], [0.1, \"#c51b7d\"], [0.2, \"#de77ae\"], [0.3, \"#f1b6da\"], [0.4, \"#fde0ef\"], [0.5, \"#f7f7f7\"], [0.6, \"#e6f5d0\"], [0.7, \"#b8e186\"], [0.8, \"#7fbc41\"], [0.9, \"#4d9221\"], [1, \"#276419\"]], \"sequential\": [[0.0, \"#0d0887\"], [0.1111111111111111, \"#46039f\"], [0.2222222222222222, \"#7201a8\"], [0.3333333333333333, \"#9c179e\"], [0.4444444444444444, \"#bd3786\"], [0.5555555555555556, \"#d8576b\"], [0.6666666666666666, \"#ed7953\"], [0.7777777777777778, \"#fb9f3a\"], [0.8888888888888888, \"#fdca26\"], [1.0, \"#f0f921\"]], \"sequentialminus\": [[0.0, \"#0d0887\"], [0.1111111111111111, \"#46039f\"], [0.2222222222222222, \"#7201a8\"], [0.3333333333333333, \"#9c179e\"], [0.4444444444444444, \"#bd3786\"], [0.5555555555555556, \"#d8576b\"], [0.6666666666666666, \"#ed7953\"], [0.7777777777777778, \"#fb9f3a\"], [0.8888888888888888, \"#fdca26\"], [1.0, \"#f0f921\"]]}, \"colorway\": [\"#636efa\", \"#EF553B\", \"#00cc96\", \"#ab63fa\", \"#FFA15A\", \"#19d3f3\", \"#FF6692\", \"#B6E880\", \"#FF97FF\", \"#FECB52\"], \"font\": {\"color\": \"#2a3f5f\"}, \"geo\": {\"bgcolor\": \"white\", \"lakecolor\": \"white\", \"landcolor\": \"#E5ECF6\", \"showlakes\": true, \"showland\": true, \"subunitcolor\": \"white\"}, \"hoverlabel\": {\"align\": \"left\"}, \"hovermode\": \"closest\", \"mapbox\": {\"style\": \"light\"}, \"paper_bgcolor\": \"white\", \"plot_bgcolor\": \"#E5ECF6\", \"polar\": {\"angularaxis\": {\"gridcolor\": \"white\", \"linecolor\": \"white\", \"ticks\": \"\"}, \"bgcolor\": \"#E5ECF6\", \"radialaxis\": {\"gridcolor\": \"white\", \"linecolor\": \"white\", \"ticks\": \"\"}}, \"scene\": {\"xaxis\": {\"backgroundcolor\": \"#E5ECF6\", \"gridcolor\": \"white\", \"gridwidth\": 2, \"linecolor\": \"white\", \"showbackground\": true, \"ticks\": \"\", \"zerolinecolor\": \"white\"}, \"yaxis\": {\"backgroundcolor\": \"#E5ECF6\", \"gridcolor\": \"white\", \"gridwidth\": 2, \"linecolor\": \"white\", \"showbackground\": true, \"ticks\": \"\", \"zerolinecolor\": \"white\"}, \"zaxis\": {\"backgroundcolor\": \"#E5ECF6\", \"gridcolor\": \"white\", \"gridwidth\": 2, \"linecolor\": \"white\", \"showbackground\": true, \"ticks\": \"\", \"zerolinecolor\": \"white\"}}, \"shapedefaults\": {\"line\": {\"color\": \"#2a3f5f\"}}, \"ternary\": {\"aaxis\": {\"gridcolor\": \"white\", \"linecolor\": \"white\", \"ticks\": \"\"}, \"baxis\": {\"gridcolor\": \"white\", \"linecolor\": \"white\", \"ticks\": \"\"}, \"bgcolor\": \"#E5ECF6\", \"caxis\": {\"gridcolor\": \"white\", \"linecolor\": \"white\", \"ticks\": \"\"}}, \"title\": {\"x\": 0.05}, \"xaxis\": {\"automargin\": true, \"gridcolor\": \"white\", \"linecolor\": \"white\", \"ticks\": \"\", \"title\": {\"standoff\": 15}, \"zerolinecolor\": \"white\", \"zerolinewidth\": 2}, \"yaxis\": {\"automargin\": true, \"gridcolor\": \"white\", \"linecolor\": \"white\", \"ticks\": \"\", \"title\": {\"standoff\": 15}, \"zerolinecolor\": \"white\", \"zerolinewidth\": 2}}}, \"xaxis\": {\"anchor\": \"y\", \"domain\": [0.0, 1.0], \"title\": {\"text\": \"winpct\"}}, \"yaxis\": {\"anchor\": \"x\", \"domain\": [0.0, 1.0], \"title\": {\"text\": \"Net Yards Per Play\"}}},                        {\"responsive\": true}                    ).then(function(){\n",
       "                            \n",
       "var gd = document.getElementById('e3d49983-6c45-4ce3-a345-594f966319e5');\n",
       "var x = new MutationObserver(function (mutations, observer) {{\n",
       "        var display = window.getComputedStyle(gd).display;\n",
       "        if (!display || display === 'none') {{\n",
       "            console.log([gd, 'removed!']);\n",
       "            Plotly.purge(gd);\n",
       "            observer.disconnect();\n",
       "        }}\n",
       "}});\n",
       "\n",
       "// Listen for the removal of the full notebook cells\n",
       "var notebookContainer = gd.closest('#notebook-container');\n",
       "if (notebookContainer) {{\n",
       "    x.observe(notebookContainer, {childList: true});\n",
       "}}\n",
       "\n",
       "// Listen for the clearing of the current output cell\n",
       "var outputEl = gd.closest('.output');\n",
       "if (outputEl) {{\n",
       "    x.observe(outputEl, {childList: true});\n",
       "}}\n",
       "\n",
       "                        })                };                });            </script>        </div>"
      ]
     },
     "metadata": {},
     "output_type": "display_data"
    }
   ],
   "source": [
    "#!pip install plotly \n",
    "import plotly.express as px\n",
    "\n",
    "fig = px.scatter(df19, x =\"winpct\", y = \"Off\", color = \"Conference\", \n",
    "                 hover_data = {'Team':True,\n",
    "                               'Season': True,\n",
    "                               'winpct':False, #Removes WinPct from Tooltip\n",
    "                               'Conference':False,\n",
    "                               'Net Yards Per Play':':.1f'\n",
    "                                \n",
    "                              })\n",
    "#Vertical Line to show .500 Winning Percentage\n",
    "fig.add_shape(type=\"line\", x0=.5, y0=-4, x1=.5, y1=4,\n",
    "    line=dict(color=\"black\",width=2))\n",
    "#Horizontal Line to Show +,- NYPP\n",
    "fig.add_shape(type=\"line\", x0=0, y0=0, x1=1, y1=0,\n",
    "    line=dict(color=\"black\",width=2))\n",
    "\n",
    "#Formats the Tooltip\n",
    "fig.update_layout(\n",
    "    hoverlabel=dict(\n",
    "        bgcolor=\"white\",\n",
    "        font_size=14,\n",
    "        font_family=\"Arial\"\n",
    "    )\n",
    ")\n",
    "\n",
    "fig.show()"
   ]
  }
 ],
 "metadata": {
  "kernelspec": {
   "display_name": "Python 3",
   "language": "python",
   "name": "python3"
  },
  "language_info": {
   "codemirror_mode": {
    "name": "ipython",
    "version": 3
   },
   "file_extension": ".py",
   "mimetype": "text/x-python",
   "name": "python",
   "nbconvert_exporter": "python",
   "pygments_lexer": "ipython3",
   "version": "3.7.9"
  },
  "metadata": {
   "interpreter": {
    "hash": "7a2e686ef06daa77422353f979a7a95691216d745a7d62859469cc1a43d5b4df"
   }
  }
 },
 "nbformat": 4,
 "nbformat_minor": 2
}
